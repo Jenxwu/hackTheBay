{
 "cells": [
  {
   "cell_type": "code",
   "execution_count": 1,
   "metadata": {},
   "outputs": [],
   "source": [
    "import pandas as pd\n",
    "import numpy as np"
   ]
  },
  {
   "cell_type": "code",
   "execution_count": 306,
   "metadata": {},
   "outputs": [],
   "source": [
    "df = pd.read_csv('dfnitro3v2.csv', index_col = 0)\n",
    "df.set_index('new_date', inplace = True)"
   ]
  },
  {
   "cell_type": "code",
   "execution_count": 307,
   "metadata": {},
   "outputs": [
    {
     "data": {
      "text/plain": [
       "(67040, 55)"
      ]
     },
     "execution_count": 307,
     "metadata": {},
     "output_type": "execute_result"
    }
   ],
   "source": [
    "df.shape"
   ]
  },
  {
   "cell_type": "code",
   "execution_count": 308,
   "metadata": {},
   "outputs": [],
   "source": [
    "#Lets do some initial cleaning from eyeballing duplicate columns "
   ]
  },
  {
   "cell_type": "code",
   "execution_count": 309,
   "metadata": {},
   "outputs": [],
   "source": [
    "#Drop Cloud_cover, HUC12, Fips_, windspeed, winddirection \n",
    "df = df.drop(columns = ['CloudCover', 'HUC12', 'FIPS_', 'WindDirection', 'WindSpeed', 'Method', 'min', 'hour', 'SampleId'])\n",
    "\n",
    "\n",
    "#Reasons\n",
    "#CloudCover, winddirection and windspeed are repeats of the narr data\n",
    "#HUC12 is a repeat of HUC12_\n",
    "#Fips is the combination of State and County CODE \n",
    "#Method of collection shouldn't be important for total nitrogen\n",
    "#min and hour don't seem as important here \n",
    "#drop sampleID"
   ]
  },
  {
   "cell_type": "code",
   "execution_count": 310,
   "metadata": {},
   "outputs": [],
   "source": [
    "#Change numericals into categoricals.  For Dates usually use them as numeric when we are doing time series. \n",
    "#https://support.minitab.com/en-us/minitab/19/help-and-how-to/statistics/tables/supporting-topics/basics/categorical-and-quantitative-variables/"
   ]
  },
  {
   "cell_type": "code",
   "execution_count": 312,
   "metadata": {},
   "outputs": [],
   "source": [
    "#Change some numericals to categorical variables \n",
    "df['HUC12_'] = df['HUC12_'].apply(lambda x: str(x))\n",
    "df['month'] = df['month'].apply(lambda x: str(x))\n",
    "df['year'] = df['year'].apply(lambda x: str(x))\n",
    "df['dayofweek'] = df['dayofweek'].apply(lambda x: str(x))\n",
    "df['quarter'] = df['quarter'].apply(lambda x: str(x))\n",
    "df['week'] = df['week'].apply(lambda x: str(x))"
   ]
  },
  {
   "cell_type": "code",
   "execution_count": 313,
   "metadata": {},
   "outputs": [],
   "source": [
    "#https://stats.stackexchange.com/questions/297196/would-longitude-latitude-be-considered-discrete-or-continuous-data\n",
    "#keep longitude and latitude as numerical "
   ]
  },
  {
   "cell_type": "code",
   "execution_count": 314,
   "metadata": {},
   "outputs": [
    {
     "name": "stdout",
     "output_type": "stream",
     "text": [
      "<class 'pandas.core.frame.DataFrame'>\n",
      "Index: 67040 entries, 2019-03-24 12:28:00 to 2016-11-08 09:00:00\n",
      "Data columns (total 46 columns):\n",
      " #   Column           Non-Null Count  Dtype  \n",
      "---  ------           --------------  -----  \n",
      " 0   Latitude         67040 non-null  float64\n",
      " 1   Longitude        67040 non-null  float64\n",
      " 2   SampleDepth      67040 non-null  float64\n",
      " 3   HUC12_           67040 non-null  object \n",
      " 4   COUNTY_          67040 non-null  object \n",
      " 5   STATE_           67040 non-null  object \n",
      " 6   areaacres        67040 non-null  float64\n",
      " 7   za_mean          66896 non-null  float64\n",
      " 8   lc_11            66896 non-null  float64\n",
      " 9   lc_21            66896 non-null  float64\n",
      " 10  lc_22            66896 non-null  float64\n",
      " 11  lc_23            66896 non-null  float64\n",
      " 12  lc_24            66896 non-null  float64\n",
      " 13  lc_31            66896 non-null  float64\n",
      " 14  lc_41            66896 non-null  float64\n",
      " 15  lc_42            66896 non-null  float64\n",
      " 16  lc_43            66896 non-null  float64\n",
      " 17  lc_52            66896 non-null  float64\n",
      " 18  lc_71            66896 non-null  float64\n",
      " 19  lc_81            66896 non-null  float64\n",
      " 20  lc_82            66896 non-null  float64\n",
      " 21  lc_90            66896 non-null  float64\n",
      " 22  lc_95            66896 non-null  float64\n",
      " 23  month            67040 non-null  object \n",
      " 24  year             67040 non-null  object \n",
      " 25  week             67040 non-null  object \n",
      " 26  dayofweek        67040 non-null  object \n",
      " 27  quarter          67040 non-null  object \n",
      " 28  DO               64469 non-null  float64\n",
      " 29  TN               67040 non-null  float64\n",
      " 30  TP               65425 non-null  float64\n",
      " 31  airtemp_narr     67040 non-null  float64\n",
      " 32  precip3_narr     67040 non-null  float64\n",
      " 33  humidity_narr    67040 non-null  float64\n",
      " 34  cl_cover_narr    67040 non-null  float64\n",
      " 35  sfc_runoff       67040 non-null  float64\n",
      " 36  sfc_air_narr     67040 non-null  float64\n",
      " 37  u_wind_narr      67040 non-null  float64\n",
      " 38  v_wind_narr      67040 non-null  float64\n",
      " 39  windspeed_narr   67040 non-null  float64\n",
      " 40  wdirection_narr  67040 non-null  float64\n",
      " 41  precip24_narr    67040 non-null  float64\n",
      " 42  precip48_narr    67040 non-null  float64\n",
      " 43  PH               14778 non-null  float64\n",
      " 44  SA               10175 non-null  float64\n",
      " 45  of_dist          67040 non-null  float64\n",
      "dtypes: float64(38), object(8)\n",
      "memory usage: 24.0+ MB\n"
     ]
    }
   ],
   "source": [
    "df.info()"
   ]
  },
  {
   "cell_type": "code",
   "execution_count": 315,
   "metadata": {},
   "outputs": [],
   "source": [
    "from sklearn.model_selection import train_test_split\n",
    "from sklearn.ensemble import RandomForestRegressor\n",
    "from sklearn.pipeline import make_pipeline\n",
    "from sklearn.compose import make_column_transformer\n",
    "from sklearn.preprocessing import OneHotEncoder\n",
    "from sklearn.impute import SimpleImputer\n",
    "from sklearn.metrics import r2_score\n",
    "import matplotlib.pyplot as plt\n",
    "from sklearn.impute import KNNImputer\n",
    "from sklearn.metrics import mean_squared_error\n",
    "from sklearn.feature_selection import VarianceThreshold\n",
    "from sklearn.metrics import explained_variance_score\n",
    "\n",
    "\n",
    "#Scalers \n",
    "from sklearn.preprocessing import MinMaxScaler\n",
    "from sklearn.preprocessing import minmax_scale\n",
    "from sklearn.preprocessing import MaxAbsScaler\n",
    "from sklearn.preprocessing import StandardScaler\n",
    "from sklearn.preprocessing import RobustScaler\n",
    "from sklearn.preprocessing import Normalizer\n",
    "from sklearn.preprocessing import QuantileTransformer\n",
    "from sklearn.preprocessing import PowerTransformer"
   ]
  },
  {
   "cell_type": "code",
   "execution_count": 316,
   "metadata": {},
   "outputs": [
    {
     "data": {
      "text/plain": [
       "Index(['Latitude', 'Longitude', 'SampleDepth', 'HUC12_', 'COUNTY_', 'STATE_',\n",
       "       'areaacres', 'za_mean', 'lc_11', 'lc_21', 'lc_22', 'lc_23', 'lc_24',\n",
       "       'lc_31', 'lc_41', 'lc_42', 'lc_43', 'lc_52', 'lc_71', 'lc_81', 'lc_82',\n",
       "       'lc_90', 'lc_95', 'month', 'year', 'week', 'dayofweek', 'quarter', 'DO',\n",
       "       'TN', 'TP', 'airtemp_narr', 'precip3_narr', 'humidity_narr',\n",
       "       'cl_cover_narr', 'sfc_runoff', 'sfc_air_narr', 'u_wind_narr',\n",
       "       'v_wind_narr', 'windspeed_narr', 'wdirection_narr', 'precip24_narr',\n",
       "       'precip48_narr', 'PH', 'SA', 'of_dist'],\n",
       "      dtype='object')"
      ]
     },
     "execution_count": 316,
     "metadata": {},
     "output_type": "execute_result"
    }
   ],
   "source": [
    "df.columns"
   ]
  },
  {
   "cell_type": "code",
   "execution_count": 317,
   "metadata": {},
   "outputs": [
    {
     "data": {
      "text/plain": [
       "Index(['Latitude', 'Longitude', 'SampleDepth', 'HUC12_', 'COUNTY_', 'STATE_',\n",
       "       'areaacres', 'za_mean', 'lc_11', 'lc_21', 'lc_22', 'lc_23', 'lc_24',\n",
       "       'lc_31', 'lc_41', 'lc_42', 'lc_43', 'lc_52', 'lc_71', 'lc_81', 'lc_82',\n",
       "       'lc_90', 'lc_95', 'month', 'year', 'week', 'dayofweek', 'quarter', 'DO',\n",
       "       'TN', 'TP', 'airtemp_narr', 'precip3_narr', 'humidity_narr',\n",
       "       'cl_cover_narr', 'sfc_runoff', 'sfc_air_narr', 'u_wind_narr',\n",
       "       'v_wind_narr', 'windspeed_narr', 'wdirection_narr', 'precip24_narr',\n",
       "       'precip48_narr', 'PH', 'SA', 'of_dist'],\n",
       "      dtype='object')"
      ]
     },
     "execution_count": 317,
     "metadata": {},
     "output_type": "execute_result"
    }
   ],
   "source": [
    "df.columns"
   ]
  },
  {
   "cell_type": "code",
   "execution_count": 318,
   "metadata": {},
   "outputs": [],
   "source": [
    "#Feature imputation must do a train test split\n",
    "#Let us split the numeric and categorical variables to first to see what we need to drop"
   ]
  },
  {
   "cell_type": "code",
   "execution_count": 319,
   "metadata": {},
   "outputs": [],
   "source": [
    "#Feature Selection "
   ]
  },
  {
   "cell_type": "code",
   "execution_count": 320,
   "metadata": {},
   "outputs": [],
   "source": [
    "X_train, X_test, y_train, y_test = train_test_split(df.drop(labels = ['TN'], axis =1), df['TN'], test_size = 0.3, random_state = 0)"
   ]
  },
  {
   "cell_type": "code",
   "execution_count": 321,
   "metadata": {},
   "outputs": [],
   "source": [
    "#Numerics\n",
    "numerics = ['int16', 'int32', 'int64', 'float16', 'float32', 'float64']\n",
    "numerical_vars = list(X_train.select_dtypes(include = numerics).columns)\n",
    "X_train_n = X_train[numerical_vars]"
   ]
  },
  {
   "cell_type": "code",
   "execution_count": 322,
   "metadata": {},
   "outputs": [
    {
     "data": {
      "text/plain": [
       "(46928, 37)"
      ]
     },
     "execution_count": 322,
     "metadata": {},
     "output_type": "execute_result"
    }
   ],
   "source": [
    "X_train_n.shape"
   ]
  },
  {
   "cell_type": "code",
   "execution_count": 323,
   "metadata": {},
   "outputs": [],
   "source": [
    "#Variability Threshold "
   ]
  },
  {
   "cell_type": "code",
   "execution_count": 324,
   "metadata": {},
   "outputs": [
    {
     "data": {
      "text/plain": [
       "VarianceThreshold(threshold=0.001)"
      ]
     },
     "execution_count": 324,
     "metadata": {},
     "output_type": "execute_result"
    }
   ],
   "source": [
    "#Looking for Quasi-Constant observations that dont' show much variability. \n",
    "sel = VarianceThreshold(threshold = 0.001)\n",
    "sel.fit(X_train_n)"
   ]
  },
  {
   "cell_type": "code",
   "execution_count": 325,
   "metadata": {},
   "outputs": [
    {
     "data": {
      "text/plain": [
       "33"
      ]
     },
     "execution_count": 325,
     "metadata": {},
     "output_type": "execute_result"
    }
   ],
   "source": [
    "#Features not quasiconstant \n",
    "sum(sel.get_support())"
   ]
  },
  {
   "cell_type": "code",
   "execution_count": 326,
   "metadata": {},
   "outputs": [
    {
     "data": {
      "text/plain": [
       "['lc_24', 'lc_31', 'lc_52', 'lc_71']"
      ]
     },
     "execution_count": 326,
     "metadata": {},
     "output_type": "execute_result"
    }
   ],
   "source": [
    "#These Features are quasi-constant and should be dropped \n",
    "[x for x in X_train_n.columns if x not in X_train_n.columns[sel.get_support()]]"
   ]
  },
  {
   "cell_type": "code",
   "execution_count": 327,
   "metadata": {},
   "outputs": [],
   "source": [
    "#Drop lc_24, lc_31, lc_52, lc_71"
   ]
  },
  {
   "cell_type": "code",
   "execution_count": 328,
   "metadata": {},
   "outputs": [],
   "source": [
    "#Correlation Test"
   ]
  },
  {
   "cell_type": "code",
   "execution_count": 329,
   "metadata": {},
   "outputs": [
    {
     "data": {
      "text/html": [
       "<div>\n",
       "<style scoped>\n",
       "    .dataframe tbody tr th:only-of-type {\n",
       "        vertical-align: middle;\n",
       "    }\n",
       "\n",
       "    .dataframe tbody tr th {\n",
       "        vertical-align: top;\n",
       "    }\n",
       "\n",
       "    .dataframe thead th {\n",
       "        text-align: right;\n",
       "    }\n",
       "</style>\n",
       "<table border=\"1\" class=\"dataframe\">\n",
       "  <thead>\n",
       "    <tr style=\"text-align: right;\">\n",
       "      <th></th>\n",
       "      <th>feature1</th>\n",
       "      <th>feature2</th>\n",
       "      <th>corr</th>\n",
       "    </tr>\n",
       "  </thead>\n",
       "  <tbody>\n",
       "    <tr>\n",
       "      <th>0</th>\n",
       "      <td>wdirection_narr</td>\n",
       "      <td>u_wind_narr</td>\n",
       "      <td>1.000000</td>\n",
       "    </tr>\n",
       "    <tr>\n",
       "      <th>1</th>\n",
       "      <td>u_wind_narr</td>\n",
       "      <td>wdirection_narr</td>\n",
       "      <td>1.000000</td>\n",
       "    </tr>\n",
       "    <tr>\n",
       "      <th>2</th>\n",
       "      <td>airtemp_narr</td>\n",
       "      <td>sfc_air_narr</td>\n",
       "      <td>0.965616</td>\n",
       "    </tr>\n",
       "    <tr>\n",
       "      <th>3</th>\n",
       "      <td>sfc_air_narr</td>\n",
       "      <td>airtemp_narr</td>\n",
       "      <td>0.965616</td>\n",
       "    </tr>\n",
       "    <tr>\n",
       "      <th>4</th>\n",
       "      <td>lc_22</td>\n",
       "      <td>lc_23</td>\n",
       "      <td>0.931414</td>\n",
       "    </tr>\n",
       "  </tbody>\n",
       "</table>\n",
       "</div>"
      ],
      "text/plain": [
       "          feature1         feature2      corr\n",
       "0  wdirection_narr      u_wind_narr  1.000000\n",
       "1      u_wind_narr  wdirection_narr  1.000000\n",
       "2     airtemp_narr     sfc_air_narr  0.965616\n",
       "3     sfc_air_narr     airtemp_narr  0.965616\n",
       "4            lc_22            lc_23  0.931414"
      ]
     },
     "execution_count": 329,
     "metadata": {},
     "output_type": "execute_result"
    }
   ],
   "source": [
    "corrmat = X_train_n.corr()\n",
    "corrmat = corrmat.abs().unstack()\n",
    "corrmat = corrmat.sort_values(ascending = False)\n",
    "corrmat = corrmat[corrmat >= 0.85]\n",
    "corrmat = corrmat[corrmat < 1]\n",
    "corrmat = pd.DataFrame(corrmat).reset_index()\n",
    "corrmat.columns = ['feature1', 'feature2', 'corr']\n",
    "corrmat.head()"
   ]
  },
  {
   "cell_type": "code",
   "execution_count": 330,
   "metadata": {},
   "outputs": [
    {
     "name": "stdout",
     "output_type": "stream",
     "text": [
      "found 10 correlated groups\n",
      "out of 45 total features\n"
     ]
    }
   ],
   "source": [
    "grouped_feature_ls = []\n",
    "correlated_groups = []\n",
    "\n",
    "for feature in corrmat.feature1.unique():\n",
    "    if feature not in grouped_features_ls:\n",
    "        \n",
    "        #find all features correlated to a single feature\n",
    "        correlated_block = corrmat[corrmat.feature1 == feature]\n",
    "        grouped_feature_ls = grouped_feature_ls + list(correlated_block.feature2.unique()) + [feature]\n",
    "        \n",
    "        #append the block of features to the list\n",
    "        correlated_groups.append(correlated_block)\n",
    "        \n",
    "print('found {} correlated groups'.format(len(correlated_groups)))\n",
    "print('out of {} total features'.format(X_train.shape[1]))"
   ]
  },
  {
   "cell_type": "code",
   "execution_count": 331,
   "metadata": {},
   "outputs": [
    {
     "name": "stdout",
     "output_type": "stream",
     "text": [
      "           feature1     feature2      corr\n",
      "0   wdirection_narr  u_wind_narr  1.000000\n",
      "10  wdirection_narr  v_wind_narr  0.924755\n",
      "\n",
      "\n",
      "      feature1         feature2      corr\n",
      "1  u_wind_narr  wdirection_narr  1.000000\n",
      "8  u_wind_narr      v_wind_narr  0.924755\n",
      "\n",
      "\n",
      "       feature1      feature2      corr\n",
      "2  airtemp_narr  sfc_air_narr  0.965616\n",
      "\n",
      "\n",
      "       feature1      feature2      corr\n",
      "3  sfc_air_narr  airtemp_narr  0.965616\n",
      "\n",
      "\n",
      "  feature1 feature2      corr\n",
      "4    lc_22    lc_23  0.931414\n",
      "\n",
      "\n",
      "   feature1 feature2      corr\n",
      "5     lc_23    lc_22  0.931414\n",
      "13    lc_23    lc_24  0.886836\n",
      "\n",
      "\n",
      "   feature1 feature2      corr\n",
      "6  Latitude  of_dist  0.928557\n",
      "\n",
      "\n",
      "  feature1  feature2      corr\n",
      "7  of_dist  Latitude  0.928557\n",
      "\n",
      "\n",
      "       feature1         feature2      corr\n",
      "9   v_wind_narr      u_wind_narr  0.924755\n",
      "11  v_wind_narr  wdirection_narr  0.924755\n",
      "\n",
      "\n",
      "   feature1 feature2      corr\n",
      "12    lc_24    lc_23  0.886836\n",
      "\n",
      "\n"
     ]
    }
   ],
   "source": [
    "#now we can visualize each group. We see that some groups \n",
    "for group in correlated_groups:\n",
    "    print(group)\n",
    "    print()\n",
    "    print()"
   ]
  },
  {
   "cell_type": "code",
   "execution_count": 332,
   "metadata": {},
   "outputs": [
    {
     "data": {
      "text/plain": [
       "RandomForestRegressor(random_state=0)"
      ]
     },
     "execution_count": 332,
     "metadata": {},
     "output_type": "execute_result"
    }
   ],
   "source": [
    "#We can screen using a randomforest first feature group\n",
    "features = ['u_wind_narr'] + ['wdirection_narr'] + ['v_wind_narr']\n",
    "rf = RandomForestRegressor(random_state = 0)\n",
    "rf.fit(X_train_n[features].fillna(0), y_train)"
   ]
  },
  {
   "cell_type": "code",
   "execution_count": 333,
   "metadata": {},
   "outputs": [
    {
     "data": {
      "text/html": [
       "<div>\n",
       "<style scoped>\n",
       "    .dataframe tbody tr th:only-of-type {\n",
       "        vertical-align: middle;\n",
       "    }\n",
       "\n",
       "    .dataframe tbody tr th {\n",
       "        vertical-align: top;\n",
       "    }\n",
       "\n",
       "    .dataframe thead th {\n",
       "        text-align: right;\n",
       "    }\n",
       "</style>\n",
       "<table border=\"1\" class=\"dataframe\">\n",
       "  <thead>\n",
       "    <tr style=\"text-align: right;\">\n",
       "      <th></th>\n",
       "      <th>feature</th>\n",
       "      <th>importance</th>\n",
       "    </tr>\n",
       "  </thead>\n",
       "  <tbody>\n",
       "    <tr>\n",
       "      <th>0</th>\n",
       "      <td>u_wind_narr</td>\n",
       "      <td>0.401671</td>\n",
       "    </tr>\n",
       "    <tr>\n",
       "      <th>1</th>\n",
       "      <td>wdirection_narr</td>\n",
       "      <td>0.335684</td>\n",
       "    </tr>\n",
       "    <tr>\n",
       "      <th>2</th>\n",
       "      <td>v_wind_narr</td>\n",
       "      <td>0.262646</td>\n",
       "    </tr>\n",
       "  </tbody>\n",
       "</table>\n",
       "</div>"
      ],
      "text/plain": [
       "           feature  importance\n",
       "0      u_wind_narr    0.401671\n",
       "1  wdirection_narr    0.335684\n",
       "2      v_wind_narr    0.262646"
      ]
     },
     "execution_count": 333,
     "metadata": {},
     "output_type": "execute_result"
    }
   ],
   "source": [
    "#get feature importance attributed by random forest model\n",
    "\n",
    "importance = pd.concat([pd.Series(features),\n",
    "                       pd.Series(rf.feature_importances_)], axis = 1)\n",
    "\n",
    "importance.columns = ['feature', 'importance']\n",
    "importance.sort_values(by = 'importance', ascending = False)"
   ]
  },
  {
   "cell_type": "code",
   "execution_count": 334,
   "metadata": {},
   "outputs": [],
   "source": [
    "#keep u_wind_narr"
   ]
  },
  {
   "cell_type": "code",
   "execution_count": 335,
   "metadata": {},
   "outputs": [
    {
     "data": {
      "text/plain": [
       "RandomForestRegressor(random_state=0)"
      ]
     },
     "execution_count": 335,
     "metadata": {},
     "output_type": "execute_result"
    }
   ],
   "source": [
    "#We can screen using a randomforest second feature group \n",
    "features = ['lc_22'] + ['lc_23'] + ['lc_24']  \n",
    "rf = RandomForestRegressor(random_state = 0)\n",
    "rf.fit(X_train_n[features].fillna(0), y_train)"
   ]
  },
  {
   "cell_type": "code",
   "execution_count": 336,
   "metadata": {},
   "outputs": [
    {
     "data": {
      "text/html": [
       "<div>\n",
       "<style scoped>\n",
       "    .dataframe tbody tr th:only-of-type {\n",
       "        vertical-align: middle;\n",
       "    }\n",
       "\n",
       "    .dataframe tbody tr th {\n",
       "        vertical-align: top;\n",
       "    }\n",
       "\n",
       "    .dataframe thead th {\n",
       "        text-align: right;\n",
       "    }\n",
       "</style>\n",
       "<table border=\"1\" class=\"dataframe\">\n",
       "  <thead>\n",
       "    <tr style=\"text-align: right;\">\n",
       "      <th></th>\n",
       "      <th>feature</th>\n",
       "      <th>importance</th>\n",
       "    </tr>\n",
       "  </thead>\n",
       "  <tbody>\n",
       "    <tr>\n",
       "      <th>0</th>\n",
       "      <td>lc_22</td>\n",
       "      <td>0.539931</td>\n",
       "    </tr>\n",
       "    <tr>\n",
       "      <th>2</th>\n",
       "      <td>lc_24</td>\n",
       "      <td>0.263884</td>\n",
       "    </tr>\n",
       "    <tr>\n",
       "      <th>1</th>\n",
       "      <td>lc_23</td>\n",
       "      <td>0.196185</td>\n",
       "    </tr>\n",
       "  </tbody>\n",
       "</table>\n",
       "</div>"
      ],
      "text/plain": [
       "  feature  importance\n",
       "0   lc_22    0.539931\n",
       "2   lc_24    0.263884\n",
       "1   lc_23    0.196185"
      ]
     },
     "execution_count": 336,
     "metadata": {},
     "output_type": "execute_result"
    }
   ],
   "source": [
    "#get feature importance attributed by random forest model\n",
    "\n",
    "importance = pd.concat([pd.Series(features),\n",
    "                       pd.Series(rf.feature_importances_)], axis = 1)\n",
    "\n",
    "importance.columns = ['feature', 'importance']\n",
    "importance.sort_values(by = 'importance', ascending = False)"
   ]
  },
  {
   "cell_type": "code",
   "execution_count": 337,
   "metadata": {},
   "outputs": [],
   "source": [
    "#Keep lc_22"
   ]
  },
  {
   "cell_type": "code",
   "execution_count": 338,
   "metadata": {},
   "outputs": [
    {
     "data": {
      "text/plain": [
       "RandomForestRegressor(random_state=0)"
      ]
     },
     "execution_count": 338,
     "metadata": {},
     "output_type": "execute_result"
    }
   ],
   "source": [
    "#We can screen using a randomforest second feature group \n",
    "features = ['Latitude'] + ['of_dist']\n",
    "rf = RandomForestRegressor(random_state = 0)\n",
    "rf.fit(X_train_n[features].fillna(0), y_train)"
   ]
  },
  {
   "cell_type": "code",
   "execution_count": 339,
   "metadata": {},
   "outputs": [
    {
     "data": {
      "text/html": [
       "<div>\n",
       "<style scoped>\n",
       "    .dataframe tbody tr th:only-of-type {\n",
       "        vertical-align: middle;\n",
       "    }\n",
       "\n",
       "    .dataframe tbody tr th {\n",
       "        vertical-align: top;\n",
       "    }\n",
       "\n",
       "    .dataframe thead th {\n",
       "        text-align: right;\n",
       "    }\n",
       "</style>\n",
       "<table border=\"1\" class=\"dataframe\">\n",
       "  <thead>\n",
       "    <tr style=\"text-align: right;\">\n",
       "      <th></th>\n",
       "      <th>feature</th>\n",
       "      <th>importance</th>\n",
       "    </tr>\n",
       "  </thead>\n",
       "  <tbody>\n",
       "    <tr>\n",
       "      <th>0</th>\n",
       "      <td>Latitude</td>\n",
       "      <td>0.512237</td>\n",
       "    </tr>\n",
       "    <tr>\n",
       "      <th>1</th>\n",
       "      <td>of_dist</td>\n",
       "      <td>0.487763</td>\n",
       "    </tr>\n",
       "  </tbody>\n",
       "</table>\n",
       "</div>"
      ],
      "text/plain": [
       "    feature  importance\n",
       "0  Latitude    0.512237\n",
       "1   of_dist    0.487763"
      ]
     },
     "execution_count": 339,
     "metadata": {},
     "output_type": "execute_result"
    }
   ],
   "source": [
    "#get feature importance attributed by random forest model\n",
    "\n",
    "importance = pd.concat([pd.Series(features),\n",
    "                       pd.Series(rf.feature_importances_)], axis = 1)\n",
    "\n",
    "importance.columns = ['feature', 'importance']\n",
    "importance.sort_values(by = 'importance', ascending = False)"
   ]
  },
  {
   "cell_type": "code",
   "execution_count": 340,
   "metadata": {},
   "outputs": [],
   "source": [
    "#Keep Latitude "
   ]
  },
  {
   "cell_type": "code",
   "execution_count": 341,
   "metadata": {},
   "outputs": [],
   "source": [
    "#Telling to drop of_dist, lc_23, lc_24, wdirection_narr, v_wind_narr"
   ]
  },
  {
   "cell_type": "code",
   "execution_count": 342,
   "metadata": {},
   "outputs": [],
   "source": [
    "#Mutual Information measures the dependence of 2 variables\n",
    "#Deteremines how similar join distribution p(X,y) is to the product of individual distributions p(x)p(y)\n",
    "#If x and y are independent MI is zero "
   ]
  },
  {
   "cell_type": "code",
   "execution_count": 343,
   "metadata": {},
   "outputs": [],
   "source": [
    "#Mutual Information\n",
    "from sklearn.feature_selection import mutual_info_regression\n",
    "from sklearn.feature_selection import SelectKBest, SelectPercentile"
   ]
  },
  {
   "cell_type": "code",
   "execution_count": 344,
   "metadata": {},
   "outputs": [
    {
     "data": {
      "text/plain": [
       "array([0.88938402, 0.84263035, 0.28660368, 0.51847533, 0.87505275,\n",
       "       0.68295352, 0.83455179, 0.78311231, 0.73549916, 0.62637786,\n",
       "       0.6910042 , 0.77035746, 0.68917466, 0.80781216, 0.74041556,\n",
       "       0.73759581, 0.73826529, 0.77471001, 0.71135398, 0.6133086 ,\n",
       "       0.09032141, 0.29740602, 0.0404193 , 0.01114313, 0.02390815,\n",
       "       0.00512355, 0.16469487, 0.04781872, 0.01713929, 0.02855415,\n",
       "       0.02167878, 0.01713976, 0.03708031, 0.03654142, 0.01775062,\n",
       "       0.09156502, 0.87492659])"
      ]
     },
     "execution_count": 344,
     "metadata": {},
     "output_type": "execute_result"
    }
   ],
   "source": [
    "mi = mutual_info_regression(X_train_n.fillna(0), y_train)\n",
    "mi"
   ]
  },
  {
   "cell_type": "code",
   "execution_count": 345,
   "metadata": {},
   "outputs": [
    {
     "data": {
      "text/plain": [
       "Latitude           0.889384\n",
       "za_mean            0.875053\n",
       "of_dist            0.874927\n",
       "Longitude          0.842630\n",
       "lc_21              0.834552\n",
       "lc_43              0.807812\n",
       "lc_22              0.783112\n",
       "lc_82              0.774710\n",
       "lc_41              0.770357\n",
       "lc_52              0.740416\n",
       "lc_81              0.738265\n",
       "lc_71              0.737596\n",
       "lc_23              0.735499\n",
       "lc_90              0.711354\n",
       "lc_31              0.691004\n",
       "lc_42              0.689175\n",
       "lc_11              0.682954\n",
       "lc_24              0.626378\n",
       "lc_95              0.613309\n",
       "areaacres          0.518475\n",
       "TP                 0.297406\n",
       "SampleDepth        0.286604\n",
       "sfc_runoff         0.164695\n",
       "SA                 0.091565\n",
       "DO                 0.090321\n",
       "sfc_air_narr       0.047819\n",
       "airtemp_narr       0.040419\n",
       "precip24_narr      0.037080\n",
       "precip48_narr      0.036541\n",
       "v_wind_narr        0.028554\n",
       "humidity_narr      0.023908\n",
       "windspeed_narr     0.021679\n",
       "PH                 0.017751\n",
       "wdirection_narr    0.017140\n",
       "u_wind_narr        0.017139\n",
       "precip3_narr       0.011143\n",
       "cl_cover_narr      0.005124\n",
       "dtype: float64"
      ]
     },
     "execution_count": 345,
     "metadata": {},
     "output_type": "execute_result"
    }
   ],
   "source": [
    "mi = pd.Series(mi)\n",
    "mi.index = X_train_n.columns\n",
    "mi.sort_values(ascending = False)"
   ]
  },
  {
   "cell_type": "code",
   "execution_count": 346,
   "metadata": {},
   "outputs": [],
   "source": [
    "plt.style.use('fivethirtyeight')"
   ]
  },
  {
   "cell_type": "code",
   "execution_count": 347,
   "metadata": {},
   "outputs": [
    {
     "data": {
      "image/png": "[encoded data removed]",
      "text/plain": [
       "<Figure size 1440x576 with 1 Axes>"
      ]
     },
     "metadata": {},
     "output_type": "display_data"
    }
   ],
   "source": [
    "#Barplot\n",
    "mi.sort_values(ascending = False).plot.bar(figsize = (20,8));\n"
   ]
  },
  {
   "cell_type": "code",
   "execution_count": 348,
   "metadata": {},
   "outputs": [],
   "source": [
    "#Might want to drop everything after dissolved Oxygen "
   ]
  },
  {
   "cell_type": "code",
   "execution_count": 349,
   "metadata": {},
   "outputs": [],
   "source": [
    "#Lets use SelectKBest and SelectPercentile\n",
    "#SelectKBest determines how many features to use, while percentile chooses within certain percentile "
   ]
  },
  {
   "cell_type": "code",
   "execution_count": 350,
   "metadata": {},
   "outputs": [
    {
     "data": {
      "text/plain": [
       "Index(['Latitude', 'Longitude', 'areaacres', 'za_mean', 'lc_11', 'lc_21',\n",
       "       'lc_22', 'lc_23', 'lc_24', 'lc_31', 'lc_41', 'lc_42', 'lc_43', 'lc_52',\n",
       "       'lc_71', 'lc_81', 'lc_82', 'lc_90', 'lc_95', 'of_dist'],\n",
       "      dtype='object')"
      ]
     },
     "execution_count": 350,
     "metadata": {},
     "output_type": "execute_result"
    }
   ],
   "source": [
    "sel_ = SelectKBest(mutual_info_regression, k = 20).fit(X_train_n.fillna(0), y_train)\n",
    "X_train_n.columns[sel_.get_support()] #True False Vector what to keep with True and what to eliminate with False "
   ]
  },
  {
   "cell_type": "code",
   "execution_count": 351,
   "metadata": {},
   "outputs": [
    {
     "data": {
      "text/plain": [
       "Index(['Latitude'], dtype='object')"
      ]
     },
     "execution_count": 351,
     "metadata": {},
     "output_type": "execute_result"
    }
   ],
   "source": [
    "sel_p = SelectPercentile(mutual_info_regression, percentile = 0.05).fit(X_train_n.fillna(0), y_train)\n",
    "X_train_n.columns[sel_p.get_support()]"
   ]
  },
  {
   "cell_type": "markdown",
   "metadata": {},
   "source": [
    "#### What to Drop so far \n",
    "    DO                 0.092647\n",
    "    SA                 0.089290\n",
    "    sfc_air_narr       0.047796\n",
    "    airtemp_narr       0.040444\n",
    "    precip24_narr      0.037211\n",
    "    precip48_narr      0.036821\n",
    "    v_wind_narr        0.028399\n",
    "    humidity_narr      0.023878\n",
    "    PH                 0.022037\n",
    "    windspeed_narr     0.021779\n",
    "    wdirection_narr    0.017109\n",
    "    u_wind_narr        0.017065\n",
    "    precip3_narr       0.005507\n",
    "    cl_cover_narr      0.001648\n",
    "\n",
    "HighCorrelation or low explaination \n",
    "\n",
    "    lc_24\n",
    "    lc_23\n",
    "    lc_31\n",
    "    lc_52\n",
    "    lc_71"
   ]
  },
  {
   "cell_type": "code",
   "execution_count": 352,
   "metadata": {},
   "outputs": [],
   "source": [
    "#MSE with DecisionTreeClassifier"
   ]
  },
  {
   "cell_type": "code",
   "execution_count": 353,
   "metadata": {},
   "outputs": [],
   "source": [
    "from sklearn.tree import DecisionTreeRegressor"
   ]
  },
  {
   "cell_type": "code",
   "execution_count": 354,
   "metadata": {},
   "outputs": [],
   "source": [
    "mse_values = []\n",
    "for feature in X_train_n.columns:\n",
    "    clf = DecisionTreeRegressor()\n",
    "    clf.fit(X_train[feature].fillna(0).to_frame(), y_train)\n",
    "    y_scored = clf.predict(X_test[feature].fillna(0).to_frame())\n",
    "    mse_values.append(mean_squared_error(y_test, y_scored))"
   ]
  },
  {
   "cell_type": "code",
   "execution_count": 355,
   "metadata": {},
   "outputs": [
    {
     "data": {
      "text/plain": [
       "airtemp_narr       15.267492\n",
       "windspeed_narr     14.660988\n",
       "DO                 14.161411\n",
       "SA                 14.120906\n",
       "PH                 14.100977\n",
       "cl_cover_narr      14.091117\n",
       "precip3_narr       13.912113\n",
       "SampleDepth        13.836204\n",
       "TP                 13.566937\n",
       "sfc_runoff         13.299213\n",
       "of_dist            10.418910\n",
       "precip48_narr      10.353202\n",
       "Longitude           9.396732\n",
       "Latitude            9.367966\n",
       "precip24_narr       7.749881\n",
       "sfc_air_narr        7.704277\n",
       "lc_24               7.416926\n",
       "lc_31               7.235953\n",
       "lc_42               7.233319\n",
       "lc_41               7.232993\n",
       "lc_43               7.231452\n",
       "lc_82               7.230906\n",
       "lc_95               7.227195\n",
       "lc_23               7.225606\n",
       "lc_22               7.223858\n",
       "lc_71               7.223097\n",
       "lc_90               7.223061\n",
       "za_mean             7.221241\n",
       "lc_11               7.217836\n",
       "lc_21               7.206932\n",
       "lc_52               7.206297\n",
       "lc_81               7.204280\n",
       "areaacres           7.198298\n",
       "v_wind_narr         6.475146\n",
       "u_wind_narr         6.234223\n",
       "wdirection_narr     6.230002\n",
       "humidity_narr       6.060151\n",
       "dtype: float64"
      ]
     },
     "execution_count": 355,
     "metadata": {},
     "output_type": "execute_result"
    }
   ],
   "source": [
    "mse_values = pd.Series(mse_values)\n",
    "mse_values.index = X_train_n.columns\n",
    "mse_values.sort_values(ascending = False)"
   ]
  },
  {
   "cell_type": "code",
   "execution_count": 356,
   "metadata": {},
   "outputs": [
    {
     "data": {
      "image/png": "[encoded data removed]",
      "text/plain": [
       "<Figure size 1440x576 with 1 Axes>"
      ]
     },
     "metadata": {},
     "output_type": "display_data"
    }
   ],
   "source": [
    "mse_values.sort_values(ascending = False).plot.bar(figsize = (20,8));"
   ]
  },
  {
   "cell_type": "code",
   "execution_count": 357,
   "metadata": {},
   "outputs": [],
   "source": [
    "X_train = X_train.drop(columns = ['of_dist', 'lc_24', 'lc_23', 'wdirection_narr', 'v_wind_narr', 'lc_31', 'lc_52', 'lc_71', 'DO', 'SA', 'sfc_air_narr',\n",
    "                                 'airtemp_narr', 'precip24_narr', 'precip48_narr', 'v_wind_narr', 'humidity_narr', 'PH', 'windspeed_narr', 'wdirection_narr',\n",
    "                                 'u_wind_narr', 'precip3_narr', 'cl_cover_narr'])\n",
    "X_test = X_test.drop(columns = ['of_dist', 'lc_24', 'lc_23', 'wdirection_narr', 'v_wind_narr', 'lc_31', 'lc_52', 'lc_71', 'DO', 'SA', 'sfc_air_narr',\n",
    "                                 'airtemp_narr', 'precip24_narr', 'precip48_narr', 'v_wind_narr', 'humidity_narr', 'PH', 'windspeed_narr', 'wdirection_narr',\n",
    "                                 'u_wind_narr', 'precip3_narr', 'cl_cover_narr'])"
   ]
  },
  {
   "cell_type": "code",
   "execution_count": 358,
   "metadata": {},
   "outputs": [
    {
     "data": {
      "text/plain": [
       "Index(['Latitude', 'Longitude', 'SampleDepth', 'HUC12_', 'COUNTY_', 'STATE_',\n",
       "       'areaacres', 'za_mean', 'lc_11', 'lc_21', 'lc_22', 'lc_41', 'lc_42',\n",
       "       'lc_43', 'lc_81', 'lc_82', 'lc_90', 'lc_95', 'month', 'year', 'week',\n",
       "       'dayofweek', 'quarter', 'TP', 'sfc_runoff'],\n",
       "      dtype='object')"
      ]
     },
     "execution_count": 358,
     "metadata": {},
     "output_type": "execute_result"
    }
   ],
   "source": [
    "X_train.columns"
   ]
  },
  {
   "cell_type": "code",
   "execution_count": 359,
   "metadata": {},
   "outputs": [],
   "source": [
    "#Categoricals Chi-Score Fischer Score "
   ]
  },
  {
   "cell_type": "code",
   "execution_count": 360,
   "metadata": {},
   "outputs": [],
   "source": [
    "# #Numerics\n",
    "# objects = ['object']\n",
    "# cat_vars = list(X_train.select_dtypes(include = objects).columns)\n",
    "# X_train_c = X_train[cat_vars]"
   ]
  },
  {
   "cell_type": "code",
   "execution_count": 361,
   "metadata": {},
   "outputs": [],
   "source": [
    "# def mean_encoding(df_train, df_test):\n",
    "#     df_train_temp = df_train.copy()\n",
    "#     df_test_temp = df_test.copy()\n",
    "    \n",
    "#     for col in X_train_c:\n",
    "#         risk_dict = df_train.groupby([col])[]"
   ]
  },
  {
   "cell_type": "code",
   "execution_count": 372,
   "metadata": {},
   "outputs": [],
   "source": [
    "imp_mean = SimpleImputer(missing_values=np.nan, strategy='mean')\n",
    "scaler = MinMaxScaler()\n",
    "imp_mean_scaler = make_pipeline(imp_mean, scaler)\n",
    "imp_constant = SimpleImputer(strategy='constant', fill_value='missing')\n",
    "ohe = OneHotEncoder(handle_unknown='ignore')\n",
    "imp_ohe = make_pipeline(imp_constant, ohe)"
   ]
  },
  {
   "cell_type": "code",
   "execution_count": 373,
   "metadata": {},
   "outputs": [],
   "source": [
    "ct = make_column_transformer(\n",
    "    (imp_mean_scaler, ['Latitude', 'Longitude', 'SampleDepth',\n",
    "       'areaacres', 'za_mean', 'lc_11', 'lc_21', 'lc_22', 'lc_41',\n",
    "       'lc_42', 'lc_43', 'lc_81', 'lc_82', 'lc_90', 'lc_95', 'TP', 'sfc_runoff']),\n",
    "    (imp_ohe, ['COUNTY_', 'STATE_',  'month', 'year', 'week', 'dayofweek', 'quarter', 'HUC12_']),\n",
    "    remainder='passthrough')"
   ]
  },
  {
   "cell_type": "code",
   "execution_count": 374,
   "metadata": {},
   "outputs": [],
   "source": [
    "#https://scikit-learn.org/stable/auto_examples/preprocessing/plot_all_scaling.html\n",
    "#Scaler Information "
   ]
  },
  {
   "cell_type": "code",
   "execution_count": 375,
   "metadata": {},
   "outputs": [],
   "source": [
    "rf = RandomForestRegressor(verbose = True, n_jobs = -1)\n",
    "pipe = make_pipeline(ct, rf)"
   ]
  },
  {
   "cell_type": "code",
   "execution_count": 376,
   "metadata": {},
   "outputs": [
    {
     "name": "stderr",
     "output_type": "stream",
     "text": [
      "[Parallel(n_jobs=-1)]: Using backend ThreadingBackend with 12 concurrent workers.\n",
      "[Parallel(n_jobs=-1)]: Done  26 tasks      | elapsed:   51.4s\n",
      "[Parallel(n_jobs=-1)]: Done 100 out of 100 | elapsed:  2.7min finished\n"
     ]
    },
    {
     "data": {
      "text/plain": [
       "Pipeline(steps=[('columntransformer',\n",
       "                 ColumnTransformer(remainder='passthrough',\n",
       "                                   transformers=[('pipeline-1',\n",
       "                                                  Pipeline(steps=[('simpleimputer',\n",
       "                                                                   SimpleImputer()),\n",
       "                                                                  ('minmaxscaler',\n",
       "                                                                   MinMaxScaler())]),\n",
       "                                                  ['Latitude', 'Longitude',\n",
       "                                                   'SampleDepth', 'areaacres',\n",
       "                                                   'za_mean', 'lc_11', 'lc_21',\n",
       "                                                   'lc_22', 'lc_41', 'lc_42',\n",
       "                                                   'lc_43', 'lc_81', 'lc_82',\n",
       "                                                   'lc_90', 'lc_95', 'TP',\n",
       "                                                   'sfc_runoff']),\n",
       "                                                 ('pipeline-2',\n",
       "                                                  Pipeline(steps=[('simpleimputer',\n",
       "                                                                   SimpleImputer(fill_value='missing',\n",
       "                                                                                 strategy='constant')),\n",
       "                                                                  ('onehotencoder',\n",
       "                                                                   OneHotEncoder(handle_unknown='ignore'))]),\n",
       "                                                  ['COUNTY_', 'STATE_', 'month',\n",
       "                                                   'year', 'week', 'dayofweek',\n",
       "                                                   'quarter', 'HUC12_'])])),\n",
       "                ('randomforestregressor',\n",
       "                 RandomForestRegressor(n_jobs=-1, verbose=True))])"
      ]
     },
     "execution_count": 376,
     "metadata": {},
     "output_type": "execute_result"
    }
   ],
   "source": [
    "pipe.fit(X_train, y_train)"
   ]
  },
  {
   "cell_type": "code",
   "execution_count": 377,
   "metadata": {},
   "outputs": [
    {
     "name": "stderr",
     "output_type": "stream",
     "text": [
      "[Parallel(n_jobs=12)]: Using backend ThreadingBackend with 12 concurrent workers.\n",
      "[Parallel(n_jobs=12)]: Done  26 tasks      | elapsed:    0.0s\n",
      "[Parallel(n_jobs=12)]: Done 100 out of 100 | elapsed:    0.0s finished\n"
     ]
    }
   ],
   "source": [
    "y_pred = pipe.predict(X_test)"
   ]
  },
  {
   "cell_type": "code",
   "execution_count": 378,
   "metadata": {},
   "outputs": [
    {
     "data": {
      "text/plain": [
       "1.716994480996073"
      ]
     },
     "execution_count": 378,
     "metadata": {},
     "output_type": "execute_result"
    }
   ],
   "source": [
    "mean_squared_error(y_pred, y_test)"
   ]
  },
  {
   "cell_type": "code",
   "execution_count": 379,
   "metadata": {},
   "outputs": [
    {
     "data": {
      "text/plain": [
       "0.8735277035798993"
      ]
     },
     "execution_count": 379,
     "metadata": {},
     "output_type": "execute_result"
    }
   ],
   "source": [
    "explained_variance_score(y_pred, y_test)"
   ]
  },
  {
   "cell_type": "code",
   "execution_count": 380,
   "metadata": {},
   "outputs": [
    {
     "name": "stdout",
     "output_type": "stream",
     "text": [
      "Latitude 0.058891571439926696\n",
      "Longitude 0.04667175871836493\n",
      "SampleDepth 0.02345163525357097\n",
      "HUC12_ 0.0026187810790493\n",
      "COUNTY_ 0.01031523165216498\n",
      "STATE_ 0.0274028185314356\n",
      "areaacres 0.022539063037782737\n",
      "za_mean 0.0021547322813659994\n",
      "lc_11 0.0022535215125278067\n",
      "lc_21 0.002612437283168659\n",
      "lc_22 0.015851599892236935\n",
      "lc_41 0.0017413603519173381\n",
      "lc_42 0.041538132480447604\n",
      "lc_43 0.0063451698803186855\n",
      "lc_81 0.0044055677285205356\n",
      "lc_82 0.012232431277629472\n",
      "lc_90 5.0316182475655995e-05\n",
      "lc_95 2.078523985500111e-06\n",
      "month 1.1356785465775522e-07\n",
      "year 4.324428547964281e-06\n",
      "week 1.8993319417296458e-07\n",
      "dayofweek 1.2853893813231078e-07\n",
      "quarter 2.7973621666690238e-05\n",
      "TP 2.14768024184917e-06\n",
      "sfc_runoff 5.59773049853286e-05\n"
     ]
    }
   ],
   "source": [
    "for col, score in zip(X_train.columns, pipe['randomforestregressor'].feature_importances_):\n",
    "    print(col,score)"
   ]
  },
  {
   "cell_type": "code",
   "execution_count": null,
   "metadata": {},
   "outputs": [],
   "source": []
  }
 ],
 "metadata": {
  "kernelspec": {
   "display_name": "'tensflow'",
   "language": "python",
   "name": "tensflow"
  },
  "language_info": {
   "codemirror_mode": {
    "name": "ipython",
    "version": 3
   },
   "file_extension": ".py",
   "mimetype": "text/x-python",
   "name": "python",
   "nbconvert_exporter": "python",
   "pygments_lexer": "ipython3",
   "version": "3.7.6"
  }
 },
 "nbformat": 4,
 "nbformat_minor": 4
}
