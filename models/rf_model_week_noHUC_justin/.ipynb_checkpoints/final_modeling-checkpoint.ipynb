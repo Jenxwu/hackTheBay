{
 "cells": [
  {
   "cell_type": "code",
   "execution_count": 36,
   "metadata": {},
   "outputs": [
    {
     "name": "stderr",
     "output_type": "stream",
     "text": [
      "C:\\Users\\jvhua\\Miniconda3\\envs\\tensflow\\lib\\site-packages\\ipykernel_launcher.py:6: FutureWarning: Passing a negative integer is deprecated in version 1.0 and will not be supported in future version. Instead, use None to not limit the column width.\n",
      "  \n"
     ]
    }
   ],
   "source": [
    "import pandas as pd\n",
    "import matplotlib.pyplot as plt\n",
    "import numpy as np\n",
    "import seaborn as sns\n",
    "plt.style.use('fivethirtyeight')\n",
    "pd.set_option('display.max_colwidth', -1)\n",
    "pd.set_option('display.float_format', lambda x: '%.4f' % x)"
   ]
  },
  {
   "cell_type": "code",
   "execution_count": 37,
   "metadata": {},
   "outputs": [],
   "source": [
    "df = pd.read_csv('dfnitro3v2.csv', index_col = 0)\n",
    "df = df.set_index('new_date')"
   ]
  },
  {
   "cell_type": "code",
   "execution_count": 38,
   "metadata": {},
   "outputs": [
    {
     "data": {
      "text/plain": [
       "Index(['CloudCover', 'HUC12', 'Latitude', 'Longitude', 'Method', 'SampleDepth',\n",
       "       'SampleId', 'WindDirection', 'WindSpeed', 'HUC12_', 'FIPS_', 'COUNTY_',\n",
       "       'STATE_', 'areaacres', 'za_mean', 'lc_11', 'lc_21', 'lc_22', 'lc_23',\n",
       "       'lc_24', 'lc_31', 'lc_41', 'lc_42', 'lc_43', 'lc_52', 'lc_71', 'lc_81',\n",
       "       'lc_82', 'lc_90', 'lc_95', 'month', 'year', 'week', 'dayofweek', 'hour',\n",
       "       'min', 'quarter', 'DO', 'TN', 'TP', 'airtemp_narr', 'precip3_narr',\n",
       "       'humidity_narr', 'cl_cover_narr', 'sfc_runoff', 'sfc_air_narr',\n",
       "       'u_wind_narr', 'v_wind_narr', 'windspeed_narr', 'wdirection_narr',\n",
       "       'precip24_narr', 'precip48_narr', 'PH', 'SA', 'of_dist'],\n",
       "      dtype='object')"
      ]
     },
     "execution_count": 38,
     "metadata": {},
     "output_type": "execute_result"
    }
   ],
   "source": [
    "df.columns"
   ]
  },
  {
   "cell_type": "code",
   "execution_count": 39,
   "metadata": {},
   "outputs": [],
   "source": [
    "#Lets try not to use categorical variables here \n",
    "df2 = df.loc [:, ['areaacres', 'za_mean', 'lc_11', 'lc_21', 'lc_22', 'lc_23',\n",
    "       'lc_24', 'lc_31', 'lc_41', 'lc_42', 'lc_43', 'lc_52', 'lc_71', 'lc_81',\n",
    "       'lc_82', 'lc_90', 'lc_95', 'TN','airtemp_narr', 'precip3_narr',\n",
    "       'humidity_narr', 'cl_cover_narr', 'sfc_runoff', 'sfc_air_narr',\n",
    "       'u_wind_narr', 'v_wind_narr', 'windspeed_narr', 'wdirection_narr',\n",
    "       'precip24_narr', 'precip48_narr', 'week']]"
   ]
  },
  {
   "cell_type": "code",
   "execution_count": 40,
   "metadata": {},
   "outputs": [
    {
     "data": {
      "text/plain": [
       "Index(['areaacres', 'za_mean', 'lc_11', 'lc_21', 'lc_22', 'lc_23', 'lc_24',\n",
       "       'lc_31', 'lc_41', 'lc_42', 'lc_43', 'lc_52', 'lc_71', 'lc_81', 'lc_82',\n",
       "       'lc_90', 'lc_95', 'TN', 'airtemp_narr', 'precip3_narr', 'humidity_narr',\n",
       "       'cl_cover_narr', 'sfc_runoff', 'sfc_air_narr', 'u_wind_narr',\n",
       "       'v_wind_narr', 'windspeed_narr', 'wdirection_narr', 'precip24_narr',\n",
       "       'precip48_narr', 'week'],\n",
       "      dtype='object')"
      ]
     },
     "execution_count": 40,
     "metadata": {},
     "output_type": "execute_result"
    }
   ],
   "source": [
    "df2.columns"
   ]
  },
  {
   "cell_type": "code",
   "execution_count": 41,
   "metadata": {},
   "outputs": [],
   "source": [
    "#preprocessing \n",
    "from sklearn.model_selection import train_test_split\n",
    "from sklearn.pipeline import make_pipeline\n",
    "from sklearn.compose import make_column_transformer\n",
    "from sklearn.preprocessing import OneHotEncoder\n",
    "from sklearn.impute import SimpleImputer\n",
    "from sklearn.impute import KNNImputer\n",
    "from sklearn.feature_selection import VarianceThreshold\n",
    "\n",
    "#metrics\n",
    "from sklearn.metrics import r2_score\n",
    "from sklearn.metrics import explained_variance_score\n",
    "from sklearn.metrics import mean_squared_error\n",
    "\n",
    "#algorithms \n",
    "import xgboost as xgb\n",
    "from sklearn.ensemble import RandomForestRegressor\n",
    "\n",
    "#hyptertuning\n",
    "from sklearn.model_selection import RandomizedSearchCV\n",
    "\n",
    "#Scalers \n",
    "from sklearn.preprocessing import MinMaxScaler\n",
    "from sklearn.preprocessing import MaxAbsScaler\n",
    "from sklearn.preprocessing import StandardScaler\n",
    "from sklearn.preprocessing import RobustScaler\n",
    "from sklearn.preprocessing import Normalizer\n",
    "from sklearn.preprocessing import QuantileTransformer\n",
    "from sklearn.preprocessing import PowerTransformer"
   ]
  },
  {
   "cell_type": "code",
   "execution_count": 42,
   "metadata": {},
   "outputs": [],
   "source": [
    "df2 = df2[df2['TN'] < 50]"
   ]
  },
  {
   "cell_type": "code",
   "execution_count": 43,
   "metadata": {},
   "outputs": [],
   "source": [
    "knnimputer = KNNImputer(n_neighbors=2)\n",
    "ohe = OneHotEncoder(handle_unknown='ignore')\n",
    "scaler_std = StandardScaler()\n",
    "knn_impute_scale = make_pipeline(knnimputer, scaler_std)"
   ]
  },
  {
   "cell_type": "code",
   "execution_count": 44,
   "metadata": {},
   "outputs": [
    {
     "data": {
      "text/plain": [
       "Index(['areaacres', 'za_mean', 'lc_11', 'lc_21', 'lc_22', 'lc_23', 'lc_24',\n",
       "       'lc_31', 'lc_41', 'lc_42', 'lc_43', 'lc_52', 'lc_71', 'lc_81', 'lc_82',\n",
       "       'lc_90', 'lc_95', 'TN', 'airtemp_narr', 'precip3_narr', 'humidity_narr',\n",
       "       'cl_cover_narr', 'sfc_runoff', 'sfc_air_narr', 'u_wind_narr',\n",
       "       'v_wind_narr', 'windspeed_narr', 'wdirection_narr', 'precip24_narr',\n",
       "       'precip48_narr', 'week'],\n",
       "      dtype='object')"
      ]
     },
     "execution_count": 44,
     "metadata": {},
     "output_type": "execute_result"
    }
   ],
   "source": [
    "df2.columns"
   ]
  },
  {
   "cell_type": "code",
   "execution_count": 45,
   "metadata": {},
   "outputs": [],
   "source": [
    "#robust scaler \n",
    "ct = make_column_transformer(\n",
    "    (knn_impute_scale, ['areaacres', 'za_mean', 'lc_11', 'lc_21', 'lc_22', 'lc_23',\n",
    "       'lc_24', 'lc_31', 'lc_41', 'lc_42', 'lc_43', 'lc_52', 'lc_71', 'lc_81',\n",
    "       'lc_82', 'lc_90', 'lc_95', 'airtemp_narr', 'precip3_narr',\n",
    "       'humidity_narr', 'cl_cover_narr', 'sfc_runoff', 'sfc_air_narr',\n",
    "       'u_wind_narr', 'v_wind_narr', 'windspeed_narr', 'wdirection_narr',\n",
    "       'precip24_narr', 'precip48_narr', 'week']),\n",
    "    remainder='passthrough')"
   ]
  },
  {
   "cell_type": "code",
   "execution_count": 46,
   "metadata": {},
   "outputs": [
    {
     "data": {
      "text/plain": [
       "((46909, 30), (20104, 30))"
      ]
     },
     "execution_count": 46,
     "metadata": {},
     "output_type": "execute_result"
    }
   ],
   "source": [
    "#Train Test Split\n",
    "X_train, X_test, y_train, y_test = train_test_split(df2.drop(labels = 'TN', axis = 1), df2['TN'], test_size = 0.3, random_state = 0)\n",
    "X_train.shape, X_test.shape"
   ]
  },
  {
   "cell_type": "code",
   "execution_count": 47,
   "metadata": {},
   "outputs": [],
   "source": [
    "#Pipeline Creation \n",
    "rf = RandomForestRegressor(random_state = 0, n_jobs = -1)\n",
    "pipeline = make_pipeline(ct, rf)"
   ]
  },
  {
   "cell_type": "code",
   "execution_count": 48,
   "metadata": {},
   "outputs": [
    {
     "data": {
      "text/plain": [
       "Pipeline(steps=[('columntransformer',\n",
       "                 ColumnTransformer(remainder='passthrough',\n",
       "                                   transformers=[('pipeline',\n",
       "                                                  Pipeline(steps=[('knnimputer',\n",
       "                                                                   KNNImputer(n_neighbors=2)),\n",
       "                                                                  ('standardscaler',\n",
       "                                                                   StandardScaler())]),\n",
       "                                                  ['areaacres', 'za_mean',\n",
       "                                                   'lc_11', 'lc_21', 'lc_22',\n",
       "                                                   'lc_23', 'lc_24', 'lc_31',\n",
       "                                                   'lc_41', 'lc_42', 'lc_43',\n",
       "                                                   'lc_52', 'lc_71', 'lc_81',\n",
       "                                                   'lc_82', 'lc_90', 'lc_95',\n",
       "                                                   'airtemp_narr',\n",
       "                                                   'precip3_narr',\n",
       "                                                   'humidity_narr',\n",
       "                                                   'cl_cover_narr',\n",
       "                                                   'sfc_runoff', 'sfc_air_narr',\n",
       "                                                   'u_wind_narr', 'v_wind_narr',\n",
       "                                                   'windspeed_narr',\n",
       "                                                   'wdirection_narr',\n",
       "                                                   'precip24_narr',\n",
       "                                                   'precip48_narr',\n",
       "                                                   'week'])])),\n",
       "                ('randomforestregressor',\n",
       "                 RandomForestRegressor(n_jobs=-1, random_state=0))])"
      ]
     },
     "execution_count": 48,
     "metadata": {},
     "output_type": "execute_result"
    }
   ],
   "source": [
    "#pipeline fitting Robust Scaler\n",
    "pipeline.fit(X_train, y_train)"
   ]
  },
  {
   "cell_type": "code",
   "execution_count": 49,
   "metadata": {},
   "outputs": [],
   "source": [
    "#pipeline prediction \n",
    "y_pred = pipeline.predict(X_test)"
   ]
  },
  {
   "cell_type": "code",
   "execution_count": 50,
   "metadata": {},
   "outputs": [
    {
     "name": "stdout",
     "output_type": "stream",
     "text": [
      "0.8010076894032386\n",
      "0.8010215318868218\n",
      "0.7989218217534507\n"
     ]
    }
   ],
   "source": [
    "#Results\n",
    "print(r2_score(y_test, y_pred))\n",
    "print(explained_variance_score(y_test, y_pred))\n",
    "print(np.sqrt(mean_squared_error(y_test, y_pred)))"
   ]
  },
  {
   "cell_type": "code",
   "execution_count": 51,
   "metadata": {},
   "outputs": [
    {
     "data": {
      "text/html": [
       "<div>\n",
       "<style scoped>\n",
       "    .dataframe tbody tr th:only-of-type {\n",
       "        vertical-align: middle;\n",
       "    }\n",
       "\n",
       "    .dataframe tbody tr th {\n",
       "        vertical-align: top;\n",
       "    }\n",
       "\n",
       "    .dataframe thead th {\n",
       "        text-align: right;\n",
       "    }\n",
       "</style>\n",
       "<table border=\"1\" class=\"dataframe\">\n",
       "  <thead>\n",
       "    <tr style=\"text-align: right;\">\n",
       "      <th></th>\n",
       "      <th>feature</th>\n",
       "      <th>importance</th>\n",
       "    </tr>\n",
       "  </thead>\n",
       "  <tbody>\n",
       "    <tr>\n",
       "      <th>14</th>\n",
       "      <td>lc_82</td>\n",
       "      <td>0.1660</td>\n",
       "    </tr>\n",
       "    <tr>\n",
       "      <th>10</th>\n",
       "      <td>lc_43</td>\n",
       "      <td>0.1326</td>\n",
       "    </tr>\n",
       "    <tr>\n",
       "      <th>2</th>\n",
       "      <td>lc_11</td>\n",
       "      <td>0.0976</td>\n",
       "    </tr>\n",
       "    <tr>\n",
       "      <th>3</th>\n",
       "      <td>lc_21</td>\n",
       "      <td>0.0696</td>\n",
       "    </tr>\n",
       "    <tr>\n",
       "      <th>15</th>\n",
       "      <td>lc_90</td>\n",
       "      <td>0.0484</td>\n",
       "    </tr>\n",
       "    <tr>\n",
       "      <th>13</th>\n",
       "      <td>lc_81</td>\n",
       "      <td>0.0480</td>\n",
       "    </tr>\n",
       "    <tr>\n",
       "      <th>1</th>\n",
       "      <td>za_mean</td>\n",
       "      <td>0.0437</td>\n",
       "    </tr>\n",
       "    <tr>\n",
       "      <th>9</th>\n",
       "      <td>lc_42</td>\n",
       "      <td>0.0389</td>\n",
       "    </tr>\n",
       "    <tr>\n",
       "      <th>11</th>\n",
       "      <td>lc_52</td>\n",
       "      <td>0.0329</td>\n",
       "    </tr>\n",
       "    <tr>\n",
       "      <th>28</th>\n",
       "      <td>precip48_narr</td>\n",
       "      <td>0.0288</td>\n",
       "    </tr>\n",
       "    <tr>\n",
       "      <th>29</th>\n",
       "      <td>week</td>\n",
       "      <td>0.0265</td>\n",
       "    </tr>\n",
       "    <tr>\n",
       "      <th>27</th>\n",
       "      <td>precip24_narr</td>\n",
       "      <td>0.0244</td>\n",
       "    </tr>\n",
       "    <tr>\n",
       "      <th>0</th>\n",
       "      <td>areaacres</td>\n",
       "      <td>0.0243</td>\n",
       "    </tr>\n",
       "    <tr>\n",
       "      <th>8</th>\n",
       "      <td>lc_41</td>\n",
       "      <td>0.0229</td>\n",
       "    </tr>\n",
       "    <tr>\n",
       "      <th>19</th>\n",
       "      <td>humidity_narr</td>\n",
       "      <td>0.0196</td>\n",
       "    </tr>\n",
       "    <tr>\n",
       "      <th>4</th>\n",
       "      <td>lc_22</td>\n",
       "      <td>0.0191</td>\n",
       "    </tr>\n",
       "    <tr>\n",
       "      <th>25</th>\n",
       "      <td>windspeed_narr</td>\n",
       "      <td>0.0173</td>\n",
       "    </tr>\n",
       "    <tr>\n",
       "      <th>22</th>\n",
       "      <td>sfc_air_narr</td>\n",
       "      <td>0.0170</td>\n",
       "    </tr>\n",
       "    <tr>\n",
       "      <th>17</th>\n",
       "      <td>airtemp_narr</td>\n",
       "      <td>0.0166</td>\n",
       "    </tr>\n",
       "    <tr>\n",
       "      <th>12</th>\n",
       "      <td>lc_71</td>\n",
       "      <td>0.0155</td>\n",
       "    </tr>\n",
       "    <tr>\n",
       "      <th>7</th>\n",
       "      <td>lc_31</td>\n",
       "      <td>0.0149</td>\n",
       "    </tr>\n",
       "    <tr>\n",
       "      <th>16</th>\n",
       "      <td>lc_95</td>\n",
       "      <td>0.0123</td>\n",
       "    </tr>\n",
       "    <tr>\n",
       "      <th>23</th>\n",
       "      <td>u_wind_narr</td>\n",
       "      <td>0.0101</td>\n",
       "    </tr>\n",
       "    <tr>\n",
       "      <th>6</th>\n",
       "      <td>lc_24</td>\n",
       "      <td>0.0100</td>\n",
       "    </tr>\n",
       "    <tr>\n",
       "      <th>5</th>\n",
       "      <td>lc_23</td>\n",
       "      <td>0.0097</td>\n",
       "    </tr>\n",
       "    <tr>\n",
       "      <th>20</th>\n",
       "      <td>cl_cover_narr</td>\n",
       "      <td>0.0092</td>\n",
       "    </tr>\n",
       "    <tr>\n",
       "      <th>18</th>\n",
       "      <td>precip3_narr</td>\n",
       "      <td>0.0089</td>\n",
       "    </tr>\n",
       "    <tr>\n",
       "      <th>24</th>\n",
       "      <td>v_wind_narr</td>\n",
       "      <td>0.0076</td>\n",
       "    </tr>\n",
       "    <tr>\n",
       "      <th>26</th>\n",
       "      <td>wdirection_narr</td>\n",
       "      <td>0.0069</td>\n",
       "    </tr>\n",
       "    <tr>\n",
       "      <th>21</th>\n",
       "      <td>sfc_runoff</td>\n",
       "      <td>0.0006</td>\n",
       "    </tr>\n",
       "  </tbody>\n",
       "</table>\n",
       "</div>"
      ],
      "text/plain": [
       "            feature  importance\n",
       "14  lc_82           0.1660     \n",
       "10  lc_43           0.1326     \n",
       "2   lc_11           0.0976     \n",
       "3   lc_21           0.0696     \n",
       "15  lc_90           0.0484     \n",
       "13  lc_81           0.0480     \n",
       "1   za_mean         0.0437     \n",
       "9   lc_42           0.0389     \n",
       "11  lc_52           0.0329     \n",
       "28  precip48_narr   0.0288     \n",
       "29  week            0.0265     \n",
       "27  precip24_narr   0.0244     \n",
       "0   areaacres       0.0243     \n",
       "8   lc_41           0.0229     \n",
       "19  humidity_narr   0.0196     \n",
       "4   lc_22           0.0191     \n",
       "25  windspeed_narr  0.0173     \n",
       "22  sfc_air_narr    0.0170     \n",
       "17  airtemp_narr    0.0166     \n",
       "12  lc_71           0.0155     \n",
       "7   lc_31           0.0149     \n",
       "16  lc_95           0.0123     \n",
       "23  u_wind_narr     0.0101     \n",
       "6   lc_24           0.0100     \n",
       "5   lc_23           0.0097     \n",
       "20  cl_cover_narr   0.0092     \n",
       "18  precip3_narr    0.0089     \n",
       "24  v_wind_narr     0.0076     \n",
       "26  wdirection_narr 0.0069     \n",
       "21  sfc_runoff      0.0006     "
      ]
     },
     "execution_count": 51,
     "metadata": {},
     "output_type": "execute_result"
    }
   ],
   "source": [
    "features = X_train.columns\n",
    "#get feature importance attributed by random forest model\n",
    "importance = pd.concat([pd.Series(features),\n",
    "                       pd.Series(pipeline['randomforestregressor'].feature_importances_)], axis = 1)\n",
    "\n",
    "importance.columns = ['feature', 'importance']\n",
    "importance.sort_values(by = 'importance', ascending = False)"
   ]
  },
  {
   "cell_type": "code",
   "execution_count": 17,
   "metadata": {},
   "outputs": [],
   "source": [
    "#Drop variables below 0.01\n",
    "X_train = X_train.drop(columns = ['lc_23', 'cl_cover_narr', 'precip3_narr', 'v_wind_narr', 'wdirection_narr', 'sfc_runoff'])\n",
    "X_test = X_test.drop(columns = ['lc_23', 'cl_cover_narr', 'precip3_narr', 'v_wind_narr', 'wdirection_narr', 'sfc_runoff'])"
   ]
  },
  {
   "cell_type": "code",
   "execution_count": 18,
   "metadata": {},
   "outputs": [
    {
     "data": {
      "text/plain": [
       "Index(['areaacres', 'za_mean', 'lc_11', 'lc_21', 'lc_22', 'lc_24', 'lc_31',\n",
       "       'lc_41', 'lc_42', 'lc_43', 'lc_52', 'lc_71', 'lc_81', 'lc_82', 'lc_90',\n",
       "       'lc_95', 'airtemp_narr', 'humidity_narr', 'sfc_air_narr', 'u_wind_narr',\n",
       "       'windspeed_narr', 'precip24_narr', 'precip48_narr', 'week'],\n",
       "      dtype='object')"
      ]
     },
     "execution_count": 18,
     "metadata": {},
     "output_type": "execute_result"
    }
   ],
   "source": [
    "X_train.columns"
   ]
  },
  {
   "cell_type": "code",
   "execution_count": 19,
   "metadata": {},
   "outputs": [],
   "source": [
    "#robust scaler \n",
    "ct = make_column_transformer(\n",
    "    (knn_impute_scale, ['areaacres', 'za_mean', 'lc_11', 'lc_21', 'lc_22', 'lc_24', 'lc_31',\n",
    "       'lc_41', 'lc_42', 'lc_43', 'lc_52', 'lc_71', 'lc_81', 'lc_82', 'lc_90',\n",
    "       'lc_95', 'airtemp_narr', 'humidity_narr', 'sfc_air_narr', 'u_wind_narr',\n",
    "       'windspeed_narr', 'precip24_narr', 'precip48_narr', 'week']),\n",
    "    remainder='passthrough')"
   ]
  },
  {
   "cell_type": "code",
   "execution_count": 21,
   "metadata": {},
   "outputs": [
    {
     "data": {
      "text/plain": [
       "Pipeline(steps=[('columntransformer',\n",
       "                 ColumnTransformer(remainder='passthrough',\n",
       "                                   transformers=[('pipeline',\n",
       "                                                  Pipeline(steps=[('knnimputer',\n",
       "                                                                   KNNImputer(n_neighbors=2)),\n",
       "                                                                  ('standardscaler',\n",
       "                                                                   StandardScaler())]),\n",
       "                                                  ['areaacres', 'za_mean',\n",
       "                                                   'lc_11', 'lc_21', 'lc_22',\n",
       "                                                   'lc_24', 'lc_31', 'lc_41',\n",
       "                                                   'lc_42', 'lc_43', 'lc_52',\n",
       "                                                   'lc_71', 'lc_81', 'lc_82',\n",
       "                                                   'lc_90', 'lc_95',\n",
       "                                                   'airtemp_narr',\n",
       "                                                   'humidity_narr',\n",
       "                                                   'sfc_air_narr',\n",
       "                                                   'u_wind_narr',\n",
       "                                                   'windspeed_narr',\n",
       "                                                   'precip24_narr',\n",
       "                                                   'precip48_narr',\n",
       "                                                   'week'])])),\n",
       "                ('randomforestregressor',\n",
       "                 RandomForestRegressor(n_jobs=-1, random_state=0))])"
      ]
     },
     "execution_count": 21,
     "metadata": {},
     "output_type": "execute_result"
    }
   ],
   "source": [
    "#pipeline fitting Robust Scaler\n",
    "pipeline = make_pipeline(ct, rf)\n",
    "pipeline.fit(X_train, y_train)"
   ]
  },
  {
   "cell_type": "code",
   "execution_count": 22,
   "metadata": {},
   "outputs": [],
   "source": [
    "#pipeline prediction \n",
    "y_pred = pipeline.predict(X_test)"
   ]
  },
  {
   "cell_type": "code",
   "execution_count": 55,
   "metadata": {},
   "outputs": [
    {
     "name": "stdout",
     "output_type": "stream",
     "text": [
      "0.8010076894032386\n",
      "0.8010215318868218\n",
      "0.7989218217534507\n"
     ]
    }
   ],
   "source": [
    "#Results\n",
    "print(r2_score(y_test, y_pred))\n",
    "print(explained_variance_score(y_test, y_pred))\n",
    "print(np.sqrt(mean_squared_error(y_test, y_pred)))"
   ]
  },
  {
   "cell_type": "code",
   "execution_count": 56,
   "metadata": {},
   "outputs": [],
   "source": [
    "features = pd.Series(pipeline['randomforestregressor'].feature_importances_)\n",
    "features.index = X_train.columns\n",
    "features.sort_values(ascending = True, inplace = True)"
   ]
  },
  {
   "cell_type": "code",
   "execution_count": 57,
   "metadata": {},
   "outputs": [
    {
     "data": {
      "image/png": "[encoded data removed]",
      "text/plain": [
       "<Figure size 1440x432 with 1 Axes>"
      ]
     },
     "metadata": {},
     "output_type": "display_data"
    }
   ],
   "source": [
    "features.plot.bar(figsize=(20,6));"
   ]
  },
  {
   "cell_type": "code",
   "execution_count": 58,
   "metadata": {},
   "outputs": [
    {
     "data": {
      "text/plain": [
       "Index(['areaacres', 'za_mean', 'lc_11', 'lc_21', 'lc_22', 'lc_23', 'lc_24',\n",
       "       'lc_31', 'lc_41', 'lc_42', 'lc_43', 'lc_52', 'lc_71', 'lc_81', 'lc_82',\n",
       "       'lc_90', 'lc_95', 'airtemp_narr', 'precip3_narr', 'humidity_narr',\n",
       "       'cl_cover_narr', 'sfc_runoff', 'sfc_air_narr', 'u_wind_narr',\n",
       "       'v_wind_narr', 'windspeed_narr', 'wdirection_narr', 'precip24_narr',\n",
       "       'precip48_narr', 'week'],\n",
       "      dtype='object')"
      ]
     },
     "execution_count": 58,
     "metadata": {},
     "output_type": "execute_result"
    }
   ],
   "source": [
    "X_train.columns"
   ]
  },
  {
   "cell_type": "code",
   "execution_count": 59,
   "metadata": {},
   "outputs": [
    {
     "data": {
      "text/html": [
       "<div>\n",
       "<style scoped>\n",
       "    .dataframe tbody tr th:only-of-type {\n",
       "        vertical-align: middle;\n",
       "    }\n",
       "\n",
       "    .dataframe tbody tr th {\n",
       "        vertical-align: top;\n",
       "    }\n",
       "\n",
       "    .dataframe thead th {\n",
       "        text-align: right;\n",
       "    }\n",
       "</style>\n",
       "<table border=\"1\" class=\"dataframe\">\n",
       "  <thead>\n",
       "    <tr style=\"text-align: right;\">\n",
       "      <th></th>\n",
       "      <th>feature1</th>\n",
       "      <th>feature2</th>\n",
       "      <th>corr</th>\n",
       "    </tr>\n",
       "  </thead>\n",
       "  <tbody>\n",
       "    <tr>\n",
       "      <th>0</th>\n",
       "      <td>wdirection_narr</td>\n",
       "      <td>u_wind_narr</td>\n",
       "      <td>1.0000</td>\n",
       "    </tr>\n",
       "    <tr>\n",
       "      <th>1</th>\n",
       "      <td>u_wind_narr</td>\n",
       "      <td>wdirection_narr</td>\n",
       "      <td>1.0000</td>\n",
       "    </tr>\n",
       "    <tr>\n",
       "      <th>2</th>\n",
       "      <td>sfc_air_narr</td>\n",
       "      <td>airtemp_narr</td>\n",
       "      <td>0.9655</td>\n",
       "    </tr>\n",
       "    <tr>\n",
       "      <th>3</th>\n",
       "      <td>airtemp_narr</td>\n",
       "      <td>sfc_air_narr</td>\n",
       "      <td>0.9655</td>\n",
       "    </tr>\n",
       "    <tr>\n",
       "      <th>4</th>\n",
       "      <td>lc_23</td>\n",
       "      <td>lc_22</td>\n",
       "      <td>0.9305</td>\n",
       "    </tr>\n",
       "  </tbody>\n",
       "</table>\n",
       "</div>"
      ],
      "text/plain": [
       "          feature1         feature2   corr\n",
       "0  wdirection_narr  u_wind_narr     1.0000\n",
       "1  u_wind_narr      wdirection_narr 1.0000\n",
       "2  sfc_air_narr     airtemp_narr    0.9655\n",
       "3  airtemp_narr     sfc_air_narr    0.9655\n",
       "4  lc_23            lc_22           0.9305"
      ]
     },
     "execution_count": 59,
     "metadata": {},
     "output_type": "execute_result"
    }
   ],
   "source": [
    "corrmat = X_train.corr()\n",
    "corrmat = corrmat.abs().unstack()\n",
    "corrmat = corrmat.sort_values(ascending = False)\n",
    "corrmat = corrmat[corrmat >= 0.85]\n",
    "corrmat = corrmat[corrmat < 1]\n",
    "corrmat = pd.DataFrame(corrmat).reset_index()\n",
    "corrmat.columns = ['feature1', 'feature2', 'corr']\n",
    "corrmat.head()"
   ]
  },
  {
   "cell_type": "code",
   "execution_count": 61,
   "metadata": {},
   "outputs": [
    {
     "name": "stdout",
     "output_type": "stream",
     "text": [
      "found 8 correlated groups\n",
      "out of 30 total features\n"
     ]
    }
   ],
   "source": [
    "grouped_features_ls = []\n",
    "correlated_groups = []\n",
    "\n",
    "for feature in corrmat.feature1.unique():\n",
    "    if feature not in grouped_features_ls:\n",
    "        \n",
    "        #find all features correlated to a single feature\n",
    "        correlated_block = corrmat[corrmat.feature1 == feature]\n",
    "        grouped_feature_ls = grouped_features_ls + list(correlated_block.feature2.unique()) + [feature]\n",
    "        \n",
    "        #append the block of features to the list\n",
    "        correlated_groups.append(correlated_block)\n",
    "        \n",
    "print('found {} correlated groups'.format(len(correlated_groups)))\n",
    "print('out of {} total features'.format(X_train.shape[1]))"
   ]
  },
  {
   "cell_type": "code",
   "execution_count": 62,
   "metadata": {},
   "outputs": [
    {
     "name": "stdout",
     "output_type": "stream",
     "text": [
      "          feature1     feature2   corr\n",
      "0  wdirection_narr  u_wind_narr 1.0000\n",
      "9  wdirection_narr  v_wind_narr 0.9247\n",
      "\n",
      "\n",
      "      feature1         feature2   corr\n",
      "1  u_wind_narr  wdirection_narr 1.0000\n",
      "7  u_wind_narr  v_wind_narr     0.9247\n",
      "\n",
      "\n",
      "       feature1      feature2   corr\n",
      "2  sfc_air_narr  airtemp_narr 0.9655\n",
      "\n",
      "\n",
      "       feature1      feature2   corr\n",
      "3  airtemp_narr  sfc_air_narr 0.9655\n",
      "\n",
      "\n",
      "   feature1 feature2   corr\n",
      "4   lc_23    lc_22   0.9305\n",
      "10  lc_23    lc_24   0.8838\n",
      "\n",
      "\n",
      "  feature1 feature2   corr\n",
      "5  lc_22    lc_23   0.9305\n",
      "\n",
      "\n",
      "      feature1         feature2   corr\n",
      "6  v_wind_narr  u_wind_narr     0.9247\n",
      "8  v_wind_narr  wdirection_narr 0.9247\n",
      "\n",
      "\n",
      "   feature1 feature2   corr\n",
      "11  lc_24    lc_23   0.8838\n",
      "\n",
      "\n"
     ]
    }
   ],
   "source": [
    "#now we can visualize each group. We see that some groups \n",
    "for group in correlated_groups:\n",
    "    print(group)\n",
    "    print()\n",
    "    print()"
   ]
  },
  {
   "cell_type": "code",
   "execution_count": 64,
   "metadata": {},
   "outputs": [
    {
     "data": {
      "text/plain": [
       "RandomForestRegressor(random_state=0)"
      ]
     },
     "execution_count": 64,
     "metadata": {},
     "output_type": "execute_result"
    }
   ],
   "source": [
    "#We can screen using a randomforest first feature group\n",
    "features = ['u_wind_narr'] + ['wdirection_narr'] + ['v_wind_narr']\n",
    "rf = RandomForestRegressor(random_state = 0)\n",
    "rf.fit(X_train[features].fillna(0), y_train)"
   ]
  },
  {
   "cell_type": "code",
   "execution_count": 65,
   "metadata": {},
   "outputs": [
    {
     "data": {
      "text/html": [
       "<div>\n",
       "<style scoped>\n",
       "    .dataframe tbody tr th:only-of-type {\n",
       "        vertical-align: middle;\n",
       "    }\n",
       "\n",
       "    .dataframe tbody tr th {\n",
       "        vertical-align: top;\n",
       "    }\n",
       "\n",
       "    .dataframe thead th {\n",
       "        text-align: right;\n",
       "    }\n",
       "</style>\n",
       "<table border=\"1\" class=\"dataframe\">\n",
       "  <thead>\n",
       "    <tr style=\"text-align: right;\">\n",
       "      <th></th>\n",
       "      <th>feature</th>\n",
       "      <th>importance</th>\n",
       "    </tr>\n",
       "  </thead>\n",
       "  <tbody>\n",
       "    <tr>\n",
       "      <th>0</th>\n",
       "      <td>u_wind_narr</td>\n",
       "      <td>0.4405</td>\n",
       "    </tr>\n",
       "    <tr>\n",
       "      <th>2</th>\n",
       "      <td>v_wind_narr</td>\n",
       "      <td>0.2810</td>\n",
       "    </tr>\n",
       "    <tr>\n",
       "      <th>1</th>\n",
       "      <td>wdirection_narr</td>\n",
       "      <td>0.2785</td>\n",
       "    </tr>\n",
       "  </tbody>\n",
       "</table>\n",
       "</div>"
      ],
      "text/plain": [
       "           feature  importance\n",
       "0  u_wind_narr     0.4405     \n",
       "2  v_wind_narr     0.2810     \n",
       "1  wdirection_narr 0.2785     "
      ]
     },
     "execution_count": 65,
     "metadata": {},
     "output_type": "execute_result"
    }
   ],
   "source": [
    "#get feature importance attributed by random forest model\n",
    "\n",
    "importance = pd.concat([pd.Series(features),\n",
    "                       pd.Series(rf.feature_importances_)], axis = 1)\n",
    "\n",
    "importance.columns = ['feature', 'importance']\n",
    "importance.sort_values(by = 'importance', ascending = False)"
   ]
  },
  {
   "cell_type": "code",
   "execution_count": 67,
   "metadata": {},
   "outputs": [
    {
     "data": {
      "text/plain": [
       "RandomForestRegressor(random_state=0)"
      ]
     },
     "execution_count": 67,
     "metadata": {},
     "output_type": "execute_result"
    }
   ],
   "source": [
    "#We can screen using a randomforest second feature group \n",
    "features = ['lc_22'] + ['lc_23'] + ['lc_24']  \n",
    "rf = RandomForestRegressor(random_state = 0)\n",
    "rf.fit(X_train[features].fillna(0), y_train)"
   ]
  },
  {
   "cell_type": "code",
   "execution_count": 68,
   "metadata": {},
   "outputs": [
    {
     "data": {
      "text/html": [
       "<div>\n",
       "<style scoped>\n",
       "    .dataframe tbody tr th:only-of-type {\n",
       "        vertical-align: middle;\n",
       "    }\n",
       "\n",
       "    .dataframe tbody tr th {\n",
       "        vertical-align: top;\n",
       "    }\n",
       "\n",
       "    .dataframe thead th {\n",
       "        text-align: right;\n",
       "    }\n",
       "</style>\n",
       "<table border=\"1\" class=\"dataframe\">\n",
       "  <thead>\n",
       "    <tr style=\"text-align: right;\">\n",
       "      <th></th>\n",
       "      <th>feature</th>\n",
       "      <th>importance</th>\n",
       "    </tr>\n",
       "  </thead>\n",
       "  <tbody>\n",
       "    <tr>\n",
       "      <th>2</th>\n",
       "      <td>lc_24</td>\n",
       "      <td>0.3518</td>\n",
       "    </tr>\n",
       "    <tr>\n",
       "      <th>0</th>\n",
       "      <td>lc_22</td>\n",
       "      <td>0.3468</td>\n",
       "    </tr>\n",
       "    <tr>\n",
       "      <th>1</th>\n",
       "      <td>lc_23</td>\n",
       "      <td>0.3014</td>\n",
       "    </tr>\n",
       "  </tbody>\n",
       "</table>\n",
       "</div>"
      ],
      "text/plain": [
       "  feature  importance\n",
       "2  lc_24  0.3518     \n",
       "0  lc_22  0.3468     \n",
       "1  lc_23  0.3014     "
      ]
     },
     "execution_count": 68,
     "metadata": {},
     "output_type": "execute_result"
    }
   ],
   "source": [
    "#get feature importance attributed by random forest model\n",
    "\n",
    "importance = pd.concat([pd.Series(features),\n",
    "                       pd.Series(rf.feature_importances_)], axis = 1)\n",
    "\n",
    "importance.columns = ['feature', 'importance']\n",
    "importance.sort_values(by = 'importance', ascending = False)"
   ]
  },
  {
   "cell_type": "code",
   "execution_count": 70,
   "metadata": {},
   "outputs": [
    {
     "data": {
      "text/plain": [
       "RandomForestRegressor(random_state=0)"
      ]
     },
     "execution_count": 70,
     "metadata": {},
     "output_type": "execute_result"
    }
   ],
   "source": [
    "#We can screen using a randomforest second feature group \n",
    "features = ['sfc_air_narr'] + ['airtemp_narr']\n",
    "rf = RandomForestRegressor(random_state = 0)\n",
    "rf.fit(X_train[features].fillna(0), y_train)"
   ]
  },
  {
   "cell_type": "code",
   "execution_count": 71,
   "metadata": {},
   "outputs": [
    {
     "data": {
      "text/html": [
       "<div>\n",
       "<style scoped>\n",
       "    .dataframe tbody tr th:only-of-type {\n",
       "        vertical-align: middle;\n",
       "    }\n",
       "\n",
       "    .dataframe tbody tr th {\n",
       "        vertical-align: top;\n",
       "    }\n",
       "\n",
       "    .dataframe thead th {\n",
       "        text-align: right;\n",
       "    }\n",
       "</style>\n",
       "<table border=\"1\" class=\"dataframe\">\n",
       "  <thead>\n",
       "    <tr style=\"text-align: right;\">\n",
       "      <th></th>\n",
       "      <th>feature</th>\n",
       "      <th>importance</th>\n",
       "    </tr>\n",
       "  </thead>\n",
       "  <tbody>\n",
       "    <tr>\n",
       "      <th>0</th>\n",
       "      <td>sfc_air_narr</td>\n",
       "      <td>0.5014</td>\n",
       "    </tr>\n",
       "    <tr>\n",
       "      <th>1</th>\n",
       "      <td>airtemp_narr</td>\n",
       "      <td>0.4986</td>\n",
       "    </tr>\n",
       "  </tbody>\n",
       "</table>\n",
       "</div>"
      ],
      "text/plain": [
       "        feature  importance\n",
       "0  sfc_air_narr 0.5014     \n",
       "1  airtemp_narr 0.4986     "
      ]
     },
     "execution_count": 71,
     "metadata": {},
     "output_type": "execute_result"
    }
   ],
   "source": [
    "#get feature importance attributed by random forest model\n",
    "\n",
    "importance = pd.concat([pd.Series(features),\n",
    "                       pd.Series(rf.feature_importances_)], axis = 1)\n",
    "\n",
    "importance.columns = ['feature', 'importance']\n",
    "importance.sort_values(by = 'importance', ascending = False)"
   ]
  },
  {
   "cell_type": "code",
   "execution_count": 72,
   "metadata": {},
   "outputs": [],
   "source": [
    "X_train = X_train.drop(columns = ['airtemp_narr', 'lc_22', 'lc_23', 'v_wind_narr', 'wdirection_narr', 'sfc_runoff'])\n",
    "X_test = X_test.drop(columns = ['airtemp_narr', 'lc_22', 'lc_23', 'v_wind_narr', 'wdirection_narr', 'sfc_runoff'])\n"
   ]
  },
  {
   "cell_type": "code",
   "execution_count": 73,
   "metadata": {},
   "outputs": [
    {
     "data": {
      "text/plain": [
       "Index(['areaacres', 'za_mean', 'lc_11', 'lc_21', 'lc_24', 'lc_31', 'lc_41',\n",
       "       'lc_42', 'lc_43', 'lc_52', 'lc_71', 'lc_81', 'lc_82', 'lc_90', 'lc_95',\n",
       "       'precip3_narr', 'humidity_narr', 'cl_cover_narr', 'sfc_runoff',\n",
       "       'sfc_air_narr', 'u_wind_narr', 'windspeed_narr', 'precip24_narr',\n",
       "       'precip48_narr', 'week'],\n",
       "      dtype='object')"
      ]
     },
     "execution_count": 73,
     "metadata": {},
     "output_type": "execute_result"
    }
   ],
   "source": [
    "X_train.columns"
   ]
  },
  {
   "cell_type": "code",
   "execution_count": 74,
   "metadata": {},
   "outputs": [],
   "source": [
    "#robust scaler \n",
    "ct = make_column_transformer(\n",
    "    (knn_impute_scale, ['areaacres', 'za_mean', 'lc_11', 'lc_21', 'lc_24', 'lc_31', 'lc_41',\n",
    "       'lc_42', 'lc_43', 'lc_52', 'lc_71', 'lc_81', 'lc_82', 'lc_90', 'lc_95',\n",
    "       'precip3_narr', 'humidity_narr', 'cl_cover_narr', 'sfc_runoff',\n",
    "       'sfc_air_narr', 'u_wind_narr', 'windspeed_narr', 'precip24_narr',\n",
    "       'precip48_narr', 'week']),\n",
    "    remainder='passthrough')"
   ]
  },
  {
   "cell_type": "code",
   "execution_count": 75,
   "metadata": {},
   "outputs": [],
   "source": [
    "rf = RandomForestRegressor(random_state = 0, n_jobs = -1)\n",
    "pipeline2 = make_pipeline(ct, rf)"
   ]
  },
  {
   "cell_type": "code",
   "execution_count": 76,
   "metadata": {},
   "outputs": [
    {
     "data": {
      "text/plain": [
       "Pipeline(steps=[('columntransformer',\n",
       "                 ColumnTransformer(remainder='passthrough',\n",
       "                                   transformers=[('pipeline',\n",
       "                                                  Pipeline(steps=[('knnimputer',\n",
       "                                                                   KNNImputer(n_neighbors=2)),\n",
       "                                                                  ('standardscaler',\n",
       "                                                                   StandardScaler())]),\n",
       "                                                  ['areaacres', 'za_mean',\n",
       "                                                   'lc_11', 'lc_21', 'lc_24',\n",
       "                                                   'lc_31', 'lc_41', 'lc_42',\n",
       "                                                   'lc_43', 'lc_52', 'lc_71',\n",
       "                                                   'lc_81', 'lc_82', 'lc_90',\n",
       "                                                   'lc_95', 'precip3_narr',\n",
       "                                                   'humidity_narr',\n",
       "                                                   'cl_cover_narr',\n",
       "                                                   'sfc_runoff', 'sfc_air_narr',\n",
       "                                                   'u_wind_narr',\n",
       "                                                   'windspeed_narr',\n",
       "                                                   'precip24_narr',\n",
       "                                                   'precip48_narr',\n",
       "                                                   'week'])])),\n",
       "                ('randomforestregressor',\n",
       "                 RandomForestRegressor(n_jobs=-1, random_state=0))])"
      ]
     },
     "execution_count": 76,
     "metadata": {},
     "output_type": "execute_result"
    }
   ],
   "source": [
    "pipeline2.fit(X_train,y_train)"
   ]
  },
  {
   "cell_type": "code",
   "execution_count": 77,
   "metadata": {},
   "outputs": [],
   "source": [
    "y_pred2 = pipeline2.predict(X_test)"
   ]
  },
  {
   "cell_type": "code",
   "execution_count": 78,
   "metadata": {},
   "outputs": [
    {
     "name": "stdout",
     "output_type": "stream",
     "text": [
      "0.7981303701703915\n",
      "0.7981478607272909\n",
      "0.8046770767668445\n"
     ]
    }
   ],
   "source": [
    "#Results\n",
    "print(r2_score(y_test, y_pred2))\n",
    "print(explained_variance_score(y_test, y_pred2))\n",
    "print(np.sqrt(mean_squared_error(y_test, y_pred2)))"
   ]
  },
  {
   "cell_type": "code",
   "execution_count": 96,
   "metadata": {},
   "outputs": [],
   "source": [
    "features = pd.DataFrame(pipeline2['randomforestregressor'].feature_importances_)\n",
    "features.index = X_train.columns\n",
    "features = features.sort_values(ascending = False, by = 0).reset_index()\n",
    "features = features.rename(columns = {'index': 'features', 0: 'importance'})"
   ]
  },
  {
   "cell_type": "code",
   "execution_count": 97,
   "metadata": {},
   "outputs": [
    {
     "data": {
      "application/vnd.plotly.v1+json": {
       "config": {
        "plotlyServerURL": "https://plot.ly"
       },
       "data": [
        {
         "alignmentgroup": "True",
         "hovertemplate": "features=%{x}<br>importance=%{y}<extra></extra>",
         "legendgroup": "",
         "marker": {
          "color": "#636efa"
         },
         "name": "",
         "offsetgroup": "",
         "orientation": "v",
         "showlegend": false,
         "textposition": "auto",
         "type": "bar",
         "x": [
          "lc_82",
          "lc_43",
          "lc_11",
          "lc_21",
          "lc_90",
          "lc_81",
          "za_mean",
          "lc_42",
          "areaacres",
          "precip48_narr",
          "week",
          "sfc_air_narr",
          "lc_52",
          "precip24_narr",
          "lc_41",
          "lc_95",
          "humidity_narr",
          "windspeed_narr",
          "u_wind_narr",
          "lc_71",
          "lc_31",
          "lc_24",
          "precip3_narr",
          "cl_cover_narr",
          "sfc_runoff"
         ],
         "xaxis": "x",
         "y": [
          0.16763099497997028,
          0.13384823291264253,
          0.09718791785038682,
          0.07197491688675012,
          0.04920525245983181,
          0.047177450354807755,
          0.04377885514107708,
          0.040144967739195056,
          0.038067424481911645,
          0.03085549801525217,
          0.028818444310401852,
          0.025903088946824367,
          0.025488164047465393,
          0.025251044777782956,
          0.023994617942857566,
          0.023838058627150147,
          0.021748686282547038,
          0.01937255060214579,
          0.019310058748788963,
          0.016450905916421836,
          0.01547507455985407,
          0.013399252169647503,
          0.010261936130321463,
          0.010151373309976178,
          0.000665232805989766
         ],
         "yaxis": "y"
        }
       ],
       "layout": {
        "barmode": "relative",
        "legend": {
         "tracegroupgap": 0
        },
        "margin": {
         "t": 60
        },
        "template": {
         "data": {
          "bar": [
           {
            "error_x": {
             "color": "#2a3f5f"
            },
            "error_y": {
             "color": "#2a3f5f"
            },
            "marker": {
             "line": {
              "color": "#E5ECF6",
              "width": 0.5
             }
            },
            "type": "bar"
           }
          ],
          "barpolar": [
           {
            "marker": {
             "line": {
              "color": "#E5ECF6",
              "width": 0.5
             }
            },
            "type": "barpolar"
           }
          ],
          "carpet": [
           {
            "aaxis": {
             "endlinecolor": "#2a3f5f",
             "gridcolor": "white",
             "linecolor": "white",
             "minorgridcolor": "white",
             "startlinecolor": "#2a3f5f"
            },
            "baxis": {
             "endlinecolor": "#2a3f5f",
             "gridcolor": "white",
             "linecolor": "white",
             "minorgridcolor": "white",
             "startlinecolor": "#2a3f5f"
            },
            "type": "carpet"
           }
          ],
          "choropleth": [
           {
            "colorbar": {
             "outlinewidth": 0,
             "ticks": ""
            },
            "type": "choropleth"
           }
          ],
          "contour": [
           {
            "colorbar": {
             "outlinewidth": 0,
             "ticks": ""
            },
            "colorscale": [
             [
              0,
              "#0d0887"
             ],
             [
              0.1111111111111111,
              "#46039f"
             ],
             [
              0.2222222222222222,
              "#7201a8"
             ],
             [
              0.3333333333333333,
              "#9c179e"
             ],
             [
              0.4444444444444444,
              "#bd3786"
             ],
             [
              0.5555555555555556,
              "#d8576b"
             ],
             [
              0.6666666666666666,
              "#ed7953"
             ],
             [
              0.7777777777777778,
              "#fb9f3a"
             ],
             [
              0.8888888888888888,
              "#fdca26"
             ],
             [
              1,
              "#f0f921"
             ]
            ],
            "type": "contour"
           }
          ],
          "contourcarpet": [
           {
            "colorbar": {
             "outlinewidth": 0,
             "ticks": ""
            },
            "type": "contourcarpet"
           }
          ],
          "heatmap": [
           {
            "colorbar": {
             "outlinewidth": 0,
             "ticks": ""
            },
            "colorscale": [
             [
              0,
              "#0d0887"
             ],
             [
              0.1111111111111111,
              "#46039f"
             ],
             [
              0.2222222222222222,
              "#7201a8"
             ],
             [
              0.3333333333333333,
              "#9c179e"
             ],
             [
              0.4444444444444444,
              "#bd3786"
             ],
             [
              0.5555555555555556,
              "#d8576b"
             ],
             [
              0.6666666666666666,
              "#ed7953"
             ],
             [
              0.7777777777777778,
              "#fb9f3a"
             ],
             [
              0.8888888888888888,
              "#fdca26"
             ],
             [
              1,
              "#f0f921"
             ]
            ],
            "type": "heatmap"
           }
          ],
          "heatmapgl": [
           {
            "colorbar": {
             "outlinewidth": 0,
             "ticks": ""
            },
            "colorscale": [
             [
              0,
              "#0d0887"
             ],
             [
              0.1111111111111111,
              "#46039f"
             ],
             [
              0.2222222222222222,
              "#7201a8"
             ],
             [
              0.3333333333333333,
              "#9c179e"
             ],
             [
              0.4444444444444444,
              "#bd3786"
             ],
             [
              0.5555555555555556,
              "#d8576b"
             ],
             [
              0.6666666666666666,
              "#ed7953"
             ],
             [
              0.7777777777777778,
              "#fb9f3a"
             ],
             [
              0.8888888888888888,
              "#fdca26"
             ],
             [
              1,
              "#f0f921"
             ]
            ],
            "type": "heatmapgl"
           }
          ],
          "histogram": [
           {
            "marker": {
             "colorbar": {
              "outlinewidth": 0,
              "ticks": ""
             }
            },
            "type": "histogram"
           }
          ],
          "histogram2d": [
           {
            "colorbar": {
             "outlinewidth": 0,
             "ticks": ""
            },
            "colorscale": [
             [
              0,
              "#0d0887"
             ],
             [
              0.1111111111111111,
              "#46039f"
             ],
             [
              0.2222222222222222,
              "#7201a8"
             ],
             [
              0.3333333333333333,
              "#9c179e"
             ],
             [
              0.4444444444444444,
              "#bd3786"
             ],
             [
              0.5555555555555556,
              "#d8576b"
             ],
             [
              0.6666666666666666,
              "#ed7953"
             ],
             [
              0.7777777777777778,
              "#fb9f3a"
             ],
             [
              0.8888888888888888,
              "#fdca26"
             ],
             [
              1,
              "#f0f921"
             ]
            ],
            "type": "histogram2d"
           }
          ],
          "histogram2dcontour": [
           {
            "colorbar": {
             "outlinewidth": 0,
             "ticks": ""
            },
            "colorscale": [
             [
              0,
              "#0d0887"
             ],
             [
              0.1111111111111111,
              "#46039f"
             ],
             [
              0.2222222222222222,
              "#7201a8"
             ],
             [
              0.3333333333333333,
              "#9c179e"
             ],
             [
              0.4444444444444444,
              "#bd3786"
             ],
             [
              0.5555555555555556,
              "#d8576b"
             ],
             [
              0.6666666666666666,
              "#ed7953"
             ],
             [
              0.7777777777777778,
              "#fb9f3a"
             ],
             [
              0.8888888888888888,
              "#fdca26"
             ],
             [
              1,
              "#f0f921"
             ]
            ],
            "type": "histogram2dcontour"
           }
          ],
          "mesh3d": [
           {
            "colorbar": {
             "outlinewidth": 0,
             "ticks": ""
            },
            "type": "mesh3d"
           }
          ],
          "parcoords": [
           {
            "line": {
             "colorbar": {
              "outlinewidth": 0,
              "ticks": ""
             }
            },
            "type": "parcoords"
           }
          ],
          "pie": [
           {
            "automargin": true,
            "type": "pie"
           }
          ],
          "scatter": [
           {
            "marker": {
             "colorbar": {
              "outlinewidth": 0,
              "ticks": ""
             }
            },
            "type": "scatter"
           }
          ],
          "scatter3d": [
           {
            "line": {
             "colorbar": {
              "outlinewidth": 0,
              "ticks": ""
             }
            },
            "marker": {
             "colorbar": {
              "outlinewidth": 0,
              "ticks": ""
             }
            },
            "type": "scatter3d"
           }
          ],
          "scattercarpet": [
           {
            "marker": {
             "colorbar": {
              "outlinewidth": 0,
              "ticks": ""
             }
            },
            "type": "scattercarpet"
           }
          ],
          "scattergeo": [
           {
            "marker": {
             "colorbar": {
              "outlinewidth": 0,
              "ticks": ""
             }
            },
            "type": "scattergeo"
           }
          ],
          "scattergl": [
           {
            "marker": {
             "colorbar": {
              "outlinewidth": 0,
              "ticks": ""
             }
            },
            "type": "scattergl"
           }
          ],
          "scattermapbox": [
           {
            "marker": {
             "colorbar": {
              "outlinewidth": 0,
              "ticks": ""
             }
            },
            "type": "scattermapbox"
           }
          ],
          "scatterpolar": [
           {
            "marker": {
             "colorbar": {
              "outlinewidth": 0,
              "ticks": ""
             }
            },
            "type": "scatterpolar"
           }
          ],
          "scatterpolargl": [
           {
            "marker": {
             "colorbar": {
              "outlinewidth": 0,
              "ticks": ""
             }
            },
            "type": "scatterpolargl"
           }
          ],
          "scatterternary": [
           {
            "marker": {
             "colorbar": {
              "outlinewidth": 0,
              "ticks": ""
             }
            },
            "type": "scatterternary"
           }
          ],
          "surface": [
           {
            "colorbar": {
             "outlinewidth": 0,
             "ticks": ""
            },
            "colorscale": [
             [
              0,
              "#0d0887"
             ],
             [
              0.1111111111111111,
              "#46039f"
             ],
             [
              0.2222222222222222,
              "#7201a8"
             ],
             [
              0.3333333333333333,
              "#9c179e"
             ],
             [
              0.4444444444444444,
              "#bd3786"
             ],
             [
              0.5555555555555556,
              "#d8576b"
             ],
             [
              0.6666666666666666,
              "#ed7953"
             ],
             [
              0.7777777777777778,
              "#fb9f3a"
             ],
             [
              0.8888888888888888,
              "#fdca26"
             ],
             [
              1,
              "#f0f921"
             ]
            ],
            "type": "surface"
           }
          ],
          "table": [
           {
            "cells": {
             "fill": {
              "color": "#EBF0F8"
             },
             "line": {
              "color": "white"
             }
            },
            "header": {
             "fill": {
              "color": "#C8D4E3"
             },
             "line": {
              "color": "white"
             }
            },
            "type": "table"
           }
          ]
         },
         "layout": {
          "annotationdefaults": {
           "arrowcolor": "#2a3f5f",
           "arrowhead": 0,
           "arrowwidth": 1
          },
          "coloraxis": {
           "colorbar": {
            "outlinewidth": 0,
            "ticks": ""
           }
          },
          "colorscale": {
           "diverging": [
            [
             0,
             "#8e0152"
            ],
            [
             0.1,
             "#c51b7d"
            ],
            [
             0.2,
             "#de77ae"
            ],
            [
             0.3,
             "#f1b6da"
            ],
            [
             0.4,
             "#fde0ef"
            ],
            [
             0.5,
             "#f7f7f7"
            ],
            [
             0.6,
             "#e6f5d0"
            ],
            [
             0.7,
             "#b8e186"
            ],
            [
             0.8,
             "#7fbc41"
            ],
            [
             0.9,
             "#4d9221"
            ],
            [
             1,
             "#276419"
            ]
           ],
           "sequential": [
            [
             0,
             "#0d0887"
            ],
            [
             0.1111111111111111,
             "#46039f"
            ],
            [
             0.2222222222222222,
             "#7201a8"
            ],
            [
             0.3333333333333333,
             "#9c179e"
            ],
            [
             0.4444444444444444,
             "#bd3786"
            ],
            [
             0.5555555555555556,
             "#d8576b"
            ],
            [
             0.6666666666666666,
             "#ed7953"
            ],
            [
             0.7777777777777778,
             "#fb9f3a"
            ],
            [
             0.8888888888888888,
             "#fdca26"
            ],
            [
             1,
             "#f0f921"
            ]
           ],
           "sequentialminus": [
            [
             0,
             "#0d0887"
            ],
            [
             0.1111111111111111,
             "#46039f"
            ],
            [
             0.2222222222222222,
             "#7201a8"
            ],
            [
             0.3333333333333333,
             "#9c179e"
            ],
            [
             0.4444444444444444,
             "#bd3786"
            ],
            [
             0.5555555555555556,
             "#d8576b"
            ],
            [
             0.6666666666666666,
             "#ed7953"
            ],
            [
             0.7777777777777778,
             "#fb9f3a"
            ],
            [
             0.8888888888888888,
             "#fdca26"
            ],
            [
             1,
             "#f0f921"
            ]
           ]
          },
          "colorway": [
           "#636efa",
           "#EF553B",
           "#00cc96",
           "#ab63fa",
           "#FFA15A",
           "#19d3f3",
           "#FF6692",
           "#B6E880",
           "#FF97FF",
           "#FECB52"
          ],
          "font": {
           "color": "#2a3f5f"
          },
          "geo": {
           "bgcolor": "white",
           "lakecolor": "white",
           "landcolor": "#E5ECF6",
           "showlakes": true,
           "showland": true,
           "subunitcolor": "white"
          },
          "hoverlabel": {
           "align": "left"
          },
          "hovermode": "closest",
          "mapbox": {
           "style": "light"
          },
          "paper_bgcolor": "white",
          "plot_bgcolor": "#E5ECF6",
          "polar": {
           "angularaxis": {
            "gridcolor": "white",
            "linecolor": "white",
            "ticks": ""
           },
           "bgcolor": "#E5ECF6",
           "radialaxis": {
            "gridcolor": "white",
            "linecolor": "white",
            "ticks": ""
           }
          },
          "scene": {
           "xaxis": {
            "backgroundcolor": "#E5ECF6",
            "gridcolor": "white",
            "gridwidth": 2,
            "linecolor": "white",
            "showbackground": true,
            "ticks": "",
            "zerolinecolor": "white"
           },
           "yaxis": {
            "backgroundcolor": "#E5ECF6",
            "gridcolor": "white",
            "gridwidth": 2,
            "linecolor": "white",
            "showbackground": true,
            "ticks": "",
            "zerolinecolor": "white"
           },
           "zaxis": {
            "backgroundcolor": "#E5ECF6",
            "gridcolor": "white",
            "gridwidth": 2,
            "linecolor": "white",
            "showbackground": true,
            "ticks": "",
            "zerolinecolor": "white"
           }
          },
          "shapedefaults": {
           "line": {
            "color": "#2a3f5f"
           }
          },
          "ternary": {
           "aaxis": {
            "gridcolor": "white",
            "linecolor": "white",
            "ticks": ""
           },
           "baxis": {
            "gridcolor": "white",
            "linecolor": "white",
            "ticks": ""
           },
           "bgcolor": "#E5ECF6",
           "caxis": {
            "gridcolor": "white",
            "linecolor": "white",
            "ticks": ""
           }
          },
          "title": {
           "x": 0.05
          },
          "xaxis": {
           "automargin": true,
           "gridcolor": "white",
           "linecolor": "white",
           "ticks": "",
           "title": {
            "standoff": 15
           },
           "zerolinecolor": "white",
           "zerolinewidth": 2
          },
          "yaxis": {
           "automargin": true,
           "gridcolor": "white",
           "linecolor": "white",
           "ticks": "",
           "title": {
            "standoff": 15
           },
           "zerolinecolor": "white",
           "zerolinewidth": 2
          }
         }
        },
        "xaxis": {
         "anchor": "y",
         "domain": [
          0,
          1
         ],
         "title": {
          "text": "features"
         }
        },
        "yaxis": {
         "anchor": "x",
         "domain": [
          0,
          1
         ],
         "title": {
          "text": "importance"
         }
        }
       }
      },
      "text/html": [
       "<div>\n",
       "        \n",
       "        \n",
       "            <div id=\"52a32efe-c5d1-41c2-a4db-51255ced37c2\" class=\"plotly-graph-div\" style=\"height:525px; width:100%;\"></div>\n",
       "            <script type=\"text/javascript\">\n",
       "                require([\"plotly\"], function(Plotly) {\n",
       "                    window.PLOTLYENV=window.PLOTLYENV || {};\n",
       "                    \n",
       "                if (document.getElementById(\"52a32efe-c5d1-41c2-a4db-51255ced37c2\")) {\n",
       "                    Plotly.newPlot(\n",
       "                        '52a32efe-c5d1-41c2-a4db-51255ced37c2',\n",
       "                        [{\"alignmentgroup\": \"True\", \"hovertemplate\": \"features=%{x}<br>importance=%{y}<extra></extra>\", \"legendgroup\": \"\", \"marker\": {\"color\": \"#636efa\"}, \"name\": \"\", \"offsetgroup\": \"\", \"orientation\": \"v\", \"showlegend\": false, \"textposition\": \"auto\", \"type\": \"bar\", \"x\": [\"lc_82\", \"lc_43\", \"lc_11\", \"lc_21\", \"lc_90\", \"lc_81\", \"za_mean\", \"lc_42\", \"areaacres\", \"precip48_narr\", \"week\", \"sfc_air_narr\", \"lc_52\", \"precip24_narr\", \"lc_41\", \"lc_95\", \"humidity_narr\", \"windspeed_narr\", \"u_wind_narr\", \"lc_71\", \"lc_31\", \"lc_24\", \"precip3_narr\", \"cl_cover_narr\", \"sfc_runoff\"], \"xaxis\": \"x\", \"y\": [0.16763099497997028, 0.13384823291264253, 0.09718791785038682, 0.07197491688675012, 0.04920525245983181, 0.047177450354807755, 0.04377885514107708, 0.040144967739195056, 0.038067424481911645, 0.03085549801525217, 0.028818444310401852, 0.025903088946824367, 0.025488164047465393, 0.025251044777782956, 0.023994617942857566, 0.023838058627150147, 0.021748686282547038, 0.01937255060214579, 0.019310058748788963, 0.016450905916421836, 0.01547507455985407, 0.013399252169647503, 0.010261936130321463, 0.010151373309976178, 0.000665232805989766], \"yaxis\": \"y\"}],\n",
       "                        {\"barmode\": \"relative\", \"legend\": {\"tracegroupgap\": 0}, \"margin\": {\"t\": 60}, \"template\": {\"data\": {\"bar\": [{\"error_x\": {\"color\": \"#2a3f5f\"}, \"error_y\": {\"color\": \"#2a3f5f\"}, \"marker\": {\"line\": {\"color\": \"#E5ECF6\", \"width\": 0.5}}, \"type\": \"bar\"}], \"barpolar\": [{\"marker\": {\"line\": {\"color\": \"#E5ECF6\", \"width\": 0.5}}, \"type\": \"barpolar\"}], \"carpet\": [{\"aaxis\": {\"endlinecolor\": \"#2a3f5f\", \"gridcolor\": \"white\", \"linecolor\": \"white\", \"minorgridcolor\": \"white\", \"startlinecolor\": \"#2a3f5f\"}, \"baxis\": {\"endlinecolor\": \"#2a3f5f\", \"gridcolor\": \"white\", \"linecolor\": \"white\", \"minorgridcolor\": \"white\", \"startlinecolor\": \"#2a3f5f\"}, \"type\": \"carpet\"}], \"choropleth\": [{\"colorbar\": {\"outlinewidth\": 0, \"ticks\": \"\"}, \"type\": \"choropleth\"}], \"contour\": [{\"colorbar\": {\"outlinewidth\": 0, \"ticks\": \"\"}, \"colorscale\": [[0.0, \"#0d0887\"], [0.1111111111111111, \"#46039f\"], [0.2222222222222222, \"#7201a8\"], [0.3333333333333333, \"#9c179e\"], [0.4444444444444444, \"#bd3786\"], [0.5555555555555556, \"#d8576b\"], [0.6666666666666666, \"#ed7953\"], [0.7777777777777778, \"#fb9f3a\"], [0.8888888888888888, \"#fdca26\"], [1.0, \"#f0f921\"]], \"type\": \"contour\"}], \"contourcarpet\": [{\"colorbar\": {\"outlinewidth\": 0, \"ticks\": \"\"}, \"type\": \"contourcarpet\"}], \"heatmap\": [{\"colorbar\": {\"outlinewidth\": 0, \"ticks\": \"\"}, \"colorscale\": [[0.0, \"#0d0887\"], [0.1111111111111111, \"#46039f\"], [0.2222222222222222, \"#7201a8\"], [0.3333333333333333, \"#9c179e\"], [0.4444444444444444, \"#bd3786\"], [0.5555555555555556, \"#d8576b\"], [0.6666666666666666, \"#ed7953\"], [0.7777777777777778, \"#fb9f3a\"], [0.8888888888888888, \"#fdca26\"], [1.0, \"#f0f921\"]], \"type\": \"heatmap\"}], \"heatmapgl\": [{\"colorbar\": {\"outlinewidth\": 0, \"ticks\": \"\"}, \"colorscale\": [[0.0, \"#0d0887\"], [0.1111111111111111, \"#46039f\"], [0.2222222222222222, \"#7201a8\"], [0.3333333333333333, \"#9c179e\"], [0.4444444444444444, \"#bd3786\"], [0.5555555555555556, \"#d8576b\"], [0.6666666666666666, \"#ed7953\"], [0.7777777777777778, \"#fb9f3a\"], [0.8888888888888888, \"#fdca26\"], [1.0, \"#f0f921\"]], \"type\": \"heatmapgl\"}], \"histogram\": [{\"marker\": {\"colorbar\": {\"outlinewidth\": 0, \"ticks\": \"\"}}, \"type\": \"histogram\"}], \"histogram2d\": [{\"colorbar\": {\"outlinewidth\": 0, \"ticks\": \"\"}, \"colorscale\": [[0.0, \"#0d0887\"], [0.1111111111111111, \"#46039f\"], [0.2222222222222222, \"#7201a8\"], [0.3333333333333333, \"#9c179e\"], [0.4444444444444444, \"#bd3786\"], [0.5555555555555556, \"#d8576b\"], [0.6666666666666666, \"#ed7953\"], [0.7777777777777778, \"#fb9f3a\"], [0.8888888888888888, \"#fdca26\"], [1.0, \"#f0f921\"]], \"type\": \"histogram2d\"}], \"histogram2dcontour\": [{\"colorbar\": {\"outlinewidth\": 0, \"ticks\": \"\"}, \"colorscale\": [[0.0, \"#0d0887\"], [0.1111111111111111, \"#46039f\"], [0.2222222222222222, \"#7201a8\"], [0.3333333333333333, \"#9c179e\"], [0.4444444444444444, \"#bd3786\"], [0.5555555555555556, \"#d8576b\"], [0.6666666666666666, \"#ed7953\"], [0.7777777777777778, \"#fb9f3a\"], [0.8888888888888888, \"#fdca26\"], [1.0, \"#f0f921\"]], \"type\": \"histogram2dcontour\"}], \"mesh3d\": [{\"colorbar\": {\"outlinewidth\": 0, \"ticks\": \"\"}, \"type\": \"mesh3d\"}], \"parcoords\": [{\"line\": {\"colorbar\": {\"outlinewidth\": 0, \"ticks\": \"\"}}, \"type\": \"parcoords\"}], \"pie\": [{\"automargin\": true, \"type\": \"pie\"}], \"scatter\": [{\"marker\": {\"colorbar\": {\"outlinewidth\": 0, \"ticks\": \"\"}}, \"type\": \"scatter\"}], \"scatter3d\": [{\"line\": {\"colorbar\": {\"outlinewidth\": 0, \"ticks\": \"\"}}, \"marker\": {\"colorbar\": {\"outlinewidth\": 0, \"ticks\": \"\"}}, \"type\": \"scatter3d\"}], \"scattercarpet\": [{\"marker\": {\"colorbar\": {\"outlinewidth\": 0, \"ticks\": \"\"}}, \"type\": \"scattercarpet\"}], \"scattergeo\": [{\"marker\": {\"colorbar\": {\"outlinewidth\": 0, \"ticks\": \"\"}}, \"type\": \"scattergeo\"}], \"scattergl\": [{\"marker\": {\"colorbar\": {\"outlinewidth\": 0, \"ticks\": \"\"}}, \"type\": \"scattergl\"}], \"scattermapbox\": [{\"marker\": {\"colorbar\": {\"outlinewidth\": 0, \"ticks\": \"\"}}, \"type\": \"scattermapbox\"}], \"scatterpolar\": [{\"marker\": {\"colorbar\": {\"outlinewidth\": 0, \"ticks\": \"\"}}, \"type\": \"scatterpolar\"}], \"scatterpolargl\": [{\"marker\": {\"colorbar\": {\"outlinewidth\": 0, \"ticks\": \"\"}}, \"type\": \"scatterpolargl\"}], \"scatterternary\": [{\"marker\": {\"colorbar\": {\"outlinewidth\": 0, \"ticks\": \"\"}}, \"type\": \"scatterternary\"}], \"surface\": [{\"colorbar\": {\"outlinewidth\": 0, \"ticks\": \"\"}, \"colorscale\": [[0.0, \"#0d0887\"], [0.1111111111111111, \"#46039f\"], [0.2222222222222222, \"#7201a8\"], [0.3333333333333333, \"#9c179e\"], [0.4444444444444444, \"#bd3786\"], [0.5555555555555556, \"#d8576b\"], [0.6666666666666666, \"#ed7953\"], [0.7777777777777778, \"#fb9f3a\"], [0.8888888888888888, \"#fdca26\"], [1.0, \"#f0f921\"]], \"type\": \"surface\"}], \"table\": [{\"cells\": {\"fill\": {\"color\": \"#EBF0F8\"}, \"line\": {\"color\": \"white\"}}, \"header\": {\"fill\": {\"color\": \"#C8D4E3\"}, \"line\": {\"color\": \"white\"}}, \"type\": \"table\"}]}, \"layout\": {\"annotationdefaults\": {\"arrowcolor\": \"#2a3f5f\", \"arrowhead\": 0, \"arrowwidth\": 1}, \"coloraxis\": {\"colorbar\": {\"outlinewidth\": 0, \"ticks\": \"\"}}, \"colorscale\": {\"diverging\": [[0, \"#8e0152\"], [0.1, \"#c51b7d\"], [0.2, \"#de77ae\"], [0.3, \"#f1b6da\"], [0.4, \"#fde0ef\"], [0.5, \"#f7f7f7\"], [0.6, \"#e6f5d0\"], [0.7, \"#b8e186\"], [0.8, \"#7fbc41\"], [0.9, \"#4d9221\"], [1, \"#276419\"]], \"sequential\": [[0.0, \"#0d0887\"], [0.1111111111111111, \"#46039f\"], [0.2222222222222222, \"#7201a8\"], [0.3333333333333333, \"#9c179e\"], [0.4444444444444444, \"#bd3786\"], [0.5555555555555556, \"#d8576b\"], [0.6666666666666666, \"#ed7953\"], [0.7777777777777778, \"#fb9f3a\"], [0.8888888888888888, \"#fdca26\"], [1.0, \"#f0f921\"]], \"sequentialminus\": [[0.0, \"#0d0887\"], [0.1111111111111111, \"#46039f\"], [0.2222222222222222, \"#7201a8\"], [0.3333333333333333, \"#9c179e\"], [0.4444444444444444, \"#bd3786\"], [0.5555555555555556, \"#d8576b\"], [0.6666666666666666, \"#ed7953\"], [0.7777777777777778, \"#fb9f3a\"], [0.8888888888888888, \"#fdca26\"], [1.0, \"#f0f921\"]]}, \"colorway\": [\"#636efa\", \"#EF553B\", \"#00cc96\", \"#ab63fa\", \"#FFA15A\", \"#19d3f3\", \"#FF6692\", \"#B6E880\", \"#FF97FF\", \"#FECB52\"], \"font\": {\"color\": \"#2a3f5f\"}, \"geo\": {\"bgcolor\": \"white\", \"lakecolor\": \"white\", \"landcolor\": \"#E5ECF6\", \"showlakes\": true, \"showland\": true, \"subunitcolor\": \"white\"}, \"hoverlabel\": {\"align\": \"left\"}, \"hovermode\": \"closest\", \"mapbox\": {\"style\": \"light\"}, \"paper_bgcolor\": \"white\", \"plot_bgcolor\": \"#E5ECF6\", \"polar\": {\"angularaxis\": {\"gridcolor\": \"white\", \"linecolor\": \"white\", \"ticks\": \"\"}, \"bgcolor\": \"#E5ECF6\", \"radialaxis\": {\"gridcolor\": \"white\", \"linecolor\": \"white\", \"ticks\": \"\"}}, \"scene\": {\"xaxis\": {\"backgroundcolor\": \"#E5ECF6\", \"gridcolor\": \"white\", \"gridwidth\": 2, \"linecolor\": \"white\", \"showbackground\": true, \"ticks\": \"\", \"zerolinecolor\": \"white\"}, \"yaxis\": {\"backgroundcolor\": \"#E5ECF6\", \"gridcolor\": \"white\", \"gridwidth\": 2, \"linecolor\": \"white\", \"showbackground\": true, \"ticks\": \"\", \"zerolinecolor\": \"white\"}, \"zaxis\": {\"backgroundcolor\": \"#E5ECF6\", \"gridcolor\": \"white\", \"gridwidth\": 2, \"linecolor\": \"white\", \"showbackground\": true, \"ticks\": \"\", \"zerolinecolor\": \"white\"}}, \"shapedefaults\": {\"line\": {\"color\": \"#2a3f5f\"}}, \"ternary\": {\"aaxis\": {\"gridcolor\": \"white\", \"linecolor\": \"white\", \"ticks\": \"\"}, \"baxis\": {\"gridcolor\": \"white\", \"linecolor\": \"white\", \"ticks\": \"\"}, \"bgcolor\": \"#E5ECF6\", \"caxis\": {\"gridcolor\": \"white\", \"linecolor\": \"white\", \"ticks\": \"\"}}, \"title\": {\"x\": 0.05}, \"xaxis\": {\"automargin\": true, \"gridcolor\": \"white\", \"linecolor\": \"white\", \"ticks\": \"\", \"title\": {\"standoff\": 15}, \"zerolinecolor\": \"white\", \"zerolinewidth\": 2}, \"yaxis\": {\"automargin\": true, \"gridcolor\": \"white\", \"linecolor\": \"white\", \"ticks\": \"\", \"title\": {\"standoff\": 15}, \"zerolinecolor\": \"white\", \"zerolinewidth\": 2}}}, \"xaxis\": {\"anchor\": \"y\", \"domain\": [0.0, 1.0], \"title\": {\"text\": \"features\"}}, \"yaxis\": {\"anchor\": \"x\", \"domain\": [0.0, 1.0], \"title\": {\"text\": \"importance\"}}},\n",
       "                        {\"responsive\": true}\n",
       "                    ).then(function(){\n",
       "                            \n",
       "var gd = document.getElementById('52a32efe-c5d1-41c2-a4db-51255ced37c2');\n",
       "var x = new MutationObserver(function (mutations, observer) {{\n",
       "        var display = window.getComputedStyle(gd).display;\n",
       "        if (!display || display === 'none') {{\n",
       "            console.log([gd, 'removed!']);\n",
       "            Plotly.purge(gd);\n",
       "            observer.disconnect();\n",
       "        }}\n",
       "}});\n",
       "\n",
       "// Listen for the removal of the full notebook cells\n",
       "var notebookContainer = gd.closest('#notebook-container');\n",
       "if (notebookContainer) {{\n",
       "    x.observe(notebookContainer, {childList: true});\n",
       "}}\n",
       "\n",
       "// Listen for the clearing of the current output cell\n",
       "var outputEl = gd.closest('.output');\n",
       "if (outputEl) {{\n",
       "    x.observe(outputEl, {childList: true});\n",
       "}}\n",
       "\n",
       "                        })\n",
       "                };\n",
       "                });\n",
       "            </script>\n",
       "        </div>"
      ]
     },
     "metadata": {},
     "output_type": "display_data"
    }
   ],
   "source": [
    "import plotly.express as px\n",
    "fig = px.bar(features, features.features, features.importance)\n",
    "fig.show()"
   ]
  },
  {
   "cell_type": "code",
   "execution_count": null,
   "metadata": {},
   "outputs": [],
   "source": []
  },
  {
   "cell_type": "code",
   "execution_count": 53,
   "metadata": {},
   "outputs": [
    {
     "data": {
      "text/plain": [
       "Pipeline(steps=[('columntransformer',\n",
       "                 ColumnTransformer(remainder='passthrough',\n",
       "                                   transformers=[('pipeline',\n",
       "                                                  Pipeline(steps=[('knnimputer',\n",
       "                                                                   KNNImputer(n_neighbors=2)),\n",
       "                                                                  ('standardscaler',\n",
       "                                                                   StandardScaler())]),\n",
       "                                                  ['areaacres', 'za_mean',\n",
       "                                                   'lc_11', 'lc_21', 'lc_22',\n",
       "                                                   'lc_23', 'lc_24', 'lc_31',\n",
       "                                                   'lc_41', 'lc_42', 'lc_43',\n",
       "                                                   'lc_52', 'lc_71', 'lc_81',\n",
       "                                                   'lc_82', 'lc_90', 'lc_95',\n",
       "                                                   'airtem...\n",
       "                              gpu_id=-1, importance_type='gain',\n",
       "                              interaction_constraints=None,\n",
       "                              learning_rate=0.300000012, max_delta_step=0,\n",
       "                              max_depth=6, min_child_weight=1, missing=nan,\n",
       "                              monotone_constraints=None, n_estimators=100,\n",
       "                              n_jobs=0, num_parallel_tree=1, random_state=0,\n",
       "                              reg_alpha=0, reg_lambda=1, scale_pos_weight=1,\n",
       "                              subsample=1, tree_method=None,\n",
       "                              validate_parameters=False, verbosity=None))])"
      ]
     },
     "execution_count": 53,
     "metadata": {},
     "output_type": "execute_result"
    }
   ],
   "source": [
    "model_all_features = xgb.XGBRegressor()\n",
    "pipelineall = make_pipeline(ct, model_all_features)\n",
    "pipelineall.fit(X_train, y_train)"
   ]
  },
  {
   "cell_type": "code",
   "execution_count": 13,
   "metadata": {},
   "outputs": [
    {
     "name": "stdout",
     "output_type": "stream",
     "text": [
      "Test all features xgb explained variance score = 0.788140\n"
     ]
    }
   ],
   "source": [
    "y_pred_test = pipelineall.predict(X_test)\n",
    "explained_variance_score_score_all = explained_variance_score(y_test, y_pred_test)\n",
    "print('Test all features xgb explained variance score = %f' %(explained_variance_score_score_all))"
   ]
  },
  {
   "cell_type": "code",
   "execution_count": 14,
   "metadata": {},
   "outputs": [],
   "source": [
    "features = pd.Series(model_all_features.feature_importances_)\n",
    "features.index = X_train.columns\n",
    "features.sort_values(ascending = True, inplace = True)"
   ]
  },
  {
   "cell_type": "code",
   "execution_count": 15,
   "metadata": {},
   "outputs": [
    {
     "data": {
      "image/png": "[encoded data removed]",
      "text/plain": [
       "<Figure size 1440x432 with 1 Axes>"
      ]
     },
     "metadata": {},
     "output_type": "display_data"
    }
   ],
   "source": [
    "features.plot.bar(figsize=(20,6));"
   ]
  },
  {
   "cell_type": "code",
   "execution_count": 18,
   "metadata": {},
   "outputs": [
    {
     "data": {
      "text/plain": [
       "['wdirection_narr',\n",
       " 'v_wind_narr',\n",
       " 'cl_cover_narr',\n",
       " 'airtemp_narr',\n",
       " 'precip3_narr',\n",
       " 'humidity_narr',\n",
       " 'windspeed_narr',\n",
       " 'u_wind_narr',\n",
       " 'sfc_air_narr',\n",
       " 'week',\n",
       " 'sfc_runoff',\n",
       " 'lc_95',\n",
       " 'precip48_narr',\n",
       " 'precip24_narr',\n",
       " 'lc_31',\n",
       " 'areaacres',\n",
       " 'lc_22',\n",
       " 'lc_41',\n",
       " 'lc_42',\n",
       " 'lc_23',\n",
       " 'lc_81',\n",
       " 'za_mean',\n",
       " 'lc_52',\n",
       " 'lc_24',\n",
       " 'lc_71',\n",
       " 'lc_90',\n",
       " 'lc_21',\n",
       " 'lc_82',\n",
       " 'lc_11',\n",
       " 'lc_43']"
      ]
     },
     "execution_count": 18,
     "metadata": {},
     "output_type": "execute_result"
    }
   ],
   "source": [
    "features = list(features.index)\n",
    "features"
   ]
  },
  {
   "cell_type": "code",
   "execution_count": 20,
   "metadata": {},
   "outputs": [
    {
     "name": "stdout",
     "output_type": "stream",
     "text": [
      "doing recursive feature elimination\n",
      "\n",
      "testing feature:  wdirection_narr  which is feature  1  out of  30\n",
      "New explained variance score = 0.797835132758706\n",
      "Test all features xgb explained variance score = 0.7881398241222405\n",
      "Drop in explained ratio = -0.009695308636465505\n",
      "remove:  wdirection_narr\n",
      "\n",
      "\n",
      "testing feature:  v_wind_narr  which is feature  2  out of  30\n",
      "New explained variance score = 0.797835132758706\n",
      "Test all features xgb explained variance score = 0.797835132758706\n",
      "Drop in explained ratio = 0.0\n",
      "remove:  v_wind_narr\n",
      "\n",
      "\n",
      "testing feature:  cl_cover_narr  which is feature  3  out of  30\n",
      "New explained variance score = 0.790834272170104\n",
      "Test all features xgb explained variance score = 0.797835132758706\n",
      "Drop in explained ratio = 0.007000860588601943\n",
      "keep:  cl_cover_narr\n",
      "\n",
      "\n",
      "testing feature:  airtemp_narr  which is feature  4  out of  30\n",
      "New explained variance score = 0.7961906948745471\n",
      "Test all features xgb explained variance score = 0.797835132758706\n",
      "Drop in explained ratio = 0.0016444378841589113\n",
      "keep:  airtemp_narr\n",
      "\n",
      "\n",
      "testing feature:  precip3_narr  which is feature  5  out of  30\n",
      "New explained variance score = 0.8014150041841932\n",
      "Test all features xgb explained variance score = 0.797835132758706\n",
      "Drop in explained ratio = -0.0035798714254872133\n",
      "remove:  precip3_narr\n",
      "\n",
      "\n",
      "testing feature:  humidity_narr  which is feature  6  out of  30\n",
      "New explained variance score = 0.78725574856972\n",
      "Test all features xgb explained variance score = 0.8014150041841932\n",
      "Drop in explained ratio = 0.014159255614473176\n",
      "keep:  humidity_narr\n",
      "\n",
      "\n",
      "testing feature:  windspeed_narr  which is feature  7  out of  30\n",
      "New explained variance score = 0.7983253815707703\n",
      "Test all features xgb explained variance score = 0.8014150041841932\n",
      "Drop in explained ratio = 0.0030896226134229376\n",
      "keep:  windspeed_narr\n",
      "\n",
      "\n",
      "testing feature:  u_wind_narr  which is feature  8  out of  30\n",
      "New explained variance score = 0.79471230366988\n",
      "Test all features xgb explained variance score = 0.8014150041841932\n",
      "Drop in explained ratio = 0.006702700514313209\n",
      "keep:  u_wind_narr\n",
      "\n",
      "\n",
      "testing feature:  sfc_air_narr  which is feature  9  out of  30\n",
      "New explained variance score = 0.7918874895513403\n",
      "Test all features xgb explained variance score = 0.8014150041841932\n",
      "Drop in explained ratio = 0.009527514632852951\n",
      "keep:  sfc_air_narr\n",
      "\n",
      "\n",
      "testing feature:  week  which is feature  10  out of  30\n",
      "New explained variance score = 0.7830622993567233\n",
      "Test all features xgb explained variance score = 0.8014150041841932\n",
      "Drop in explained ratio = 0.018352704827469868\n",
      "keep:  week\n",
      "\n",
      "\n",
      "testing feature:  sfc_runoff  which is feature  11  out of  30\n",
      "New explained variance score = 0.7915956022330113\n",
      "Test all features xgb explained variance score = 0.8014150041841932\n",
      "Drop in explained ratio = 0.009819401951181916\n",
      "keep:  sfc_runoff\n",
      "\n",
      "\n",
      "testing feature:  lc_95  which is feature  12  out of  30\n",
      "New explained variance score = 0.7916454728028227\n",
      "Test all features xgb explained variance score = 0.8014150041841932\n",
      "Drop in explained ratio = 0.009769531381370489\n",
      "keep:  lc_95\n",
      "\n",
      "\n",
      "testing feature:  precip48_narr  which is feature  13  out of  30\n",
      "New explained variance score = 0.7923336846805956\n",
      "Test all features xgb explained variance score = 0.8014150041841932\n",
      "Drop in explained ratio = 0.009081319503597585\n",
      "keep:  precip48_narr\n",
      "\n",
      "\n",
      "testing feature:  precip24_narr  which is feature  14  out of  30\n",
      "New explained variance score = 0.7813498622014159\n",
      "Test all features xgb explained variance score = 0.8014150041841932\n",
      "Drop in explained ratio = 0.020065141982777313\n",
      "keep:  precip24_narr\n",
      "\n",
      "\n",
      "testing feature:  lc_31  which is feature  15  out of  30\n",
      "New explained variance score = 0.7921345897494475\n",
      "Test all features xgb explained variance score = 0.8014150041841932\n",
      "Drop in explained ratio = 0.009280414434745698\n",
      "keep:  lc_31\n",
      "\n",
      "\n",
      "testing feature:  areaacres  which is feature  16  out of  30\n",
      "New explained variance score = 0.7915170134526712\n",
      "Test all features xgb explained variance score = 0.8014150041841932\n",
      "Drop in explained ratio = 0.009897990731521977\n",
      "keep:  areaacres\n",
      "\n",
      "\n",
      "testing feature:  lc_22  which is feature  17  out of  30\n",
      "New explained variance score = 0.7886061303526988\n",
      "Test all features xgb explained variance score = 0.8014150041841932\n",
      "Drop in explained ratio = 0.012808873831494427\n",
      "keep:  lc_22\n",
      "\n",
      "\n",
      "testing feature:  lc_41  which is feature  18  out of  30\n",
      "New explained variance score = 0.7836046214684581\n",
      "Test all features xgb explained variance score = 0.8014150041841932\n",
      "Drop in explained ratio = 0.017810382715735096\n",
      "keep:  lc_41\n",
      "\n",
      "\n",
      "testing feature:  lc_42  which is feature  19  out of  30\n",
      "New explained variance score = 0.7963050693349241\n",
      "Test all features xgb explained variance score = 0.8014150041841932\n",
      "Drop in explained ratio = 0.005109934849269138\n",
      "keep:  lc_42\n",
      "\n",
      "\n",
      "testing feature:  lc_23  which is feature  20  out of  30\n",
      "New explained variance score = 0.7969876595953583\n",
      "Test all features xgb explained variance score = 0.8014150041841932\n",
      "Drop in explained ratio = 0.0044273445888348695\n",
      "keep:  lc_23\n",
      "\n",
      "\n",
      "testing feature:  lc_81  which is feature  21  out of  30\n",
      "New explained variance score = 0.7798921341611427\n",
      "Test all features xgb explained variance score = 0.8014150041841932\n",
      "Drop in explained ratio = 0.021522870023050533\n",
      "keep:  lc_81\n",
      "\n",
      "\n",
      "testing feature:  za_mean  which is feature  22  out of  30\n",
      "New explained variance score = 0.782754900644772\n",
      "Test all features xgb explained variance score = 0.8014150041841932\n",
      "Drop in explained ratio = 0.018660103539421158\n",
      "keep:  za_mean\n",
      "\n",
      "\n",
      "testing feature:  lc_52  which is feature  23  out of  30\n",
      "New explained variance score = 0.788545976774867\n",
      "Test all features xgb explained variance score = 0.8014150041841932\n",
      "Drop in explained ratio = 0.012869027409326161\n",
      "keep:  lc_52\n",
      "\n",
      "\n",
      "testing feature:  lc_24  which is feature  24  out of  30\n",
      "New explained variance score = 0.790509817422515\n",
      "Test all features xgb explained variance score = 0.8014150041841932\n",
      "Drop in explained ratio = 0.010905186761678176\n",
      "keep:  lc_24\n",
      "\n",
      "\n",
      "testing feature:  lc_71  which is feature  25  out of  30\n",
      "New explained variance score = 0.7802367173080311\n",
      "Test all features xgb explained variance score = 0.8014150041841932\n",
      "Drop in explained ratio = 0.021178286876162078\n",
      "keep:  lc_71\n",
      "\n",
      "\n",
      "testing feature:  lc_90  which is feature  26  out of  30\n",
      "New explained variance score = 0.785793042948066\n",
      "Test all features xgb explained variance score = 0.8014150041841932\n",
      "Drop in explained ratio = 0.015621961236127246\n",
      "keep:  lc_90\n",
      "\n",
      "\n",
      "testing feature:  lc_21  which is feature  27  out of  30\n",
      "New explained variance score = 0.784228458507761\n",
      "Test all features xgb explained variance score = 0.8014150041841932\n",
      "Drop in explained ratio = 0.017186545676432186\n",
      "keep:  lc_21\n",
      "\n",
      "\n",
      "testing feature:  lc_82  which is feature  28  out of  30\n",
      "New explained variance score = 0.7914143274021308\n",
      "Test all features xgb explained variance score = 0.8014150041841932\n",
      "Drop in explained ratio = 0.010000676782062401\n",
      "keep:  lc_82\n",
      "\n",
      "\n",
      "testing feature:  lc_11  which is feature  29  out of  30\n",
      "New explained variance score = 0.7966156962598683\n",
      "Test all features xgb explained variance score = 0.8014150041841932\n",
      "Drop in explained ratio = 0.004799307924324925\n",
      "keep:  lc_11\n",
      "\n",
      "\n",
      "testing feature:  lc_43  which is feature  30  out of  30\n",
      "New explained variance score = 0.7874822953206381\n",
      "Test all features xgb explained variance score = 0.8014150041841932\n",
      "Drop in explained ratio = 0.013932708863555132\n",
      "keep:  lc_43\n",
      "\n",
      "Done!!\n",
      "total features to remove:  3\n"
     ]
    }
   ],
   "source": [
    "tol = 0.001\n",
    "print('doing recursive feature elimination')\n",
    "features_to_remove = []\n",
    "count = 1\n",
    "\n",
    "for feature in features:\n",
    "    print()\n",
    "    print('testing feature: ', feature, ' which is feature ', count, ' out of ', len(features))\n",
    "    count = count + 1\n",
    "    \n",
    "    #initialize model\n",
    "    model_int = xgb.XGBRegressor()\n",
    "    \n",
    "    model_int.fit(X_train.drop(features_to_remove + [feature], axis =1), y_train)\n",
    "    y_pred_test = model_int.predict(X_test.drop(features_to_remove + [feature], axis = 1))\n",
    "    \n",
    "    #new Explained ratio \n",
    "    explained_variance_score_int = explained_variance_score(y_test, y_pred_test)\n",
    "    print('New explained variance score = {}'.format(explained_variance_score_int))\n",
    "    \n",
    "    #print all the original explained ratio with all features\n",
    "    print('Test all features xgb explained variance score = {}'.format(explained_variance_score_score_all))\n",
    "    \n",
    "    diff_explained_ratio = explained_variance_score_score_all - explained_variance_score_int\n",
    "    \n",
    "    if diff_explained_ratio >= tol:\n",
    "        print('Drop in explained ratio = {}'.format(diff_explained_ratio))\n",
    "        print('keep: ', feature)\n",
    "        print()\n",
    "        \n",
    "    else:\n",
    "        print('Drop in explained ratio = {}'.format(diff_explained_ratio))\n",
    "        print('remove: ', feature)\n",
    "        print()\n",
    "        \n",
    "        #The remaining features\n",
    "        explained_variance_score_score_all = explained_variance_score_int\n",
    "        \n",
    "        #append teh feature to remove to collecting list\n",
    "        features_to_remove.append(feature)\n",
    "print('Done!!')\n",
    "print('total features to remove: ', len(features_to_remove))"
   ]
  },
  {
   "cell_type": "code",
   "execution_count": 21,
   "metadata": {},
   "outputs": [
    {
     "name": "stdout",
     "output_type": "stream",
     "text": [
      "total features to keep:  27\n"
     ]
    }
   ],
   "source": [
    "features_to_keep = [x for x in features if x not in features_to_remove]\n",
    "print('total features to keep: ', len(features_to_keep))"
   ]
  },
  {
   "cell_type": "code",
   "execution_count": 24,
   "metadata": {},
   "outputs": [
    {
     "data": {
      "text/plain": [
       "['wdirection_narr', 'v_wind_narr', 'precip3_narr']"
      ]
     },
     "execution_count": 24,
     "metadata": {},
     "output_type": "execute_result"
    }
   ],
   "source": [
    "features_to_remove"
   ]
  },
  {
   "cell_type": "code",
   "execution_count": 25,
   "metadata": {},
   "outputs": [],
   "source": [
    "X_train = X_train.drop(columns = ['wdirection_narr', 'v_wind_narr', 'precip3_narr'])\n",
    "X_test = X_test.drop(columns = ['wdirection_narr', 'v_wind_narr', 'precip3_narr'])"
   ]
  },
  {
   "cell_type": "code",
   "execution_count": 27,
   "metadata": {},
   "outputs": [
    {
     "data": {
      "text/plain": [
       "Index(['areaacres', 'za_mean', 'lc_11', 'lc_21', 'lc_22', 'lc_23', 'lc_24',\n",
       "       'lc_31', 'lc_41', 'lc_42', 'lc_43', 'lc_52', 'lc_71', 'lc_81', 'lc_82',\n",
       "       'lc_90', 'lc_95', 'airtemp_narr', 'humidity_narr', 'cl_cover_narr',\n",
       "       'sfc_runoff', 'sfc_air_narr', 'u_wind_narr', 'windspeed_narr',\n",
       "       'precip24_narr', 'precip48_narr', 'week'],\n",
       "      dtype='object')"
      ]
     },
     "execution_count": 27,
     "metadata": {},
     "output_type": "execute_result"
    }
   ],
   "source": [
    "X_train.columns"
   ]
  },
  {
   "cell_type": "code",
   "execution_count": 28,
   "metadata": {},
   "outputs": [],
   "source": [
    "#robust scaler \n",
    "ct = make_column_transformer(\n",
    "    (knn_impute_scale, ['areaacres', 'za_mean', 'lc_11', 'lc_21', 'lc_22', 'lc_23', 'lc_24',\n",
    "       'lc_31', 'lc_41', 'lc_42', 'lc_43', 'lc_52', 'lc_71', 'lc_81', 'lc_82',\n",
    "       'lc_90', 'lc_95', 'airtemp_narr', 'humidity_narr', 'cl_cover_narr',\n",
    "       'sfc_runoff', 'sfc_air_narr', 'u_wind_narr', 'windspeed_narr',\n",
    "       'precip24_narr', 'precip48_narr', 'week']),\n",
    "    remainder='passthrough')"
   ]
  },
  {
   "cell_type": "code",
   "execution_count": 29,
   "metadata": {},
   "outputs": [
    {
     "data": {
      "text/plain": [
       "Pipeline(steps=[('columntransformer',\n",
       "                 ColumnTransformer(remainder='passthrough',\n",
       "                                   transformers=[('pipeline',\n",
       "                                                  Pipeline(steps=[('knnimputer',\n",
       "                                                                   KNNImputer(n_neighbors=2)),\n",
       "                                                                  ('standardscaler',\n",
       "                                                                   StandardScaler())]),\n",
       "                                                  ['areaacres', 'za_mean',\n",
       "                                                   'lc_11', 'lc_21', 'lc_22',\n",
       "                                                   'lc_23', 'lc_24', 'lc_31',\n",
       "                                                   'lc_41', 'lc_42', 'lc_43',\n",
       "                                                   'lc_52', 'lc_71', 'lc_81',\n",
       "                                                   'lc_82', 'lc_90', 'lc_95',\n",
       "                                                   'airtem...\n",
       "                              gpu_id=-1, importance_type='gain',\n",
       "                              interaction_constraints=None,\n",
       "                              learning_rate=0.300000012, max_delta_step=0,\n",
       "                              max_depth=6, min_child_weight=1, missing=nan,\n",
       "                              monotone_constraints=None, n_estimators=100,\n",
       "                              n_jobs=0, num_parallel_tree=1, random_state=0,\n",
       "                              reg_alpha=0, reg_lambda=1, scale_pos_weight=1,\n",
       "                              subsample=1, tree_method=None,\n",
       "                              validate_parameters=False, verbosity=None))])"
      ]
     },
     "execution_count": 29,
     "metadata": {},
     "output_type": "execute_result"
    }
   ],
   "source": [
    "pipeline2 = make_pipeline(ct, model_all_features)\n",
    "pipeline2.fit(X_train, y_train)"
   ]
  },
  {
   "cell_type": "code",
   "execution_count": 30,
   "metadata": {},
   "outputs": [
    {
     "name": "stdout",
     "output_type": "stream",
     "text": [
      "0.787126474152446\n",
      "0.7871306506734123\n",
      "0.8263175237553236\n"
     ]
    }
   ],
   "source": [
    "y_pred2 = pipeline2.predict(X_test)\n",
    "\n",
    "#Results\n",
    "print(r2_score(y_test, y_pred2))\n",
    "print(explained_variance_score(y_test, y_pred2))\n",
    "print(np.sqrt(mean_squared_error(y_test, y_pred2)))"
   ]
  },
  {
   "cell_type": "code",
   "execution_count": 32,
   "metadata": {},
   "outputs": [
    {
     "data": {
      "text/plain": [
       "week\n",
       "1    2.0238\n",
       "2    1.7552\n",
       "3    1.4986\n",
       "4    1.7958\n",
       "5    1.9208\n",
       "6    1.8803\n",
       "7    1.5870\n",
       "8    1.7155\n",
       "9    1.8241\n",
       "10   1.8885\n",
       "11   1.5925\n",
       "12   1.5917\n",
       "13   1.9010\n",
       "14   1.9473\n",
       "15   1.4115\n",
       "16   1.5169\n",
       "17   1.5739\n",
       "18   1.8166\n",
       "19   1.4159\n",
       "20   1.6141\n",
       "21   1.5053\n",
       "22   1.6066\n",
       "23   1.3683\n",
       "24   1.6198\n",
       "25   1.5031\n",
       "26   1.2571\n",
       "27   1.7811\n",
       "28   1.2674\n",
       "29   1.3385\n",
       "30   1.5616\n",
       "31   1.4908\n",
       "32   1.2015\n",
       "33   1.2730\n",
       "34   1.3578\n",
       "35   1.0222\n",
       "36   1.6102\n",
       "37   1.3354\n",
       "38   1.0730\n",
       "39   1.3388\n",
       "40   1.5752\n",
       "41   1.4522\n",
       "42   1.3180\n",
       "43   1.2468\n",
       "44   1.7153\n",
       "45   1.5334\n",
       "46   1.3176\n",
       "47   1.2403\n",
       "48   1.4843\n",
       "49   1.7608\n",
       "50   1.4200\n",
       "51   1.5378\n",
       "52   1.6886\n",
       "53   2.0042\n",
       "Name: TN, dtype: float64"
      ]
     },
     "execution_count": 32,
     "metadata": {},
     "output_type": "execute_result"
    }
   ],
   "source": [
    "df2.groupby('week')['TN'].mean()"
   ]
  },
  {
   "cell_type": "code",
   "execution_count": 33,
   "metadata": {},
   "outputs": [
    {
     "data": {
      "text/plain": [
       "week\n",
       "1    0.2100\n",
       "2    0.1400\n",
       "3    0.0200\n",
       "4    0.1799\n",
       "5    0.1300\n",
       "6    0.1800\n",
       "7    0.1000\n",
       "8    0.1832\n",
       "9    0.1600\n",
       "10   0.1200\n",
       "11   0.1100\n",
       "12   0.1350\n",
       "13   0.1700\n",
       "14   0.2300\n",
       "15   0.1200\n",
       "16   0.1580\n",
       "17   0.1600\n",
       "18   0.0860\n",
       "19   0.1050\n",
       "20   0.1200\n",
       "21   0.1000\n",
       "22   0.1850\n",
       "23   0.1800\n",
       "24   0.1690\n",
       "25   0.2100\n",
       "26   0.1700\n",
       "27   0.2500\n",
       "28   0.1300\n",
       "29   0.1500\n",
       "30   0.1100\n",
       "31   0.1400\n",
       "32   0.1375\n",
       "33   0.0725\n",
       "34   0.1120\n",
       "35   0.1200\n",
       "36   0.1600\n",
       "37   0.1000\n",
       "38   0.1000\n",
       "39   0.1100\n",
       "40   0.1000\n",
       "41   0.1000\n",
       "42   0.0800\n",
       "43   0.1000\n",
       "44   0.1500\n",
       "45   0.1000\n",
       "46   0.0221\n",
       "47   0.0800\n",
       "48   0.1030\n",
       "49   0.1000\n",
       "50   0.0800\n",
       "51   0.0800\n",
       "52   0.2300\n",
       "53   0.4900\n",
       "Name: TN, dtype: float64"
      ]
     },
     "execution_count": 33,
     "metadata": {},
     "output_type": "execute_result"
    }
   ],
   "source": [
    "df2.groupby('week')['TN'].min()"
   ]
  },
  {
   "cell_type": "code",
   "execution_count": 35,
   "metadata": {},
   "outputs": [
    {
     "data": {
      "text/plain": [
       "week\n",
       "1    10.0110\n",
       "2    11.7150\n",
       "3    10.6000\n",
       "4    10.6000\n",
       "5    10.5350\n",
       "6    34.6000\n",
       "7    9.6700 \n",
       "8    10.8000\n",
       "9    17.6000\n",
       "10   9.8870 \n",
       "11   9.3500 \n",
       "12   20.0000\n",
       "13   27.7000\n",
       "14   16.9000\n",
       "15   20.3000\n",
       "16   9.8770 \n",
       "17   30.9000\n",
       "18   37.7000\n",
       "19   10.8000\n",
       "20   41.1000\n",
       "21   26.1000\n",
       "22   33.6000\n",
       "23   22.8350\n",
       "24   35.2000\n",
       "25   39.6000\n",
       "26   10.9000\n",
       "27   41.3000\n",
       "28   46.3000\n",
       "29   26.0000\n",
       "30   38.8000\n",
       "31   13.8000\n",
       "32   37.2000\n",
       "33   43.5000\n",
       "34   40.4000\n",
       "35   10.5000\n",
       "36   10.5000\n",
       "37   9.9300 \n",
       "38   11.2780\n",
       "39   10.5000\n",
       "40   12.0450\n",
       "41   11.6250\n",
       "42   39.2000\n",
       "43   41.9000\n",
       "44   37.6000\n",
       "45   19.1440\n",
       "46   13.5000\n",
       "47   9.1400 \n",
       "48   10.2340\n",
       "49   13.9000\n",
       "50   21.3000\n",
       "51   17.1000\n",
       "52   8.2100 \n",
       "53   7.5390 \n",
       "Name: TN, dtype: float64"
      ]
     },
     "execution_count": 35,
     "metadata": {},
     "output_type": "execute_result"
    }
   ],
   "source": [
    "df2.groupby('week')['TN'].max()"
   ]
  },
  {
   "cell_type": "code",
   "execution_count": null,
   "metadata": {},
   "outputs": [],
   "source": []
  }
 ],
 "metadata": {
  "kernelspec": {
   "display_name": "'tensflow'",
   "language": "python",
   "name": "tensflow"
  },
  "language_info": {
   "codemirror_mode": {
    "name": "ipython",
    "version": 3
   },
   "file_extension": ".py",
   "mimetype": "text/x-python",
   "name": "python",
   "nbconvert_exporter": "python",
   "pygments_lexer": "ipython3",
   "version": "3.7.6"
  }
 },
 "nbformat": 4,
 "nbformat_minor": 4
}
