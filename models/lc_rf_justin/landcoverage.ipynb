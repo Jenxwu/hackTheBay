{
 "cells": [
  {
   "cell_type": "code",
   "execution_count": 1,
   "metadata": {},
   "outputs": [
    {
     "name": "stderr",
     "output_type": "stream",
     "text": [
      "C:\\Users\\jvhua\\Miniconda3\\envs\\tensflow\\lib\\site-packages\\ipykernel_launcher.py:6: FutureWarning: Passing a negative integer is deprecated in version 1.0 and will not be supported in future version. Instead, use None to not limit the column width.\n",
      "  \n"
     ]
    }
   ],
   "source": [
    "import pandas as pd\n",
    "import matplotlib.pyplot as plt\n",
    "import numpy as np\n",
    "import seaborn as sns\n",
    "plt.style.use('fivethirtyeight')\n",
    "pd.set_option('display.max_colwidth', -1)\n",
    "pd.set_option('display.float_format', lambda x: '%.4f' % x)"
   ]
  },
  {
   "cell_type": "code",
   "execution_count": 277,
   "metadata": {},
   "outputs": [],
   "source": [
    "df = pd.read_csv('dfnitro3v2.csv', index_col = 0)"
   ]
  },
  {
   "cell_type": "code",
   "execution_count": 278,
   "metadata": {},
   "outputs": [
    {
     "data": {
      "text/plain": [
       "Index(['new_date', 'CloudCover', 'HUC12', 'Latitude', 'Longitude', 'Method',\n",
       "       'SampleDepth', 'SampleId', 'WindDirection', 'WindSpeed', 'HUC12_',\n",
       "       'FIPS_', 'COUNTY_', 'STATE_', 'areaacres', 'za_mean', 'lc_11', 'lc_21',\n",
       "       'lc_22', 'lc_23', 'lc_24', 'lc_31', 'lc_41', 'lc_42', 'lc_43', 'lc_52',\n",
       "       'lc_71', 'lc_81', 'lc_82', 'lc_90', 'lc_95', 'month', 'year', 'week',\n",
       "       'dayofweek', 'hour', 'min', 'quarter', 'DO', 'TN', 'TP', 'airtemp_narr',\n",
       "       'precip3_narr', 'humidity_narr', 'cl_cover_narr', 'sfc_runoff',\n",
       "       'sfc_air_narr', 'u_wind_narr', 'v_wind_narr', 'windspeed_narr',\n",
       "       'wdirection_narr', 'precip24_narr', 'precip48_narr', 'PH', 'SA',\n",
       "       'of_dist'],\n",
       "      dtype='object')"
      ]
     },
     "execution_count": 278,
     "metadata": {},
     "output_type": "execute_result"
    }
   ],
   "source": [
    "df.columns"
   ]
  },
  {
   "cell_type": "code",
   "execution_count": 279,
   "metadata": {},
   "outputs": [],
   "source": [
    "#choose location to predict total nitrogen for this \n",
    "df = df.loc[:,['areaacres', 'za_mean', 'lc_11', 'lc_21',\n",
    "       'lc_22', 'lc_23', 'lc_24', 'lc_31', 'lc_41', 'lc_42', 'lc_43', 'lc_52',\n",
    "       'lc_71', 'lc_81', 'lc_82', 'lc_90', 'lc_95', 'of_dist', 'HUC12_', 'new_date', 'TN', 'week', 'airtemp_narr',\n",
    "       'precip3_narr', 'humidity_narr', 'cl_cover_narr', 'sfc_runoff',\n",
    "       'sfc_air_narr', 'u_wind_narr', 'v_wind_narr', 'windspeed_narr',\n",
    "       'wdirection_narr', 'precip24_narr', 'precip48_narr']]"
   ]
  },
  {
   "cell_type": "code",
   "execution_count": 280,
   "metadata": {},
   "outputs": [],
   "source": [
    "df = df.set_index('new_date')"
   ]
  },
  {
   "cell_type": "code",
   "execution_count": 281,
   "metadata": {},
   "outputs": [],
   "source": [
    "#preprocessing \n",
    "from sklearn.model_selection import train_test_split\n",
    "from sklearn.pipeline import make_pipeline\n",
    "from sklearn.compose import make_column_transformer\n",
    "from sklearn.preprocessing import OneHotEncoder\n",
    "from sklearn.impute import SimpleImputer\n",
    "from sklearn.impute import KNNImputer\n",
    "from sklearn.feature_selection import VarianceThreshold\n",
    "\n",
    "#metrics\n",
    "from sklearn.metrics import r2_score\n",
    "from sklearn.metrics import explained_variance_score\n",
    "from sklearn.metrics import mean_squared_error\n",
    "\n",
    "#algorithms \n",
    "import xgboost as xgb\n",
    "from sklearn.ensemble import RandomForestRegressor\n",
    "\n",
    "#hyptertuning\n",
    "from sklearn.model_selection import RandomizedSearchCV\n",
    "\n",
    "#Scalers \n",
    "from sklearn.preprocessing import MinMaxScaler\n",
    "from sklearn.preprocessing import MaxAbsScaler\n",
    "from sklearn.preprocessing import StandardScaler\n",
    "from sklearn.preprocessing import RobustScaler\n",
    "from sklearn.preprocessing import Normalizer\n",
    "from sklearn.preprocessing import QuantileTransformer\n",
    "from sklearn.preprocessing import PowerTransformer"
   ]
  },
  {
   "cell_type": "code",
   "execution_count": 282,
   "metadata": {},
   "outputs": [],
   "source": [
    "df['HUC12_'] = df['HUC12_'].apply(lambda x: str(x))\n",
    "df['week'] = df['week'].apply(lambda x: str(x))"
   ]
  },
  {
   "cell_type": "code",
   "execution_count": 430,
   "metadata": {},
   "outputs": [
    {
     "name": "stdout",
     "output_type": "stream",
     "text": [
      "1.5488472383385055\n"
     ]
    }
   ],
   "source": [
    "print(df['TN'].mean())\n",
    "df2 = df[df['TN'] < 50]\n"
   ]
  },
  {
   "cell_type": "code",
   "execution_count": null,
   "metadata": {},
   "outputs": [],
   "source": [
    "#KnnImputer "
   ]
  },
  {
   "cell_type": "code",
   "execution_count": 431,
   "metadata": {},
   "outputs": [],
   "source": [
    "knnimputer = KNNImputer(n_neighbors=2)\n",
    "\n",
    "ohe = OneHotEncoder(handle_unknown='ignore')\n",
    "\n",
    "\n",
    "scaler_min = MinMaxScaler()\n",
    "scaler_max = MaxAbsScaler()\n",
    "scaler_std = StandardScaler()\n",
    "scaler_rob = RobustScaler()\n",
    "\n",
    "knn_impute_scale = make_pipeline(knnimputer, scaler_rob)\n",
    "knn_impute_scale2 = make_pipeline(knnimputer, scaler_std)\n",
    "knn_impute_scale3 = make_pipeline(knnimputer, scaler_max)\n",
    "knn_impute_scale4 = make_pipeline(knnimputer, scaler_min)"
   ]
  },
  {
   "cell_type": "code",
   "execution_count": 432,
   "metadata": {},
   "outputs": [],
   "source": [
    "#robust scaler \n",
    "ct_rob = make_column_transformer(\n",
    "    (knn_impute_scale, ['areaacres', 'za_mean', 'lc_11', 'lc_21', 'lc_22', 'lc_23', 'lc_24',\n",
    "       'lc_31', 'lc_41', 'lc_42', 'lc_43', 'lc_52', 'lc_71', 'lc_81', 'lc_82',\n",
    "       'lc_90', 'lc_95', 'of_dist', 'airtemp_narr',\n",
    "       'precip3_narr', 'humidity_narr', 'cl_cover_narr', 'sfc_runoff',\n",
    "       'sfc_air_narr', 'u_wind_narr', 'v_wind_narr', 'windspeed_narr',\n",
    "       'wdirection_narr', 'precip24_narr', 'precip48_narr']),\n",
    "    (ohe, ['HUC12_', 'week']),\n",
    "    remainder='passthrough')"
   ]
  },
  {
   "cell_type": "code",
   "execution_count": 433,
   "metadata": {},
   "outputs": [],
   "source": [
    "#minmax scaler \n",
    "ct_min = make_column_transformer(\n",
    "    (knn_impute_scale4, ['areaacres', 'za_mean', 'lc_11', 'lc_21', 'lc_22', 'lc_23', 'lc_24',\n",
    "       'lc_31', 'lc_41', 'lc_42', 'lc_43', 'lc_52', 'lc_71', 'lc_81', 'lc_82',\n",
    "       'lc_90', 'lc_95', 'of_dist', 'airtemp_narr',\n",
    "       'precip3_narr', 'humidity_narr', 'cl_cover_narr', 'sfc_runoff',\n",
    "       'sfc_air_narr', 'u_wind_narr', 'v_wind_narr', 'windspeed_narr',\n",
    "       'wdirection_narr', 'precip24_narr', 'precip48_narr']),\n",
    "    (ohe, ['HUC12_', 'week']),\n",
    "    remainder='passthrough')"
   ]
  },
  {
   "cell_type": "code",
   "execution_count": 434,
   "metadata": {},
   "outputs": [],
   "source": [
    "#maxabs scaler \n",
    "ct_max = make_column_transformer(\n",
    "    (knn_impute_scale3, ['areaacres', 'za_mean', 'lc_11', 'lc_21', 'lc_22', 'lc_23', 'lc_24',\n",
    "       'lc_31', 'lc_41', 'lc_42', 'lc_43', 'lc_52', 'lc_71', 'lc_81', 'lc_82',\n",
    "       'lc_90', 'lc_95', 'of_dist', 'airtemp_narr',\n",
    "       'precip3_narr', 'humidity_narr', 'cl_cover_narr', 'sfc_runoff',\n",
    "       'sfc_air_narr', 'u_wind_narr', 'v_wind_narr', 'windspeed_narr',\n",
    "       'wdirection_narr', 'precip24_narr', 'precip48_narr']),\n",
    "    (ohe, ['HUC12_', 'week']),\n",
    "    remainder='passthrough')"
   ]
  },
  {
   "cell_type": "code",
   "execution_count": 435,
   "metadata": {},
   "outputs": [],
   "source": [
    "#standard scaler \n",
    "ct_std = make_column_transformer(\n",
    "    (knn_impute_scale2, ['areaacres', 'za_mean', 'lc_11', 'lc_21', 'lc_22', 'lc_23', 'lc_24',\n",
    "       'lc_31', 'lc_41', 'lc_42', 'lc_43', 'lc_52', 'lc_71', 'lc_81', 'lc_82',\n",
    "       'lc_90', 'lc_95', 'of_dist', 'airtemp_narr',\n",
    "       'precip3_narr', 'humidity_narr', 'cl_cover_narr', 'sfc_runoff',\n",
    "       'sfc_air_narr', 'u_wind_narr', 'v_wind_narr', 'windspeed_narr',\n",
    "       'wdirection_narr', 'precip24_narr', 'precip48_narr']),\n",
    "    (ohe, ['HUC12_', 'week']),\n",
    "    remainder='passthrough')"
   ]
  },
  {
   "cell_type": "code",
   "execution_count": 436,
   "metadata": {},
   "outputs": [
    {
     "data": {
      "text/plain": [
       "((46909, 32), (20104, 32))"
      ]
     },
     "execution_count": 436,
     "metadata": {},
     "output_type": "execute_result"
    }
   ],
   "source": [
    "#Train Test Split\n",
    "X_train, X_test, y_train, y_test = train_test_split(df2.drop(labels = 'TN', axis = 1), df2['TN'], test_size = 0.3, random_state = 0)\n",
    "X_train.shape, X_test.shape"
   ]
  },
  {
   "cell_type": "code",
   "execution_count": 437,
   "metadata": {},
   "outputs": [],
   "source": [
    "#Pipeline Creation \n",
    "rf = RandomForestRegressor(random_state = 0, n_jobs = -1)\n",
    "\n",
    "pipeline1 = make_pipeline(ct_rob, rf)\n",
    "pipeline2 = make_pipeline(ct_min, rf)\n",
    "pipeline3 = make_pipeline(ct_max, rf)\n",
    "pipeline4 = make_pipeline(ct_std, rf)"
   ]
  },
  {
   "cell_type": "code",
   "execution_count": 438,
   "metadata": {},
   "outputs": [
    {
     "data": {
      "text/plain": [
       "Pipeline(steps=[('columntransformer',\n",
       "                 ColumnTransformer(remainder='passthrough',\n",
       "                                   transformers=[('pipeline',\n",
       "                                                  Pipeline(steps=[('knnimputer',\n",
       "                                                                   KNNImputer(n_neighbors=2)),\n",
       "                                                                  ('robustscaler',\n",
       "                                                                   RobustScaler())]),\n",
       "                                                  ['areaacres', 'za_mean',\n",
       "                                                   'lc_11', 'lc_21', 'lc_22',\n",
       "                                                   'lc_23', 'lc_24', 'lc_31',\n",
       "                                                   'lc_41', 'lc_42', 'lc_43',\n",
       "                                                   'lc_52', 'lc_71', 'lc_81',\n",
       "                                                   'lc_82', 'lc_90', 'lc_95',\n",
       "                                                   'of_dist', 'airtemp_narr',\n",
       "                                                   'precip3_narr',\n",
       "                                                   'humidity_narr',\n",
       "                                                   'cl_cover_narr',\n",
       "                                                   'sfc_runoff', 'sfc_air_narr',\n",
       "                                                   'u_wind_narr', 'v_wind_narr',\n",
       "                                                   'windspeed_narr',\n",
       "                                                   'wdirection_narr',\n",
       "                                                   'precip24_narr',\n",
       "                                                   'precip48_narr']),\n",
       "                                                 ('onehotencoder',\n",
       "                                                  OneHotEncoder(handle_unknown='ignore'),\n",
       "                                                  ['HUC12_', 'week'])])),\n",
       "                ('randomforestregressor',\n",
       "                 RandomForestRegressor(n_jobs=-1, random_state=0))])"
      ]
     },
     "execution_count": 438,
     "metadata": {},
     "output_type": "execute_result"
    }
   ],
   "source": [
    "#pipeline fitting Robust Scaler\n",
    "pipeline1.fit(X_train, y_train)"
   ]
  },
  {
   "cell_type": "code",
   "execution_count": 439,
   "metadata": {},
   "outputs": [
    {
     "data": {
      "text/plain": [
       "Pipeline(steps=[('columntransformer',\n",
       "                 ColumnTransformer(remainder='passthrough',\n",
       "                                   transformers=[('pipeline',\n",
       "                                                  Pipeline(steps=[('knnimputer',\n",
       "                                                                   KNNImputer(n_neighbors=2)),\n",
       "                                                                  ('minmaxscaler',\n",
       "                                                                   MinMaxScaler())]),\n",
       "                                                  ['areaacres', 'za_mean',\n",
       "                                                   'lc_11', 'lc_21', 'lc_22',\n",
       "                                                   'lc_23', 'lc_24', 'lc_31',\n",
       "                                                   'lc_41', 'lc_42', 'lc_43',\n",
       "                                                   'lc_52', 'lc_71', 'lc_81',\n",
       "                                                   'lc_82', 'lc_90', 'lc_95',\n",
       "                                                   'of_dist', 'airtemp_narr',\n",
       "                                                   'precip3_narr',\n",
       "                                                   'humidity_narr',\n",
       "                                                   'cl_cover_narr',\n",
       "                                                   'sfc_runoff', 'sfc_air_narr',\n",
       "                                                   'u_wind_narr', 'v_wind_narr',\n",
       "                                                   'windspeed_narr',\n",
       "                                                   'wdirection_narr',\n",
       "                                                   'precip24_narr',\n",
       "                                                   'precip48_narr']),\n",
       "                                                 ('onehotencoder',\n",
       "                                                  OneHotEncoder(handle_unknown='ignore'),\n",
       "                                                  ['HUC12_', 'week'])])),\n",
       "                ('randomforestregressor',\n",
       "                 RandomForestRegressor(n_jobs=-1, random_state=0))])"
      ]
     },
     "execution_count": 439,
     "metadata": {},
     "output_type": "execute_result"
    }
   ],
   "source": [
    "#pipeline fitting MinMax Scaler\n",
    "pipeline2.fit(X_train, y_train)"
   ]
  },
  {
   "cell_type": "code",
   "execution_count": 440,
   "metadata": {},
   "outputs": [
    {
     "data": {
      "text/plain": [
       "Pipeline(steps=[('columntransformer',\n",
       "                 ColumnTransformer(remainder='passthrough',\n",
       "                                   transformers=[('pipeline',\n",
       "                                                  Pipeline(steps=[('knnimputer',\n",
       "                                                                   KNNImputer(n_neighbors=2)),\n",
       "                                                                  ('maxabsscaler',\n",
       "                                                                   MaxAbsScaler())]),\n",
       "                                                  ['areaacres', 'za_mean',\n",
       "                                                   'lc_11', 'lc_21', 'lc_22',\n",
       "                                                   'lc_23', 'lc_24', 'lc_31',\n",
       "                                                   'lc_41', 'lc_42', 'lc_43',\n",
       "                                                   'lc_52', 'lc_71', 'lc_81',\n",
       "                                                   'lc_82', 'lc_90', 'lc_95',\n",
       "                                                   'of_dist', 'airtemp_narr',\n",
       "                                                   'precip3_narr',\n",
       "                                                   'humidity_narr',\n",
       "                                                   'cl_cover_narr',\n",
       "                                                   'sfc_runoff', 'sfc_air_narr',\n",
       "                                                   'u_wind_narr', 'v_wind_narr',\n",
       "                                                   'windspeed_narr',\n",
       "                                                   'wdirection_narr',\n",
       "                                                   'precip24_narr',\n",
       "                                                   'precip48_narr']),\n",
       "                                                 ('onehotencoder',\n",
       "                                                  OneHotEncoder(handle_unknown='ignore'),\n",
       "                                                  ['HUC12_', 'week'])])),\n",
       "                ('randomforestregressor',\n",
       "                 RandomForestRegressor(n_jobs=-1, random_state=0))])"
      ]
     },
     "execution_count": 440,
     "metadata": {},
     "output_type": "execute_result"
    }
   ],
   "source": [
    "#pipeline fitting MaxAbs Scaler\n",
    "pipeline3.fit(X_train, y_train)"
   ]
  },
  {
   "cell_type": "code",
   "execution_count": 441,
   "metadata": {},
   "outputs": [
    {
     "data": {
      "text/plain": [
       "Pipeline(steps=[('columntransformer',\n",
       "                 ColumnTransformer(remainder='passthrough',\n",
       "                                   transformers=[('pipeline',\n",
       "                                                  Pipeline(steps=[('knnimputer',\n",
       "                                                                   KNNImputer(n_neighbors=2)),\n",
       "                                                                  ('standardscaler',\n",
       "                                                                   StandardScaler())]),\n",
       "                                                  ['areaacres', 'za_mean',\n",
       "                                                   'lc_11', 'lc_21', 'lc_22',\n",
       "                                                   'lc_23', 'lc_24', 'lc_31',\n",
       "                                                   'lc_41', 'lc_42', 'lc_43',\n",
       "                                                   'lc_52', 'lc_71', 'lc_81',\n",
       "                                                   'lc_82', 'lc_90', 'lc_95',\n",
       "                                                   'of_dist', 'airtemp_narr',\n",
       "                                                   'precip3_narr',\n",
       "                                                   'humidity_narr',\n",
       "                                                   'cl_cover_narr',\n",
       "                                                   'sfc_runoff', 'sfc_air_narr',\n",
       "                                                   'u_wind_narr', 'v_wind_narr',\n",
       "                                                   'windspeed_narr',\n",
       "                                                   'wdirection_narr',\n",
       "                                                   'precip24_narr',\n",
       "                                                   'precip48_narr']),\n",
       "                                                 ('onehotencoder',\n",
       "                                                  OneHotEncoder(handle_unknown='ignore'),\n",
       "                                                  ['HUC12_', 'week'])])),\n",
       "                ('randomforestregressor',\n",
       "                 RandomForestRegressor(n_jobs=-1, random_state=0))])"
      ]
     },
     "execution_count": 441,
     "metadata": {},
     "output_type": "execute_result"
    }
   ],
   "source": [
    "#pipeline fitting Standard Scaler\n",
    "pipeline4.fit(X_train, y_train)"
   ]
  },
  {
   "cell_type": "code",
   "execution_count": 442,
   "metadata": {},
   "outputs": [],
   "source": [
    "#pipeline prediction \n",
    "y_pred = pipeline1.predict(X_test)\n",
    "y_pred2 = pipeline2.predict(X_test)\n",
    "y_pred3 = pipeline3.predict(X_test)\n",
    "y_pred4 = pipeline4.predict(X_test)"
   ]
  },
  {
   "cell_type": "code",
   "execution_count": 443,
   "metadata": {},
   "outputs": [
    {
     "name": "stdout",
     "output_type": "stream",
     "text": [
      "0.08441054338045717\n",
      "0.09827441451990193\n",
      "1.7137068302886507\n",
      "areaacres = 0.00959995163032726\n",
      "za_mean = 0.02892668528264773\n",
      "lc_11 = 0.10390585302424743\n",
      "lc_21 = 0.07254958784913389\n",
      "lc_22 = 0.003964600056816575\n",
      "lc_23 = 0.0030103497491149257\n",
      "lc_24 = 0.004056740669683892\n",
      "lc_31 = 0.04063996950143919\n",
      "lc_41 = 0.022220095887005808\n",
      "lc_42 = 0.005906587022102873\n",
      "lc_43 = 0.02126607004794855\n",
      "lc_52 = 0.04769390634658567\n",
      "lc_71 = 0.013617181560009784\n",
      "lc_81 = 0.022710190825024422\n",
      "lc_82 = 0.15790508511877474\n",
      "lc_90 = 0.018330308566241852\n",
      "lc_95 = 0.01376407070721543\n",
      "of_dist = 0.19876843658698168\n",
      "HUC12_ = 0.017323716782998412\n",
      "week = 0.006416898960932444\n",
      "airtemp_narr = 0.01909238069117771\n",
      "precip3_narr = 0.0063974511759044865\n",
      "humidity_narr = 0.0009408387987465263\n",
      "cl_cover_narr = 0.012800533321681174\n",
      "sfc_runoff = 0.006863547545685236\n",
      "sfc_air_narr = 0.0048124008382115415\n",
      "u_wind_narr = 0.01463772261835446\n",
      "v_wind_narr = 0.004829427637216788\n",
      "windspeed_narr = 0.023823299746727526\n",
      "wdirection_narr = 0.020094190788028612\n",
      "precip24_narr = 4.6689901375346846e-05\n",
      "precip48_narr = 2.3934096865102514e-08\n"
     ]
    }
   ],
   "source": [
    "#Robust Scaler \n",
    "print(r2_score(y_test, y_pred))\n",
    "print(explained_variance_score(y_test, y_pred))\n",
    "print(np.sqrt(mean_squared_error(y_test, y_pred)))\n",
    "\n",
    "#Feature importance Robust\n",
    "for col, score in zip(X_train.columns, pipeline1['randomforestregressor'].feature_importances_):\n",
    "       print(col, \"=\", score)"
   ]
  },
  {
   "cell_type": "code",
   "execution_count": 444,
   "metadata": {},
   "outputs": [
    {
     "name": "stdout",
     "output_type": "stream",
     "text": [
      "-0.023361726366051494\n",
      "0.04934108308165308\n",
      "1.8117602265898516\n",
      "areaacres = 0.00959995163032726\n",
      "za_mean = 0.02892668528264773\n",
      "lc_11 = 0.10390585302424743\n",
      "lc_21 = 0.07254958784913389\n",
      "lc_22 = 0.003964600056816575\n",
      "lc_23 = 0.0030103497491149257\n",
      "lc_24 = 0.004056740669683892\n",
      "lc_31 = 0.04063996950143919\n",
      "lc_41 = 0.022220095887005808\n",
      "lc_42 = 0.005906587022102873\n",
      "lc_43 = 0.02126607004794855\n",
      "lc_52 = 0.04769390634658567\n",
      "lc_71 = 0.013617181560009784\n",
      "lc_81 = 0.022710190825024422\n",
      "lc_82 = 0.15790508511877474\n",
      "lc_90 = 0.018330308566241852\n",
      "lc_95 = 0.01376407070721543\n",
      "of_dist = 0.19876843658698168\n",
      "HUC12_ = 0.017323716782998412\n",
      "week = 0.006416898960932444\n",
      "airtemp_narr = 0.01909238069117771\n",
      "precip3_narr = 0.0063974511759044865\n",
      "humidity_narr = 0.0009408387987465263\n",
      "cl_cover_narr = 0.012800533321681174\n",
      "sfc_runoff = 0.006863547545685236\n",
      "sfc_air_narr = 0.0048124008382115415\n",
      "u_wind_narr = 0.01463772261835446\n",
      "v_wind_narr = 0.004829427637216788\n",
      "windspeed_narr = 0.023823299746727526\n",
      "wdirection_narr = 0.020094190788028612\n",
      "precip24_narr = 4.6689901375346846e-05\n",
      "precip48_narr = 2.3934096865102514e-08\n"
     ]
    }
   ],
   "source": [
    "#MinMaxScaler\n",
    "print(r2_score(y_test, y_pred2))\n",
    "print(explained_variance_score(y_test, y_pred2))\n",
    "print(np.sqrt(mean_squared_error(y_test, y_pred2)))\n",
    "\n",
    "#Feature importance MinMax\n",
    "for col, score in zip(X_train.columns, pipeline2['randomforestregressor'].feature_importances_):\n",
    "       print(col, \"=\", score)"
   ]
  },
  {
   "cell_type": "code",
   "execution_count": 445,
   "metadata": {},
   "outputs": [
    {
     "name": "stdout",
     "output_type": "stream",
     "text": [
      "-0.024034084072653616\n",
      "0.04686696715507721\n",
      "1.8123553001113626\n",
      "areaacres = 0.00959995163032726\n",
      "za_mean = 0.02892668528264773\n",
      "lc_11 = 0.10390585302424743\n",
      "lc_21 = 0.07254958784913389\n",
      "lc_22 = 0.003964600056816575\n",
      "lc_23 = 0.0030103497491149257\n",
      "lc_24 = 0.004056740669683892\n",
      "lc_31 = 0.04063996950143919\n",
      "lc_41 = 0.022220095887005808\n",
      "lc_42 = 0.005906587022102873\n",
      "lc_43 = 0.02126607004794855\n",
      "lc_52 = 0.04769390634658567\n",
      "lc_71 = 0.013617181560009784\n",
      "lc_81 = 0.022710190825024422\n",
      "lc_82 = 0.15790508511877474\n",
      "lc_90 = 0.018330308566241852\n",
      "lc_95 = 0.01376407070721543\n",
      "of_dist = 0.19876843658698168\n",
      "HUC12_ = 0.017323716782998412\n",
      "week = 0.006416898960932444\n",
      "airtemp_narr = 0.01909238069117771\n",
      "precip3_narr = 0.0063974511759044865\n",
      "humidity_narr = 0.0009408387987465263\n",
      "cl_cover_narr = 0.012800533321681174\n",
      "sfc_runoff = 0.006863547545685236\n",
      "sfc_air_narr = 0.0048124008382115415\n",
      "u_wind_narr = 0.01463772261835446\n",
      "v_wind_narr = 0.004829427637216788\n",
      "windspeed_narr = 0.023823299746727526\n",
      "wdirection_narr = 0.020094190788028612\n",
      "precip24_narr = 4.6689901375346846e-05\n",
      "precip48_narr = 2.3934096865102514e-08\n"
     ]
    }
   ],
   "source": [
    "#MaxAbsScaler\n",
    "print(r2_score(y_test, y_pred3))\n",
    "print(explained_variance_score(y_test, y_pred3))\n",
    "print(np.sqrt(mean_squared_error(y_test, y_pred3)))\n",
    "\n",
    "#Feature importance MaxAbs\n",
    "for col, score in zip(X_train.columns, pipeline3['randomforestregressor'].feature_importances_):\n",
    "       print(col, \"=\", score)"
   ]
  },
  {
   "cell_type": "code",
   "execution_count": 446,
   "metadata": {},
   "outputs": [
    {
     "name": "stdout",
     "output_type": "stream",
     "text": [
      "0.8333625119953084\n",
      "0.8333627644868798\n",
      "0.7310927737794299\n",
      "areaacres = 0.00959995163032726\n",
      "za_mean = 0.02892668528264773\n",
      "lc_11 = 0.10390585302424743\n",
      "lc_21 = 0.07254958784913389\n",
      "lc_22 = 0.003964600056816575\n",
      "lc_23 = 0.0030103497491149257\n",
      "lc_24 = 0.004056740669683892\n",
      "lc_31 = 0.04063996950143919\n",
      "lc_41 = 0.022220095887005808\n",
      "lc_42 = 0.005906587022102873\n",
      "lc_43 = 0.02126607004794855\n",
      "lc_52 = 0.04769390634658567\n",
      "lc_71 = 0.013617181560009784\n",
      "lc_81 = 0.022710190825024422\n",
      "lc_82 = 0.15790508511877474\n",
      "lc_90 = 0.018330308566241852\n",
      "lc_95 = 0.01376407070721543\n",
      "of_dist = 0.19876843658698168\n",
      "HUC12_ = 0.017323716782998412\n",
      "week = 0.006416898960932444\n",
      "airtemp_narr = 0.01909238069117771\n",
      "precip3_narr = 0.0063974511759044865\n",
      "humidity_narr = 0.0009408387987465263\n",
      "cl_cover_narr = 0.012800533321681174\n",
      "sfc_runoff = 0.006863547545685236\n",
      "sfc_air_narr = 0.0048124008382115415\n",
      "u_wind_narr = 0.01463772261835446\n",
      "v_wind_narr = 0.004829427637216788\n",
      "windspeed_narr = 0.023823299746727526\n",
      "wdirection_narr = 0.020094190788028612\n",
      "precip24_narr = 4.6689901375346846e-05\n",
      "precip48_narr = 2.3934096865102514e-08\n"
     ]
    }
   ],
   "source": [
    "#StandardScaler\n",
    "print(r2_score(y_test, y_pred4))\n",
    "print(explained_variance_score(y_test, y_pred4))\n",
    "print(np.sqrt(mean_squared_error(y_test, y_pred4)))\n",
    "\n",
    "#Feature importance Standard \n",
    "for col, score in zip(X_train.columns, pipeline4['randomforestregressor'].feature_importances_):\n",
    "       print(col, \"=\", score)"
   ]
  },
  {
   "cell_type": "code",
   "execution_count": 447,
   "metadata": {},
   "outputs": [],
   "source": [
    "#SimpleImputer Mean\n",
    "imp_mean = SimpleImputer(missing_values=np.nan, strategy='mean')"
   ]
  },
  {
   "cell_type": "code",
   "execution_count": 448,
   "metadata": {},
   "outputs": [],
   "source": [
    "#Imputers using the mean \n",
    "mean_impute_scale = make_pipeline(imp_mean, scaler_rob)\n",
    "mean_impute_scale2 = make_pipeline(imp_mean, scaler_std)\n",
    "mean_impute_scale3 = make_pipeline(imp_mean, scaler_max)\n",
    "mean_impute_scale4 = make_pipeline(imp_mean, scaler_min)"
   ]
  },
  {
   "cell_type": "code",
   "execution_count": 449,
   "metadata": {},
   "outputs": [],
   "source": [
    "#robust scaler \n",
    "ct_rob_m = make_column_transformer(\n",
    "    (mean_impute_scale, ['areaacres', 'za_mean', 'lc_11', 'lc_21', 'lc_22', 'lc_23', 'lc_24',\n",
    "       'lc_31', 'lc_41', 'lc_42', 'lc_43', 'lc_52', 'lc_71', 'lc_81', 'lc_82',\n",
    "       'lc_90', 'lc_95', 'of_dist', 'airtemp_narr',\n",
    "       'precip3_narr', 'humidity_narr', 'cl_cover_narr', 'sfc_runoff',\n",
    "       'sfc_air_narr', 'u_wind_narr', 'v_wind_narr', 'windspeed_narr',\n",
    "       'wdirection_narr', 'precip24_narr', 'precip48_narr']),\n",
    "    (ohe, ['HUC12_', 'week']),\n",
    "    remainder='passthrough')"
   ]
  },
  {
   "cell_type": "code",
   "execution_count": 450,
   "metadata": {},
   "outputs": [],
   "source": [
    "#minmax scaler \n",
    "ct_min_m = make_column_transformer(\n",
    "    (mean_impute_scale2, ['areaacres', 'za_mean', 'lc_11', 'lc_21', 'lc_22', 'lc_23', 'lc_24',\n",
    "       'lc_31', 'lc_41', 'lc_42', 'lc_43', 'lc_52', 'lc_71', 'lc_81', 'lc_82',\n",
    "       'lc_90', 'lc_95', 'of_dist', 'airtemp_narr',\n",
    "       'precip3_narr', 'humidity_narr', 'cl_cover_narr', 'sfc_runoff',\n",
    "       'sfc_air_narr', 'u_wind_narr', 'v_wind_narr', 'windspeed_narr',\n",
    "       'wdirection_narr', 'precip24_narr', 'precip48_narr']),\n",
    "    (ohe, ['HUC12_', 'week']),\n",
    "    remainder='passthrough')"
   ]
  },
  {
   "cell_type": "code",
   "execution_count": 451,
   "metadata": {},
   "outputs": [],
   "source": [
    "#maxabs scaler \n",
    "ct_max_m = make_column_transformer(\n",
    "    (mean_impute_scale3, ['areaacres', 'za_mean', 'lc_11', 'lc_21', 'lc_22', 'lc_23', 'lc_24',\n",
    "       'lc_31', 'lc_41', 'lc_42', 'lc_43', 'lc_52', 'lc_71', 'lc_81', 'lc_82',\n",
    "       'lc_90', 'lc_95', 'of_dist', 'airtemp_narr',\n",
    "       'precip3_narr', 'humidity_narr', 'cl_cover_narr', 'sfc_runoff',\n",
    "       'sfc_air_narr', 'u_wind_narr', 'v_wind_narr', 'windspeed_narr',\n",
    "       'wdirection_narr', 'precip24_narr', 'precip48_narr']),\n",
    "    (ohe, ['HUC12_', 'week']),\n",
    "    remainder='passthrough')"
   ]
  },
  {
   "cell_type": "code",
   "execution_count": 452,
   "metadata": {},
   "outputs": [],
   "source": [
    "#standard scaler \n",
    "ct_std_m = make_column_transformer(\n",
    "    (mean_impute_scale2, ['areaacres', 'za_mean', 'lc_11', 'lc_21', 'lc_22', 'lc_23', 'lc_24',\n",
    "       'lc_31', 'lc_41', 'lc_42', 'lc_43', 'lc_52', 'lc_71', 'lc_81', 'lc_82',\n",
    "       'lc_90', 'lc_95', 'of_dist', 'airtemp_narr',\n",
    "       'precip3_narr', 'humidity_narr', 'cl_cover_narr', 'sfc_runoff',\n",
    "       'sfc_air_narr', 'u_wind_narr', 'v_wind_narr', 'windspeed_narr',\n",
    "       'wdirection_narr', 'precip24_narr', 'precip48_narr']),\n",
    "    (ohe, ['HUC12_', 'week']),\n",
    "    remainder='passthrough')"
   ]
  },
  {
   "cell_type": "code",
   "execution_count": 453,
   "metadata": {},
   "outputs": [],
   "source": [
    "#Pipeline Creation \n",
    "rf = RandomForestRegressor(random_state = 0, n_jobs = -1)\n",
    "\n",
    "pipeline1m = make_pipeline(ct_rob_m, rf)\n",
    "pipeline2m = make_pipeline(ct_min_m, rf)\n",
    "pipeline3m = make_pipeline(ct_max_m, rf)\n",
    "pipeline4m = make_pipeline(ct_std_m, rf)"
   ]
  },
  {
   "cell_type": "code",
   "execution_count": 454,
   "metadata": {},
   "outputs": [
    {
     "data": {
      "text/plain": [
       "Pipeline(steps=[('columntransformer',\n",
       "                 ColumnTransformer(remainder='passthrough',\n",
       "                                   transformers=[('pipeline',\n",
       "                                                  Pipeline(steps=[('simpleimputer',\n",
       "                                                                   SimpleImputer()),\n",
       "                                                                  ('robustscaler',\n",
       "                                                                   RobustScaler())]),\n",
       "                                                  ['areaacres', 'za_mean',\n",
       "                                                   'lc_11', 'lc_21', 'lc_22',\n",
       "                                                   'lc_23', 'lc_24', 'lc_31',\n",
       "                                                   'lc_41', 'lc_42', 'lc_43',\n",
       "                                                   'lc_52', 'lc_71', 'lc_81',\n",
       "                                                   'lc_82', 'lc_90', 'lc_95',\n",
       "                                                   'of_dist', 'airtemp_narr',\n",
       "                                                   'precip3_narr',\n",
       "                                                   'humidity_narr',\n",
       "                                                   'cl_cover_narr',\n",
       "                                                   'sfc_runoff', 'sfc_air_narr',\n",
       "                                                   'u_wind_narr', 'v_wind_narr',\n",
       "                                                   'windspeed_narr',\n",
       "                                                   'wdirection_narr',\n",
       "                                                   'precip24_narr',\n",
       "                                                   'precip48_narr']),\n",
       "                                                 ('onehotencoder',\n",
       "                                                  OneHotEncoder(handle_unknown='ignore'),\n",
       "                                                  ['HUC12_', 'week'])])),\n",
       "                ('randomforestregressor',\n",
       "                 RandomForestRegressor(n_jobs=-1, random_state=0))])"
      ]
     },
     "execution_count": 454,
     "metadata": {},
     "output_type": "execute_result"
    }
   ],
   "source": [
    "pipeline1m.fit(X_train,y_train)"
   ]
  },
  {
   "cell_type": "code",
   "execution_count": 455,
   "metadata": {},
   "outputs": [
    {
     "data": {
      "text/plain": [
       "Pipeline(steps=[('columntransformer',\n",
       "                 ColumnTransformer(remainder='passthrough',\n",
       "                                   transformers=[('pipeline',\n",
       "                                                  Pipeline(steps=[('simpleimputer',\n",
       "                                                                   SimpleImputer()),\n",
       "                                                                  ('standardscaler',\n",
       "                                                                   StandardScaler())]),\n",
       "                                                  ['areaacres', 'za_mean',\n",
       "                                                   'lc_11', 'lc_21', 'lc_22',\n",
       "                                                   'lc_23', 'lc_24', 'lc_31',\n",
       "                                                   'lc_41', 'lc_42', 'lc_43',\n",
       "                                                   'lc_52', 'lc_71', 'lc_81',\n",
       "                                                   'lc_82', 'lc_90', 'lc_95',\n",
       "                                                   'of_dist', 'airtemp_narr',\n",
       "                                                   'precip3_narr',\n",
       "                                                   'humidity_narr',\n",
       "                                                   'cl_cover_narr',\n",
       "                                                   'sfc_runoff', 'sfc_air_narr',\n",
       "                                                   'u_wind_narr', 'v_wind_narr',\n",
       "                                                   'windspeed_narr',\n",
       "                                                   'wdirection_narr',\n",
       "                                                   'precip24_narr',\n",
       "                                                   'precip48_narr']),\n",
       "                                                 ('onehotencoder',\n",
       "                                                  OneHotEncoder(handle_unknown='ignore'),\n",
       "                                                  ['HUC12_', 'week'])])),\n",
       "                ('randomforestregressor',\n",
       "                 RandomForestRegressor(n_jobs=-1, random_state=0))])"
      ]
     },
     "execution_count": 455,
     "metadata": {},
     "output_type": "execute_result"
    }
   ],
   "source": [
    "pipeline2m.fit(X_train,y_train)"
   ]
  },
  {
   "cell_type": "code",
   "execution_count": 456,
   "metadata": {},
   "outputs": [
    {
     "data": {
      "text/plain": [
       "Pipeline(steps=[('columntransformer',\n",
       "                 ColumnTransformer(remainder='passthrough',\n",
       "                                   transformers=[('pipeline',\n",
       "                                                  Pipeline(steps=[('simpleimputer',\n",
       "                                                                   SimpleImputer()),\n",
       "                                                                  ('maxabsscaler',\n",
       "                                                                   MaxAbsScaler())]),\n",
       "                                                  ['areaacres', 'za_mean',\n",
       "                                                   'lc_11', 'lc_21', 'lc_22',\n",
       "                                                   'lc_23', 'lc_24', 'lc_31',\n",
       "                                                   'lc_41', 'lc_42', 'lc_43',\n",
       "                                                   'lc_52', 'lc_71', 'lc_81',\n",
       "                                                   'lc_82', 'lc_90', 'lc_95',\n",
       "                                                   'of_dist', 'airtemp_narr',\n",
       "                                                   'precip3_narr',\n",
       "                                                   'humidity_narr',\n",
       "                                                   'cl_cover_narr',\n",
       "                                                   'sfc_runoff', 'sfc_air_narr',\n",
       "                                                   'u_wind_narr', 'v_wind_narr',\n",
       "                                                   'windspeed_narr',\n",
       "                                                   'wdirection_narr',\n",
       "                                                   'precip24_narr',\n",
       "                                                   'precip48_narr']),\n",
       "                                                 ('onehotencoder',\n",
       "                                                  OneHotEncoder(handle_unknown='ignore'),\n",
       "                                                  ['HUC12_', 'week'])])),\n",
       "                ('randomforestregressor',\n",
       "                 RandomForestRegressor(n_jobs=-1, random_state=0))])"
      ]
     },
     "execution_count": 456,
     "metadata": {},
     "output_type": "execute_result"
    }
   ],
   "source": [
    "pipeline3m.fit(X_train,y_train)"
   ]
  },
  {
   "cell_type": "code",
   "execution_count": 457,
   "metadata": {},
   "outputs": [
    {
     "data": {
      "text/plain": [
       "Pipeline(steps=[('columntransformer',\n",
       "                 ColumnTransformer(remainder='passthrough',\n",
       "                                   transformers=[('pipeline',\n",
       "                                                  Pipeline(steps=[('simpleimputer',\n",
       "                                                                   SimpleImputer()),\n",
       "                                                                  ('standardscaler',\n",
       "                                                                   StandardScaler())]),\n",
       "                                                  ['areaacres', 'za_mean',\n",
       "                                                   'lc_11', 'lc_21', 'lc_22',\n",
       "                                                   'lc_23', 'lc_24', 'lc_31',\n",
       "                                                   'lc_41', 'lc_42', 'lc_43',\n",
       "                                                   'lc_52', 'lc_71', 'lc_81',\n",
       "                                                   'lc_82', 'lc_90', 'lc_95',\n",
       "                                                   'of_dist', 'airtemp_narr',\n",
       "                                                   'precip3_narr',\n",
       "                                                   'humidity_narr',\n",
       "                                                   'cl_cover_narr',\n",
       "                                                   'sfc_runoff', 'sfc_air_narr',\n",
       "                                                   'u_wind_narr', 'v_wind_narr',\n",
       "                                                   'windspeed_narr',\n",
       "                                                   'wdirection_narr',\n",
       "                                                   'precip24_narr',\n",
       "                                                   'precip48_narr']),\n",
       "                                                 ('onehotencoder',\n",
       "                                                  OneHotEncoder(handle_unknown='ignore'),\n",
       "                                                  ['HUC12_', 'week'])])),\n",
       "                ('randomforestregressor',\n",
       "                 RandomForestRegressor(n_jobs=-1, random_state=0))])"
      ]
     },
     "execution_count": 457,
     "metadata": {},
     "output_type": "execute_result"
    }
   ],
   "source": [
    "pipeline4m.fit(X_train,y_train)"
   ]
  },
  {
   "cell_type": "code",
   "execution_count": 458,
   "metadata": {},
   "outputs": [],
   "source": [
    "#pipeline prediction \n",
    "y_predm = pipeline1.predict(X_test)\n",
    "y_pred2m = pipeline2.predict(X_test)\n",
    "y_pred3m = pipeline3.predict(X_test)\n",
    "y_pred4m = pipeline4.predict(X_test)"
   ]
  },
  {
   "cell_type": "code",
   "execution_count": 459,
   "metadata": {},
   "outputs": [
    {
     "name": "stdout",
     "output_type": "stream",
     "text": [
      "0.08441054338045717\n",
      "0.09827441451990215\n",
      "1.7137068302886507\n",
      "areaacres = 0.023892288656150906\n",
      "za_mean = 0.021923103881349475\n",
      "lc_11 = 0.08972279553482528\n",
      "lc_21 = 0.0565704987546872\n",
      "lc_22 = 0.004792763119063532\n",
      "lc_23 = 0.0023742602285572972\n",
      "lc_24 = 0.006686492691835753\n",
      "lc_31 = 0.01661237082140049\n",
      "lc_41 = 0.0062580826164085925\n",
      "lc_42 = 0.005459310824676496\n",
      "lc_43 = 0.06438055550194267\n",
      "lc_52 = 0.013538027646303095\n",
      "lc_71 = 0.010666004178210956\n",
      "lc_81 = 0.024680998078756636\n",
      "lc_82 = 0.16478331070324806\n",
      "lc_90 = 0.044925645303169\n",
      "lc_95 = 0.005995614964587285\n",
      "of_dist = 0.11014212879072141\n",
      "HUC12_ = 0.01811858257159417\n",
      "week = 0.006953512110496908\n",
      "airtemp_narr = 0.014073577647068925\n",
      "precip3_narr = 0.006727587460991466\n",
      "humidity_narr = 0.0008938271768891005\n",
      "cl_cover_narr = 0.01339409177385595\n",
      "sfc_runoff = 0.006879277867265859\n",
      "sfc_air_narr = 0.005527594976872784\n",
      "u_wind_narr = 0.013318723709377618\n",
      "v_wind_narr = 0.0046844206071895555\n",
      "windspeed_narr = 0.020167472678115417\n",
      "wdirection_narr = 0.02299147729566757\n",
      "precip24_narr = 3.642912974552431e-05\n",
      "precip48_narr = 1.4171630397066946e-07\n"
     ]
    }
   ],
   "source": [
    "#Robust Scaler \n",
    "print(r2_score(y_test, y_predm))\n",
    "print(explained_variance_score(y_test, y_predm))\n",
    "print(np.sqrt(mean_squared_error(y_test, y_predm)))\n",
    "\n",
    "#Feature importance Robust\n",
    "for col, score in zip(X_train.columns, pipeline1m['randomforestregressor'].feature_importances_):\n",
    "       print(col, \"=\", score)"
   ]
  },
  {
   "cell_type": "code",
   "execution_count": 460,
   "metadata": {},
   "outputs": [
    {
     "name": "stdout",
     "output_type": "stream",
     "text": [
      "-0.023361726366051494\n",
      "0.04934108308165308\n",
      "1.8117602265898516\n",
      "areaacres = 0.023892288656150906\n",
      "za_mean = 0.021923103881349475\n",
      "lc_11 = 0.08972279553482528\n",
      "lc_21 = 0.0565704987546872\n",
      "lc_22 = 0.004792763119063532\n",
      "lc_23 = 0.0023742602285572972\n",
      "lc_24 = 0.006686492691835753\n",
      "lc_31 = 0.01661237082140049\n",
      "lc_41 = 0.0062580826164085925\n",
      "lc_42 = 0.005459310824676496\n",
      "lc_43 = 0.06438055550194267\n",
      "lc_52 = 0.013538027646303095\n",
      "lc_71 = 0.010666004178210956\n",
      "lc_81 = 0.024680998078756636\n",
      "lc_82 = 0.16478331070324806\n",
      "lc_90 = 0.044925645303169\n",
      "lc_95 = 0.005995614964587285\n",
      "of_dist = 0.11014212879072141\n",
      "HUC12_ = 0.01811858257159417\n",
      "week = 0.006953512110496908\n",
      "airtemp_narr = 0.014073577647068925\n",
      "precip3_narr = 0.006727587460991466\n",
      "humidity_narr = 0.0008938271768891005\n",
      "cl_cover_narr = 0.01339409177385595\n",
      "sfc_runoff = 0.006879277867265859\n",
      "sfc_air_narr = 0.005527594976872784\n",
      "u_wind_narr = 0.013318723709377618\n",
      "v_wind_narr = 0.0046844206071895555\n",
      "windspeed_narr = 0.020167472678115417\n",
      "wdirection_narr = 0.02299147729566757\n",
      "precip24_narr = 3.642912974552431e-05\n",
      "precip48_narr = 1.4171630397066946e-07\n"
     ]
    }
   ],
   "source": [
    "#Min Max \n",
    "print(r2_score(y_test, y_pred2m))\n",
    "print(explained_variance_score(y_test, y_pred2m))\n",
    "print(np.sqrt(mean_squared_error(y_test, y_pred2m)))\n",
    "\n",
    "#Feature importance\n",
    "for col, score in zip(X_train.columns, pipeline2m['randomforestregressor'].feature_importances_):\n",
    "       print(col, \"=\", score)"
   ]
  },
  {
   "cell_type": "code",
   "execution_count": 461,
   "metadata": {},
   "outputs": [
    {
     "name": "stdout",
     "output_type": "stream",
     "text": [
      "-0.024034084072653616\n",
      "0.04686696715507721\n",
      "1.8123553001113626\n",
      "areaacres = 0.023892288656150906\n",
      "za_mean = 0.021923103881349475\n",
      "lc_11 = 0.08972279553482528\n",
      "lc_21 = 0.0565704987546872\n",
      "lc_22 = 0.004792763119063532\n",
      "lc_23 = 0.0023742602285572972\n",
      "lc_24 = 0.006686492691835753\n",
      "lc_31 = 0.01661237082140049\n",
      "lc_41 = 0.0062580826164085925\n",
      "lc_42 = 0.005459310824676496\n",
      "lc_43 = 0.06438055550194267\n",
      "lc_52 = 0.013538027646303095\n",
      "lc_71 = 0.010666004178210956\n",
      "lc_81 = 0.024680998078756636\n",
      "lc_82 = 0.16478331070324806\n",
      "lc_90 = 0.044925645303169\n",
      "lc_95 = 0.005995614964587285\n",
      "of_dist = 0.11014212879072141\n",
      "HUC12_ = 0.01811858257159417\n",
      "week = 0.006953512110496908\n",
      "airtemp_narr = 0.014073577647068925\n",
      "precip3_narr = 0.006727587460991466\n",
      "humidity_narr = 0.0008938271768891005\n",
      "cl_cover_narr = 0.01339409177385595\n",
      "sfc_runoff = 0.006879277867265859\n",
      "sfc_air_narr = 0.005527594976872784\n",
      "u_wind_narr = 0.013318723709377618\n",
      "v_wind_narr = 0.0046844206071895555\n",
      "windspeed_narr = 0.020167472678115417\n",
      "wdirection_narr = 0.02299147729566757\n",
      "precip24_narr = 3.642912974552431e-05\n",
      "precip48_narr = 1.4171630397066946e-07\n"
     ]
    }
   ],
   "source": [
    "#Maxabs\n",
    "print(r2_score(y_test, y_pred3m))\n",
    "print(explained_variance_score(y_test, y_pred3m))\n",
    "print(np.sqrt(mean_squared_error(y_test, y_pred3m)))\n",
    "\n",
    "#Feature importance \n",
    "for col, score in zip(X_train.columns, pipeline3m['randomforestregressor'].feature_importances_):\n",
    "       print(col, \"=\", score)"
   ]
  },
  {
   "cell_type": "code",
   "execution_count": 462,
   "metadata": {},
   "outputs": [
    {
     "name": "stdout",
     "output_type": "stream",
     "text": [
      "0.8333625119953084\n",
      "0.8333627644868798\n",
      "0.7310927737794299\n",
      "areaacres = 0.023892288656150906\n",
      "za_mean = 0.021923103881349475\n",
      "lc_11 = 0.08972279553482528\n",
      "lc_21 = 0.0565704987546872\n",
      "lc_22 = 0.004792763119063532\n",
      "lc_23 = 0.0023742602285572972\n",
      "lc_24 = 0.006686492691835753\n",
      "lc_31 = 0.01661237082140049\n",
      "lc_41 = 0.0062580826164085925\n",
      "lc_42 = 0.005459310824676496\n",
      "lc_43 = 0.06438055550194267\n",
      "lc_52 = 0.013538027646303095\n",
      "lc_71 = 0.010666004178210956\n",
      "lc_81 = 0.024680998078756636\n",
      "lc_82 = 0.16478331070324806\n",
      "lc_90 = 0.044925645303169\n",
      "lc_95 = 0.005995614964587285\n",
      "of_dist = 0.11014212879072141\n",
      "HUC12_ = 0.01811858257159417\n",
      "week = 0.006953512110496908\n",
      "airtemp_narr = 0.014073577647068925\n",
      "precip3_narr = 0.006727587460991466\n",
      "humidity_narr = 0.0008938271768891005\n",
      "cl_cover_narr = 0.01339409177385595\n",
      "sfc_runoff = 0.006879277867265859\n",
      "sfc_air_narr = 0.005527594976872784\n",
      "u_wind_narr = 0.013318723709377618\n",
      "v_wind_narr = 0.0046844206071895555\n",
      "windspeed_narr = 0.020167472678115417\n",
      "wdirection_narr = 0.02299147729566757\n",
      "precip24_narr = 3.642912974552431e-05\n",
      "precip48_narr = 1.4171630397066946e-07\n"
     ]
    }
   ],
   "source": [
    "#StandardScaler \n",
    "print(r2_score(y_test, y_pred4m))\n",
    "print(explained_variance_score(y_test, y_pred4m))\n",
    "print(np.sqrt(mean_squared_error(y_test, y_pred4m)))\n",
    "\n",
    "#Feature importance Robust\n",
    "for col, score in zip(X_train.columns, pipeline4m['randomforestregressor'].feature_importances_):\n",
    "       print(col, \"=\", score)"
   ]
  },
  {
   "cell_type": "code",
   "execution_count": 463,
   "metadata": {},
   "outputs": [],
   "source": [
    "#Simple Iterative Imputer \n",
    "from sklearn.experimental import enable_iterative_imputer\n",
    "from sklearn.impute import IterativeImputer"
   ]
  },
  {
   "cell_type": "code",
   "execution_count": 464,
   "metadata": {},
   "outputs": [],
   "source": [
    "iterative = IterativeImputer(random_state=0)\n",
    "\n",
    "#Imputers using the mean \n",
    "iter_impute_scale = make_pipeline(iterative, scaler_rob)\n",
    "iter_impute_scale2 = make_pipeline(iterative, scaler_std)\n",
    "iter_impute_scale3 = make_pipeline(iterative, scaler_max)\n",
    "iter_impute_scale4 = make_pipeline(iterative, scaler_min)"
   ]
  },
  {
   "cell_type": "code",
   "execution_count": 465,
   "metadata": {},
   "outputs": [],
   "source": [
    "#robust scaler \n",
    "ct_rob_i = make_column_transformer(\n",
    "    (iter_impute_scale, ['areaacres', 'za_mean', 'lc_11', 'lc_21', 'lc_22', 'lc_23', 'lc_24',\n",
    "       'lc_31', 'lc_41', 'lc_42', 'lc_43', 'lc_52', 'lc_71', 'lc_81', 'lc_82',\n",
    "       'lc_90', 'lc_95', 'of_dist', 'airtemp_narr',\n",
    "       'precip3_narr', 'humidity_narr', 'cl_cover_narr', 'sfc_runoff',\n",
    "       'sfc_air_narr', 'u_wind_narr', 'v_wind_narr', 'windspeed_narr',\n",
    "       'wdirection_narr', 'precip24_narr', 'precip48_narr']),\n",
    "    (ohe, ['HUC12_', 'week']),\n",
    "    remainder='passthrough')"
   ]
  },
  {
   "cell_type": "code",
   "execution_count": 466,
   "metadata": {},
   "outputs": [],
   "source": [
    "#minmax scaler \n",
    "ct_min_i = make_column_transformer(\n",
    "    (iter_impute_scale4, ['areaacres', 'za_mean', 'lc_11', 'lc_21', 'lc_22', 'lc_23', 'lc_24',\n",
    "       'lc_31', 'lc_41', 'lc_42', 'lc_43', 'lc_52', 'lc_71', 'lc_81', 'lc_82',\n",
    "       'lc_90', 'lc_95', 'of_dist', 'airtemp_narr',\n",
    "       'precip3_narr', 'humidity_narr', 'cl_cover_narr', 'sfc_runoff',\n",
    "       'sfc_air_narr', 'u_wind_narr', 'v_wind_narr', 'windspeed_narr',\n",
    "       'wdirection_narr', 'precip24_narr', 'precip48_narr']),\n",
    "    (ohe, ['HUC12_', 'week']),\n",
    "    remainder='passthrough')"
   ]
  },
  {
   "cell_type": "code",
   "execution_count": 467,
   "metadata": {},
   "outputs": [],
   "source": [
    "#maxabs scaler \n",
    "ct_max_i = make_column_transformer(\n",
    "    (iter_impute_scale3, ['areaacres', 'za_mean', 'lc_11', 'lc_21', 'lc_22', 'lc_23', 'lc_24',\n",
    "       'lc_31', 'lc_41', 'lc_42', 'lc_43', 'lc_52', 'lc_71', 'lc_81', 'lc_82',\n",
    "       'lc_90', 'lc_95', 'of_dist', 'airtemp_narr',\n",
    "       'precip3_narr', 'humidity_narr', 'cl_cover_narr', 'sfc_runoff',\n",
    "       'sfc_air_narr', 'u_wind_narr', 'v_wind_narr', 'windspeed_narr',\n",
    "       'wdirection_narr', 'precip24_narr', 'precip48_narr']),\n",
    "    (ohe, ['HUC12_', 'week']),\n",
    "    remainder='passthrough')"
   ]
  },
  {
   "cell_type": "code",
   "execution_count": 468,
   "metadata": {},
   "outputs": [],
   "source": [
    "#standard scaler \n",
    "ct_std_i = make_column_transformer(\n",
    "    (iter_impute_scale2, ['areaacres', 'za_mean', 'lc_11', 'lc_21', 'lc_22', 'lc_23', 'lc_24',\n",
    "       'lc_31', 'lc_41', 'lc_42', 'lc_43', 'lc_52', 'lc_71', 'lc_81', 'lc_82',\n",
    "       'lc_90', 'lc_95', 'of_dist', 'airtemp_narr',\n",
    "       'precip3_narr', 'humidity_narr', 'cl_cover_narr', 'sfc_runoff',\n",
    "       'sfc_air_narr', 'u_wind_narr', 'v_wind_narr', 'windspeed_narr',\n",
    "       'wdirection_narr', 'precip24_narr', 'precip48_narr']),\n",
    "    (ohe, ['HUC12_', 'week']),\n",
    "    remainder='passthrough')"
   ]
  },
  {
   "cell_type": "code",
   "execution_count": 469,
   "metadata": {},
   "outputs": [],
   "source": [
    "#Pipeline Creation \n",
    "rf = RandomForestRegressor(random_state = 0, n_jobs = -1)\n",
    "\n",
    "pipeline1i = make_pipeline(ct_rob_i, rf)\n",
    "pipeline2i = make_pipeline(ct_min_i, rf)\n",
    "pipeline3i = make_pipeline(ct_max_i, rf)\n",
    "pipeline4i = make_pipeline(ct_std_i, rf)"
   ]
  },
  {
   "cell_type": "code",
   "execution_count": 470,
   "metadata": {},
   "outputs": [
    {
     "data": {
      "text/plain": [
       "Pipeline(steps=[('columntransformer',\n",
       "                 ColumnTransformer(remainder='passthrough',\n",
       "                                   transformers=[('pipeline',\n",
       "                                                  Pipeline(steps=[('iterativeimputer',\n",
       "                                                                   IterativeImputer(random_state=0)),\n",
       "                                                                  ('robustscaler',\n",
       "                                                                   RobustScaler())]),\n",
       "                                                  ['areaacres', 'za_mean',\n",
       "                                                   'lc_11', 'lc_21', 'lc_22',\n",
       "                                                   'lc_23', 'lc_24', 'lc_31',\n",
       "                                                   'lc_41', 'lc_42', 'lc_43',\n",
       "                                                   'lc_52', 'lc_71', 'lc_81',\n",
       "                                                   'lc_82', 'lc_90', 'lc_95',\n",
       "                                                   'of_dist', 'airtemp_narr',\n",
       "                                                   'precip3_narr',\n",
       "                                                   'humidity_narr',\n",
       "                                                   'cl_cover_narr',\n",
       "                                                   'sfc_runoff', 'sfc_air_narr',\n",
       "                                                   'u_wind_narr', 'v_wind_narr',\n",
       "                                                   'windspeed_narr',\n",
       "                                                   'wdirection_narr',\n",
       "                                                   'precip24_narr',\n",
       "                                                   'precip48_narr']),\n",
       "                                                 ('onehotencoder',\n",
       "                                                  OneHotEncoder(handle_unknown='ignore'),\n",
       "                                                  ['HUC12_', 'week'])])),\n",
       "                ('randomforestregressor',\n",
       "                 RandomForestRegressor(n_jobs=-1, random_state=0))])"
      ]
     },
     "execution_count": 470,
     "metadata": {},
     "output_type": "execute_result"
    }
   ],
   "source": [
    "pipeline1i.fit(X_train,y_train)"
   ]
  },
  {
   "cell_type": "code",
   "execution_count": 471,
   "metadata": {},
   "outputs": [
    {
     "data": {
      "text/plain": [
       "Pipeline(steps=[('columntransformer',\n",
       "                 ColumnTransformer(remainder='passthrough',\n",
       "                                   transformers=[('pipeline',\n",
       "                                                  Pipeline(steps=[('iterativeimputer',\n",
       "                                                                   IterativeImputer(random_state=0)),\n",
       "                                                                  ('minmaxscaler',\n",
       "                                                                   MinMaxScaler())]),\n",
       "                                                  ['areaacres', 'za_mean',\n",
       "                                                   'lc_11', 'lc_21', 'lc_22',\n",
       "                                                   'lc_23', 'lc_24', 'lc_31',\n",
       "                                                   'lc_41', 'lc_42', 'lc_43',\n",
       "                                                   'lc_52', 'lc_71', 'lc_81',\n",
       "                                                   'lc_82', 'lc_90', 'lc_95',\n",
       "                                                   'of_dist', 'airtemp_narr',\n",
       "                                                   'precip3_narr',\n",
       "                                                   'humidity_narr',\n",
       "                                                   'cl_cover_narr',\n",
       "                                                   'sfc_runoff', 'sfc_air_narr',\n",
       "                                                   'u_wind_narr', 'v_wind_narr',\n",
       "                                                   'windspeed_narr',\n",
       "                                                   'wdirection_narr',\n",
       "                                                   'precip24_narr',\n",
       "                                                   'precip48_narr']),\n",
       "                                                 ('onehotencoder',\n",
       "                                                  OneHotEncoder(handle_unknown='ignore'),\n",
       "                                                  ['HUC12_', 'week'])])),\n",
       "                ('randomforestregressor',\n",
       "                 RandomForestRegressor(n_jobs=-1, random_state=0))])"
      ]
     },
     "execution_count": 471,
     "metadata": {},
     "output_type": "execute_result"
    }
   ],
   "source": [
    "pipeline2i.fit(X_train,y_train)"
   ]
  },
  {
   "cell_type": "code",
   "execution_count": 472,
   "metadata": {},
   "outputs": [
    {
     "data": {
      "text/plain": [
       "Pipeline(steps=[('columntransformer',\n",
       "                 ColumnTransformer(remainder='passthrough',\n",
       "                                   transformers=[('pipeline',\n",
       "                                                  Pipeline(steps=[('iterativeimputer',\n",
       "                                                                   IterativeImputer(random_state=0)),\n",
       "                                                                  ('maxabsscaler',\n",
       "                                                                   MaxAbsScaler())]),\n",
       "                                                  ['areaacres', 'za_mean',\n",
       "                                                   'lc_11', 'lc_21', 'lc_22',\n",
       "                                                   'lc_23', 'lc_24', 'lc_31',\n",
       "                                                   'lc_41', 'lc_42', 'lc_43',\n",
       "                                                   'lc_52', 'lc_71', 'lc_81',\n",
       "                                                   'lc_82', 'lc_90', 'lc_95',\n",
       "                                                   'of_dist', 'airtemp_narr',\n",
       "                                                   'precip3_narr',\n",
       "                                                   'humidity_narr',\n",
       "                                                   'cl_cover_narr',\n",
       "                                                   'sfc_runoff', 'sfc_air_narr',\n",
       "                                                   'u_wind_narr', 'v_wind_narr',\n",
       "                                                   'windspeed_narr',\n",
       "                                                   'wdirection_narr',\n",
       "                                                   'precip24_narr',\n",
       "                                                   'precip48_narr']),\n",
       "                                                 ('onehotencoder',\n",
       "                                                  OneHotEncoder(handle_unknown='ignore'),\n",
       "                                                  ['HUC12_', 'week'])])),\n",
       "                ('randomforestregressor',\n",
       "                 RandomForestRegressor(n_jobs=-1, random_state=0))])"
      ]
     },
     "execution_count": 472,
     "metadata": {},
     "output_type": "execute_result"
    }
   ],
   "source": [
    "pipeline3i.fit(X_train,y_train)"
   ]
  },
  {
   "cell_type": "code",
   "execution_count": 473,
   "metadata": {},
   "outputs": [
    {
     "data": {
      "text/plain": [
       "Pipeline(steps=[('columntransformer',\n",
       "                 ColumnTransformer(remainder='passthrough',\n",
       "                                   transformers=[('pipeline',\n",
       "                                                  Pipeline(steps=[('iterativeimputer',\n",
       "                                                                   IterativeImputer(random_state=0)),\n",
       "                                                                  ('standardscaler',\n",
       "                                                                   StandardScaler())]),\n",
       "                                                  ['areaacres', 'za_mean',\n",
       "                                                   'lc_11', 'lc_21', 'lc_22',\n",
       "                                                   'lc_23', 'lc_24', 'lc_31',\n",
       "                                                   'lc_41', 'lc_42', 'lc_43',\n",
       "                                                   'lc_52', 'lc_71', 'lc_81',\n",
       "                                                   'lc_82', 'lc_90', 'l...\n",
       "                                                   'of_dist', 'airtemp_narr',\n",
       "                                                   'precip3_narr',\n",
       "                                                   'humidity_narr',\n",
       "                                                   'cl_cover_narr',\n",
       "                                                   'sfc_runoff', 'sfc_air_narr',\n",
       "                                                   'u_wind_narr', 'v_wind_narr',\n",
       "                                                   'windspeed_narr',\n",
       "                                                   'wdirection_narr',\n",
       "                                                   'precip24_narr',\n",
       "                                                   'precip48_narr']),\n",
       "                                                 ('onehotencoder',\n",
       "                                                  OneHotEncoder(handle_unknown='ignore'),\n",
       "                                                  ['HUC12_', 'week'])])),\n",
       "                ('randomforestregressor',\n",
       "                 RandomForestRegressor(n_jobs=-1, random_state=0))])"
      ]
     },
     "execution_count": 473,
     "metadata": {},
     "output_type": "execute_result"
    }
   ],
   "source": [
    "pipeline4i.fit(X_train,y_train)"
   ]
  },
  {
   "cell_type": "code",
   "execution_count": 474,
   "metadata": {},
   "outputs": [],
   "source": [
    "#pipeline prediction \n",
    "y_predi = pipeline1i.predict(X_test)\n",
    "y_pred2i = pipeline2i.predict(X_test)\n",
    "y_pred3i = pipeline3i.predict(X_test)\n",
    "y_pred4i = pipeline4i.predict(X_test)"
   ]
  },
  {
   "cell_type": "code",
   "execution_count": 475,
   "metadata": {},
   "outputs": [
    {
     "name": "stdout",
     "output_type": "stream",
     "text": [
      "0.06288715466750672\n",
      "0.06420971577590218\n",
      "1.7337324651862622\n",
      "areaacres = 0.01895253778844007\n",
      "za_mean = 0.0222982896898551\n",
      "lc_11 = 0.0859136392012517\n",
      "lc_21 = 0.05251735647452794\n",
      "lc_22 = 0.005271671528493874\n",
      "lc_23 = 0.0034474373723634923\n",
      "lc_24 = 0.008168347536079527\n",
      "lc_31 = 0.017415210463346556\n",
      "lc_41 = 0.006256406987885197\n",
      "lc_42 = 0.005765563390696897\n",
      "lc_43 = 0.06346452806662137\n",
      "lc_52 = 0.015514120998373617\n",
      "lc_71 = 0.011255718989026222\n",
      "lc_81 = 0.023460330058075587\n",
      "lc_82 = 0.16710284397204916\n",
      "lc_90 = 0.051439889220093245\n",
      "lc_95 = 0.006285352280587285\n",
      "of_dist = 0.11365007800276147\n",
      "HUC12_ = 0.017513769447905347\n",
      "week = 0.006422825377523364\n",
      "airtemp_narr = 0.01424237984207286\n",
      "precip3_narr = 0.006995893127766738\n",
      "humidity_narr = 0.0008949538945054343\n",
      "cl_cover_narr = 0.012519029829981909\n",
      "sfc_runoff = 0.007867940475310479\n",
      "sfc_air_narr = 0.0048600547004362775\n",
      "u_wind_narr = 0.013256981350681185\n",
      "v_wind_narr = 0.004900901606107336\n",
      "windspeed_narr = 0.021184150720611177\n",
      "wdirection_narr = 0.02340482718943226\n",
      "precip24_narr = 3.9454211687948195e-05\n",
      "precip48_narr = 1.0757322584646771e-07\n"
     ]
    }
   ],
   "source": [
    "#Robust Scaler \n",
    "print(r2_score(y_test, y_predi))\n",
    "print(explained_variance_score(y_test, y_predi))\n",
    "print(np.sqrt(mean_squared_error(y_test, y_predi)))\n",
    "\n",
    "#Feature importance Robust\n",
    "for col, score in zip(X_train.columns, pipeline1i['randomforestregressor'].feature_importances_):\n",
    "       print(col, \"=\", score)"
   ]
  },
  {
   "cell_type": "code",
   "execution_count": 476,
   "metadata": {},
   "outputs": [
    {
     "name": "stdout",
     "output_type": "stream",
     "text": [
      "0.06288715466750672\n",
      "0.06420971577590218\n",
      "1.7337324651862622\n",
      "areaacres = 0.01895253778844007\n",
      "za_mean = 0.0222982896898551\n",
      "lc_11 = 0.0859136392012517\n",
      "lc_21 = 0.05251735647452794\n",
      "lc_22 = 0.005271671528493874\n",
      "lc_23 = 0.0034474373723634923\n",
      "lc_24 = 0.008168347536079527\n",
      "lc_31 = 0.017415210463346556\n",
      "lc_41 = 0.006256406987885197\n",
      "lc_42 = 0.005765563390696897\n",
      "lc_43 = 0.06346452806662137\n",
      "lc_52 = 0.015514120998373617\n",
      "lc_71 = 0.011255718989026222\n",
      "lc_81 = 0.023460330058075587\n",
      "lc_82 = 0.16710284397204916\n",
      "lc_90 = 0.051439889220093245\n",
      "lc_95 = 0.006285352280587285\n",
      "of_dist = 0.11365007800276147\n",
      "HUC12_ = 0.017513769447905347\n",
      "week = 0.006422825377523364\n",
      "airtemp_narr = 0.01424237984207286\n",
      "precip3_narr = 0.006995893127766738\n",
      "humidity_narr = 0.0008949538945054343\n",
      "cl_cover_narr = 0.012519029829981909\n",
      "sfc_runoff = 0.007867940475310479\n",
      "sfc_air_narr = 0.0048600547004362775\n",
      "u_wind_narr = 0.013256981350681185\n",
      "v_wind_narr = 0.004900901606107336\n",
      "windspeed_narr = 0.021184150720611177\n",
      "wdirection_narr = 0.02340482718943226\n",
      "precip24_narr = 3.9454211687948195e-05\n",
      "precip48_narr = 1.0757322584646771e-07\n"
     ]
    }
   ],
   "source": [
    "#MinMax\n",
    "print(r2_score(y_test, y_predi))\n",
    "print(explained_variance_score(y_test, y_predi))\n",
    "print(np.sqrt(mean_squared_error(y_test, y_predi)))\n",
    "\n",
    "#Feature importance \n",
    "for col, score in zip(X_train.columns, pipeline2i['randomforestregressor'].feature_importances_):\n",
    "       print(col, \"=\", score)"
   ]
  },
  {
   "cell_type": "code",
   "execution_count": 477,
   "metadata": {},
   "outputs": [
    {
     "name": "stdout",
     "output_type": "stream",
     "text": [
      "0.06288715466750672\n",
      "0.06420971577590218\n",
      "1.7337324651862622\n",
      "areaacres = 0.01895253778844007\n",
      "za_mean = 0.0222982896898551\n",
      "lc_11 = 0.0859136392012517\n",
      "lc_21 = 0.05251735647452794\n",
      "lc_22 = 0.005271671528493874\n",
      "lc_23 = 0.0034474373723634923\n",
      "lc_24 = 0.008168347536079527\n",
      "lc_31 = 0.017415210463346556\n",
      "lc_41 = 0.006256406987885197\n",
      "lc_42 = 0.005765563390696897\n",
      "lc_43 = 0.06346452806662137\n",
      "lc_52 = 0.015514120998373617\n",
      "lc_71 = 0.011255718989026222\n",
      "lc_81 = 0.023460330058075587\n",
      "lc_82 = 0.16710284397204916\n",
      "lc_90 = 0.051439889220093245\n",
      "lc_95 = 0.006285352280587285\n",
      "of_dist = 0.11365007800276147\n",
      "HUC12_ = 0.017513769447905347\n",
      "week = 0.006422825377523364\n",
      "airtemp_narr = 0.01424237984207286\n",
      "precip3_narr = 0.006995893127766738\n",
      "humidity_narr = 0.0008949538945054343\n",
      "cl_cover_narr = 0.012519029829981909\n",
      "sfc_runoff = 0.007867940475310479\n",
      "sfc_air_narr = 0.0048600547004362775\n",
      "u_wind_narr = 0.013256981350681185\n",
      "v_wind_narr = 0.004900901606107336\n",
      "windspeed_narr = 0.021184150720611177\n",
      "wdirection_narr = 0.02340482718943226\n",
      "precip24_narr = 3.9454211687948195e-05\n",
      "precip48_narr = 1.0757322584646771e-07\n"
     ]
    }
   ],
   "source": [
    "#MaxAbs\n",
    "print(r2_score(y_test, y_predi))\n",
    "print(explained_variance_score(y_test, y_predi))\n",
    "print(np.sqrt(mean_squared_error(y_test, y_predi)))\n",
    "\n",
    "#Feature importance \n",
    "for col, score in zip(X_train.columns, pipeline3i['randomforestregressor'].feature_importances_):\n",
    "       print(col, \"=\", score)"
   ]
  },
  {
   "cell_type": "code",
   "execution_count": 478,
   "metadata": {},
   "outputs": [
    {
     "name": "stdout",
     "output_type": "stream",
     "text": [
      "0.06288715466750672\n",
      "0.06420971577590218\n",
      "1.7337324651862622\n",
      "areaacres = 0.01895253778844007\n",
      "za_mean = 0.0222982896898551\n",
      "lc_11 = 0.0859136392012517\n",
      "lc_21 = 0.05251735647452794\n",
      "lc_22 = 0.005271671528493874\n",
      "lc_23 = 0.0034474373723634923\n",
      "lc_24 = 0.008168347536079527\n",
      "lc_31 = 0.017415210463346556\n",
      "lc_41 = 0.006256406987885197\n",
      "lc_42 = 0.005765563390696897\n",
      "lc_43 = 0.06346452806662137\n",
      "lc_52 = 0.015514120998373617\n",
      "lc_71 = 0.011255718989026222\n",
      "lc_81 = 0.023460330058075587\n",
      "lc_82 = 0.16710284397204916\n",
      "lc_90 = 0.051439889220093245\n",
      "lc_95 = 0.006285352280587285\n",
      "of_dist = 0.11365007800276147\n",
      "HUC12_ = 0.017513769447905347\n",
      "week = 0.006422825377523364\n",
      "airtemp_narr = 0.01424237984207286\n",
      "precip3_narr = 0.006995893127766738\n",
      "humidity_narr = 0.0008949538945054343\n",
      "cl_cover_narr = 0.012519029829981909\n",
      "sfc_runoff = 0.007867940475310479\n",
      "sfc_air_narr = 0.0048600547004362775\n",
      "u_wind_narr = 0.013256981350681185\n",
      "v_wind_narr = 0.004900901606107336\n",
      "windspeed_narr = 0.021184150720611177\n",
      "wdirection_narr = 0.02340482718943226\n",
      "precip24_narr = 3.9454211687948195e-05\n",
      "precip48_narr = 1.0757322584646771e-07\n"
     ]
    }
   ],
   "source": [
    "#Standard\n",
    "print(r2_score(y_test, y_predi))\n",
    "print(explained_variance_score(y_test, y_predi))\n",
    "print(np.sqrt(mean_squared_error(y_test, y_predi)))\n",
    "\n",
    "#Feature importance \n",
    "for col, score in zip(X_train.columns, pipeline4i['randomforestregressor'].feature_importances_):\n",
    "       print(col, \"=\", score)"
   ]
  },
  {
   "cell_type": "code",
   "execution_count": 479,
   "metadata": {},
   "outputs": [],
   "source": [
    "#StandardScaler seems to do the best now to eliminate some features \n",
    "#knnimputer and simpleimputer with mean with standardscaler both had around the same score "
   ]
  },
  {
   "cell_type": "code",
   "execution_count": 498,
   "metadata": {},
   "outputs": [],
   "source": [
    "#Numerics\n",
    "numerics = ['int16', 'int32', 'int64', 'float16', 'float32', 'float64']\n",
    "numerical_vars = list(X_train.select_dtypes(include = numerics).columns)\n",
    "X_train_n = X_train[numerical_vars]"
   ]
  },
  {
   "cell_type": "code",
   "execution_count": 499,
   "metadata": {},
   "outputs": [],
   "source": [
    "#Variability Threshold "
   ]
  },
  {
   "cell_type": "code",
   "execution_count": 500,
   "metadata": {},
   "outputs": [
    {
     "data": {
      "text/plain": [
       "VarianceThreshold(threshold=0.001)"
      ]
     },
     "execution_count": 500,
     "metadata": {},
     "output_type": "execute_result"
    }
   ],
   "source": [
    "#Looking for Quasi-Constant observations that dont' show much variability. \n",
    "sel = VarianceThreshold(threshold = 0.001)\n",
    "sel.fit(X_train_n)"
   ]
  },
  {
   "cell_type": "code",
   "execution_count": 501,
   "metadata": {},
   "outputs": [
    {
     "data": {
      "text/plain": [
       "26"
      ]
     },
     "execution_count": 501,
     "metadata": {},
     "output_type": "execute_result"
    }
   ],
   "source": [
    "#Features not quasiconstant \n",
    "sum(sel.get_support())"
   ]
  },
  {
   "cell_type": "code",
   "execution_count": 502,
   "metadata": {},
   "outputs": [
    {
     "data": {
      "text/plain": [
       "['lc_24', 'lc_31', 'lc_52', 'lc_71']"
      ]
     },
     "execution_count": 502,
     "metadata": {},
     "output_type": "execute_result"
    }
   ],
   "source": [
    "#These Features are quasi-constant and should be dropped \n",
    "[x for x in X_train_n.columns if x not in X_train_n.columns[sel.get_support()]]"
   ]
  },
  {
   "cell_type": "code",
   "execution_count": 503,
   "metadata": {},
   "outputs": [],
   "source": [
    "#Drop lc_24, lc_31, lc_52, lc_71"
   ]
  },
  {
   "cell_type": "code",
   "execution_count": 504,
   "metadata": {},
   "outputs": [
    {
     "data": {
      "text/html": [
       "<div>\n",
       "<style scoped>\n",
       "    .dataframe tbody tr th:only-of-type {\n",
       "        vertical-align: middle;\n",
       "    }\n",
       "\n",
       "    .dataframe tbody tr th {\n",
       "        vertical-align: top;\n",
       "    }\n",
       "\n",
       "    .dataframe thead th {\n",
       "        text-align: right;\n",
       "    }\n",
       "</style>\n",
       "<table border=\"1\" class=\"dataframe\">\n",
       "  <thead>\n",
       "    <tr style=\"text-align: right;\">\n",
       "      <th></th>\n",
       "      <th>feature1</th>\n",
       "      <th>feature2</th>\n",
       "      <th>corr</th>\n",
       "    </tr>\n",
       "  </thead>\n",
       "  <tbody>\n",
       "    <tr>\n",
       "      <th>0</th>\n",
       "      <td>wdirection_narr</td>\n",
       "      <td>u_wind_narr</td>\n",
       "      <td>1.0000</td>\n",
       "    </tr>\n",
       "    <tr>\n",
       "      <th>1</th>\n",
       "      <td>u_wind_narr</td>\n",
       "      <td>wdirection_narr</td>\n",
       "      <td>1.0000</td>\n",
       "    </tr>\n",
       "    <tr>\n",
       "      <th>2</th>\n",
       "      <td>sfc_air_narr</td>\n",
       "      <td>airtemp_narr</td>\n",
       "      <td>0.9655</td>\n",
       "    </tr>\n",
       "    <tr>\n",
       "      <th>3</th>\n",
       "      <td>airtemp_narr</td>\n",
       "      <td>sfc_air_narr</td>\n",
       "      <td>0.9655</td>\n",
       "    </tr>\n",
       "    <tr>\n",
       "      <th>4</th>\n",
       "      <td>lc_23</td>\n",
       "      <td>lc_22</td>\n",
       "      <td>0.9305</td>\n",
       "    </tr>\n",
       "  </tbody>\n",
       "</table>\n",
       "</div>"
      ],
      "text/plain": [
       "          feature1         feature2   corr\n",
       "0  wdirection_narr  u_wind_narr     1.0000\n",
       "1  u_wind_narr      wdirection_narr 1.0000\n",
       "2  sfc_air_narr     airtemp_narr    0.9655\n",
       "3  airtemp_narr     sfc_air_narr    0.9655\n",
       "4  lc_23            lc_22           0.9305"
      ]
     },
     "execution_count": 504,
     "metadata": {},
     "output_type": "execute_result"
    }
   ],
   "source": [
    "corrmat = X_train_n.corr()\n",
    "corrmat = corrmat.abs().unstack()\n",
    "corrmat = corrmat.sort_values(ascending = False)\n",
    "corrmat = corrmat[corrmat >= 0.85]\n",
    "corrmat = corrmat[corrmat < 1]\n",
    "corrmat = pd.DataFrame(corrmat).reset_index()\n",
    "corrmat.columns = ['feature1', 'feature2', 'corr']\n",
    "corrmat.head()"
   ]
  },
  {
   "cell_type": "code",
   "execution_count": 505,
   "metadata": {},
   "outputs": [
    {
     "name": "stdout",
     "output_type": "stream",
     "text": [
      "found 8 correlated groups\n",
      "out of 32 total features\n"
     ]
    }
   ],
   "source": [
    "grouped_features_ls = []\n",
    "correlated_groups = []\n",
    "\n",
    "for feature in corrmat.feature1.unique():\n",
    "    if feature not in grouped_features_ls:\n",
    "        \n",
    "        #find all features correlated to a single feature\n",
    "        correlated_block = corrmat[corrmat.feature1 == feature]\n",
    "        grouped_feature_ls = grouped_feature_ls + list(correlated_block.feature2.unique()) + [feature]\n",
    "        \n",
    "        #append the block of features to the list\n",
    "        correlated_groups.append(correlated_block)\n",
    "        \n",
    "print('found {} correlated groups'.format(len(correlated_groups)))\n",
    "print('out of {} total features'.format(X_train.shape[1]))"
   ]
  },
  {
   "cell_type": "code",
   "execution_count": 506,
   "metadata": {},
   "outputs": [
    {
     "name": "stdout",
     "output_type": "stream",
     "text": [
      "          feature1     feature2   corr\n",
      "0  wdirection_narr  u_wind_narr 1.0000\n",
      "9  wdirection_narr  v_wind_narr 0.9247\n",
      "\n",
      "\n",
      "      feature1         feature2   corr\n",
      "1  u_wind_narr  wdirection_narr 1.0000\n",
      "6  u_wind_narr  v_wind_narr     0.9247\n",
      "\n",
      "\n",
      "       feature1      feature2   corr\n",
      "2  sfc_air_narr  airtemp_narr 0.9655\n",
      "\n",
      "\n",
      "       feature1      feature2   corr\n",
      "3  airtemp_narr  sfc_air_narr 0.9655\n",
      "\n",
      "\n",
      "   feature1 feature2   corr\n",
      "4   lc_23    lc_22   0.9305\n",
      "11  lc_23    lc_24   0.8838\n",
      "\n",
      "\n",
      "  feature1 feature2   corr\n",
      "5  lc_22    lc_23   0.9305\n",
      "\n",
      "\n",
      "      feature1         feature2   corr\n",
      "7  v_wind_narr  u_wind_narr     0.9247\n",
      "8  v_wind_narr  wdirection_narr 0.9247\n",
      "\n",
      "\n",
      "   feature1 feature2   corr\n",
      "10  lc_24    lc_23   0.8838\n",
      "\n",
      "\n"
     ]
    }
   ],
   "source": [
    "#now we can visualize each group. We see that some groups \n",
    "for group in correlated_groups:\n",
    "    print(group)\n",
    "    print()\n",
    "    print()"
   ]
  },
  {
   "cell_type": "code",
   "execution_count": 507,
   "metadata": {},
   "outputs": [
    {
     "data": {
      "text/plain": [
       "RandomForestRegressor(random_state=0)"
      ]
     },
     "execution_count": 507,
     "metadata": {},
     "output_type": "execute_result"
    }
   ],
   "source": [
    "#We can screen using a randomforest first feature group\n",
    "features = ['u_wind_narr'] + ['wdirection_narr'] + ['v_wind_narr']\n",
    "rf = RandomForestRegressor(random_state = 0)\n",
    "rf.fit(X_train_n[features].fillna(0), y_train)"
   ]
  },
  {
   "cell_type": "code",
   "execution_count": 508,
   "metadata": {},
   "outputs": [
    {
     "data": {
      "text/html": [
       "<div>\n",
       "<style scoped>\n",
       "    .dataframe tbody tr th:only-of-type {\n",
       "        vertical-align: middle;\n",
       "    }\n",
       "\n",
       "    .dataframe tbody tr th {\n",
       "        vertical-align: top;\n",
       "    }\n",
       "\n",
       "    .dataframe thead th {\n",
       "        text-align: right;\n",
       "    }\n",
       "</style>\n",
       "<table border=\"1\" class=\"dataframe\">\n",
       "  <thead>\n",
       "    <tr style=\"text-align: right;\">\n",
       "      <th></th>\n",
       "      <th>feature</th>\n",
       "      <th>importance</th>\n",
       "    </tr>\n",
       "  </thead>\n",
       "  <tbody>\n",
       "    <tr>\n",
       "      <th>0</th>\n",
       "      <td>u_wind_narr</td>\n",
       "      <td>0.4405</td>\n",
       "    </tr>\n",
       "    <tr>\n",
       "      <th>2</th>\n",
       "      <td>v_wind_narr</td>\n",
       "      <td>0.2810</td>\n",
       "    </tr>\n",
       "    <tr>\n",
       "      <th>1</th>\n",
       "      <td>wdirection_narr</td>\n",
       "      <td>0.2785</td>\n",
       "    </tr>\n",
       "  </tbody>\n",
       "</table>\n",
       "</div>"
      ],
      "text/plain": [
       "           feature  importance\n",
       "0  u_wind_narr     0.4405     \n",
       "2  v_wind_narr     0.2810     \n",
       "1  wdirection_narr 0.2785     "
      ]
     },
     "execution_count": 508,
     "metadata": {},
     "output_type": "execute_result"
    }
   ],
   "source": [
    "#get feature importance attributed by random forest model\n",
    "\n",
    "importance = pd.concat([pd.Series(features),\n",
    "                       pd.Series(rf.feature_importances_)], axis = 1)\n",
    "\n",
    "importance.columns = ['feature', 'importance']\n",
    "importance.sort_values(by = 'importance', ascending = False)"
   ]
  },
  {
   "cell_type": "code",
   "execution_count": 509,
   "metadata": {},
   "outputs": [],
   "source": [
    "#keep u_wind_narr"
   ]
  },
  {
   "cell_type": "code",
   "execution_count": 510,
   "metadata": {},
   "outputs": [
    {
     "data": {
      "text/plain": [
       "RandomForestRegressor(random_state=0)"
      ]
     },
     "execution_count": 510,
     "metadata": {},
     "output_type": "execute_result"
    }
   ],
   "source": [
    "#We can screen using a randomforest second feature group \n",
    "features = ['lc_22'] + ['lc_23'] + ['lc_24']  \n",
    "rf = RandomForestRegressor(random_state = 0)\n",
    "rf.fit(X_train_n[features].fillna(0), y_train)"
   ]
  },
  {
   "cell_type": "code",
   "execution_count": 511,
   "metadata": {},
   "outputs": [
    {
     "data": {
      "text/html": [
       "<div>\n",
       "<style scoped>\n",
       "    .dataframe tbody tr th:only-of-type {\n",
       "        vertical-align: middle;\n",
       "    }\n",
       "\n",
       "    .dataframe tbody tr th {\n",
       "        vertical-align: top;\n",
       "    }\n",
       "\n",
       "    .dataframe thead th {\n",
       "        text-align: right;\n",
       "    }\n",
       "</style>\n",
       "<table border=\"1\" class=\"dataframe\">\n",
       "  <thead>\n",
       "    <tr style=\"text-align: right;\">\n",
       "      <th></th>\n",
       "      <th>feature</th>\n",
       "      <th>importance</th>\n",
       "    </tr>\n",
       "  </thead>\n",
       "  <tbody>\n",
       "    <tr>\n",
       "      <th>2</th>\n",
       "      <td>lc_24</td>\n",
       "      <td>0.3518</td>\n",
       "    </tr>\n",
       "    <tr>\n",
       "      <th>0</th>\n",
       "      <td>lc_22</td>\n",
       "      <td>0.3468</td>\n",
       "    </tr>\n",
       "    <tr>\n",
       "      <th>1</th>\n",
       "      <td>lc_23</td>\n",
       "      <td>0.3014</td>\n",
       "    </tr>\n",
       "  </tbody>\n",
       "</table>\n",
       "</div>"
      ],
      "text/plain": [
       "  feature  importance\n",
       "2  lc_24  0.3518     \n",
       "0  lc_22  0.3468     \n",
       "1  lc_23  0.3014     "
      ]
     },
     "execution_count": 511,
     "metadata": {},
     "output_type": "execute_result"
    }
   ],
   "source": [
    "#get feature importance attributed by random forest model\n",
    "\n",
    "importance = pd.concat([pd.Series(features),\n",
    "                       pd.Series(rf.feature_importances_)], axis = 1)\n",
    "\n",
    "importance.columns = ['feature', 'importance']\n",
    "importance.sort_values(by = 'importance', ascending = False)"
   ]
  },
  {
   "cell_type": "code",
   "execution_count": 512,
   "metadata": {},
   "outputs": [],
   "source": [
    "#Keep lc_24"
   ]
  },
  {
   "cell_type": "code",
   "execution_count": 513,
   "metadata": {},
   "outputs": [
    {
     "data": {
      "text/plain": [
       "RandomForestRegressor(random_state=0)"
      ]
     },
     "execution_count": 513,
     "metadata": {},
     "output_type": "execute_result"
    }
   ],
   "source": [
    "#We can screen using a randomforest second feature group \n",
    "features = ['sfc_air_narr'] + ['airtemp_narr']\n",
    "rf = RandomForestRegressor(random_state = 0)\n",
    "rf.fit(X_train_n[features].fillna(0), y_train)"
   ]
  },
  {
   "cell_type": "code",
   "execution_count": 514,
   "metadata": {},
   "outputs": [
    {
     "data": {
      "text/html": [
       "<div>\n",
       "<style scoped>\n",
       "    .dataframe tbody tr th:only-of-type {\n",
       "        vertical-align: middle;\n",
       "    }\n",
       "\n",
       "    .dataframe tbody tr th {\n",
       "        vertical-align: top;\n",
       "    }\n",
       "\n",
       "    .dataframe thead th {\n",
       "        text-align: right;\n",
       "    }\n",
       "</style>\n",
       "<table border=\"1\" class=\"dataframe\">\n",
       "  <thead>\n",
       "    <tr style=\"text-align: right;\">\n",
       "      <th></th>\n",
       "      <th>feature</th>\n",
       "      <th>importance</th>\n",
       "    </tr>\n",
       "  </thead>\n",
       "  <tbody>\n",
       "    <tr>\n",
       "      <th>0</th>\n",
       "      <td>sfc_air_narr</td>\n",
       "      <td>0.5014</td>\n",
       "    </tr>\n",
       "    <tr>\n",
       "      <th>1</th>\n",
       "      <td>airtemp_narr</td>\n",
       "      <td>0.4986</td>\n",
       "    </tr>\n",
       "  </tbody>\n",
       "</table>\n",
       "</div>"
      ],
      "text/plain": [
       "        feature  importance\n",
       "0  sfc_air_narr 0.5014     \n",
       "1  airtemp_narr 0.4986     "
      ]
     },
     "execution_count": 514,
     "metadata": {},
     "output_type": "execute_result"
    }
   ],
   "source": [
    "#get feature importance attributed by random forest model\n",
    "\n",
    "importance = pd.concat([pd.Series(features),\n",
    "                       pd.Series(rf.feature_importances_)], axis = 1)\n",
    "\n",
    "importance.columns = ['feature', 'importance']\n",
    "importance.sort_values(by = 'importance', ascending = False)"
   ]
  },
  {
   "cell_type": "code",
   "execution_count": 515,
   "metadata": {},
   "outputs": [],
   "source": [
    "#drop airtemp_narr"
   ]
  },
  {
   "cell_type": "code",
   "execution_count": 516,
   "metadata": {},
   "outputs": [],
   "source": [
    "X_train = X_train.drop(columns = ['lc_22', 'lc_31', 'lc_52', 'lc_71', 'lc_23', 'wdirection_narr', 'v_wind_narr', 'airtemp_narr'])\n",
    "X_test = X_test.drop(columns = ['lc_22', 'lc_31', 'lc_52', 'lc_71', 'lc_23', 'wdirection_narr', 'v_wind_narr', 'airtemp_narr'])"
   ]
  },
  {
   "cell_type": "code",
   "execution_count": 517,
   "metadata": {},
   "outputs": [
    {
     "data": {
      "text/plain": [
       "Index(['areaacres', 'za_mean', 'lc_11', 'lc_21', 'lc_24', 'lc_41', 'lc_42',\n",
       "       'lc_43', 'lc_81', 'lc_82', 'lc_90', 'lc_95', 'of_dist', 'HUC12_',\n",
       "       'week', 'precip3_narr', 'humidity_narr', 'cl_cover_narr', 'sfc_runoff',\n",
       "       'sfc_air_narr', 'u_wind_narr', 'windspeed_narr', 'precip24_narr',\n",
       "       'precip48_narr'],\n",
       "      dtype='object')"
      ]
     },
     "execution_count": 517,
     "metadata": {},
     "output_type": "execute_result"
    }
   ],
   "source": [
    "X_train.columns"
   ]
  },
  {
   "cell_type": "code",
   "execution_count": 518,
   "metadata": {},
   "outputs": [],
   "source": [
    "#standard scaler \n",
    "ct_std = make_column_transformer(\n",
    "    (knn_impute_scale2, ['areaacres', 'za_mean', 'lc_11', 'lc_21', 'lc_24', 'lc_41', 'lc_42',\n",
    "       'lc_43', 'lc_81', 'lc_82', 'lc_90', 'lc_95', 'of_dist', 'precip3_narr', 'humidity_narr', 'cl_cover_narr', 'sfc_runoff',\n",
    "       'sfc_air_narr', 'u_wind_narr', 'windspeed_narr', 'precip24_narr']),\n",
    "    (ohe, ['HUC12_', 'week']),\n",
    "    remainder='passthrough')"
   ]
  },
  {
   "cell_type": "code",
   "execution_count": 519,
   "metadata": {},
   "outputs": [],
   "source": [
    "rf = RandomForestRegressor(random_state = 0, n_jobs = -1)\n",
    "pipe_rf = make_pipeline(ct_std, rf)"
   ]
  },
  {
   "cell_type": "code",
   "execution_count": 520,
   "metadata": {},
   "outputs": [
    {
     "data": {
      "text/plain": [
       "Pipeline(steps=[('columntransformer',\n",
       "                 ColumnTransformer(remainder='passthrough',\n",
       "                                   transformers=[('pipeline',\n",
       "                                                  Pipeline(steps=[('knnimputer',\n",
       "                                                                   KNNImputer(n_neighbors=2)),\n",
       "                                                                  ('standardscaler',\n",
       "                                                                   StandardScaler())]),\n",
       "                                                  ['areaacres', 'za_mean',\n",
       "                                                   'lc_11', 'lc_21', 'lc_24',\n",
       "                                                   'lc_41', 'lc_42', 'lc_43',\n",
       "                                                   'lc_81', 'lc_82', 'lc_90',\n",
       "                                                   'lc_95', 'of_dist',\n",
       "                                                   'precip3_narr',\n",
       "                                                   'humidity_narr',\n",
       "                                                   'cl_cover_narr',\n",
       "                                                   'sfc_runoff', 'sfc_air_narr',\n",
       "                                                   'u_wind_narr',\n",
       "                                                   'windspeed_narr',\n",
       "                                                   'precip24_narr']),\n",
       "                                                 ('onehotencoder',\n",
       "                                                  OneHotEncoder(handle_unknown='ignore'),\n",
       "                                                  ['HUC12_', 'week'])])),\n",
       "                ('randomforestregressor',\n",
       "                 RandomForestRegressor(n_jobs=-1, random_state=0))])"
      ]
     },
     "execution_count": 520,
     "metadata": {},
     "output_type": "execute_result"
    }
   ],
   "source": [
    "pipe_rf.fit(X_train, y_train)"
   ]
  },
  {
   "cell_type": "code",
   "execution_count": 521,
   "metadata": {},
   "outputs": [],
   "source": [
    "#pipeline prediction \n",
    "y_predrf = pipe_rf.predict(X_test)"
   ]
  },
  {
   "cell_type": "code",
   "execution_count": 522,
   "metadata": {},
   "outputs": [
    {
     "name": "stdout",
     "output_type": "stream",
     "text": [
      "0.8303754167850711\n",
      "0.8303757819225475\n",
      "0.7376163470710269\n"
     ]
    }
   ],
   "source": [
    "#standard scaler feature selection \n",
    "print(r2_score(y_test, y_predrf))\n",
    "print(explained_variance_score(y_test, y_predrf))\n",
    "print(np.sqrt(mean_squared_error(y_test, y_predrf)))"
   ]
  },
  {
   "cell_type": "code",
   "execution_count": 525,
   "metadata": {},
   "outputs": [],
   "source": [
    "features = X_train.columns"
   ]
  },
  {
   "cell_type": "code",
   "execution_count": 526,
   "metadata": {},
   "outputs": [
    {
     "data": {
      "text/html": [
       "<div>\n",
       "<style scoped>\n",
       "    .dataframe tbody tr th:only-of-type {\n",
       "        vertical-align: middle;\n",
       "    }\n",
       "\n",
       "    .dataframe tbody tr th {\n",
       "        vertical-align: top;\n",
       "    }\n",
       "\n",
       "    .dataframe thead th {\n",
       "        text-align: right;\n",
       "    }\n",
       "</style>\n",
       "<table border=\"1\" class=\"dataframe\">\n",
       "  <thead>\n",
       "    <tr style=\"text-align: right;\">\n",
       "      <th></th>\n",
       "      <th>feature</th>\n",
       "      <th>importance</th>\n",
       "    </tr>\n",
       "  </thead>\n",
       "  <tbody>\n",
       "    <tr>\n",
       "      <th>12</th>\n",
       "      <td>of_dist</td>\n",
       "      <td>0.1976</td>\n",
       "    </tr>\n",
       "    <tr>\n",
       "      <th>9</th>\n",
       "      <td>lc_82</td>\n",
       "      <td>0.1651</td>\n",
       "    </tr>\n",
       "    <tr>\n",
       "      <th>2</th>\n",
       "      <td>lc_11</td>\n",
       "      <td>0.1078</td>\n",
       "    </tr>\n",
       "    <tr>\n",
       "      <th>3</th>\n",
       "      <td>lc_21</td>\n",
       "      <td>0.0740</td>\n",
       "    </tr>\n",
       "    <tr>\n",
       "      <th>5</th>\n",
       "      <td>lc_41</td>\n",
       "      <td>0.0410</td>\n",
       "    </tr>\n",
       "    <tr>\n",
       "      <th>7</th>\n",
       "      <td>lc_43</td>\n",
       "      <td>0.0362</td>\n",
       "    </tr>\n",
       "    <tr>\n",
       "      <th>1</th>\n",
       "      <td>za_mean</td>\n",
       "      <td>0.0273</td>\n",
       "    </tr>\n",
       "    <tr>\n",
       "      <th>4</th>\n",
       "      <td>lc_24</td>\n",
       "      <td>0.0263</td>\n",
       "    </tr>\n",
       "    <tr>\n",
       "      <th>20</th>\n",
       "      <td>u_wind_narr</td>\n",
       "      <td>0.0261</td>\n",
       "    </tr>\n",
       "    <tr>\n",
       "      <th>17</th>\n",
       "      <td>cl_cover_narr</td>\n",
       "      <td>0.0255</td>\n",
       "    </tr>\n",
       "    <tr>\n",
       "      <th>8</th>\n",
       "      <td>lc_81</td>\n",
       "      <td>0.0247</td>\n",
       "    </tr>\n",
       "    <tr>\n",
       "      <th>14</th>\n",
       "      <td>week</td>\n",
       "      <td>0.0219</td>\n",
       "    </tr>\n",
       "    <tr>\n",
       "      <th>10</th>\n",
       "      <td>lc_90</td>\n",
       "      <td>0.0214</td>\n",
       "    </tr>\n",
       "    <tr>\n",
       "      <th>0</th>\n",
       "      <td>areaacres</td>\n",
       "      <td>0.0201</td>\n",
       "    </tr>\n",
       "    <tr>\n",
       "      <th>422</th>\n",
       "      <td>NaN</td>\n",
       "      <td>0.0196</td>\n",
       "    </tr>\n",
       "    <tr>\n",
       "      <th>19</th>\n",
       "      <td>sfc_air_narr</td>\n",
       "      <td>0.0174</td>\n",
       "    </tr>\n",
       "    <tr>\n",
       "      <th>11</th>\n",
       "      <td>lc_95</td>\n",
       "      <td>0.0157</td>\n",
       "    </tr>\n",
       "    <tr>\n",
       "      <th>97</th>\n",
       "      <td>NaN</td>\n",
       "      <td>0.0151</td>\n",
       "    </tr>\n",
       "    <tr>\n",
       "      <th>18</th>\n",
       "      <td>sfc_runoff</td>\n",
       "      <td>0.0131</td>\n",
       "    </tr>\n",
       "    <tr>\n",
       "      <th>6</th>\n",
       "      <td>lc_42</td>\n",
       "      <td>0.0119</td>\n",
       "    </tr>\n",
       "  </tbody>\n",
       "</table>\n",
       "</div>"
      ],
      "text/plain": [
       "           feature  importance\n",
       "12   of_dist       0.1976     \n",
       "9    lc_82         0.1651     \n",
       "2    lc_11         0.1078     \n",
       "3    lc_21         0.0740     \n",
       "5    lc_41         0.0410     \n",
       "7    lc_43         0.0362     \n",
       "1    za_mean       0.0273     \n",
       "4    lc_24         0.0263     \n",
       "20   u_wind_narr   0.0261     \n",
       "17   cl_cover_narr 0.0255     \n",
       "8    lc_81         0.0247     \n",
       "14   week          0.0219     \n",
       "10   lc_90         0.0214     \n",
       "0    areaacres     0.0201     \n",
       "422  NaN           0.0196     \n",
       "19   sfc_air_narr  0.0174     \n",
       "11   lc_95         0.0157     \n",
       "97   NaN           0.0151     \n",
       "18   sfc_runoff    0.0131     \n",
       "6    lc_42         0.0119     "
      ]
     },
     "execution_count": 526,
     "metadata": {},
     "output_type": "execute_result"
    }
   ],
   "source": [
    "#get feature importance attributed by random forest model\n",
    "importance = pd.concat([pd.Series(features),\n",
    "                       pd.Series(pipe_rf['randomforestregressor'].feature_importances_)], axis = 1)\n",
    "\n",
    "importance.columns = ['feature', 'importance']\n",
    "importance.sort_values(by = 'importance', ascending = False).head(20)"
   ]
  },
  {
   "cell_type": "markdown",
   "metadata": {},
   "source": [
    "of_dist\t0.1976\n",
    "9\tlc_82\t0.1651\n",
    "2\tlc_11\t0.1078\n",
    "3\tlc_21\t0.0740\n",
    "5\tlc_41\t0.0410\n",
    "7\tlc_43\t0.0362\n",
    "1\tza_mean\t0.0273\n",
    "4\tlc_24\t0.0263\n",
    "20\tu_wind_narr\t0.0261\n",
    "17\tcl_cover_narr\t0.0255\n",
    "8\tlc_81\t0.0247\n",
    "14\tweek\t0.0219\n",
    "10\tlc_90\t0.0214\n",
    "0\tareaacres\t0.0201\n",
    "422\tNaN\t0.0196\n",
    "19\tsfc_air_narr\t0.0174\n",
    "11\tlc_95\t0.0157\n",
    "97\tNaN\t0.0151\n",
    "18\tsfc_runoff\t0.0131\n",
    "6\tlc_42\n",
    "'of_dist', 'lc_82', 'lc_11', 'lc_21', 'lc_41', 'lc_43', 'za_mean', 'lc_24', 'u_wind_narr', 'cl_cover_narr', 'lc_81' 'week', 'lc_90', 'areaacres', 'HUC12_'"
   ]
  },
  {
   "cell_type": "code",
   "execution_count": 530,
   "metadata": {},
   "outputs": [],
   "source": [
    "X_train_f = X_train.loc[:, ['of_dist', 'lc_82', 'lc_11', 'lc_21', 'lc_41', 'lc_43', 'za_mean', \n",
    "                            'lc_24', 'u_wind_narr', 'cl_cover_narr', 'lc_81', 'week', 'lc_90', 'areaacres', 'HUC12_']]\n",
    "X_test_f = X_test.loc[:,['of_dist', 'lc_82', 'lc_11', 'lc_21', 'lc_41', 'lc_43', \n",
    "                         'za_mean', 'lc_24', 'u_wind_narr', 'cl_cover_narr', 'lc_81', 'week', 'lc_90', 'areaacres', 'HUC12_']]"
   ]
  },
  {
   "cell_type": "code",
   "execution_count": 531,
   "metadata": {},
   "outputs": [],
   "source": [
    "#standard scaler \n",
    "ct_std_f = make_column_transformer(\n",
    "    (knn_impute_scale2, ['of_dist', 'lc_82', 'lc_11', 'lc_21', 'lc_41', 'lc_43', 'za_mean',\n",
    "                         'lc_24', 'u_wind_narr', 'cl_cover_narr', 'lc_81','lc_90', 'areaacres']),\n",
    "    (ohe, ['HUC12_', 'week']),\n",
    "    remainder='passthrough')"
   ]
  },
  {
   "cell_type": "code",
   "execution_count": 532,
   "metadata": {},
   "outputs": [],
   "source": [
    "rf = RandomForestRegressor(random_state = 0, n_jobs = -1)\n",
    "pipe_rf_f = make_pipeline(ct_std_f, rf)"
   ]
  },
  {
   "cell_type": "code",
   "execution_count": 533,
   "metadata": {},
   "outputs": [
    {
     "data": {
      "text/plain": [
       "Pipeline(steps=[('columntransformer',\n",
       "                 ColumnTransformer(remainder='passthrough',\n",
       "                                   transformers=[('pipeline',\n",
       "                                                  Pipeline(steps=[('knnimputer',\n",
       "                                                                   KNNImputer(n_neighbors=2)),\n",
       "                                                                  ('standardscaler',\n",
       "                                                                   StandardScaler())]),\n",
       "                                                  ['of_dist', 'lc_82', 'lc_11',\n",
       "                                                   'lc_21', 'lc_41', 'lc_43',\n",
       "                                                   'za_mean', 'lc_24',\n",
       "                                                   'u_wind_narr',\n",
       "                                                   'cl_cover_narr', 'lc_81',\n",
       "                                                   'lc_90', 'areaacres']),\n",
       "                                                 ('onehotencoder',\n",
       "                                                  OneHotEncoder(handle_unknown='ignore'),\n",
       "                                                  ['HUC12_', 'week'])])),\n",
       "                ('randomforestregressor',\n",
       "                 RandomForestRegressor(n_jobs=-1, random_state=0))])"
      ]
     },
     "execution_count": 533,
     "metadata": {},
     "output_type": "execute_result"
    }
   ],
   "source": [
    "pipe_rf_f.fit(X_train_f, y_train)"
   ]
  },
  {
   "cell_type": "code",
   "execution_count": 534,
   "metadata": {},
   "outputs": [],
   "source": [
    "#pipeline prediction \n",
    "y_predrf_f = pipe_rf_f.predict(X_test_f)"
   ]
  },
  {
   "cell_type": "code",
   "execution_count": 535,
   "metadata": {},
   "outputs": [
    {
     "name": "stdout",
     "output_type": "stream",
     "text": [
      "0.8103566327676059\n",
      "0.8103943911177539\n",
      "0.7799288135830382\n"
     ]
    }
   ],
   "source": [
    "#standard scaler feature selection \n",
    "print(r2_score(y_test, y_predrf_f))\n",
    "print(explained_variance_score(y_test, y_predrf_f))\n",
    "print(np.sqrt(mean_squared_error(y_test, y_predrf_f)))"
   ]
  },
  {
   "cell_type": "code",
   "execution_count": 536,
   "metadata": {},
   "outputs": [
    {
     "data": {
      "text/plain": [
       "<matplotlib.collections.PathCollection at 0x216a9a76648>"
      ]
     },
     "execution_count": 536,
     "metadata": {},
     "output_type": "execute_result"
    },
    {
     "data": {
      "image/png": "[encoded data removed]",
      "text/plain": [
       "<Figure size 432x288 with 1 Axes>"
      ]
     },
     "metadata": {},
     "output_type": "display_data"
    }
   ],
   "source": [
    "plt.scatter(y_test, y_predrf_f)"
   ]
  },
  {
   "cell_type": "code",
   "execution_count": 537,
   "metadata": {},
   "outputs": [
    {
     "data": {
      "text/html": [
       "<div>\n",
       "<style scoped>\n",
       "    .dataframe tbody tr th:only-of-type {\n",
       "        vertical-align: middle;\n",
       "    }\n",
       "\n",
       "    .dataframe tbody tr th {\n",
       "        vertical-align: top;\n",
       "    }\n",
       "\n",
       "    .dataframe thead th {\n",
       "        text-align: right;\n",
       "    }\n",
       "</style>\n",
       "<table border=\"1\" class=\"dataframe\">\n",
       "  <thead>\n",
       "    <tr style=\"text-align: right;\">\n",
       "      <th></th>\n",
       "      <th>feature</th>\n",
       "      <th>importance</th>\n",
       "    </tr>\n",
       "  </thead>\n",
       "  <tbody>\n",
       "    <tr>\n",
       "      <th>0</th>\n",
       "      <td>of_dist</td>\n",
       "      <td>0.2024</td>\n",
       "    </tr>\n",
       "    <tr>\n",
       "      <th>1</th>\n",
       "      <td>lc_82</td>\n",
       "      <td>0.1681</td>\n",
       "    </tr>\n",
       "    <tr>\n",
       "      <th>2</th>\n",
       "      <td>lc_11</td>\n",
       "      <td>0.1108</td>\n",
       "    </tr>\n",
       "    <tr>\n",
       "      <th>3</th>\n",
       "      <td>lc_21</td>\n",
       "      <td>0.0741</td>\n",
       "    </tr>\n",
       "    <tr>\n",
       "      <th>4</th>\n",
       "      <td>lc_41</td>\n",
       "      <td>0.0436</td>\n",
       "    </tr>\n",
       "    <tr>\n",
       "      <th>8</th>\n",
       "      <td>u_wind_narr</td>\n",
       "      <td>0.0421</td>\n",
       "    </tr>\n",
       "    <tr>\n",
       "      <th>5</th>\n",
       "      <td>lc_43</td>\n",
       "      <td>0.0395</td>\n",
       "    </tr>\n",
       "    <tr>\n",
       "      <th>9</th>\n",
       "      <td>cl_cover_narr</td>\n",
       "      <td>0.0300</td>\n",
       "    </tr>\n",
       "    <tr>\n",
       "      <th>6</th>\n",
       "      <td>za_mean</td>\n",
       "      <td>0.0289</td>\n",
       "    </tr>\n",
       "    <tr>\n",
       "      <th>7</th>\n",
       "      <td>lc_24</td>\n",
       "      <td>0.0283</td>\n",
       "    </tr>\n",
       "  </tbody>\n",
       "</table>\n",
       "</div>"
      ],
      "text/plain": [
       "         feature  importance\n",
       "0  of_dist       0.2024     \n",
       "1  lc_82         0.1681     \n",
       "2  lc_11         0.1108     \n",
       "3  lc_21         0.0741     \n",
       "4  lc_41         0.0436     \n",
       "8  u_wind_narr   0.0421     \n",
       "5  lc_43         0.0395     \n",
       "9  cl_cover_narr 0.0300     \n",
       "6  za_mean       0.0289     \n",
       "7  lc_24         0.0283     "
      ]
     },
     "execution_count": 537,
     "metadata": {},
     "output_type": "execute_result"
    }
   ],
   "source": [
    "features = X_train_f.columns\n",
    "#get feature importance attributed by random forest model\n",
    "importance = pd.concat([pd.Series(features),\n",
    "                       pd.Series(pipe_rf_f['randomforestregressor'].feature_importances_)], axis = 1)\n",
    "\n",
    "importance.columns = ['feature', 'importance']\n",
    "importance.sort_values(by = 'importance', ascending = False).head(10)"
   ]
  },
  {
   "cell_type": "code",
   "execution_count": 554,
   "metadata": {},
   "outputs": [],
   "source": [
    "importance.to_csv('importance1.csv')"
   ]
  },
  {
   "cell_type": "code",
   "execution_count": 389,
   "metadata": {},
   "outputs": [],
   "source": [
    "#HyperTuning"
   ]
  },
  {
   "cell_type": "code",
   "execution_count": 539,
   "metadata": {},
   "outputs": [],
   "source": [
    "#Set Parameters\n",
    "params = {}\n",
    "params['randomforestregressor__max_depth'] = np.arange(1, 1000,50)\n",
    "params['randomforestregressor__n_estimators'] = np.arange(1, 1000,50)\n",
    "params['randomforestregressor__max_samples'] = np.arange(1, 1000,50)"
   ]
  },
  {
   "cell_type": "code",
   "execution_count": 540,
   "metadata": {},
   "outputs": [
    {
     "data": {
      "text/plain": [
       "['accuracy',\n",
       " 'adjusted_mutual_info_score',\n",
       " 'adjusted_rand_score',\n",
       " 'average_precision',\n",
       " 'balanced_accuracy',\n",
       " 'completeness_score',\n",
       " 'explained_variance',\n",
       " 'f1',\n",
       " 'f1_macro',\n",
       " 'f1_micro',\n",
       " 'f1_samples',\n",
       " 'f1_weighted',\n",
       " 'fowlkes_mallows_score',\n",
       " 'homogeneity_score',\n",
       " 'jaccard',\n",
       " 'jaccard_macro',\n",
       " 'jaccard_micro',\n",
       " 'jaccard_samples',\n",
       " 'jaccard_weighted',\n",
       " 'max_error',\n",
       " 'mutual_info_score',\n",
       " 'neg_brier_score',\n",
       " 'neg_log_loss',\n",
       " 'neg_mean_absolute_error',\n",
       " 'neg_mean_gamma_deviance',\n",
       " 'neg_mean_poisson_deviance',\n",
       " 'neg_mean_squared_error',\n",
       " 'neg_mean_squared_log_error',\n",
       " 'neg_median_absolute_error',\n",
       " 'neg_root_mean_squared_error',\n",
       " 'normalized_mutual_info_score',\n",
       " 'precision',\n",
       " 'precision_macro',\n",
       " 'precision_micro',\n",
       " 'precision_samples',\n",
       " 'precision_weighted',\n",
       " 'r2',\n",
       " 'recall',\n",
       " 'recall_macro',\n",
       " 'recall_micro',\n",
       " 'recall_samples',\n",
       " 'recall_weighted',\n",
       " 'roc_auc',\n",
       " 'roc_auc_ovo',\n",
       " 'roc_auc_ovo_weighted',\n",
       " 'roc_auc_ovr',\n",
       " 'roc_auc_ovr_weighted',\n",
       " 'v_measure_score']"
      ]
     },
     "execution_count": 540,
     "metadata": {},
     "output_type": "execute_result"
    }
   ],
   "source": [
    "import sklearn\n",
    "sorted(sklearn.metrics.SCORERS.keys())"
   ]
  },
  {
   "cell_type": "code",
   "execution_count": 541,
   "metadata": {},
   "outputs": [],
   "source": [
    "#Grid for hypertuning\n",
    "gridRF = RandomizedSearchCV(pipe_rf_f, params, cv = 5, n_jobs = -1, random_state = 777, n_iter = 10, scoring = 'r2')"
   ]
  },
  {
   "cell_type": "code",
   "execution_count": 542,
   "metadata": {},
   "outputs": [
    {
     "data": {
      "text/plain": [
       "RandomizedSearchCV(cv=5,\n",
       "                   estimator=Pipeline(steps=[('columntransformer',\n",
       "                                              ColumnTransformer(remainder='passthrough',\n",
       "                                                                transformers=[('pipeline',\n",
       "                                                                               Pipeline(steps=[('knnimputer',\n",
       "                                                                                                KNNImputer(n_neighbors=2)),\n",
       "                                                                                               ('standardscaler',\n",
       "                                                                                                StandardScaler())]),\n",
       "                                                                               ['of_dist',\n",
       "                                                                                'lc_82',\n",
       "                                                                                'lc_11',\n",
       "                                                                                'lc_21',\n",
       "                                                                                'lc_41',\n",
       "                                                                                'lc_43',\n",
       "                                                                                'za_mean',\n",
       "                                                                                'lc_24',\n",
       "                                                                                'u_wind_narr',\n",
       "                                                                                'cl_cover_narr',\n",
       "                                                                                'lc_81',\n",
       "                                                                                'lc_90',\n",
       "                                                                                '...\n",
       "                   param_distributions={'randomforestregressor__max_depth': array([  1,  51, 101, 151, 201, 251, 301, 351, 401, 451, 501, 551, 601,\n",
       "       651, 701, 751, 801, 851, 901, 951]),\n",
       "                                        'randomforestregressor__max_samples': array([  1,  51, 101, 151, 201, 251, 301, 351, 401, 451, 501, 551, 601,\n",
       "       651, 701, 751, 801, 851, 901, 951]),\n",
       "                                        'randomforestregressor__n_estimators': array([  1,  51, 101, 151, 201, 251, 301, 351, 401, 451, 501, 551, 601,\n",
       "       651, 701, 751, 801, 851, 901, 951])},\n",
       "                   random_state=777, scoring='r2')"
      ]
     },
     "execution_count": 542,
     "metadata": {},
     "output_type": "execute_result"
    }
   ],
   "source": [
    "gridRF.fit(X_train_f,y_train)"
   ]
  },
  {
   "cell_type": "code",
   "execution_count": 543,
   "metadata": {},
   "outputs": [
    {
     "data": {
      "text/plain": [
       "{'randomforestregressor__n_estimators': 351,\n",
       " 'randomforestregressor__max_samples': 701,\n",
       " 'randomforestregressor__max_depth': 301}"
      ]
     },
     "execution_count": 543,
     "metadata": {},
     "output_type": "execute_result"
    }
   ],
   "source": [
    "gridRF.best_params_"
   ]
  },
  {
   "cell_type": "code",
   "execution_count": 544,
   "metadata": {},
   "outputs": [
    {
     "data": {
      "text/html": [
       "<div>\n",
       "<style scoped>\n",
       "    .dataframe tbody tr th:only-of-type {\n",
       "        vertical-align: middle;\n",
       "    }\n",
       "\n",
       "    .dataframe tbody tr th {\n",
       "        vertical-align: top;\n",
       "    }\n",
       "\n",
       "    .dataframe thead th {\n",
       "        text-align: right;\n",
       "    }\n",
       "</style>\n",
       "<table border=\"1\" class=\"dataframe\">\n",
       "  <thead>\n",
       "    <tr style=\"text-align: right;\">\n",
       "      <th></th>\n",
       "      <th>mean_fit_time</th>\n",
       "      <th>std_fit_time</th>\n",
       "      <th>mean_score_time</th>\n",
       "      <th>std_score_time</th>\n",
       "      <th>param_randomforestregressor__n_estimators</th>\n",
       "      <th>param_randomforestregressor__max_samples</th>\n",
       "      <th>param_randomforestregressor__max_depth</th>\n",
       "      <th>params</th>\n",
       "      <th>split0_test_score</th>\n",
       "      <th>split1_test_score</th>\n",
       "      <th>split2_test_score</th>\n",
       "      <th>split3_test_score</th>\n",
       "      <th>split4_test_score</th>\n",
       "      <th>mean_test_score</th>\n",
       "      <th>std_test_score</th>\n",
       "      <th>rank_test_score</th>\n",
       "    </tr>\n",
       "  </thead>\n",
       "  <tbody>\n",
       "    <tr>\n",
       "      <th>8</th>\n",
       "      <td>78.6883</td>\n",
       "      <td>16.3576</td>\n",
       "      <td>6.5197</td>\n",
       "      <td>3.6828</td>\n",
       "      <td>351</td>\n",
       "      <td>701</td>\n",
       "      <td>301</td>\n",
       "      <td>{'randomforestregressor__n_estimators': 351, 'randomforestregressor__max_samples': 701, 'randomforestregressor__max_depth': 301}</td>\n",
       "      <td>0.6040</td>\n",
       "      <td>0.6284</td>\n",
       "      <td>0.6597</td>\n",
       "      <td>0.6881</td>\n",
       "      <td>0.6917</td>\n",
       "      <td>0.6544</td>\n",
       "      <td>0.0340</td>\n",
       "      <td>1</td>\n",
       "    </tr>\n",
       "    <tr>\n",
       "      <th>0</th>\n",
       "      <td>72.4242</td>\n",
       "      <td>7.5568</td>\n",
       "      <td>15.2758</td>\n",
       "      <td>2.0327</td>\n",
       "      <td>351</td>\n",
       "      <td>601</td>\n",
       "      <td>751</td>\n",
       "      <td>{'randomforestregressor__n_estimators': 351, 'randomforestregressor__max_samples': 601, 'randomforestregressor__max_depth': 751}</td>\n",
       "      <td>0.5880</td>\n",
       "      <td>0.6139</td>\n",
       "      <td>0.6453</td>\n",
       "      <td>0.6722</td>\n",
       "      <td>0.6772</td>\n",
       "      <td>0.6393</td>\n",
       "      <td>0.0341</td>\n",
       "      <td>2</td>\n",
       "    </tr>\n",
       "    <tr>\n",
       "      <th>9</th>\n",
       "      <td>81.8672</td>\n",
       "      <td>1.3292</td>\n",
       "      <td>0.9957</td>\n",
       "      <td>0.1817</td>\n",
       "      <td>601</td>\n",
       "      <td>501</td>\n",
       "      <td>501</td>\n",
       "      <td>{'randomforestregressor__n_estimators': 601, 'randomforestregressor__max_samples': 501, 'randomforestregressor__max_depth': 501}</td>\n",
       "      <td>0.5708</td>\n",
       "      <td>0.5982</td>\n",
       "      <td>0.6260</td>\n",
       "      <td>0.6535</td>\n",
       "      <td>0.6627</td>\n",
       "      <td>0.6222</td>\n",
       "      <td>0.0342</td>\n",
       "      <td>3</td>\n",
       "    </tr>\n",
       "    <tr>\n",
       "      <th>3</th>\n",
       "      <td>31.3644</td>\n",
       "      <td>7.8038</td>\n",
       "      <td>10.5451</td>\n",
       "      <td>3.2026</td>\n",
       "      <td>101</td>\n",
       "      <td>451</td>\n",
       "      <td>351</td>\n",
       "      <td>{'randomforestregressor__n_estimators': 101, 'randomforestregressor__max_samples': 451, 'randomforestregressor__max_depth': 351}</td>\n",
       "      <td>0.5694</td>\n",
       "      <td>0.5877</td>\n",
       "      <td>0.6192</td>\n",
       "      <td>0.6422</td>\n",
       "      <td>0.6470</td>\n",
       "      <td>0.6131</td>\n",
       "      <td>0.0303</td>\n",
       "      <td>4</td>\n",
       "    </tr>\n",
       "    <tr>\n",
       "      <th>7</th>\n",
       "      <td>88.6922</td>\n",
       "      <td>4.8264</td>\n",
       "      <td>9.3036</td>\n",
       "      <td>3.5149</td>\n",
       "      <td>451</td>\n",
       "      <td>451</td>\n",
       "      <td>701</td>\n",
       "      <td>{'randomforestregressor__n_estimators': 451, 'randomforestregressor__max_samples': 451, 'randomforestregressor__max_depth': 701}</td>\n",
       "      <td>0.5603</td>\n",
       "      <td>0.5916</td>\n",
       "      <td>0.6132</td>\n",
       "      <td>0.6437</td>\n",
       "      <td>0.6467</td>\n",
       "      <td>0.6111</td>\n",
       "      <td>0.0325</td>\n",
       "      <td>5</td>\n",
       "    </tr>\n",
       "  </tbody>\n",
       "</table>\n",
       "</div>"
      ],
      "text/plain": [
       "   mean_fit_time  std_fit_time  mean_score_time  std_score_time  \\\n",
       "8 78.6883        16.3576       6.5197           3.6828            \n",
       "0 72.4242        7.5568        15.2758          2.0327            \n",
       "9 81.8672        1.3292        0.9957           0.1817            \n",
       "3 31.3644        7.8038        10.5451          3.2026            \n",
       "7 88.6922        4.8264        9.3036           3.5149            \n",
       "\n",
       "  param_randomforestregressor__n_estimators  \\\n",
       "8  351                                        \n",
       "0  351                                        \n",
       "9  601                                        \n",
       "3  101                                        \n",
       "7  451                                        \n",
       "\n",
       "  param_randomforestregressor__max_samples  \\\n",
       "8  701                                       \n",
       "0  601                                       \n",
       "9  501                                       \n",
       "3  451                                       \n",
       "7  451                                       \n",
       "\n",
       "  param_randomforestregressor__max_depth  \\\n",
       "8  301                                     \n",
       "0  751                                     \n",
       "9  501                                     \n",
       "3  351                                     \n",
       "7  701                                     \n",
       "\n",
       "                                                                                                                             params  \\\n",
       "8  {'randomforestregressor__n_estimators': 351, 'randomforestregressor__max_samples': 701, 'randomforestregressor__max_depth': 301}   \n",
       "0  {'randomforestregressor__n_estimators': 351, 'randomforestregressor__max_samples': 601, 'randomforestregressor__max_depth': 751}   \n",
       "9  {'randomforestregressor__n_estimators': 601, 'randomforestregressor__max_samples': 501, 'randomforestregressor__max_depth': 501}   \n",
       "3  {'randomforestregressor__n_estimators': 101, 'randomforestregressor__max_samples': 451, 'randomforestregressor__max_depth': 351}   \n",
       "7  {'randomforestregressor__n_estimators': 451, 'randomforestregressor__max_samples': 451, 'randomforestregressor__max_depth': 701}   \n",
       "\n",
       "   split0_test_score  split1_test_score  split2_test_score  split3_test_score  \\\n",
       "8 0.6040             0.6284             0.6597             0.6881               \n",
       "0 0.5880             0.6139             0.6453             0.6722               \n",
       "9 0.5708             0.5982             0.6260             0.6535               \n",
       "3 0.5694             0.5877             0.6192             0.6422               \n",
       "7 0.5603             0.5916             0.6132             0.6437               \n",
       "\n",
       "   split4_test_score  mean_test_score  std_test_score  rank_test_score  \n",
       "8 0.6917             0.6544           0.0340           1                \n",
       "0 0.6772             0.6393           0.0341           2                \n",
       "9 0.6627             0.6222           0.0342           3                \n",
       "3 0.6470             0.6131           0.0303           4                \n",
       "7 0.6467             0.6111           0.0325           5                "
      ]
     },
     "execution_count": 544,
     "metadata": {},
     "output_type": "execute_result"
    }
   ],
   "source": [
    "#Look at model results\n",
    "results = pd.DataFrame(gridRF.cv_results_)\n",
    "results.sort_values('rank_test_score').head()"
   ]
  },
  {
   "cell_type": "code",
   "execution_count": 545,
   "metadata": {},
   "outputs": [],
   "source": [
    "y_pred_final = gridRF.predict(X_test_f)"
   ]
  },
  {
   "cell_type": "code",
   "execution_count": 546,
   "metadata": {},
   "outputs": [
    {
     "name": "stdout",
     "output_type": "stream",
     "text": [
      "0.555169304195714\n",
      "0.5559023531181124\n",
      "1.1944927287084415\n"
     ]
    }
   ],
   "source": [
    "print(r2_score(y_test, y_pred_final))\n",
    "print(explained_variance_score(y_test, y_pred_final))\n",
    "print(np.sqrt(mean_squared_error(y_test, y_pred_final)))"
   ]
  },
  {
   "cell_type": "code",
   "execution_count": null,
   "metadata": {},
   "outputs": [],
   "source": [
    "gridRF['randomforestregressor']"
   ]
  },
  {
   "cell_type": "code",
   "execution_count": 547,
   "metadata": {},
   "outputs": [
    {
     "data": {
      "image/png": "[encoded data removed]",
      "text/plain": [
       "<Figure size 432x288 with 1 Axes>"
      ]
     },
     "metadata": {},
     "output_type": "display_data"
    }
   ],
   "source": [
    "plt.scatter(y_test, y_pred_final);"
   ]
  },
  {
   "cell_type": "code",
   "execution_count": 559,
   "metadata": {},
   "outputs": [
    {
     "data": {
      "text/html": [
       "<div>\n",
       "<style scoped>\n",
       "    .dataframe tbody tr th:only-of-type {\n",
       "        vertical-align: middle;\n",
       "    }\n",
       "\n",
       "    .dataframe tbody tr th {\n",
       "        vertical-align: top;\n",
       "    }\n",
       "\n",
       "    .dataframe thead th {\n",
       "        text-align: right;\n",
       "    }\n",
       "</style>\n",
       "<table border=\"1\" class=\"dataframe\">\n",
       "  <thead>\n",
       "    <tr style=\"text-align: right;\">\n",
       "      <th></th>\n",
       "      <th>feature</th>\n",
       "      <th>importance</th>\n",
       "    </tr>\n",
       "  </thead>\n",
       "  <tbody>\n",
       "    <tr>\n",
       "      <th>1</th>\n",
       "      <td>lc_82</td>\n",
       "      <td>0.1668</td>\n",
       "    </tr>\n",
       "    <tr>\n",
       "      <th>0</th>\n",
       "      <td>of_dist</td>\n",
       "      <td>0.1071</td>\n",
       "    </tr>\n",
       "    <tr>\n",
       "      <th>2</th>\n",
       "      <td>lc_11</td>\n",
       "      <td>0.0828</td>\n",
       "    </tr>\n",
       "    <tr>\n",
       "      <th>6</th>\n",
       "      <td>za_mean</td>\n",
       "      <td>0.0758</td>\n",
       "    </tr>\n",
       "    <tr>\n",
       "      <th>11</th>\n",
       "      <td>week</td>\n",
       "      <td>0.0689</td>\n",
       "    </tr>\n",
       "    <tr>\n",
       "      <th>...</th>\n",
       "      <td>...</td>\n",
       "      <td>...</td>\n",
       "    </tr>\n",
       "    <tr>\n",
       "      <th>139</th>\n",
       "      <td>NaN</td>\n",
       "      <td>0.0000</td>\n",
       "    </tr>\n",
       "    <tr>\n",
       "      <th>271</th>\n",
       "      <td>NaN</td>\n",
       "      <td>0.0000</td>\n",
       "    </tr>\n",
       "    <tr>\n",
       "      <th>234</th>\n",
       "      <td>NaN</td>\n",
       "      <td>0.0000</td>\n",
       "    </tr>\n",
       "    <tr>\n",
       "      <th>311</th>\n",
       "      <td>NaN</td>\n",
       "      <td>0.0000</td>\n",
       "    </tr>\n",
       "    <tr>\n",
       "      <th>107</th>\n",
       "      <td>NaN</td>\n",
       "      <td>0.0000</td>\n",
       "    </tr>\n",
       "  </tbody>\n",
       "</table>\n",
       "<p>414 rows × 2 columns</p>\n",
       "</div>"
      ],
      "text/plain": [
       "     feature  importance\n",
       "1    lc_82   0.1668     \n",
       "0    of_dist 0.1071     \n",
       "2    lc_11   0.0828     \n",
       "6    za_mean 0.0758     \n",
       "11   week    0.0689     \n",
       "..    ...       ...     \n",
       "139  NaN     0.0000     \n",
       "271  NaN     0.0000     \n",
       "234  NaN     0.0000     \n",
       "311  NaN     0.0000     \n",
       "107  NaN     0.0000     \n",
       "\n",
       "[414 rows x 2 columns]"
      ]
     },
     "execution_count": 559,
     "metadata": {},
     "output_type": "execute_result"
    }
   ],
   "source": [
    "features = X_train_f.columns\n",
    "#get feature importance attributed by random forest model\n",
    "importance = pd.concat([pd.Series(features),\n",
    "                       pd.Series(gridRF.best_estimator_['randomforestregressor'].feature_importances_)], axis = 1)\n",
    "\n",
    "importance.columns = ['feature', 'importance']\n",
    "importance.sort_values(by = 'importance', ascending = False)"
   ]
  },
  {
   "cell_type": "code",
   "execution_count": 560,
   "metadata": {},
   "outputs": [],
   "source": [
    "importance.to_csv('importances2.csv')"
   ]
  },
  {
   "cell_type": "code",
   "execution_count": 548,
   "metadata": {},
   "outputs": [],
   "source": [
    "#save models and predictions \n",
    "predictions_df = pd.DataFrame()\n",
    "predictions_df['Actual'] = y_test\n",
    "predictions_df['gridRF'] = y_pred_final\n",
    "predictions_df['15feat'] =  y_predrf_f\n",
    "predictions_df['23feat'] = y_predrf\n",
    "predictions_df['allfeat'] = y_pred4"
   ]
  },
  {
   "cell_type": "code",
   "execution_count": 551,
   "metadata": {},
   "outputs": [],
   "source": [
    "predictions_df.to_csv('predictions_df.csv')"
   ]
  },
  {
   "cell_type": "code",
   "execution_count": 549,
   "metadata": {},
   "outputs": [],
   "source": [
    "import joblib"
   ]
  },
  {
   "cell_type": "code",
   "execution_count": 550,
   "metadata": {},
   "outputs": [
    {
     "data": {
      "text/plain": [
       "['few_feat.sav']"
      ]
     },
     "execution_count": 550,
     "metadata": {},
     "output_type": "execute_result"
    }
   ],
   "source": [
    "# save the model to disk\n",
    "grid = 'grid.sav'\n",
    "joblib.dump(gridRF, grid)\n",
    "best = 'best.sav'\n",
    "joblib.dump(pipe_rf, best)\n",
    "few_feat = 'few_feat.sav'\n",
    "joblib.dump(pipe_rf_f, few_feat)"
   ]
  },
  {
   "cell_type": "code",
   "execution_count": null,
   "metadata": {},
   "outputs": [],
   "source": []
  }
 ],
 "metadata": {
  "kernelspec": {
   "display_name": "'tensflow'",
   "language": "python",
   "name": "tensflow"
  },
  "language_info": {
   "codemirror_mode": {
    "name": "ipython",
    "version": 3
   },
   "file_extension": ".py",
   "mimetype": "text/x-python",
   "name": "python",
   "nbconvert_exporter": "python",
   "pygments_lexer": "ipython3",
   "version": "3.7.6"
  }
 },
 "nbformat": 4,
 "nbformat_minor": 4
}
