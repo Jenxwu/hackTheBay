{
 "cells": [
  {
   "cell_type": "markdown",
   "metadata": {},
   "source": [
    "# Segmented Model for TN predictions"
   ]
  },
  {
   "cell_type": "markdown",
   "metadata": {},
   "source": [
    "From correlation analysis, it would seem that different areas of the watershed have different distributions of Total Nitrogen. For example, if a point source that is polluting the bay in/near one of the tributaries, the concentration of TN would be higher near the source than further down stream where the pollution has a chance to be diluted.\n",
    "\n",
    "From the previous analysis - there were indicators that there may be a different distributions of pollutants depending on location in the watershed. There are different methods of segmenting the data. Below will utilize the clustering algorithm DBSCAN to cluster HUC12 segment data on Distance from the outflow of the bay, TN, and TN variability.\n",
    "\n",
    " - These features may help identify HUC locations based on how pollutants flow into the bay and their past TN values\n"
   ]
  },
  {
   "cell_type": "code",
   "execution_count": 1,
   "metadata": {},
   "outputs": [],
   "source": [
    "from IPython.display import HTML, display\n",
    "\n",
    "display(HTML(\"<table><tr><td><img src='..\\\\visuals\\\\distance_tn.png'></td><td><img src='..\\\\visuals\\\\indicator.png'></td></tr></table>\"))"
   ]
  },
  {
   "cell_type": "markdown",
   "metadata": {},
   "source": [
    "The above photos show that while distance from the outflow of the bay is a correlated with total nitrogen, there are areas where levels of nitrogen is higher even when close to the bay such as the lower eastern shore. \n"
   ]
  },
  {
   "cell_type": "markdown",
   "metadata": {},
   "source": [
    "### Utilizing DBSCAN to segment the data"
   ]
  },
  {
   "cell_type": "markdown",
   "metadata": {},
   "source": [
    "<!-- DBSCAN was used with an eps of \n",
    "\n",
    "all_data[all_data.new_date>='2016'][['of_dist','huc12_','tn']] -->"
   ]
  },
  {
   "cell_type": "markdown",
   "metadata": {},
   "source": [
    " Previous models received a RMSE of ~.80 and it was found that the models were heteroskedastic, the residuals for greater values of TN were much greater than the values of lower TN. This could be due to the skewed TN, greater observations of lower TN, the large range of values. (shown below). The model is doing a much better job predicting TN in HUC12 areas of lower values of TN than larger, more variable HUC12 locations. Segmenting the data using a clustering algorithm may help seperate out areas of higher TN.\n",
    "\n",
    "The DBSCAN model can be found in the *'correlation_no2_data' notebook*.\n",
    "\n",
    "**DBSCAN parameters:**<br/>\n",
    "**eps** = .145<br/>\n",
    "**min_samples** = 9<br/>\n",
    "**features used:** *'distance from outflow of the bay'*, *TN variability*, *avg TN from within the HUC location*<br/>\n",
    "\n",
    "\n",
    "The result of the tuned DBSCAN model can be seen below with mapped HUC12 locations on the map."
   ]
  },
  {
   "cell_type": "code",
   "execution_count": 2,
   "metadata": {
    "scrolled": false
   },
   "outputs": [
    {
     "data": {
      "text/html": [
       "<table><tr><td><img src='..\\visuals\\cluster_photo.png'></td><td><img src='..\\visuals\\indicator.png'></td></tr></table>"
      ],
      "text/plain": [
       "<IPython.core.display.HTML object>"
      ]
     },
     "metadata": {},
     "output_type": "display_data"
    }
   ],
   "source": [
    "display(HTML(\"<table><tr><td><img src='..\\\\visuals\\\\cluster_points.png'>\"))\n",
    "display(HTML(\"<table><tr><td><img src='..\\\\visuals\\\\cluster_photo.png'></td><td><img src='..\\\\visuals\\\\indicator.png'></td></tr></table>\"))"
   ]
  },
  {
   "cell_type": "markdown",
   "metadata": {},
   "source": [
    "The above cluster visualization looks similar to the earlier plot segmented by TN. It captures the 'poor' indicators locatd on the Lower Easter Shore, the fair to very poor HUC locations alot further north of the bay, and further east of the bay. It doesn't however capture the poor/very poor areas along the north part of the bay near Balitmore and Washington DC, nor does it capture the 'fair' from 'very good' along the Potomac and Rappahannock rivers.\n",
    "\n",
    "Ideas to improve:\n",
    "- Additional hyperparamter tuning of the model may help in segmenting the data\n",
    "    - Robust vs Standard Scalers, and taking a log transformation of the total nitrogen may yield different results\n",
    "- Simply creating models for varying level indicators vs using a clustering algorithm may yield similar/better results"
   ]
  },
  {
   "cell_type": "code",
   "execution_count": 3,
   "metadata": {},
   "outputs": [
    {
     "name": "stderr",
     "output_type": "stream",
     "text": [
      "C:\\Users\\Bryan\\Anaconda3\\envs\\hacktb\\lib\\site-packages\\sklearn\\utils\\deprecation.py:143: FutureWarning: The sklearn.metrics.scorer module is  deprecated in version 0.22 and will be removed in version 0.24. The corresponding classes / functions should instead be imported from sklearn.metrics. Anything that cannot be imported from sklearn.metrics is now part of the private API.\n",
      "  warnings.warn(message, FutureWarning)\n",
      "C:\\Users\\Bryan\\Anaconda3\\envs\\hacktb\\lib\\site-packages\\sklearn\\utils\\deprecation.py:143: FutureWarning: The sklearn.feature_selection.base module is  deprecated in version 0.22 and will be removed in version 0.24. The corresponding classes / functions should instead be imported from sklearn.feature_selection. Anything that cannot be imported from sklearn.feature_selection is now part of the private API.\n",
      "  warnings.warn(message, FutureWarning)\n"
     ]
    }
   ],
   "source": [
    "import os\n",
    "import pandas as pd\n",
    "import numpy as np\n",
    "import eli5\n",
    "from sklearn.model_selection import train_test_split, KFold\n",
    "import matplotlib.pyplot as plt\n",
    "import seaborn as sns\n",
    "\n",
    "sns.set(context='notebook', style='dark', font_scale=1.5)\n",
    "\n",
    "PROJ_ROOT = os.path.join(os.pardir)"
   ]
  },
  {
   "cell_type": "code",
   "execution_count": 4,
   "metadata": {},
   "outputs": [],
   "source": [
    "#import the cluster data\n",
    "\n",
    "data_path = os.path.join(PROJ_ROOT, \n",
    "                         'data',\n",
    "                        'processed',\n",
    "                         'cluster_data2.csv')\n",
    "df=pd.read_csv(data_path, parse_dates=['new_date'])\n",
    "\n",
    "# import the pollutant data by HUC\n",
    "pollutants_path = (os.path.join(PROJ_ROOT, \n",
    "                         'data',\n",
    "                        'raw-data',\n",
    "                         'epa',\n",
    "                         'pollutant_sums_by_hucyr.csv'))\n",
    "huc_ps_df=pd.read_csv(pollutants_path)\n",
    "huc_ps_df.drop(huc_ps_df.columns[0],inplace=True,axis=1)"
   ]
  },
  {
   "cell_type": "code",
   "execution_count": 5,
   "metadata": {
    "scrolled": true
   },
   "outputs": [
    {
     "data": {
      "text/html": [
       "<div>\n",
       "<style scoped>\n",
       "    .dataframe tbody tr th:only-of-type {\n",
       "        vertical-align: middle;\n",
       "    }\n",
       "\n",
       "    .dataframe tbody tr th {\n",
       "        vertical-align: top;\n",
       "    }\n",
       "\n",
       "    .dataframe thead th {\n",
       "        text-align: right;\n",
       "    }\n",
       "</style>\n",
       "<table border=\"1\" class=\"dataframe\">\n",
       "  <thead>\n",
       "    <tr style=\"text-align: right;\">\n",
       "      <th></th>\n",
       "      <th>total_no</th>\n",
       "      <th>year</th>\n",
       "      <th>huc</th>\n",
       "      <th>total_no_filled</th>\n",
       "    </tr>\n",
       "  </thead>\n",
       "  <tbody>\n",
       "    <tr>\n",
       "      <th>0</th>\n",
       "      <td>0.0</td>\n",
       "      <td>2005</td>\n",
       "      <td>20700110206</td>\n",
       "      <td>383111177.5</td>\n",
       "    </tr>\n",
       "  </tbody>\n",
       "</table>\n",
       "</div>"
      ],
      "text/plain": [
       "   total_no  year          huc  total_no_filled\n",
       "0       0.0  2005  20700110206      383111177.5"
      ]
     },
     "execution_count": 5,
     "metadata": {},
     "output_type": "execute_result"
    }
   ],
   "source": [
    "huc_ps_df.head(1)"
   ]
  },
  {
   "cell_type": "code",
   "execution_count": 6,
   "metadata": {},
   "outputs": [
    {
     "data": {
      "text/plain": [
       "(66892, 63)"
      ]
     },
     "execution_count": 6,
     "metadata": {},
     "output_type": "execute_result"
    }
   ],
   "source": [
    "df.shape"
   ]
  },
  {
   "cell_type": "markdown",
   "metadata": {},
   "source": [
    "Trim the data by TN and by date.\n",
    "\n",
    "The Chesapeake Bay Health indicator here: https://ian.umces.edu/ecocheck/report-cards/chesapeake-bay/2012/indicators/total_nitrogen/#_Data_Map segments the data with an upper limit of '>2'. With TN values in the data as high as 122, an arbitrary value of 50mg/L was chosen because it is considered to be dangerous and hazard.<br/><br/>\n",
    "**<ins>More domain expertise is needed on evaluating what points can be errors/mistakes, and if the data above a certain level can be removed from the data.</ins><br/><br/>**\n",
    "\n",
    "The date of 2015 was used due to the scarsity of the land cover data. The data is from 2016 (and is updated every 3 years from the USGS/MLRC). The assumption is made that not much change in land cover has happened from one year before the data, or 3 years after.<br/><br/>\n",
    "\n",
    "https://www.who.int/water_sanitation_health/dwq/chemicals/nitratenitrite2ndadd.pdf<br/>\n",
    "https://www.pca.state.mn.us/sites/default/files/wq-s6-26a2.pdf<br/>"
   ]
  },
  {
   "cell_type": "code",
   "execution_count": 7,
   "metadata": {},
   "outputs": [
    {
     "data": {
      "text/plain": [
       "(23471, 63)"
      ]
     },
     "execution_count": 7,
     "metadata": {},
     "output_type": "execute_result"
    }
   ],
   "source": [
    "# drop 22 records that are higher concentration than 50 mg/L\n",
    "len(df[df.tn<50])\n",
    "df=df[df.tn<50]\n",
    "df=df[df.new_date >='2015']\n",
    "df.shape"
   ]
  },
  {
   "cell_type": "code",
   "execution_count": 8,
   "metadata": {},
   "outputs": [
    {
     "data": {
      "text/plain": [
       "count    23471.000000\n",
       "mean         1.731490\n",
       "std          2.185355\n",
       "min          0.020000\n",
       "25%          0.620500\n",
       "50%          1.090000\n",
       "75%          2.033000\n",
       "max         46.300000\n",
       "Name: tn, dtype: float64"
      ]
     },
     "execution_count": 8,
     "metadata": {},
     "output_type": "execute_result"
    }
   ],
   "source": [
    "# TN distribution\n",
    "df.tn.describe()"
   ]
  },
  {
   "cell_type": "code",
   "execution_count": 9,
   "metadata": {},
   "outputs": [],
   "source": [
    "\n",
    "# functions used for mean target encoding TN by huc12 area\n",
    "\n",
    "def test_mean_target_encoding(train, test, target, categorical, alpha=5):\n",
    "    # Calculate global mean on the train data\n",
    "    global_mean = train[target].mean()\n",
    "    \n",
    "    # Group by the categorical feature and calculate its properties\n",
    "    train_groups = train.groupby(categorical)\n",
    "    category_sum = train_groups[target].sum()\n",
    "    category_size = train_groups.size()\n",
    "    \n",
    "    # Calculate smoothed mean target statistics\n",
    "    train_statistics = (category_sum + global_mean * alpha) / (category_size + alpha)\n",
    "    \n",
    "    # Apply statistics to the test data and fill new categories\n",
    "    test_feature = test[categorical].map(train_statistics).fillna(global_mean)\n",
    "    return test_feature.values\n",
    "\n",
    "def train_mean_target_encoding(train, target, categorical, alpha=5):\n",
    "    # Create 5-fold cross-validation\n",
    "    kf = KFold(n_splits=5, random_state=123, shuffle=True)\n",
    "    train_feature = pd.Series(index=train.index)\n",
    "    \n",
    "    # For each folds split\n",
    "    for train_index, test_index in kf.split(train):\n",
    "        cv_train, cv_test = train.iloc[train_index], train.iloc[test_index]\n",
    "      \n",
    "        # Calculate out-of-fold statistics and apply to cv_test\n",
    "        cv_test_feature = test_mean_target_encoding(cv_train, cv_test, target, categorical, alpha)\n",
    "        \n",
    "        # Save new feature for this particular fold\n",
    "        train_feature.iloc[test_index] = cv_test_feature       \n",
    "    return train_feature.values\n",
    "\n",
    "def mean_target_encoding(train, test, target, categorical, alpha=5):\n",
    "  \n",
    "    # Get the train feature\n",
    "    train_feature = train_mean_target_encoding(train, target, categorical, alpha)\n",
    "  \n",
    "    # Get the test feature\n",
    "    test_feature = test_mean_target_encoding(train, test, target, categorical, alpha)\n",
    "    \n",
    "    # Return new features to add to the model\n",
    "    return train_feature, test_feature\n",
    "\n",
    "def indicator(x):\n",
    "    '''Function to create indicators of TN by observation'''\n",
    "    if x <.56:\n",
    "        return 'very good'\n",
    "    elif x < .65:\n",
    "        return 'good'\n",
    "    elif x < 1:\n",
    "        return 'fair'\n",
    "    elif x < 1.5:\n",
    "        return 'farily poor'\n",
    "    elif x < 2:\n",
    "        return 'poor'\n",
    "    else:\n",
    "        return 'very poor'\n",
    "    \n",
    "def combine_developed(x):\n",
    "    '''function to merge the developed type land cover data'''\n",
    "    cols=[c for c in x.index if c.startswith('lc_2')]\n",
    "    ttl=x[cols].sum()\n",
    "    return ttl\n"
   ]
  },
  {
   "cell_type": "code",
   "execution_count": 10,
   "metadata": {
    "scrolled": false
   },
   "outputs": [
    {
     "name": "stdout",
     "output_type": "stream",
     "text": [
      "<class 'pandas.core.frame.DataFrame'>\n",
      "Int64Index: 23471 entries, 0 to 66891\n",
      "Data columns (total 63 columns):\n",
      " #   Column           Non-Null Count  Dtype         \n",
      "---  ------           --------------  -----         \n",
      " 0   new_date         23471 non-null  datetime64[ns]\n",
      " 1   latitude         23471 non-null  float64       \n",
      " 2   longitude        23471 non-null  float64       \n",
      " 3   sampledepth      23471 non-null  float64       \n",
      " 4   huc12_           23471 non-null  int64         \n",
      " 5   hucname_         23471 non-null  object        \n",
      " 6   areaacres        23471 non-null  float64       \n",
      " 7   za_mean          23471 non-null  float64       \n",
      " 8   lc_0             23471 non-null  float64       \n",
      " 9   lc_11            23471 non-null  float64       \n",
      " 10  lc_21            23471 non-null  float64       \n",
      " 11  lc_22            23471 non-null  float64       \n",
      " 12  lc_23            23471 non-null  float64       \n",
      " 13  lc_24            23471 non-null  float64       \n",
      " 14  lc_31            23471 non-null  float64       \n",
      " 15  lc_41            23471 non-null  float64       \n",
      " 16  lc_42            23471 non-null  float64       \n",
      " 17  lc_43            23471 non-null  float64       \n",
      " 18  lc_52            23471 non-null  float64       \n",
      " 19  lc_71            23471 non-null  float64       \n",
      " 20  lc_81            23471 non-null  float64       \n",
      " 21  lc_82            23471 non-null  float64       \n",
      " 22  lc_90            23471 non-null  float64       \n",
      " 23  lc_95            23471 non-null  float64       \n",
      " 24  month            23471 non-null  int64         \n",
      " 25  year             23471 non-null  int64         \n",
      " 26  week             23471 non-null  int64         \n",
      " 27  dayofweek        23471 non-null  int64         \n",
      " 28  hour             23471 non-null  int64         \n",
      " 29  min              23471 non-null  int64         \n",
      " 30  quarter          23471 non-null  int64         \n",
      " 31  tn               23471 non-null  float64       \n",
      " 32  airtemp_narr     23471 non-null  float64       \n",
      " 33  precip3_narr     23471 non-null  float64       \n",
      " 34  humidity_narr    23471 non-null  float64       \n",
      " 35  cl_cover_narr    23471 non-null  float64       \n",
      " 36  sfc_runoff       23471 non-null  float64       \n",
      " 37  sfc_air_narr     23471 non-null  float64       \n",
      " 38  u_wind_narr      23471 non-null  float64       \n",
      " 39  v_wind_narr      23471 non-null  float64       \n",
      " 40  windspeed_narr   23471 non-null  float64       \n",
      " 41  wdirection_narr  23471 non-null  float64       \n",
      " 42  precip24_narr    23471 non-null  float64       \n",
      " 43  precip48_narr    23471 non-null  float64       \n",
      " 44  quan_10          23471 non-null  object        \n",
      " 45  n_bins           23471 non-null  object        \n",
      " 46  n                23471 non-null  int64         \n",
      " 47  of_dist          23471 non-null  float64       \n",
      " 48  date             23471 non-null  object        \n",
      " 49  p10_lat          23471 non-null  float64       \n",
      " 50  p10_long         23471 non-null  float64       \n",
      " 51  distance10       23471 non-null  float64       \n",
      " 52  no_lat           23471 non-null  float64       \n",
      " 53  no_long          23471 non-null  float64       \n",
      " 54  date_local       23471 non-null  object        \n",
      " 55  arithmetic_mean  23471 non-null  float64       \n",
      " 56  first_max_value  23471 non-null  float64       \n",
      " 57  correlated       23471 non-null  object        \n",
      " 58  geometry         23471 non-null  object        \n",
      " 59  day              23471 non-null  int64         \n",
      " 60  indicator        23471 non-null  object        \n",
      " 61  mean_tn          23471 non-null  float64       \n",
      " 62  cluster          23471 non-null  float64       \n",
      "dtypes: datetime64[ns](1), float64(44), int64(10), object(8)\n",
      "memory usage: 11.5+ MB\n"
     ]
    }
   ],
   "source": [
    "df.info()"
   ]
  },
  {
   "cell_type": "code",
   "execution_count": 11,
   "metadata": {},
   "outputs": [],
   "source": [
    "# subset the relevant data that will be used\n",
    "df=df[['new_date','huc12_',\n",
    "       'areaacres', 'za_mean', 'lc_21', 'lc_22',\n",
    "       'lc_23', 'lc_24', 'lc_31', 'lc_41', 'lc_42', 'lc_43', 'lc_52', 'lc_71',\n",
    "       'lc_81', 'lc_82', 'lc_90', 'lc_95', 'month', 'year', 'week','day',\n",
    "       'hour', 'min', 'tn', 'airtemp_narr',\n",
    "       'precip3_narr', 'humidity_narr', 'cl_cover_narr', 'sfc_runoff',\n",
    "       'sfc_air_narr', 'u_wind_narr', 'v_wind_narr', 'windspeed_narr',\n",
    "       'wdirection_narr', 'precip24_narr', 'precip48_narr', 'quan_10',\n",
    "       'n_bins', 'n', 'of_dist', 'date','distance10',\n",
    "       'arithmetic_mean', 'first_max_value',\n",
    "       'correlated', 'indicator', 'mean_tn', 'cluster']]"
   ]
  },
  {
   "cell_type": "code",
   "execution_count": 12,
   "metadata": {},
   "outputs": [],
   "source": [
    "# Factorize the categorical data points\n",
    "df['correlated'] = df.correlated.factorize()[0]\n",
    "df['indicator'] = df.indicator.factorize()[0]"
   ]
  },
  {
   "cell_type": "markdown",
   "metadata": {},
   "source": [
    "Aggregate the data. Currently observations are by min. With many observations in an hour or day. Aggregating the data can help limit the variations seen in the data. \n",
    "\n",
    "More domain expertise is needed here. For determing import features, by month seems like a good level to view the data. To improve this model, determining confidence intervals here could prove useful."
   ]
  },
  {
   "cell_type": "code",
   "execution_count": 13,
   "metadata": {},
   "outputs": [],
   "source": [
    "# group the data, observations down to the hour or day can create a lot of\n",
    "\n",
    "# aggreagate by day\n",
    "# grouped_df = df.groupby(['huc12_','year','month','day'], as_index=False).mean()\n",
    "\n",
    "#aggregate by month\n",
    "grouped_df = df.groupby(['huc12_','year','month'], as_index=False).mean()"
   ]
  },
  {
   "cell_type": "code",
   "execution_count": 14,
   "metadata": {},
   "outputs": [
    {
     "data": {
      "text/html": [
       "<div>\n",
       "<style scoped>\n",
       "    .dataframe tbody tr th:only-of-type {\n",
       "        vertical-align: middle;\n",
       "    }\n",
       "\n",
       "    .dataframe tbody tr th {\n",
       "        vertical-align: top;\n",
       "    }\n",
       "\n",
       "    .dataframe thead th {\n",
       "        text-align: right;\n",
       "    }\n",
       "</style>\n",
       "<table border=\"1\" class=\"dataframe\">\n",
       "  <thead>\n",
       "    <tr style=\"text-align: right;\">\n",
       "      <th></th>\n",
       "      <th>huc12_</th>\n",
       "      <th>year</th>\n",
       "      <th>month</th>\n",
       "      <th>tn</th>\n",
       "    </tr>\n",
       "  </thead>\n",
       "  <tbody>\n",
       "    <tr>\n",
       "      <th>2316</th>\n",
       "      <td>20600010000</td>\n",
       "      <td>2016</td>\n",
       "      <td>8</td>\n",
       "      <td>43</td>\n",
       "    </tr>\n",
       "  </tbody>\n",
       "</table>\n",
       "</div>"
      ],
      "text/plain": [
       "           huc12_  year  month  tn\n",
       "2316  20600010000  2016      8  43"
      ]
     },
     "execution_count": 14,
     "metadata": {},
     "output_type": "execute_result"
    }
   ],
   "source": [
    "# check how for the most number of samples taken at one site in a day\n",
    "# df.groupby(['huc12_','year','month','day'], as_index=False)['tn'].count().sort_values(by='tn',ascending=False).head(1)\n",
    "\n",
    "# check how for the most number of samples taken at one site in a month\n",
    "df.groupby(['huc12_','year','month'], as_index=False)['tn'].count().sort_values(by='tn',ascending=False).head(1)"
   ]
  },
  {
   "cell_type": "code",
   "execution_count": 15,
   "metadata": {},
   "outputs": [
    {
     "name": "stdout",
     "output_type": "stream",
     "text": [
      "1     8154\n",
      "2     2936\n",
      "3     1124\n",
      "4      417\n",
      "5      109\n",
      "6       81\n",
      "7       28\n",
      "8       13\n",
      "9       26\n",
      "10      12\n",
      "11       5\n",
      "12       3\n",
      "13      27\n",
      "14       3\n",
      "15       3\n",
      "16       5\n",
      "18       8\n",
      "19       9\n",
      "20      20\n",
      "21       6\n",
      "22       7\n",
      "23       2\n",
      "24       9\n",
      "29       1\n",
      "30       1\n",
      "35       2\n",
      "36       1\n",
      "37       1\n",
      "38       1\n",
      "39       3\n",
      "40       3\n",
      "41       4\n",
      "42       2\n",
      "43       3\n",
      "Name: tn, dtype: int64\n",
      "1     0.625835\n",
      "2     0.225343\n",
      "3     0.086269\n",
      "4     0.032006\n",
      "5     0.008366\n",
      "6     0.006217\n",
      "7     0.002149\n",
      "8     0.000998\n",
      "9     0.001996\n",
      "10    0.000921\n",
      "11    0.000384\n",
      "12    0.000230\n",
      "13    0.002072\n",
      "14    0.000230\n",
      "15    0.000230\n",
      "16    0.000384\n",
      "18    0.000614\n",
      "19    0.000691\n",
      "20    0.001535\n",
      "21    0.000461\n",
      "22    0.000537\n",
      "23    0.000154\n",
      "24    0.000691\n",
      "29    0.000077\n",
      "30    0.000077\n",
      "35    0.000154\n",
      "36    0.000077\n",
      "37    0.000077\n",
      "38    0.000077\n",
      "39    0.000230\n",
      "40    0.000230\n",
      "41    0.000307\n",
      "42    0.000154\n",
      "43    0.000230\n",
      "Name: tn, dtype: float64\n"
     ]
    }
   ],
   "source": [
    "#look at the distribution of number of samples in one day\n",
    "# print(df.groupby(['huc12_','year','month','day'], as_index=False)['tn'].count().tn.value_counts().sort_index())\n",
    "# print(df.groupby(['huc12_','year','month','day'], as_index=False)['tn'].count().tn.value_counts(normalize=True).sort_index())\n",
    "\n",
    "#look at the distribution of number of samples in one month\n",
    "print(df.groupby(['huc12_','year','month'], as_index=False)['tn'].count().tn.value_counts().sort_index())\n",
    "print(df.groupby(['huc12_','year','month'], as_index=False)['tn'].count().tn.value_counts(normalize=True).sort_index())"
   ]
  },
  {
   "cell_type": "code",
   "execution_count": 16,
   "metadata": {},
   "outputs": [],
   "source": [
    "# group the data by day\n",
    "# grouped_df=df.groupby(['huc12_','year','month','day'], as_index=False).mean()\n",
    "\n",
    "#group the data by month\n",
    "grouped_df=df.groupby(['huc12_','year','month'], as_index=False).mean()"
   ]
  },
  {
   "cell_type": "code",
   "execution_count": 17,
   "metadata": {},
   "outputs": [
    {
     "data": {
      "text/plain": [
       "(13029, 45)"
      ]
     },
     "execution_count": 17,
     "metadata": {},
     "output_type": "execute_result"
    }
   ],
   "source": [
    "grouped_df.shape"
   ]
  },
  {
   "cell_type": "code",
   "execution_count": 18,
   "metadata": {},
   "outputs": [
    {
     "data": {
      "text/plain": [
       "Index(['huc12_', 'year', 'month', 'areaacres', 'za_mean', 'lc_21', 'lc_22',\n",
       "       'lc_23', 'lc_24', 'lc_31', 'lc_41', 'lc_42', 'lc_43', 'lc_52', 'lc_71',\n",
       "       'lc_81', 'lc_82', 'lc_90', 'lc_95', 'week', 'day', 'hour', 'min', 'tn',\n",
       "       'airtemp_narr', 'precip3_narr', 'humidity_narr', 'cl_cover_narr',\n",
       "       'sfc_runoff', 'sfc_air_narr', 'u_wind_narr', 'v_wind_narr',\n",
       "       'windspeed_narr', 'wdirection_narr', 'precip24_narr', 'precip48_narr',\n",
       "       'n', 'of_dist', 'distance10', 'arithmetic_mean', 'first_max_value',\n",
       "       'correlated', 'indicator', 'mean_tn', 'cluster'],\n",
       "      dtype='object')"
      ]
     },
     "execution_count": 18,
     "metadata": {},
     "output_type": "execute_result"
    }
   ],
   "source": [
    "grouped_df.columns"
   ]
  },
  {
   "cell_type": "markdown",
   "metadata": {},
   "source": [
    "Grouping the data by day or month may have affected the weather data, however the land cover data would have been the same."
   ]
  },
  {
   "cell_type": "markdown",
   "metadata": {},
   "source": [
    "Take a look at the distribution of the segments provided by the DBSCAN algorithm.\n",
    "- 3.0 and 0.0 are in one group and considered 'good/fair' TN values that are close to the bay\n",
    "- -1.0, 1.0 and 2.0 are in the othe rgroup and considered 'poor' TN values and are further from the bay\n"
   ]
  },
  {
   "cell_type": "code",
   "execution_count": 19,
   "metadata": {
    "scrolled": false
   },
   "outputs": [
    {
     "name": "stdout",
     "output_type": "stream",
     "text": [
      "-1.0    12611\n",
      " 0.0     6886\n",
      " 3.0     2110\n",
      " 1.0     1118\n",
      " 2.0      746\n",
      "Name: cluster, dtype: int64\n",
      "-1.0    0.537301\n",
      " 0.0    0.293383\n",
      " 3.0    0.089898\n",
      " 1.0    0.047633\n",
      " 2.0    0.031784\n",
      "Name: cluster, dtype: float64\n"
     ]
    }
   ],
   "source": [
    "print(df.cluster.value_counts())\n",
    "print(df.cluster.value_counts(normalize=True))"
   ]
  },
  {
   "cell_type": "code",
   "execution_count": 20,
   "metadata": {
    "scrolled": false
   },
   "outputs": [
    {
     "name": "stdout",
     "output_type": "stream",
     "text": [
      "-1.0    0.547625\n",
      " 0.0    0.296953\n",
      " 1.0    0.058562\n",
      " 3.0    0.052191\n",
      " 2.0    0.044670\n",
      "Name: cluster, dtype: float64\n",
      "-1.0    12611\n",
      " 0.0     6886\n",
      " 3.0     2110\n",
      " 1.0     1118\n",
      " 2.0      746\n",
      "Name: cluster, dtype: int64\n"
     ]
    }
   ],
   "source": [
    "print(grouped_df.cluster.value_counts(normalize=True))\n",
    "print(df.cluster.value_counts())"
   ]
  },
  {
   "cell_type": "markdown",
   "metadata": {},
   "source": [
    "NO2 seems to have a slight seasonal affect. \n",
    "More data is needed ( or more domain knowledge) by month to accuratley breakdown this yearly data by month/day. Determing the type of point source solution may also help. <br/>\n",
    "Data from Seasonal Characteristics of NOX is utilized. To weight each month's total to the yearly NO2 emission for each point source.\n",
    "\n",
    "https://www.sciencedirect.com/science/article/pii/S1309104215304475\n",
    "\n"
   ]
  },
  {
   "cell_type": "code",
   "execution_count": 21,
   "metadata": {},
   "outputs": [],
   "source": [
    "# monthly average concentrations of air NO2 readings\n",
    "navgs = np.array([16.9,15.9,16.3,20.2,17.7,15.5,14.3,14.6,15.5,16.4,12.9,16.7])\n",
    "\n",
    "# dividing by the yearly average\n",
    "nwts = navgs/16.1"
   ]
  },
  {
   "cell_type": "code",
   "execution_count": 22,
   "metadata": {
    "scrolled": true
   },
   "outputs": [
    {
     "data": {
      "text/plain": [
       "array([1.04968944, 0.98757764, 1.01242236, 1.25465839, 1.09937888,\n",
       "       0.96273292, 0.88819876, 0.9068323 , 0.96273292, 1.01863354,\n",
       "       0.80124224, 1.03726708])"
      ]
     },
     "execution_count": 22,
     "metadata": {},
     "output_type": "execute_result"
    }
   ],
   "source": [
    "# weights to be used to convert the yearly emissions data to monthly averages\n",
    "nwts"
   ]
  },
  {
   "cell_type": "code",
   "execution_count": 23,
   "metadata": {},
   "outputs": [],
   "source": [
    "\n",
    "# merge the grouped data to the pollution data\n",
    "grouped_df=pd.merge(grouped_df,\n",
    "                    huc_ps_df[['year','huc','total_no_filled']],\n",
    "                    left_on=['huc12_','year'],\n",
    "                    right_on=['huc','year'],\n",
    "                    how='left' )\n"
   ]
  },
  {
   "cell_type": "code",
   "execution_count": 24,
   "metadata": {},
   "outputs": [
    {
     "data": {
      "text/plain": [
       "757"
      ]
     },
     "execution_count": 24,
     "metadata": {},
     "output_type": "execute_result"
    }
   ],
   "source": [
    "# missing values\n",
    "grouped_df.total_no_filled.isna().sum()"
   ]
  },
  {
   "cell_type": "markdown",
   "metadata": {},
   "source": [
    "There is missing values for air emissions data. The missing values will be filled with the global mean"
   ]
  },
  {
   "cell_type": "code",
   "execution_count": 25,
   "metadata": {},
   "outputs": [],
   "source": [
    "#fill in missing HUC code information with the global mean\n",
    "grouped_df.total_no_filled.fillna(grouped_df.total_no_filled.mean(),inplace=True)"
   ]
  },
  {
   "cell_type": "code",
   "execution_count": 26,
   "metadata": {},
   "outputs": [],
   "source": [
    "#drop the redudant huc column\n",
    "grouped_df.drop(['huc'],axis=1,inplace=True)"
   ]
  },
  {
   "cell_type": "code",
   "execution_count": 27,
   "metadata": {},
   "outputs": [],
   "source": [
    "# create a function to calculate monthly totals based on the yearly point\n",
    "# source emission and the calculated monthly weights\n",
    "\n",
    "def adjusted_monthly_no2(x):\n",
    "    #divide to calculate the montly total\n",
    "    monthly_total = x.total_no_filled/12\n",
    "    #adjust for seasonality\n",
    "    adj_monthly_ttl = monthly_total*nwts[int(x.month)-1]\n",
    "    \n",
    "    return adj_monthly_ttl\n",
    "\n",
    "grouped_df['no2_emission']=grouped_df.apply(adjusted_monthly_no2,axis=1)"
   ]
  },
  {
   "cell_type": "code",
   "execution_count": 28,
   "metadata": {},
   "outputs": [],
   "source": [
    "# combine the land cover 'develeoped' data together\n",
    "grouped_df['lc_20'] = grouped_df.apply(combine_developed, axis=1)\n",
    "\n",
    "cols = [c for c in grouped_df.columns if c.startswith('lc_2') and c is not 'lc_20']\n",
    "grouped_df.drop(cols, axis=1, inplace=True)\n"
   ]
  },
  {
   "cell_type": "code",
   "execution_count": 29,
   "metadata": {},
   "outputs": [
    {
     "data": {
      "text/plain": [
       "Index(['huc12_', 'year', 'month', 'areaacres', 'za_mean', 'lc_31', 'lc_41',\n",
       "       'lc_42', 'lc_43', 'lc_52', 'lc_71', 'lc_81', 'lc_82', 'lc_90', 'lc_95',\n",
       "       'week', 'day', 'hour', 'min', 'tn', 'airtemp_narr', 'precip3_narr',\n",
       "       'humidity_narr', 'cl_cover_narr', 'sfc_runoff', 'sfc_air_narr',\n",
       "       'u_wind_narr', 'v_wind_narr', 'windspeed_narr', 'wdirection_narr',\n",
       "       'precip24_narr', 'precip48_narr', 'n', 'of_dist', 'distance10',\n",
       "       'arithmetic_mean', 'first_max_value', 'correlated', 'indicator',\n",
       "       'mean_tn', 'cluster', 'total_no_filled', 'no2_emission', 'lc_20'],\n",
       "      dtype='object')"
      ]
     },
     "execution_count": 29,
     "metadata": {},
     "output_type": "execute_result"
    }
   ],
   "source": [
    "grouped_df.columns"
   ]
  },
  {
   "cell_type": "markdown",
   "metadata": {},
   "source": [
    "Drop the unused columns from aggregating to month, and merging with other data"
   ]
  },
  {
   "cell_type": "code",
   "execution_count": 30,
   "metadata": {},
   "outputs": [],
   "source": [
    "# dropped_cols=['mean_tn','n','week','hour','min','total_no_filled']\n",
    "dropped_cols=['mean_tn','n','week','hour','min','day','total_no_filled']"
   ]
  },
  {
   "cell_type": "markdown",
   "metadata": {},
   "source": [
    "### Determining additional columns to drop due to collinearity"
   ]
  },
  {
   "cell_type": "code",
   "execution_count": 31,
   "metadata": {},
   "outputs": [
    {
     "data": {
      "text/html": [
       "<div>\n",
       "<style scoped>\n",
       "    .dataframe tbody tr th:only-of-type {\n",
       "        vertical-align: middle;\n",
       "    }\n",
       "\n",
       "    .dataframe tbody tr th {\n",
       "        vertical-align: top;\n",
       "    }\n",
       "\n",
       "    .dataframe thead th {\n",
       "        text-align: right;\n",
       "    }\n",
       "</style>\n",
       "<table border=\"1\" class=\"dataframe\">\n",
       "  <thead>\n",
       "    <tr style=\"text-align: right;\">\n",
       "      <th></th>\n",
       "      <th>ft1</th>\n",
       "      <th>ft2</th>\n",
       "      <th>corr</th>\n",
       "    </tr>\n",
       "  </thead>\n",
       "  <tbody>\n",
       "    <tr>\n",
       "      <th>37</th>\n",
       "      <td>wdirection_narr</td>\n",
       "      <td>u_wind_narr</td>\n",
       "      <td>1.000000</td>\n",
       "    </tr>\n",
       "    <tr>\n",
       "      <th>38</th>\n",
       "      <td>u_wind_narr</td>\n",
       "      <td>wdirection_narr</td>\n",
       "      <td>1.000000</td>\n",
       "    </tr>\n",
       "    <tr>\n",
       "      <th>39</th>\n",
       "      <td>airtemp_narr</td>\n",
       "      <td>sfc_air_narr</td>\n",
       "      <td>0.972993</td>\n",
       "    </tr>\n",
       "    <tr>\n",
       "      <th>40</th>\n",
       "      <td>sfc_air_narr</td>\n",
       "      <td>airtemp_narr</td>\n",
       "      <td>0.972993</td>\n",
       "    </tr>\n",
       "    <tr>\n",
       "      <th>41</th>\n",
       "      <td>v_wind_narr</td>\n",
       "      <td>wdirection_narr</td>\n",
       "      <td>0.924918</td>\n",
       "    </tr>\n",
       "    <tr>\n",
       "      <th>42</th>\n",
       "      <td>wdirection_narr</td>\n",
       "      <td>v_wind_narr</td>\n",
       "      <td>0.924918</td>\n",
       "    </tr>\n",
       "    <tr>\n",
       "      <th>43</th>\n",
       "      <td>v_wind_narr</td>\n",
       "      <td>u_wind_narr</td>\n",
       "      <td>0.924918</td>\n",
       "    </tr>\n",
       "    <tr>\n",
       "      <th>44</th>\n",
       "      <td>u_wind_narr</td>\n",
       "      <td>v_wind_narr</td>\n",
       "      <td>0.924918</td>\n",
       "    </tr>\n",
       "    <tr>\n",
       "      <th>45</th>\n",
       "      <td>first_max_value</td>\n",
       "      <td>arithmetic_mean</td>\n",
       "      <td>0.898943</td>\n",
       "    </tr>\n",
       "    <tr>\n",
       "      <th>46</th>\n",
       "      <td>arithmetic_mean</td>\n",
       "      <td>first_max_value</td>\n",
       "      <td>0.898943</td>\n",
       "    </tr>\n",
       "  </tbody>\n",
       "</table>\n",
       "</div>"
      ],
      "text/plain": [
       "                ft1              ft2      corr\n",
       "37  wdirection_narr      u_wind_narr  1.000000\n",
       "38      u_wind_narr  wdirection_narr  1.000000\n",
       "39     airtemp_narr     sfc_air_narr  0.972993\n",
       "40     sfc_air_narr     airtemp_narr  0.972993\n",
       "41      v_wind_narr  wdirection_narr  0.924918\n",
       "42  wdirection_narr      v_wind_narr  0.924918\n",
       "43      v_wind_narr      u_wind_narr  0.924918\n",
       "44      u_wind_narr      v_wind_narr  0.924918\n",
       "45  first_max_value  arithmetic_mean  0.898943\n",
       "46  arithmetic_mean  first_max_value  0.898943"
      ]
     },
     "execution_count": 31,
     "metadata": {},
     "output_type": "execute_result"
    }
   ],
   "source": [
    "corr = grouped_df.drop(dropped_cols,axis=1).corr()\n",
    "corr = corr.abs().unstack()\n",
    "corr = corr.sort_values(ascending = False)\n",
    "corr=pd.DataFrame(corr).reset_index()#.columns=['ft1','ft2','corr']\n",
    "corr.columns=['ft1','ft2','corr']\n",
    "corr[(corr['corr']>.8) & (corr['corr'] <1)]"
   ]
  },
  {
   "cell_type": "markdown",
   "metadata": {},
   "source": [
    "Drop the below columns that had a high correlation with other features. The features that were selected held a slightly higher correlation with the TN feature."
   ]
  },
  {
   "cell_type": "code",
   "execution_count": 32,
   "metadata": {},
   "outputs": [],
   "source": [
    "dropped_cols = dropped_cols + ['u_wind_narr','sfc_air_narr','v_wind_narr','first_max_value','precip48_narr']"
   ]
  },
  {
   "cell_type": "code",
   "execution_count": 33,
   "metadata": {},
   "outputs": [
    {
     "data": {
      "text/html": [
       "<div>\n",
       "<style scoped>\n",
       "    .dataframe tbody tr th:only-of-type {\n",
       "        vertical-align: middle;\n",
       "    }\n",
       "\n",
       "    .dataframe tbody tr th {\n",
       "        vertical-align: top;\n",
       "    }\n",
       "\n",
       "    .dataframe thead th {\n",
       "        text-align: right;\n",
       "    }\n",
       "</style>\n",
       "<table border=\"1\" class=\"dataframe\">\n",
       "  <thead>\n",
       "    <tr style=\"text-align: right;\">\n",
       "      <th></th>\n",
       "      <th>ft1</th>\n",
       "      <th>ft2</th>\n",
       "      <th>corr</th>\n",
       "    </tr>\n",
       "  </thead>\n",
       "  <tbody>\n",
       "  </tbody>\n",
       "</table>\n",
       "</div>"
      ],
      "text/plain": [
       "Empty DataFrame\n",
       "Columns: [ft1, ft2, corr]\n",
       "Index: []"
      ]
     },
     "execution_count": 33,
     "metadata": {},
     "output_type": "execute_result"
    }
   ],
   "source": [
    "#check taht there are no more  feautres that are correlated\n",
    "\n",
    "corr = grouped_df.drop(dropped_cols,axis=1).corr()\n",
    "corr = corr.abs().unstack()\n",
    "corr = corr.sort_values(ascending = False)\n",
    "corr=pd.DataFrame(corr).reset_index()\n",
    "corr.columns=['ft1','ft2','corr']\n",
    "corr[(corr['corr']>.8) & (corr['corr'] <1)]"
   ]
  },
  {
   "cell_type": "markdown",
   "metadata": {},
   "source": [
    "### Segment the data and correlate the data with TN\n",
    "\n",
    "Other combinations can be tried, such as creating more than two models, and segmenting the data by each group from the clustering algorithm, or, by each TN indicator."
   ]
  },
  {
   "cell_type": "code",
   "execution_count": 34,
   "metadata": {
    "scrolled": true
   },
   "outputs": [],
   "source": [
    "# df1=grouped_df[grouped_df.cluster==1.0]\n",
    "# df2=grouped_df[grouped_df.cluster!=1.0]\n",
    "\n",
    "df1=grouped_df[grouped_df.cluster.isin([3.0,0.0])]\n",
    "df2=grouped_df[grouped_df.cluster.isin([2.0,-1.0,1.0 ])]"
   ]
  },
  {
   "cell_type": "markdown",
   "metadata": {},
   "source": [
    "#### All the data together"
   ]
  },
  {
   "cell_type": "code",
   "execution_count": 35,
   "metadata": {},
   "outputs": [
    {
     "data": {
      "image/png": "[encoded data removed]",
      "text/plain": [
       "<Figure size 1080x360 with 1 Axes>"
      ]
     },
     "metadata": {},
     "output_type": "display_data"
    }
   ],
   "source": [
    "corr = grouped_df.drop(dropped_cols,axis=1).corr()\n",
    "corr=corr[['tn']].drop('tn')\n",
    "corr.plot(kind='bar', figsize=(15,5))\n",
    "plt.axhline(y=0.3, color='g', linestyle='-')\n",
    "plt.axhline(y=-0.3, color='g', linestyle='-')\n",
    "_=plt.title('Correlation with TN')\n",
    "plt.show()"
   ]
  },
  {
   "cell_type": "markdown",
   "metadata": {},
   "source": [
    "#### Only the 'close/low TN' data from the first group"
   ]
  },
  {
   "cell_type": "code",
   "execution_count": 36,
   "metadata": {
    "scrolled": false
   },
   "outputs": [
    {
     "data": {
      "image/png": "[encoded data removed]",
      "text/plain": [
       "<Figure size 1080x360 with 1 Axes>"
      ]
     },
     "metadata": {},
     "output_type": "display_data"
    }
   ],
   "source": [
    "corr = df1.drop(dropped_cols,axis=1).corr()\n",
    "corr=corr[['tn']].drop('tn')\n",
    "corr.plot(kind='bar', figsize=(15,5))\n",
    "plt.axhline(y=0.3, color='g', linestyle='-')\n",
    "plt.axhline(y=-0.3, color='g', linestyle='-')\n",
    "_=plt.title('Correlation with TN')\n",
    "plt.show()"
   ]
  },
  {
   "cell_type": "markdown",
   "metadata": {},
   "source": [
    "#### Only the 'far'/'high TN' data from the second group"
   ]
  },
  {
   "cell_type": "code",
   "execution_count": 37,
   "metadata": {
    "scrolled": false
   },
   "outputs": [
    {
     "data": {
      "image/png": "[encoded data removed]",
      "text/plain": [
       "<Figure size 1080x360 with 1 Axes>"
      ]
     },
     "metadata": {},
     "output_type": "display_data"
    }
   ],
   "source": [
    "corr = df2.drop(dropped_cols,axis=1).corr()\n",
    "corr=corr[['tn']].drop('tn')\n",
    "corr.plot(kind='bar', figsize=(15,5))\n",
    "plt.axhline(y=0.3, color='g', linestyle='-')\n",
    "plt.axhline(y=-0.3, color='g', linestyle='-')\n",
    "_=plt.title('Correlation with TN')\n",
    "plt.show()"
   ]
  },
  {
   "cell_type": "markdown",
   "metadata": {},
   "source": [
    "While there are no highly correlated features, there are some interesting observations between the plots.\n",
    "\n",
    "- Most notably, land cover 81 & 82 seem to have a higher correlation with the second group than with the first. \n",
    "- Distance from the outflow of the bay seems to have a hgiher correlation with the first group, and minimal correlation with the second group.\n",
    "- The 'correlated' feature seems to have a correlation with the second group, and there seems to be no correlation with the first group."
   ]
  },
  {
   "cell_type": "code",
   "execution_count": 38,
   "metadata": {},
   "outputs": [],
   "source": [
    "# remove additional duplicate features that have minimal/no correlation with TN\n",
    "dropped_cols = dropped_cols + ['wdirection_narr','precip3_narr','cl_cover_narr','indicator']"
   ]
  },
  {
   "cell_type": "code",
   "execution_count": 39,
   "metadata": {},
   "outputs": [
    {
     "data": {
      "text/plain": [
       "(13029, 43)"
      ]
     },
     "execution_count": 39,
     "metadata": {},
     "output_type": "execute_result"
    }
   ],
   "source": [
    "grouped_df.drop(['tn'],axis=1).shape"
   ]
  },
  {
   "cell_type": "code",
   "execution_count": 40,
   "metadata": {},
   "outputs": [],
   "source": [
    "\n",
    "# create bins for the TN feature\n",
    "bins = pd.IntervalIndex.from_tuples([(0, .56), (.56,.65), (.65, 1),(1,1.5), (1.5,2), (2,np.inf)], closed='left')\n",
    "grouped_df['n_bins']=pd.cut(grouped_df.tn, bins=bins, labels=False)\n",
    "df1=grouped_df[grouped_df.cluster.isin([3.0,0.0])]\n",
    "\n",
    "# split the data and stratify on the n_bins column to ensure there is a \n",
    "# similar distribution of TN in both the test and train datasets\n",
    "X_train, X_test, y_train, y_test = train_test_split(df1.drop(dropped_cols+['tn'],axis=1),\n",
    "                                                    df1['tn'],\n",
    "                                                    test_size=.2,\n",
    "                                                    random_state=5,\n",
    "                                                    stratify=df1['n_bins'])"
   ]
  },
  {
   "cell_type": "code",
   "execution_count": 41,
   "metadata": {},
   "outputs": [
    {
     "data": {
      "text/plain": [
       "[0.65, 1.0)     0.374148\n",
       "[0.0, 0.56)     0.339195\n",
       "[0.56, 0.65)    0.140251\n",
       "[1.0, 1.5)      0.129919\n",
       "[1.5, 2.0)      0.014509\n",
       "[2.0, inf)      0.001978\n",
       "Name: n_bins, dtype: float64"
      ]
     },
     "metadata": {},
     "output_type": "display_data"
    },
    {
     "data": {
      "text/plain": [
       "[0.65, 1.0)     0.374279\n",
       "[0.0, 0.56)     0.339104\n",
       "[0.56, 0.65)    0.140148\n",
       "[1.0, 1.5)      0.129981\n",
       "[1.5, 2.0)      0.014564\n",
       "[2.0, inf)      0.001924\n",
       "Name: n_bins, dtype: float64"
      ]
     },
     "metadata": {},
     "output_type": "display_data"
    }
   ],
   "source": [
    "# ensure that the target variable is stratified across the different values of TN to generalize better\n",
    "display(df1.n_bins.value_counts(normalize=True))\n",
    "display(X_train.n_bins.value_counts(normalize=True))\n",
    "\n",
    "# drop n_bins column\n",
    "X_train.drop(['n_bins'],inplace=True,axis=1)\n",
    "X_test.drop(['n_bins'],inplace=True,axis=1)"
   ]
  },
  {
   "cell_type": "code",
   "execution_count": 42,
   "metadata": {},
   "outputs": [
    {
     "name": "stderr",
     "output_type": "stream",
     "text": [
      "C:\\Users\\Bryan\\Anaconda3\\envs\\hacktb\\lib\\site-packages\\ipykernel_launcher.py:22: DeprecationWarning: The default dtype for empty Series will be 'object' instead of 'float64' in a future version. Specify a dtype explicitly to silence this warning.\n"
     ]
    }
   ],
   "source": [
    "# create a mean target encoding for each huc12 segment and place in both training and test sets\n",
    "X_train['tn']=y_train\n",
    "X_train['huc12_enc'], X_test['huc12_enc'] = mean_target_encoding(train=X_train,\n",
    "                                                                           test=X_test,\n",
    "                                                                           target='tn',\n",
    "                                                                           categorical='huc12_',\n",
    "                                                                           alpha=10)\n",
    "X_train.drop(['tn'],inplace=True, axis=1)"
   ]
  },
  {
   "cell_type": "code",
   "execution_count": 43,
   "metadata": {},
   "outputs": [],
   "source": [
    "# drop  the HUC12 feature\n",
    "X_train.drop(['huc12_'], axis=1, inplace=True)\n",
    "X_test.drop(['huc12_'], axis=1, inplace=True)"
   ]
  },
  {
   "cell_type": "code",
   "execution_count": 44,
   "metadata": {
    "scrolled": true
   },
   "outputs": [
    {
     "data": {
      "text/plain": [
       "(3639, 27)"
      ]
     },
     "execution_count": 44,
     "metadata": {},
     "output_type": "execute_result"
    }
   ],
   "source": [
    "X_train.shape"
   ]
  },
  {
   "cell_type": "code",
   "execution_count": 45,
   "metadata": {},
   "outputs": [
    {
     "data": {
      "text/plain": [
       "(910, 27)"
      ]
     },
     "execution_count": 45,
     "metadata": {},
     "output_type": "execute_result"
    }
   ],
   "source": [
    "X_test.shape"
   ]
  },
  {
   "cell_type": "code",
   "execution_count": 46,
   "metadata": {},
   "outputs": [],
   "source": [
    "from sklearn.pipeline import Pipeline\n",
    "from sklearn.preprocessing import StandardScaler, RobustScaler\n",
    "from sklearn.model_selection import GridSearchCV\n",
    "from sklearn.ensemble import RandomForestRegressor\n",
    "from sklearn.compose import ColumnTransformer\n",
    "from sklearn.metrics import mean_squared_error, r2_score\n",
    "from scipy import stats\n",
    "from sklearn.metrics import explained_variance_score\n",
    "from sklearn.preprocessing import OneHotEncoder"
   ]
  },
  {
   "cell_type": "code",
   "execution_count": 47,
   "metadata": {},
   "outputs": [],
   "source": [
    "###### params for one hot encoding\n",
    "\n",
    "# ohe_features = ['year','month']\n",
    "# ohe_transformer = Pipeline(steps=[\n",
    "#     ('ohe', OneHotEncoder(handle_unknown='ignore'))])\n",
    "\n",
    "# numeric_features = list(set(X_train.columns).difference(set(['year','month'])))\n",
    "# scaling = Pipeline(steps=[\n",
    "#     ('rb_scaler', RobustScaler())])\n",
    "\n",
    "# preprocessor = ColumnTransformer(\n",
    "#     transformers=[\n",
    "#         ('one_hot', ohe_transformer, ohe_features),\n",
    "#         ('scaler', scaling, numeric_features)], remainder='passthrough')\n",
    "\n",
    "# pipe=Pipeline([\n",
    "#     ('preprocessing', preprocessor),\n",
    "#     ('clf', RandomForestRegressor())\n",
    "# ])\n",
    "\n",
    "# create a pipeline to scale the non-categorical features\n",
    "numeric_features = list(set(X_train.columns).difference(set(['year','month'])))\n",
    "scaling = Pipeline(steps=[\n",
    "    ('rb_scaler', RobustScaler())])\n",
    "\n",
    "# create the preprocessing pipeline\n",
    "preprocessor = ColumnTransformer(\n",
    "    transformers=[\n",
    "        ('scaler', scaling, numeric_features)],remainder='passthrough')\n",
    "\n",
    "#create the ML pipeline\n",
    "pipe=Pipeline([\n",
    "    ('preprocessing', preprocessor),\n",
    "    ('clf', RandomForestRegressor())\n",
    "])\n",
    "\n",
    "# hyperparameter tuning\n",
    "params = [{'clf' : [ RandomForestRegressor(random_state = 5, oob_score=True)],\n",
    "    'clf__max_depth':[None],\n",
    "    'clf__n_estimators' : [140],\n",
    "    'clf__max_features' : ['auto']\n",
    "          }\n",
    "]\n",
    "\n"
   ]
  },
  {
   "cell_type": "markdown",
   "metadata": {},
   "source": [
    "## Create Group 1 Model"
   ]
  },
  {
   "cell_type": "code",
   "execution_count": 48,
   "metadata": {
    "scrolled": false
   },
   "outputs": [
    {
     "name": "stderr",
     "output_type": "stream",
     "text": [
      "[Parallel(n_jobs=-1)]: Using backend LokyBackend with 4 concurrent workers.\n"
     ]
    },
    {
     "name": "stdout",
     "output_type": "stream",
     "text": [
      "Fitting 5 folds for each of 1 candidates, totalling 5 fits\n"
     ]
    },
    {
     "name": "stderr",
     "output_type": "stream",
     "text": [
      "[Parallel(n_jobs=-1)]: Done   5 out of   5 | elapsed:   18.9s finished\n"
     ]
    },
    {
     "data": {
      "text/plain": [
       "GridSearchCV(cv=5,\n",
       "             estimator=Pipeline(steps=[('preprocessing',\n",
       "                                        ColumnTransformer(remainder='passthrough',\n",
       "                                                          transformers=[('scaler',\n",
       "                                                                         Pipeline(steps=[('rb_scaler',\n",
       "                                                                                          RobustScaler())]),\n",
       "                                                                         ['lc_42',\n",
       "                                                                          'windspeed_narr',\n",
       "                                                                          'huc12_enc',\n",
       "                                                                          'lc_20',\n",
       "                                                                          'cluster',\n",
       "                                                                          'arithmetic_mean',\n",
       "                                                                          'correlated',\n",
       "                                                                          'lc_52',\n",
       "                                                                          'sfc_runoff',\n",
       "                                                                          'lc_43',\n",
       "                                                                          'lc_95',\n",
       "                                                                          'lc_71',\n",
       "                                                                          'distance10',\n",
       "                                                                          'lc_82',\n",
       "                                                                          'humidity_narr',\n",
       "                                                                          'lc_41'...\n",
       "                                                                          'za_mean',\n",
       "                                                                          'lc_31',\n",
       "                                                                          'no2_emission',\n",
       "                                                                          'of_dist',\n",
       "                                                                          'precip24_narr',\n",
       "                                                                          'lc_90',\n",
       "                                                                          'airtemp_narr',\n",
       "                                                                          'lc_81'])])),\n",
       "                                       ('clf', RandomForestRegressor())]),\n",
       "             n_jobs=-1,\n",
       "             param_grid=[{'clf': [RandomForestRegressor(n_estimators=140,\n",
       "                                                        oob_score=True,\n",
       "                                                        random_state=5)],\n",
       "                          'clf__max_depth': [None],\n",
       "                          'clf__max_features': ['auto'],\n",
       "                          'clf__n_estimators': [140]}],\n",
       "             scoring='neg_mean_absolute_error', verbose=True)"
      ]
     },
     "execution_count": 48,
     "metadata": {},
     "output_type": "execute_result"
    }
   ],
   "source": [
    "#create the grid search object\n",
    "# neg mean absolute error was chosen due to it's robustness against outliers\n",
    "cv = GridSearchCV(pipe,\n",
    "                  param_grid=params,\n",
    "                  refit = True,\n",
    "                  cv = 5, \n",
    "                  verbose = True,\n",
    "                  n_jobs = -1, \n",
    "                 scoring='neg_mean_absolute_error') \n",
    "\n",
    "#fit the data\n",
    "cv.fit(X_train,y_train)"
   ]
  },
  {
   "cell_type": "code",
   "execution_count": 49,
   "metadata": {},
   "outputs": [],
   "source": [
    "# for one hot encoding features\n",
    "\n",
    "# oh_columns = pipe.named_steps['preprocessing'].transformers[0][1].named_steps['ohe'].fit(X_train[ohe_features]).get_feature_names()\n",
    "# numeric_features_list = list(numeric_features)\n",
    "# numeric_features_list.extend(oh_columns)"
   ]
  },
  {
   "cell_type": "code",
   "execution_count": 50,
   "metadata": {
    "scrolled": true
   },
   "outputs": [
    {
     "name": "stdout",
     "output_type": "stream",
     "text": [
      "{'clf': RandomForestRegressor(n_estimators=140, oob_score=True, random_state=5), 'clf__max_depth': None, 'clf__max_features': 'auto', 'clf__n_estimators': 140}\n",
      "-0.139679796820866\n"
     ]
    }
   ],
   "source": [
    "# print the parameters and the best score\n",
    "print(cv.best_params_)\n",
    "print(cv.best_score_)"
   ]
  },
  {
   "cell_type": "markdown",
   "metadata": {},
   "source": [
    "### Group 1 Evaluation Metrics"
   ]
  },
  {
   "cell_type": "code",
   "execution_count": 51,
   "metadata": {},
   "outputs": [
    {
     "name": "stdout",
     "output_type": "stream",
     "text": [
      "0.040411500890125615\n",
      "0.5796930173932564\n",
      "0.5668264771093765\n"
     ]
    }
   ],
   "source": [
    "# eval metrics\n",
    "y_pred = cv.predict(X_test)\n",
    "print(mean_squared_error(y_test,y_pred))\n",
    "\n",
    "print(r2_score(y_test,y_pred))\n",
    "print(1-(1-r2_score(y_test,y_pred))*(len(X_test)-1)/(len(X_test)-X_test.shape[1]-1)) #adjusted r2"
   ]
  },
  {
   "cell_type": "code",
   "execution_count": 52,
   "metadata": {},
   "outputs": [
    {
     "name": "stdout",
     "output_type": "stream",
     "text": [
      "evs: 0.5797007068715465\n",
      "mse: 0.040411500890125615\n",
      "rmse: 0.20102611992008804\n",
      "r2: 0.5796930173932564\n",
      "Confidence Interval: [0.17012335 0.22777412] mg/L\n"
     ]
    }
   ],
   "source": [
    "#\n",
    "confidence = .95\n",
    "final_mse = mean_squared_error(y_test, y_pred)\n",
    "final_rmse = np.sqrt(final_mse)\n",
    "\n",
    "squared_errors = (y_pred - y_test)**2\n",
    "print('evs:',explained_variance_score(y_test, y_pred))\n",
    "print('mse:',final_mse)\n",
    "print('rmse:',final_rmse)\n",
    "print('r2:',r2_score(y_test,y_pred))\n",
    "print('Confidence Interval:',np.sqrt(stats.t.interval(confidence, len(squared_errors)-1,\n",
    "                        loc=squared_errors.mean(),\n",
    "                        scale=stats.sem(squared_errors))),'mg/L')"
   ]
  },
  {
   "cell_type": "markdown",
   "metadata": {},
   "source": [
    "### Group 1 Feature Importance"
   ]
  },
  {
   "cell_type": "code",
   "execution_count": null,
   "metadata": {},
   "outputs": [],
   "source": []
  },
  {
   "cell_type": "code",
   "execution_count": 53,
   "metadata": {},
   "outputs": [
    {
     "data": {
      "image/png": "[encoded data removed]",
      "text/plain": [
       "<Figure size 720x360 with 1 Axes>"
      ]
     },
     "metadata": {},
     "output_type": "display_data"
    }
   ],
   "source": [
    "#obtain the feature importances from within the GridSearchCV, pipeline, & OneVsRest objects\n",
    "fi=[x.feature_importances_ for x in cv.best_estimator_.steps[1][1].estimators_]\n",
    "fi=np.mean(fi,axis=0)\n",
    "\n",
    "#place the feature importances in a dataframe\n",
    "feature_importances = pd.DataFrame(fi,\n",
    "                                   index = numeric_features+['year','month'], #numeric_features_list for one hot encoding\n",
    "                                    columns=['importance']).sort_values('importance',ascending=False)\n",
    "feature_importances[:8].plot(kind='bar', figsize=(10,5))\n",
    "_=plt.title('Top Feature Importances')\n",
    "plt.xlabel('Features')\n",
    "plt.ylabel('Importance')\n",
    "plt.show()"
   ]
  },
  {
   "cell_type": "code",
   "execution_count": 56,
   "metadata": {
    "scrolled": true
   },
   "outputs": [
    {
     "data": {
      "text/html": [
       "\n",
       "    <style>\n",
       "    table.eli5-weights tr:hover {\n",
       "        filter: brightness(85%);\n",
       "    }\n",
       "</style>\n",
       "\n",
       "\n",
       "\n",
       "    \n",
       "\n",
       "    \n",
       "\n",
       "    \n",
       "\n",
       "    \n",
       "\n",
       "    \n",
       "\n",
       "    \n",
       "\n",
       "\n",
       "    \n",
       "\n",
       "    \n",
       "\n",
       "    \n",
       "\n",
       "    \n",
       "\n",
       "    \n",
       "\n",
       "    \n",
       "\n",
       "\n",
       "    \n",
       "\n",
       "    \n",
       "\n",
       "    \n",
       "\n",
       "    \n",
       "\n",
       "    \n",
       "        <table class=\"eli5-weights eli5-feature-importances\" style=\"border-collapse: collapse; border: none; margin-top: 0em; table-layout: auto;\">\n",
       "    <thead>\n",
       "    <tr style=\"border: none;\">\n",
       "        <th style=\"padding: 0 1em 0 0.5em; text-align: right; border: none;\">Weight</th>\n",
       "        <th style=\"padding: 0 0.5em 0 0.5em; text-align: left; border: none;\">Feature</th>\n",
       "    </tr>\n",
       "    </thead>\n",
       "    <tbody>\n",
       "    \n",
       "        <tr style=\"background-color: hsl(120, 100.00%, 80.00%); border: none;\">\n",
       "            <td style=\"padding: 0 1em 0 0.5em; text-align: right; border: none;\">\n",
       "                0.4142\n",
       "                \n",
       "                    &plusmn; 0.0287\n",
       "                \n",
       "            </td>\n",
       "            <td style=\"padding: 0 0.5em 0 0.5em; text-align: left; border: none;\">\n",
       "                huc12_enc\n",
       "            </td>\n",
       "        </tr>\n",
       "    \n",
       "        <tr style=\"background-color: hsl(120, 100.00%, 94.14%); border: none;\">\n",
       "            <td style=\"padding: 0 1em 0 0.5em; text-align: right; border: none;\">\n",
       "                0.0717\n",
       "                \n",
       "                    &plusmn; 0.0166\n",
       "                \n",
       "            </td>\n",
       "            <td style=\"padding: 0 0.5em 0 0.5em; text-align: left; border: none;\">\n",
       "                month\n",
       "            </td>\n",
       "        </tr>\n",
       "    \n",
       "        <tr style=\"background-color: hsl(120, 100.00%, 94.96%); border: none;\">\n",
       "            <td style=\"padding: 0 1em 0 0.5em; text-align: right; border: none;\">\n",
       "                0.0579\n",
       "                \n",
       "                    &plusmn; 0.0231\n",
       "                \n",
       "            </td>\n",
       "            <td style=\"padding: 0 0.5em 0 0.5em; text-align: left; border: none;\">\n",
       "                airtemp_narr\n",
       "            </td>\n",
       "        </tr>\n",
       "    \n",
       "        <tr style=\"background-color: hsl(120, 100.00%, 94.99%); border: none;\">\n",
       "            <td style=\"padding: 0 1em 0 0.5em; text-align: right; border: none;\">\n",
       "                0.0573\n",
       "                \n",
       "                    &plusmn; 0.0189\n",
       "                \n",
       "            </td>\n",
       "            <td style=\"padding: 0 0.5em 0 0.5em; text-align: left; border: none;\">\n",
       "                precip24_narr\n",
       "            </td>\n",
       "        </tr>\n",
       "    \n",
       "        <tr style=\"background-color: hsl(120, 100.00%, 95.04%); border: none;\">\n",
       "            <td style=\"padding: 0 1em 0 0.5em; text-align: right; border: none;\">\n",
       "                0.0565\n",
       "                \n",
       "                    &plusmn; 0.0198\n",
       "                \n",
       "            </td>\n",
       "            <td style=\"padding: 0 0.5em 0 0.5em; text-align: left; border: none;\">\n",
       "                no2_emission\n",
       "            </td>\n",
       "        </tr>\n",
       "    \n",
       "        <tr style=\"background-color: hsl(120, 100.00%, 95.69%); border: none;\">\n",
       "            <td style=\"padding: 0 1em 0 0.5em; text-align: right; border: none;\">\n",
       "                0.0463\n",
       "                \n",
       "                    &plusmn; 0.0176\n",
       "                \n",
       "            </td>\n",
       "            <td style=\"padding: 0 0.5em 0 0.5em; text-align: left; border: none;\">\n",
       "                humidity_narr\n",
       "            </td>\n",
       "        </tr>\n",
       "    \n",
       "        <tr style=\"background-color: hsl(120, 100.00%, 95.73%); border: none;\">\n",
       "            <td style=\"padding: 0 1em 0 0.5em; text-align: right; border: none;\">\n",
       "                0.0457\n",
       "                \n",
       "                    &plusmn; 0.0191\n",
       "                \n",
       "            </td>\n",
       "            <td style=\"padding: 0 0.5em 0 0.5em; text-align: left; border: none;\">\n",
       "                arithmetic_mean\n",
       "            </td>\n",
       "        </tr>\n",
       "    \n",
       "        <tr style=\"background-color: hsl(120, 100.00%, 95.95%); border: none;\">\n",
       "            <td style=\"padding: 0 1em 0 0.5em; text-align: right; border: none;\">\n",
       "                0.0423\n",
       "                \n",
       "                    &plusmn; 0.0176\n",
       "                \n",
       "            </td>\n",
       "            <td style=\"padding: 0 0.5em 0 0.5em; text-align: left; border: none;\">\n",
       "                year\n",
       "            </td>\n",
       "        </tr>\n",
       "    \n",
       "        <tr style=\"background-color: hsl(120, 100.00%, 95.98%); border: none;\">\n",
       "            <td style=\"padding: 0 1em 0 0.5em; text-align: right; border: none;\">\n",
       "                0.0419\n",
       "                \n",
       "                    &plusmn; 0.0163\n",
       "                \n",
       "            </td>\n",
       "            <td style=\"padding: 0 0.5em 0 0.5em; text-align: left; border: none;\">\n",
       "                windspeed_narr\n",
       "            </td>\n",
       "        </tr>\n",
       "    \n",
       "        <tr style=\"background-color: hsl(120, 100.00%, 97.62%); border: none;\">\n",
       "            <td style=\"padding: 0 1em 0 0.5em; text-align: right; border: none;\">\n",
       "                0.0199\n",
       "                \n",
       "                    &plusmn; 0.0128\n",
       "                \n",
       "            </td>\n",
       "            <td style=\"padding: 0 0.5em 0 0.5em; text-align: left; border: none;\">\n",
       "                distance10\n",
       "            </td>\n",
       "        </tr>\n",
       "    \n",
       "        <tr style=\"background-color: hsl(120, 100.00%, 97.95%); border: none;\">\n",
       "            <td style=\"padding: 0 1em 0 0.5em; text-align: right; border: none;\">\n",
       "                0.0160\n",
       "                \n",
       "                    &plusmn; 0.0139\n",
       "                \n",
       "            </td>\n",
       "            <td style=\"padding: 0 0.5em 0 0.5em; text-align: left; border: none;\">\n",
       "                of_dist\n",
       "            </td>\n",
       "        </tr>\n",
       "    \n",
       "        <tr style=\"background-color: hsl(120, 100.00%, 98.37%); border: none;\">\n",
       "            <td style=\"padding: 0 1em 0 0.5em; text-align: right; border: none;\">\n",
       "                0.0115\n",
       "                \n",
       "                    &plusmn; 0.0131\n",
       "                \n",
       "            </td>\n",
       "            <td style=\"padding: 0 0.5em 0 0.5em; text-align: left; border: none;\">\n",
       "                lc_71\n",
       "            </td>\n",
       "        </tr>\n",
       "    \n",
       "        <tr style=\"background-color: hsl(120, 100.00%, 98.39%); border: none;\">\n",
       "            <td style=\"padding: 0 1em 0 0.5em; text-align: right; border: none;\">\n",
       "                0.0114\n",
       "                \n",
       "                    &plusmn; 0.0112\n",
       "                \n",
       "            </td>\n",
       "            <td style=\"padding: 0 0.5em 0 0.5em; text-align: left; border: none;\">\n",
       "                lc_20\n",
       "            </td>\n",
       "        </tr>\n",
       "    \n",
       "        <tr style=\"background-color: hsl(120, 100.00%, 98.40%); border: none;\">\n",
       "            <td style=\"padding: 0 1em 0 0.5em; text-align: right; border: none;\">\n",
       "                0.0112\n",
       "                \n",
       "                    &plusmn; 0.0105\n",
       "                \n",
       "            </td>\n",
       "            <td style=\"padding: 0 0.5em 0 0.5em; text-align: left; border: none;\">\n",
       "                lc_81\n",
       "            </td>\n",
       "        </tr>\n",
       "    \n",
       "        <tr style=\"background-color: hsl(120, 100.00%, 98.45%); border: none;\">\n",
       "            <td style=\"padding: 0 1em 0 0.5em; text-align: right; border: none;\">\n",
       "                0.0107\n",
       "                \n",
       "                    &plusmn; 0.0099\n",
       "                \n",
       "            </td>\n",
       "            <td style=\"padding: 0 0.5em 0 0.5em; text-align: left; border: none;\">\n",
       "                areaacres\n",
       "            </td>\n",
       "        </tr>\n",
       "    \n",
       "        <tr style=\"background-color: hsl(120, 100.00%, 98.46%); border: none;\">\n",
       "            <td style=\"padding: 0 1em 0 0.5em; text-align: right; border: none;\">\n",
       "                0.0106\n",
       "                \n",
       "                    &plusmn; 0.0115\n",
       "                \n",
       "            </td>\n",
       "            <td style=\"padding: 0 0.5em 0 0.5em; text-align: left; border: none;\">\n",
       "                lc_52\n",
       "            </td>\n",
       "        </tr>\n",
       "    \n",
       "        <tr style=\"background-color: hsl(120, 100.00%, 98.49%); border: none;\">\n",
       "            <td style=\"padding: 0 1em 0 0.5em; text-align: right; border: none;\">\n",
       "                0.0103\n",
       "                \n",
       "                    &plusmn; 0.0126\n",
       "                \n",
       "            </td>\n",
       "            <td style=\"padding: 0 0.5em 0 0.5em; text-align: left; border: none;\">\n",
       "                lc_42\n",
       "            </td>\n",
       "        </tr>\n",
       "    \n",
       "        <tr style=\"background-color: hsl(120, 100.00%, 98.63%); border: none;\">\n",
       "            <td style=\"padding: 0 1em 0 0.5em; text-align: right; border: none;\">\n",
       "                0.0090\n",
       "                \n",
       "                    &plusmn; 0.0097\n",
       "                \n",
       "            </td>\n",
       "            <td style=\"padding: 0 0.5em 0 0.5em; text-align: left; border: none;\">\n",
       "                lc_31\n",
       "            </td>\n",
       "        </tr>\n",
       "    \n",
       "        <tr style=\"background-color: hsl(120, 100.00%, 98.68%); border: none;\">\n",
       "            <td style=\"padding: 0 1em 0 0.5em; text-align: right; border: none;\">\n",
       "                0.0085\n",
       "                \n",
       "                    &plusmn; 0.0089\n",
       "                \n",
       "            </td>\n",
       "            <td style=\"padding: 0 0.5em 0 0.5em; text-align: left; border: none;\">\n",
       "                za_mean\n",
       "            </td>\n",
       "        </tr>\n",
       "    \n",
       "        <tr style=\"background-color: hsl(120, 100.00%, 98.70%); border: none;\">\n",
       "            <td style=\"padding: 0 1em 0 0.5em; text-align: right; border: none;\">\n",
       "                0.0083\n",
       "                \n",
       "                    &plusmn; 0.0089\n",
       "                \n",
       "            </td>\n",
       "            <td style=\"padding: 0 0.5em 0 0.5em; text-align: left; border: none;\">\n",
       "                lc_95\n",
       "            </td>\n",
       "        </tr>\n",
       "    \n",
       "    \n",
       "        \n",
       "            <tr style=\"background-color: hsl(120, 100.00%, 98.70%); border: none;\">\n",
       "                <td colspan=\"2\" style=\"padding: 0 0.5em 0 0.5em; text-align: center; border: none; white-space: nowrap;\">\n",
       "                    <i>&hellip; 7 more &hellip;</i>\n",
       "                </td>\n",
       "            </tr>\n",
       "        \n",
       "    \n",
       "    </tbody>\n",
       "</table>\n",
       "    \n",
       "\n",
       "    \n",
       "\n",
       "\n",
       "    \n",
       "\n",
       "    \n",
       "\n",
       "    \n",
       "\n",
       "    \n",
       "\n",
       "    \n",
       "\n",
       "    \n",
       "\n",
       "\n",
       "\n"
      ],
      "text/plain": [
       "Explanation(estimator='RandomForestRegressor(n_estimators=140, oob_score=True, random_state=5)', description='\\nRandom forest feature importances; values are numbers 0 <= x <= 1;\\nall values sum to 1.\\n', error=None, method='feature importances', is_regression=True, targets=None, feature_importances=FeatureImportances(importances=[FeatureWeight(feature='huc12_enc', weight=0.41424502612217773, std=0.01435314642344792, value=None), FeatureWeight(feature='month', weight=0.07171969429462549, std=0.008275889754128888, value=None), FeatureWeight(feature='airtemp_narr', weight=0.057858350970371876, std=0.011556101327414012, value=None), FeatureWeight(feature='precip24_narr', weight=0.057252173804339716, std=0.00946256893683627, value=None), FeatureWeight(feature='no2_emission', weight=0.05654919504391858, std=0.00989867836770968, value=None), FeatureWeight(feature='humidity_narr', weight=0.04627760121071962, std=0.00881202492650369, value=None), FeatureWeight(feature='arithmetic_mean', weight=0.045684538555232454, std=0.009572876677839041, value=None), FeatureWeight(feature='year', weight=0.04233492034169064, std=0.008778598465381617, value=None), FeatureWeight(feature='windspeed_narr', weight=0.04186732708768319, std=0.008150075629220184, value=None), FeatureWeight(feature='distance10', weight=0.019853693119595027, std=0.006412357364852731, value=None), FeatureWeight(feature='of_dist', weight=0.016038978344896527, std=0.006939236853413887, value=None), FeatureWeight(feature='lc_71', weight=0.011485559325811696, std=0.006554564735001479, value=None), FeatureWeight(feature='lc_20', weight=0.01136856509697228, std=0.005598656644250788, value=None), FeatureWeight(feature='lc_81', weight=0.01121080438931996, std=0.005241986875869262, value=None), FeatureWeight(feature='areaacres', weight=0.010703901561842026, std=0.004929508632473012, value=None), FeatureWeight(feature='lc_52', weight=0.010597333838290148, std=0.00573742674050447, value=None), FeatureWeight(feature='lc_42', weight=0.010297901958175709, std=0.006321042852937715, value=None), FeatureWeight(feature='lc_31', weight=0.009021636710964318, std=0.004846316305700818, value=None), FeatureWeight(feature='za_mean', weight=0.008530289761139728, std=0.004454534390250987, value=None), FeatureWeight(feature='lc_95', weight=0.008316086217567777, std=0.0044582536902239255, value=None)], remaining=7), decision_tree=None, highlight_spaces=None, transition_features=None, image=None)"
      ]
     },
     "execution_count": 56,
     "metadata": {},
     "output_type": "execute_result"
    }
   ],
   "source": [
    "eli5.explain_weights(cv.best_estimator_.steps[1][1], top=10, feature_names=numeric_features+['year','month'])"
   ]
  },
  {
   "cell_type": "code",
   "execution_count": 57,
   "metadata": {},
   "outputs": [],
   "source": [
    "# load predictions to a dataframe\n",
    "preds1=pd.DataFrame({'prediction':y_pred,'actual':y_test})"
   ]
  },
  {
   "cell_type": "markdown",
   "metadata": {},
   "source": [
    "#### Normalized residual vs predicted values"
   ]
  },
  {
   "cell_type": "code",
   "execution_count": 58,
   "metadata": {
    "scrolled": true
   },
   "outputs": [
    {
     "data": {
      "image/png": "[encoded data removed]",
      "text/plain": [
       "<Figure size 432x288 with 1 Axes>"
      ]
     },
     "metadata": {},
     "output_type": "display_data"
    }
   ],
   "source": [
    "resid = y_test - y_pred\n",
    "mean_resid = resid.mean()\n",
    "std_resid = resid.std()\n",
    "\n",
    "# calculate z statistic, define outliers to be where |z|>sigma\n",
    "z = (resid - mean_resid)/std_resid    \n",
    "outliers = z[abs(z)>3].index\n",
    "\n",
    "plt.scatter(y_pred,(y_test-y_pred)/mean_squared_error(y_test, y_pred))\n",
    "plt.xlabel('prediction')\n",
    "plt.ylabel('residual')\n",
    "plt.show()"
   ]
  },
  {
   "cell_type": "markdown",
   "metadata": {},
   "source": [
    "There appears to be some heteroskedasticity"
   ]
  },
  {
   "cell_type": "markdown",
   "metadata": {},
   "source": [
    "### Find and visualize outliers"
   ]
  },
  {
   "cell_type": "code",
   "execution_count": 59,
   "metadata": {},
   "outputs": [],
   "source": [
    "\n",
    "#from lightgbm import LGBMRegressor\n",
    "def find_outliers(y_pred, y, sigma=3):\n",
    "   # predict y values using model\n",
    "#    y_pred = pd.Series(model.predict(X), index=y.index)\n",
    "   \n",
    "   # calculate residuals between the model prediction and true y values\n",
    "    resid = y - y_pred\n",
    "    mean_resid = resid.mean()\n",
    "    std_resid = resid.std()\n",
    "\n",
    "   # calculate z statistic, define outliers to be where |z|>sigma\n",
    "    z = (resid - mean_resid)/std_resid    \n",
    "    z.reset_index(inplace=True, drop=True)\n",
    "    outliers = z[abs(z)>sigma].index\n",
    "    \n",
    "   \n",
    "   # print and plot the results\n",
    "    print('R2:',r2_score(y,y_pred))\n",
    "    print('mse:',mean_squared_error(y, y_pred))\n",
    "    print('evs:',explained_variance_score(y, y_pred))\n",
    "    print('rmse:',np.sqrt(mean_squared_error(y, y_pred)))\n",
    "    print('---------------------------------------')\n",
    "\n",
    "    print('mean of residuals:',mean_resid)\n",
    "    print('std of residuals:',std_resid)\n",
    "    print('---------------------------------------')\n",
    "\n",
    "    print(len(outliers),'outliers:')\n",
    "    print(outliers.tolist())\n",
    "    \n",
    "\n",
    "    plt.figure(figsize=(20,8))\n",
    "    ax_231 = plt.subplot(2,3,1)\n",
    "    plt.plot(y,y_pred,'.')\n",
    "    plt.plot(y.iloc[outliers.tolist()].values,pd.DataFrame(y_pred).iloc[outliers.tolist()].values, 'ro')\n",
    "    plt.legend(['Accepted','Outlier'])\n",
    "    plt.xlabel('y')\n",
    "    plt.ylabel('y_pred');\n",
    "\n",
    "    ax_232=plt.subplot(2,3,2)\n",
    "    plt.plot(y,y-y_pred,'.')\n",
    "    plt.plot(pd.DataFrame(y).iloc[outliers],pd.DataFrame(y-y_pred).iloc[outliers],'ro')\n",
    "    plt.legend(['Accepted','Outlier'])\n",
    "    plt.xlabel('y')\n",
    "    plt.ylabel('y - y_pred');\n",
    "\n",
    "    ax_233=plt.subplot(2,3,3)\n",
    "    z.plot.hist(bins=50,ax=ax_233)\n",
    "    z.iloc[outliers].plot.hist(color='r',bins=50,ax=ax_233)\n",
    "    plt.legend(['Accepted','Outlier'])\n",
    "    plt.xlabel('z');\n",
    "   \n",
    "    ax_234=plt.subplot(2,3,4)\n",
    "    plt.plot(y,z,'.')\n",
    "    plt.plot(pd.DataFrame(y).iloc[outliers],pd.DataFrame(z).iloc[outliers],'ro')\n",
    "    plt.legend(['Accepted','Outlier'])\n",
    "    plt.xlabel('y')\n",
    "    plt.ylabel('standardized residuals');\n",
    "    \n",
    "    \n",
    "    \n",
    "    ax_235=plt.subplot(2,3,5)\n",
    "    plt.plot(y_pred,z,'.')\n",
    "    plt.plot(pd.DataFrame(y_pred,columns=['tn']).iloc[outliers],pd.DataFrame(z).iloc[outliers],'ro')\n",
    "    plt.legend(['Accepted','Outlier'])\n",
    "    plt.xlabel('y_pred')\n",
    "    plt.ylabel('standardized residuals')\n",
    "\n",
    "#     plt.savefig('outliers.png')\n",
    "   \n",
    "    return outliers\n",
    "\n",
    "#find_outliers(model, X, y, sigma=3)"
   ]
  },
  {
   "cell_type": "code",
   "execution_count": 60,
   "metadata": {
    "scrolled": false
   },
   "outputs": [
    {
     "name": "stdout",
     "output_type": "stream",
     "text": [
      "R2: 0.9418185226105802\n",
      "mse: 0.00519833514579442\n",
      "evs: 0.9418483889845494\n",
      "rmse: 0.0720994808982313\n",
      "---------------------------------------\n",
      "mean of residuals: -0.001633544669397133\n",
      "std of residuals: 0.07209087905740431\n",
      "---------------------------------------\n",
      "62 outliers:\n",
      "[3, 15, 168, 267, 284, 335, 353, 443, 578, 609, 727, 756, 805, 853, 889, 974, 987, 1074, 1118, 1160, 1206, 1219, 1224, 1244, 1357, 1361, 1382, 1411, 1413, 1450, 1467, 1468, 1474, 1475, 1554, 1566, 1908, 2005, 2027, 2076, 2281, 2317, 2328, 2342, 2379, 2409, 2459, 2552, 2592, 2616, 2871, 2981, 3015, 3016, 3167, 3170, 3179, 3238, 3326, 3609, 3611, 3630]\n"
     ]
    },
    {
     "data": {
      "image/png": "[encoded data removed]",
      "text/plain": [
       "<Figure size 1440x576 with 5 Axes>"
      ]
     },
     "metadata": {},
     "output_type": "display_data"
    }
   ],
   "source": [
    "outliers = find_outliers(cv.predict(X_train), y_train, 3)"
   ]
  },
  {
   "cell_type": "markdown",
   "metadata": {},
   "source": [
    "## Create Group 2 Model"
   ]
  },
  {
   "cell_type": "code",
   "execution_count": 61,
   "metadata": {},
   "outputs": [
    {
     "data": {
      "text/plain": [
       "[2.0, inf)      0.389387\n",
       "[1.0, 1.5)      0.187736\n",
       "[1.5, 2.0)      0.165802\n",
       "[0.65, 1.0)     0.133137\n",
       "[0.0, 0.56)     0.094811\n",
       "[0.56, 0.65)    0.029127\n",
       "Name: n_bins, dtype: float64"
      ]
     },
     "metadata": {},
     "output_type": "display_data"
    },
    {
     "data": {
      "text/plain": [
       "[2.0, inf)      0.389298\n",
       "[1.0, 1.5)      0.187795\n",
       "[1.5, 2.0)      0.165831\n",
       "[0.65, 1.0)     0.133107\n",
       "[0.0, 0.56)     0.094782\n",
       "[0.56, 0.65)    0.029186\n",
       "Name: n_bins, dtype: float64"
      ]
     },
     "metadata": {},
     "output_type": "display_data"
    },
    {
     "name": "stderr",
     "output_type": "stream",
     "text": [
      "C:\\Users\\Bryan\\Anaconda3\\envs\\hacktb\\lib\\site-packages\\ipykernel_launcher.py:22: DeprecationWarning: The default dtype for empty Series will be 'object' instead of 'float64' in a future version. Specify a dtype explicitly to silence this warning.\n"
     ]
    }
   ],
   "source": [
    "bins = pd.IntervalIndex.from_tuples([(0, .56), (.56,.65), (.65, 1),(1,1.5), (1.5,2), (2,np.inf)], closed='left')\n",
    "grouped_df['n_bins']=pd.cut(grouped_df.tn, bins=bins, labels=False)\n",
    "\n",
    "df2=grouped_df[grouped_df.cluster.isin([2.0,-1.0,1.0 ])]\n",
    "\n",
    "\n",
    "X_train, X_test, y_train, y_test = train_test_split(df2.drop(dropped_cols+['tn'],axis=1),\n",
    "                                                    df2['tn'],\n",
    "                                                    test_size=.2,\n",
    "                                                    random_state=5,\n",
    "                                                    stratify=df2['n_bins'])\n",
    "\n",
    "display(df2.n_bins.value_counts(normalize=True))\n",
    "display(X_train.n_bins.value_counts(normalize=True))\n",
    "\n",
    "# drop n_bins column\n",
    "X_train.drop(['n_bins'],inplace=True,axis=1)\n",
    "X_test.drop(['n_bins'],inplace=True,axis=1)\n",
    "\n",
    "X_train['tn']=y_train\n",
    "X_train['huc12_enc'], X_test['huc12_enc'] = mean_target_encoding(train=X_train,\n",
    "                                                                           test=X_test,\n",
    "                                                                           target='tn',\n",
    "                                                                           categorical='huc12_',\n",
    "                                                                           alpha=10)\n",
    "X_train.drop(['tn'],inplace=True, axis=1)\n",
    "\n",
    "X_train.drop(['huc12_'], axis=1, inplace=True)\n",
    "X_test.drop(['huc12_'], axis=1, inplace=True)"
   ]
  },
  {
   "cell_type": "code",
   "execution_count": 62,
   "metadata": {},
   "outputs": [
    {
     "name": "stderr",
     "output_type": "stream",
     "text": [
      "[Parallel(n_jobs=-1)]: Using backend LokyBackend with 4 concurrent workers.\n"
     ]
    },
    {
     "name": "stdout",
     "output_type": "stream",
     "text": [
      "Fitting 5 folds for each of 1 candidates, totalling 5 fits\n"
     ]
    },
    {
     "name": "stderr",
     "output_type": "stream",
     "text": [
      "[Parallel(n_jobs=-1)]: Done   5 out of   5 | elapsed:   31.2s finished\n"
     ]
    },
    {
     "data": {
      "text/plain": [
       "GridSearchCV(cv=5,\n",
       "             estimator=Pipeline(steps=[('preprocessing',\n",
       "                                        ColumnTransformer(remainder='passthrough',\n",
       "                                                          transformers=[('scaler',\n",
       "                                                                         Pipeline(steps=[('rb_scaler',\n",
       "                                                                                          RobustScaler())]),\n",
       "                                                                         ['lc_42',\n",
       "                                                                          'windspeed_narr',\n",
       "                                                                          'huc12_enc',\n",
       "                                                                          'lc_20',\n",
       "                                                                          'cluster',\n",
       "                                                                          'arithmetic_mean',\n",
       "                                                                          'correlated',\n",
       "                                                                          'lc_52',\n",
       "                                                                          'sfc_runoff',\n",
       "                                                                          'lc_43',\n",
       "                                                                          'lc_95',\n",
       "                                                                          'lc_71',\n",
       "                                                                          'distance10',\n",
       "                                                                          'lc_82',\n",
       "                                                                          'humidity_narr',\n",
       "                                                                          'lc_41'...\n",
       "                                                                          'za_mean',\n",
       "                                                                          'lc_31',\n",
       "                                                                          'no2_emission',\n",
       "                                                                          'of_dist',\n",
       "                                                                          'precip24_narr',\n",
       "                                                                          'lc_90',\n",
       "                                                                          'airtemp_narr',\n",
       "                                                                          'lc_81'])])),\n",
       "                                       ('clf', RandomForestRegressor())]),\n",
       "             n_jobs=-1,\n",
       "             param_grid=[{'clf': [RandomForestRegressor(n_estimators=140,\n",
       "                                                        oob_score=True,\n",
       "                                                        random_state=5)],\n",
       "                          'clf__max_depth': [None],\n",
       "                          'clf__max_features': ['auto'],\n",
       "                          'clf__n_estimators': [140]}],\n",
       "             scoring='neg_mean_absolute_error', verbose=True)"
      ]
     },
     "execution_count": 62,
     "metadata": {},
     "output_type": "execute_result"
    }
   ],
   "source": [
    "#create the grid search object\n",
    "cv2 = GridSearchCV(pipe,\n",
    "                  param_grid=params,\n",
    "                  refit = True,\n",
    "                  cv = 5, \n",
    "                  verbose = True,\n",
    "                  n_jobs = -1\n",
    "                  ,\n",
    "                 scoring='neg_mean_absolute_error')\n",
    "\n",
    "#fit the data\n",
    "cv2.fit(X_train,y_train)"
   ]
  },
  {
   "cell_type": "code",
   "execution_count": 63,
   "metadata": {},
   "outputs": [
    {
     "name": "stdout",
     "output_type": "stream",
     "text": [
      "{'clf': RandomForestRegressor(n_estimators=140, oob_score=True, random_state=5), 'clf__max_depth': None, 'clf__max_features': 'auto', 'clf__n_estimators': 140}\n",
      "-0.4119878292420706\n",
      "0.5478435485684796\n",
      "0.9021312260998272\n",
      "0.9005470193280618\n"
     ]
    }
   ],
   "source": [
    "print(cv2.best_params_)\n",
    "print(cv2.best_score_)\n",
    "y_pred2 = cv2.predict(X_test)\n",
    "print(mean_squared_error(y_test,y_pred2))\n",
    "\n",
    "print(r2_score(y_test,y_pred2))\n",
    "print(1-(1-r2_score(y_test,y_pred2))*(len(X_test)-1)/(len(X_test)-X_test.shape[1]-1)) #adjusted r2"
   ]
  },
  {
   "cell_type": "code",
   "execution_count": 64,
   "metadata": {},
   "outputs": [
    {
     "name": "stdout",
     "output_type": "stream",
     "text": [
      "evs: 0.9022847215976764\n",
      "mse: 0.5478435485684796\n",
      "rmse: 0.7401645415503769\n",
      "r2: 0.9021312260998272\n",
      "predictions off by: [0.46714401 0.93673025] mg/L\n"
     ]
    }
   ],
   "source": [
    "\n",
    "confidence = .95\n",
    "final_mse = mean_squared_error(y_test, y_pred2)\n",
    "final_rmse = np.sqrt(final_mse)\n",
    "\n",
    "squared_errors = (y_pred2 - y_test)**2\n",
    "print('evs:',explained_variance_score(y_test, y_pred2))\n",
    "print('mse:',final_mse)\n",
    "print('rmse:',final_rmse)\n",
    "print('r2:',r2_score(y_test,y_pred2))\n",
    "print('predictions off by:',np.sqrt(stats.t.interval(confidence, len(squared_errors)-1,\n",
    "                        loc=squared_errors.mean(),\n",
    "                        scale=stats.sem(squared_errors))),'mg/L')"
   ]
  },
  {
   "cell_type": "code",
   "execution_count": 65,
   "metadata": {},
   "outputs": [
    {
     "data": {
      "image/png": "[encoded data removed]",
      "text/plain": [
       "<Figure size 720x360 with 1 Axes>"
      ]
     },
     "metadata": {},
     "output_type": "display_data"
    }
   ],
   "source": [
    "#obtain the feature importances from within the GridSearchCV, pipeline, & OneVsRest objects\n",
    "fi=[x.feature_importances_ for x in cv2.best_estimator_.steps[1][1].estimators_]\n",
    "fi=np.mean(fi,axis=0)\n",
    "\n",
    "#place the feature importances in a dataframe\n",
    "feature_importances = pd.DataFrame(fi,\n",
    "                                   index =numeric_features+['year','month'], #use numeric_features_list for ohe\n",
    "                                    columns=['importance']).sort_values('importance',ascending=False)\n",
    "feature_importances[:8].plot(kind='bar', figsize=(10,5))\n",
    "_=plt.title('Top Feature Importances')\n",
    "plt.xlabel('Features')\n",
    "plt.ylabel('Importance')\n",
    "plt.show()"
   ]
  },
  {
   "cell_type": "code",
   "execution_count": 66,
   "metadata": {},
   "outputs": [],
   "source": [
    "preds2=pd.DataFrame({'prediction':y_pred2,'actual':y_test})"
   ]
  },
  {
   "cell_type": "code",
   "execution_count": 67,
   "metadata": {
    "scrolled": false
   },
   "outputs": [
    {
     "name": "stdout",
     "output_type": "stream",
     "text": [
      "23\n"
     ]
    },
    {
     "data": {
      "image/png": "[encoded data removed]",
      "text/plain": [
       "<Figure size 432x288 with 1 Axes>"
      ]
     },
     "metadata": {},
     "output_type": "display_data"
    }
   ],
   "source": [
    "resid = y_test - y_pred2\n",
    "mean_resid = resid.mean()\n",
    "std_resid = resid.std()\n",
    "\n",
    "# calculate z statistic, define outliers to be where |z|>sigma\n",
    "z = (resid - mean_resid)/std_resid    \n",
    "outliers = z[abs(z)>3].index\n",
    "print(len(outliers))\n",
    "plt.scatter(y_pred2,(y_test-y_pred2)/mean_squared_error(y_test, y_pred2))\n",
    "plt.xlabel('prediction')\n",
    "plt.ylabel('residual')\n",
    "plt.show()"
   ]
  },
  {
   "cell_type": "markdown",
   "metadata": {},
   "source": [
    "### Combine the model predictions"
   ]
  },
  {
   "cell_type": "code",
   "execution_count": 68,
   "metadata": {},
   "outputs": [],
   "source": [
    "c_preds = pd.concat([preds1,preds2])"
   ]
  },
  {
   "cell_type": "code",
   "execution_count": 69,
   "metadata": {
    "scrolled": true
   },
   "outputs": [
    {
     "name": "stdout",
     "output_type": "stream",
     "text": [
      "mse:  0.37065123721494836\n",
      "rmse:  0.6088113313785711\n"
     ]
    }
   ],
   "source": [
    "print('mse: ',mean_squared_error(c_preds.actual.values,c_preds.prediction.values))\n",
    "print('rmse: ',np.sqrt(mean_squared_error(c_preds.actual.values,c_preds.prediction.values)))"
   ]
  },
  {
   "cell_type": "markdown",
   "metadata": {},
   "source": [
    "The RMSE of .6 is better than the previous XGBoost model of ~.80. "
   ]
  },
  {
   "cell_type": "code",
   "execution_count": 70,
   "metadata": {},
   "outputs": [],
   "source": [
    "from collections import defaultdict\n",
    "def create_models(df = grouped_df, dropped_cols=dropped_cols, params=params):\n",
    "    \n",
    "    models=defaultdict(list)\n",
    "    \n",
    "    df1=grouped_df[grouped_df.cluster.isin([3.0,0.0])]\n",
    "    df2=grouped_df[grouped_df.cluster.isin([2.0,-1.0,1.0 ])]\n",
    "    \n",
    " \n",
    "    \n",
    "    for df in [df1, df2]:\n",
    "        \n",
    "        try:\n",
    "            bins = pd.IntervalIndex.from_tuples([(0, .56), (.56,.65), (.65, 1),(1,1.5), (1.5,2), (2,np.inf)], closed='left')\n",
    "            df['n_bins']=pd.cut(df.tn, bins=bins, labels=False)\n",
    "            \n",
    "            X_train, X_test, y_train, y_test = train_test_split(df.drop(dropped_cols+['tn'],axis=1),\n",
    "                                                            df['tn'],\n",
    "                                                            test_size=.2,\n",
    "                                                            random_state=5,\n",
    "                                                            stratify=df['n_bins'])\n",
    "\n",
    "        except:\n",
    "            \n",
    "            bins = pd.IntervalIndex.from_tuples([(0, .56), (.56,.65), (.65, 1),(1,np.inf)], closed='left')\n",
    "            df['n_bins']=pd.cut(df.tn, bins=bins, labels=False)\n",
    "            \n",
    "            X_train, X_test, y_train, y_test = train_test_split(df.drop(dropped_cols+['tn'],axis=1),\n",
    "                                                            df['tn'],\n",
    "                                                            test_size=.2,\n",
    "                                                            random_state=5,\n",
    "                                                            stratify=df['n_bins'])\n",
    "\n",
    "        # drop n_bins column\n",
    "        X_train.drop(['n_bins'],inplace=True,axis=1)\n",
    "        X_test.drop(['n_bins'],inplace=True,axis=1)\n",
    "\n",
    "\n",
    "        # mean target encoding\n",
    "        X_train['tn']=y_train\n",
    "        X_train['huc12_enc'], X_test['huc12_enc'] = mean_target_encoding(train=X_train,\n",
    "                                                                                   test=X_test,\n",
    "                                                                                   target='tn',\n",
    "                                                                                   categorical='huc12_',\n",
    "                                                                                   alpha=10)\n",
    "\n",
    "        \n",
    "        X_train.drop(['huc12_','tn'], axis=1, inplace=True)\n",
    "        X_test.drop(['huc12_'], axis=1, inplace=True)\n",
    "\n",
    "\n",
    "\n",
    "        numeric_features = list(set(X_train.columns).difference(set(['year','month'])))\n",
    "        scaling = Pipeline(steps=[\n",
    "            ('rb_scaler', RobustScaler())])\n",
    "\n",
    "        preprocessor = ColumnTransformer(\n",
    "            transformers=[\n",
    "                ('scaler', scaling, numeric_features)],remainder='passthrough')\n",
    "\n",
    "        pipe=Pipeline([\n",
    "            ('preprocessing', preprocessor),\n",
    "            ('clf', RandomForestRegressor())\n",
    "        ])\n",
    "\n",
    "#         params = [{'clf' : [ RandomForestRegressor(random_state = 5, criterion='mse',oob_score=True)],\n",
    "#         'clf__max_depth':[None, 2, 5, 8 ],\n",
    "#         'clf__n_estimators' : [140] + list(range(20,300, 40)),\n",
    "#         'clf__max_features' : ['log2', 'sqrt','auto']\n",
    "#               }\n",
    "#     ]\n",
    "\n",
    "        #create the grid search object\n",
    "        cv = GridSearchCV(pipe,\n",
    "                          param_grid=params,\n",
    "                          refit = True,\n",
    "                          cv = 5, \n",
    "                          verbose = True,\n",
    "                          n_jobs = -1\n",
    "                          ,\n",
    "                         scoring='neg_mean_absolute_error')\n",
    "\n",
    "        #fit the data\n",
    "        cv.fit(X_train,y_train)\n",
    "        \n",
    "        \n",
    "        models['model'].append(cv)\n",
    "        models['cv_score'].append(cv.best_score_)\n",
    "        models['X_train'].append(X_train)\n",
    "        models['y_train'].append(y_train)\n",
    "        models['X_test'].append(X_test)\n",
    "        models['y_test'].append(y_test)\n",
    "        \n",
    "    for num, model in enumerate(models['model']):\n",
    "        print('Best score and parameters for model ',num+1 )\n",
    "        print(models['cv_score'][num])\n",
    "        print(models['model'][num].best_params_)\n",
    "        \n",
    "    return models\n",
    "\n",
    "        \n",
    "        \n",
    "        \n"
   ]
  },
  {
   "cell_type": "code",
   "execution_count": 71,
   "metadata": {
    "scrolled": false
   },
   "outputs": [
    {
     "name": "stdout",
     "output_type": "stream",
     "text": [
      "Fitting 5 folds for each of 132 candidates, totalling 660 fits\n"
     ]
    },
    {
     "name": "stderr",
     "output_type": "stream",
     "text": [
      "C:\\Users\\Bryan\\Anaconda3\\envs\\hacktb\\lib\\site-packages\\ipykernel_launcher.py:15: SettingWithCopyWarning: \n",
      "A value is trying to be set on a copy of a slice from a DataFrame.\n",
      "Try using .loc[row_indexer,col_indexer] = value instead\n",
      "\n",
      "See the caveats in the documentation: https://pandas.pydata.org/pandas-docs/stable/user_guide/indexing.html#returning-a-view-versus-a-copy\n",
      "  from ipykernel import kernelapp as app\n",
      "C:\\Users\\Bryan\\Anaconda3\\envs\\hacktb\\lib\\site-packages\\ipykernel_launcher.py:22: DeprecationWarning: The default dtype for empty Series will be 'object' instead of 'float64' in a future version. Specify a dtype explicitly to silence this warning.\n",
      "[Parallel(n_jobs=-1)]: Using backend LokyBackend with 4 concurrent workers.\n",
      "[Parallel(n_jobs=-1)]: Done  42 tasks      | elapsed:   30.3s\n",
      "[Parallel(n_jobs=-1)]: Done 192 tasks      | elapsed:  4.9min\n",
      "[Parallel(n_jobs=-1)]: Done 442 tasks      | elapsed:  7.2min\n",
      "[Parallel(n_jobs=-1)]: Done 660 out of 660 | elapsed: 11.0min finished\n",
      "C:\\Users\\Bryan\\Anaconda3\\envs\\hacktb\\lib\\site-packages\\ipykernel_launcher.py:15: SettingWithCopyWarning: \n",
      "A value is trying to be set on a copy of a slice from a DataFrame.\n",
      "Try using .loc[row_indexer,col_indexer] = value instead\n",
      "\n",
      "See the caveats in the documentation: https://pandas.pydata.org/pandas-docs/stable/user_guide/indexing.html#returning-a-view-versus-a-copy\n",
      "  from ipykernel import kernelapp as app\n",
      "C:\\Users\\Bryan\\Anaconda3\\envs\\hacktb\\lib\\site-packages\\ipykernel_launcher.py:22: DeprecationWarning: The default dtype for empty Series will be 'object' instead of 'float64' in a future version. Specify a dtype explicitly to silence this warning.\n",
      "[Parallel(n_jobs=-1)]: Using backend LokyBackend with 4 concurrent workers.\n"
     ]
    },
    {
     "name": "stdout",
     "output_type": "stream",
     "text": [
      "Fitting 5 folds for each of 132 candidates, totalling 660 fits\n"
     ]
    },
    {
     "name": "stderr",
     "output_type": "stream",
     "text": [
      "[Parallel(n_jobs=-1)]: Done  42 tasks      | elapsed:   52.3s\n",
      "[Parallel(n_jobs=-1)]: Done 192 tasks      | elapsed:  9.0min\n",
      "[Parallel(n_jobs=-1)]: Done 442 tasks      | elapsed: 12.2min\n",
      "[Parallel(n_jobs=-1)]: Done 660 out of 660 | elapsed: 18.4min finished\n"
     ]
    },
    {
     "name": "stdout",
     "output_type": "stream",
     "text": [
      "Best score and parameters for model  1\n",
      "-0.1390334113907309\n",
      "{'clf': RandomForestRegressor(n_estimators=220, oob_score=True, random_state=5), 'clf__max_depth': None, 'clf__max_features': 'auto', 'clf__n_estimators': 380}\n",
      "Best score and parameters for model  2\n",
      "-0.4119408402239437\n",
      "{'clf': RandomForestRegressor(n_estimators=220, oob_score=True, random_state=5), 'clf__max_depth': None, 'clf__max_features': 'auto', 'clf__n_estimators': 220}\n"
     ]
    }
   ],
   "source": [
    "params = [{'clf' : [ RandomForestRegressor(random_state = 5, oob_score=True)],\n",
    "    'clf__max_depth':[None, 2, 5, 8 ],\n",
    "    'clf__n_estimators' : [140] + list(range(20,400, 40)),\n",
    "    'clf__max_features' : ['log2', 'sqrt','auto']\n",
    "          }\n",
    "]\n",
    "\n",
    "\n",
    "\n",
    "\n",
    "models = create_models(params=params)"
   ]
  },
  {
   "cell_type": "code",
   "execution_count": 73,
   "metadata": {},
   "outputs": [],
   "source": [
    "def model_predict(models=models):\n",
    "    \n",
    "    total_predictions=pd.DataFrame()\n",
    "    total_test = []\n",
    "    \n",
    "    for num, model in enumerate(models['model']):\n",
    "        \n",
    "        y_pred=model.predict(models['X_test'][num])\n",
    "        y_test=models['y_test'][num]\n",
    "        \n",
    "        model_num=num+1\n",
    "        \n",
    "        print('############# For model {} ################'.format(model_num))\n",
    "        print('Evaluation Metrics')\n",
    "        \n",
    "        confidence = .95\n",
    "        final_mse = mean_squared_error(y_test, y_pred)\n",
    "        final_rmse = np.sqrt(final_mse)\n",
    "\n",
    "        squared_errors = (y_pred - y_test)**2\n",
    "\n",
    "        print('Explained Variance:',explained_variance_score(y_test, y_pred))\n",
    "        print('r2:',r2_score(y_test,y_pred))\n",
    "        print('Mean Squared Error:',final_mse)\n",
    "        print('Root Mean Square Error:',final_rmse)\n",
    "        print('95% Confidence Interval:',np.sqrt(stats.t.interval(confidence, len(squared_errors)-1,\n",
    "                                loc=squared_errors.mean(),\n",
    "                                scale=stats.sem(squared_errors))),'mg/L')\n",
    "        \n",
    "        #obtain the feature importances from within the GridSearchCV, pipeline\n",
    "        fi=[x.feature_importances_ for x in model.best_estimator_.steps[1][1].estimators_]\n",
    "        fi=np.mean(fi,axis=0)\n",
    "\n",
    "        #place the feature importances in a dataframe\n",
    "        feature_importances = pd.DataFrame(fi,\n",
    "                                           index = numeric_features+['year','month'], #use numeric_features_list for ohe\n",
    "                                            columns=['importance']).sort_values('importance',ascending=False)\n",
    "        feature_importances[:10].plot(kind='bar',figsize=(10,5))\n",
    "        plt.title('Top 10 Feature Importances for model {}'.format(model_num))\n",
    "        plt.xlabel('Features')\n",
    "        plt.ylabel('Importance')\n",
    "        plt.show()\n",
    "        \n",
    "        eli5.explain_weights(model.best_estimator_.steps[1][1], top=20, feature_names=numeric_features+['year','month'])\n",
    "        \n",
    "        preds=pd.DataFrame({'prediction':y_pred,'actual':y_test})\n",
    "        \n",
    "        total_predictions=pd.concat([total_predictions,preds])\n",
    "\n",
    "    \n",
    "    print('Total Mean Squared Error: ',mean_squared_error(total_predictions.actual.values,total_predictions.prediction.values))\n",
    "    print('Total RMSE : ', np.sqrt(mean_squared_error(total_predictions.actual.values,total_predictions.prediction.values)))\n",
    "    \n",
    "    return total_predictions\n",
    "    "
   ]
  },
  {
   "cell_type": "code",
   "execution_count": 74,
   "metadata": {
    "scrolled": false
   },
   "outputs": [
    {
     "name": "stdout",
     "output_type": "stream",
     "text": [
      "############# For model 1 ################\n",
      "Evaluation Metrics\n",
      "Explained Variance: 0.5817944096712473\n",
      "r2: 0.5817895783900892\n",
      "Mean Squared Error: 0.040209921615700424\n",
      "Root Mean Square Error: 0.20052411729191186\n",
      "95% Confidence Interval: [0.16985091 0.22709142] mg/L\n"
     ]
    },
    {
     "data": {
      "image/png": "[encoded data removed]",
      "text/plain": [
       "<Figure size 720x360 with 1 Axes>"
      ]
     },
     "metadata": {},
     "output_type": "display_data"
    },
    {
     "name": "stdout",
     "output_type": "stream",
     "text": [
      "############# For model 2 ################\n",
      "Evaluation Metrics\n",
      "Explained Variance: 0.9007144288762047\n",
      "r2: 0.9005654073704523\n",
      "Mean Squared Error: 0.5566085882734902\n",
      "Root Mean Square Error: 0.7460620539026832\n",
      "95% Confidence Interval: [0.47191528 0.94367004] mg/L\n"
     ]
    },
    {
     "data": {
      "image/png": "[encoded data removed]",
      "text/plain": [
       "<Figure size 720x360 with 1 Axes>"
      ]
     },
     "metadata": {},
     "output_type": "display_data"
    },
    {
     "name": "stdout",
     "output_type": "stream",
     "text": [
      "Total Mean Squared Error:  0.3762851858718829\n",
      "Total RMSE :  0.6134208880303009\n"
     ]
    }
   ],
   "source": [
    "preds = model_predict()"
   ]
  },
  {
   "cell_type": "markdown",
   "metadata": {},
   "source": [
    "Further segmentation or additional relevant features may help make more accurate predictions.\n",
    "Whern looking at the feature importances side by side, the target mean encoding of the HUC12 feature is the most important feature for both models. This makes sense that the previous averages of TN within the HUC will help predict future TN readings, this feature helps capture the variability between HUC12 areas. \n",
    "\n",
    "The first group's top features asie from the mean encoding feature:\n",
    "- month\n",
    "- air temperature\n",
    "- rainfall in the past 24 hours\n",
    "- NO2 emissions from point sources\n",
    "- humidity\n",
    "- mean value of air NO2 and the year\n",
    "\n",
    "The second group's top features aside form the mean encoding feature:\n",
    "- lc_82(ratio of land that is 'cultivated crops')\n",
    "- distance from the bay\n",
    "- mean value of air NO2\n",
    "- rainfall in the past 24 hours\n",
    "\n",
    "This shows that there is a difference in the relationships of variables and TN sampled in the water. It would seem that Group 1's TN values rely upon seasonal fluctuations, weather, NO2 emissions (from correlated point sources) and air NO2 values(from point sources and nearby cities/non point sources). This could  mean that a focus on reducing TN from point sources and non-point sources would help reduce TN in the bay.\n",
    "\n",
    "Group 2's TN values rely more upon how land cover is utilized, specifically crop land. Determining  ways to mitigate cropland run off could help reduce TN. An explanation for 'distance to the outflow of the bay' being such an important feature, is that there is less water for the pollutant to be dilluted in the further from the bay you are, making run off TN values\n"
   ]
  }
 ],
 "metadata": {
  "kernelspec": {
   "display_name": "hacktb",
   "language": "python",
   "name": "hacktb"
  },
  "language_info": {
   "codemirror_mode": {
    "name": "ipython",
    "version": 3
   },
   "file_extension": ".py",
   "mimetype": "text/x-python",
   "name": "python",
   "nbconvert_exporter": "python",
   "pygments_lexer": "ipython3",
   "version": "3.7.8"
  }
 },
 "nbformat": 4,
 "nbformat_minor": 4
}
