{
 "cells": [
  {
   "cell_type": "code",
   "execution_count": 1,
   "metadata": {},
   "outputs": [],
   "source": [
    "import os\n",
    "import pandas as pd\n",
    "import numpy as np\n",
    "from pprint import pprint\n",
    "\n",
    "PROJ_ROOT = os.path.join(os.pardir)"
   ]
  },
  {
   "cell_type": "code",
   "execution_count": 2,
   "metadata": {},
   "outputs": [],
   "source": [
    "cmc_data = os.path.join(PROJ_ROOT, \n",
    "                         'data',\n",
    "                        'raw-data',\n",
    "                         'water_FINAL.csv')\n",
    "\n",
    "# lc_data = os.path.join(PROJ_ROOT, \n",
    "#                          'data',\n",
    "#                         'processed',\n",
    "#                          'lc_df.csv')"
   ]
  },
  {
   "cell_type": "code",
   "execution_count": 3,
   "metadata": {},
   "outputs": [
    {
     "name": "stderr",
     "output_type": "stream",
     "text": [
      "C:\\Users\\Bryan\\Anaconda3\\envs\\hacktb\\lib\\site-packages\\IPython\\core\\interactiveshell.py:3146: DtypeWarning: Columns (2,3,4,5,6,9,11,13,15,17,21,22,23,24,27,28,31,32,33,34,35,36,37,40,41,42,43,44,45,46,47,48,49,50,55,56,57,58,59,60,61,62,63,64,65,66) have mixed types.Specify dtype option on import or set low_memory=False.\n",
      "  interactivity=interactivity, compiler=compiler, result=result)\n"
     ]
    }
   ],
   "source": [
    "cmc_df=pd.read_csv(cmc_data,parse_dates={'new_date':['Date','Time']},\n",
    "                                         usecols=(lambda x: not x.startswith('Unnamed')),\n",
    "                                         dtype={'HUC12_':str} )"
   ]
  },
  {
   "cell_type": "code",
   "execution_count": 4,
   "metadata": {},
   "outputs": [],
   "source": [
    "# lc_df=pd.read_csv(lc_data, dtype={'huc12':str})"
   ]
  },
  {
   "cell_type": "code",
   "execution_count": 5,
   "metadata": {},
   "outputs": [
    {
     "name": "stdout",
     "output_type": "stream",
     "text": [
      "(2708717, 70)\n"
     ]
    },
    {
     "data": {
      "text/html": [
       "<div>\n",
       "<style scoped>\n",
       "    .dataframe tbody tr th:only-of-type {\n",
       "        vertical-align: middle;\n",
       "    }\n",
       "\n",
       "    .dataframe tbody tr th {\n",
       "        vertical-align: top;\n",
       "    }\n",
       "\n",
       "    .dataframe thead th {\n",
       "        text-align: right;\n",
       "    }\n",
       "</style>\n",
       "<table border=\"1\" class=\"dataframe\">\n",
       "  <thead>\n",
       "    <tr style=\"text-align: right;\">\n",
       "      <th></th>\n",
       "      <th>new_date</th>\n",
       "      <th>Agency</th>\n",
       "      <th>BiasPC</th>\n",
       "      <th>CloudCover</th>\n",
       "      <th>Comments</th>\n",
       "      <th>Cruise</th>\n",
       "      <th>Database</th>\n",
       "      <th>FieldActivityEventType</th>\n",
       "      <th>FieldActivityRemark</th>\n",
       "      <th>FlowStage</th>\n",
       "      <th>...</th>\n",
       "      <th>Weather Conditions Yesterday</th>\n",
       "      <th>WindDirection</th>\n",
       "      <th>WindSpeed</th>\n",
       "      <th>state</th>\n",
       "      <th>Point</th>\n",
       "      <th>HUC12_</th>\n",
       "      <th>HUCNAME_</th>\n",
       "      <th>FIPS_</th>\n",
       "      <th>COUNTY_</th>\n",
       "      <th>STATE_</th>\n",
       "    </tr>\n",
       "  </thead>\n",
       "  <tbody>\n",
       "    <tr>\n",
       "      <th>0</th>\n",
       "      <td>2018-04-28 12:05:00</td>\n",
       "      <td>NaN</td>\n",
       "      <td>NaN</td>\n",
       "      <td>NaN</td>\n",
       "      <td>NaN</td>\n",
       "      <td>NaN</td>\n",
       "      <td>CMC</td>\n",
       "      <td>NaN</td>\n",
       "      <td>NaN</td>\n",
       "      <td>NaN</td>\n",
       "      <td>...</td>\n",
       "      <td>NaN</td>\n",
       "      <td>W</td>\n",
       "      <td>1-10 knots</td>\n",
       "      <td>MD</td>\n",
       "      <td>POINT (-75.93002800000002 39.480194)</td>\n",
       "      <td>020600020206</td>\n",
       "      <td>Bohemia River</td>\n",
       "      <td>24015</td>\n",
       "      <td>Cecil County</td>\n",
       "      <td>MD</td>\n",
       "    </tr>\n",
       "    <tr>\n",
       "      <th>1</th>\n",
       "      <td>2018-04-28 12:40:00</td>\n",
       "      <td>NaN</td>\n",
       "      <td>NaN</td>\n",
       "      <td>NaN</td>\n",
       "      <td>NaN</td>\n",
       "      <td>NaN</td>\n",
       "      <td>CMC</td>\n",
       "      <td>NaN</td>\n",
       "      <td>NaN</td>\n",
       "      <td>NaN</td>\n",
       "      <td>...</td>\n",
       "      <td>NaN</td>\n",
       "      <td>W</td>\n",
       "      <td>1-10 knots</td>\n",
       "      <td>MD</td>\n",
       "      <td>POINT (-75.902528 39.480444)</td>\n",
       "      <td>020600020206</td>\n",
       "      <td>Bohemia River</td>\n",
       "      <td>24015</td>\n",
       "      <td>Cecil County</td>\n",
       "      <td>MD</td>\n",
       "    </tr>\n",
       "    <tr>\n",
       "      <th>2</th>\n",
       "      <td>2018-04-28 13:13:00</td>\n",
       "      <td>NaN</td>\n",
       "      <td>NaN</td>\n",
       "      <td>NaN</td>\n",
       "      <td>NaN</td>\n",
       "      <td>NaN</td>\n",
       "      <td>CMC</td>\n",
       "      <td>NaN</td>\n",
       "      <td>NaN</td>\n",
       "      <td>NaN</td>\n",
       "      <td>...</td>\n",
       "      <td>NaN</td>\n",
       "      <td>S</td>\n",
       "      <td>1-10 knots</td>\n",
       "      <td>MD</td>\n",
       "      <td>POINT (-75.873639 39.466889)</td>\n",
       "      <td>020600020206</td>\n",
       "      <td>Bohemia River</td>\n",
       "      <td>24015</td>\n",
       "      <td>Cecil County</td>\n",
       "      <td>MD</td>\n",
       "    </tr>\n",
       "    <tr>\n",
       "      <th>3</th>\n",
       "      <td>2018-04-28 13:53:00</td>\n",
       "      <td>NaN</td>\n",
       "      <td>NaN</td>\n",
       "      <td>NaN</td>\n",
       "      <td>NaN</td>\n",
       "      <td>NaN</td>\n",
       "      <td>CMC</td>\n",
       "      <td>NaN</td>\n",
       "      <td>NaN</td>\n",
       "      <td>NaN</td>\n",
       "      <td>...</td>\n",
       "      <td>NaN</td>\n",
       "      <td>SW</td>\n",
       "      <td>1-10 knots</td>\n",
       "      <td>MD</td>\n",
       "      <td>POINT (-75.854444 39.454)</td>\n",
       "      <td>020600020206</td>\n",
       "      <td>Bohemia River</td>\n",
       "      <td>24015</td>\n",
       "      <td>Cecil County</td>\n",
       "      <td>MD</td>\n",
       "    </tr>\n",
       "    <tr>\n",
       "      <th>4</th>\n",
       "      <td>2018-04-28 14:24:00</td>\n",
       "      <td>NaN</td>\n",
       "      <td>NaN</td>\n",
       "      <td>NaN</td>\n",
       "      <td>NaN</td>\n",
       "      <td>NaN</td>\n",
       "      <td>CMC</td>\n",
       "      <td>NaN</td>\n",
       "      <td>NaN</td>\n",
       "      <td>NaN</td>\n",
       "      <td>...</td>\n",
       "      <td>NaN</td>\n",
       "      <td>SW</td>\n",
       "      <td>1-10 knots</td>\n",
       "      <td>MD</td>\n",
       "      <td>POINT (-75.84352800000001 39.463667)</td>\n",
       "      <td>020600020206</td>\n",
       "      <td>Bohemia River</td>\n",
       "      <td>24015</td>\n",
       "      <td>Cecil County</td>\n",
       "      <td>MD</td>\n",
       "    </tr>\n",
       "  </tbody>\n",
       "</table>\n",
       "<p>5 rows × 70 columns</p>\n",
       "</div>"
      ],
      "text/plain": [
       "             new_date Agency BiasPC CloudCover Comments Cruise Database  \\\n",
       "0 2018-04-28 12:05:00    NaN    NaN        NaN      NaN    NaN      CMC   \n",
       "1 2018-04-28 12:40:00    NaN    NaN        NaN      NaN    NaN      CMC   \n",
       "2 2018-04-28 13:13:00    NaN    NaN        NaN      NaN    NaN      CMC   \n",
       "3 2018-04-28 13:53:00    NaN    NaN        NaN      NaN    NaN      CMC   \n",
       "4 2018-04-28 14:24:00    NaN    NaN        NaN      NaN    NaN      CMC   \n",
       "\n",
       "  FieldActivityEventType  FieldActivityRemark FlowStage  ...  \\\n",
       "0                    NaN                  NaN       NaN  ...   \n",
       "1                    NaN                  NaN       NaN  ...   \n",
       "2                    NaN                  NaN       NaN  ...   \n",
       "3                    NaN                  NaN       NaN  ...   \n",
       "4                    NaN                  NaN       NaN  ...   \n",
       "\n",
       "   Weather Conditions Yesterday WindDirection   WindSpeed state  \\\n",
       "0                           NaN             W  1-10 knots    MD   \n",
       "1                           NaN             W  1-10 knots    MD   \n",
       "2                           NaN             S  1-10 knots    MD   \n",
       "3                           NaN            SW  1-10 knots    MD   \n",
       "4                           NaN            SW  1-10 knots    MD   \n",
       "\n",
       "                                  Point        HUC12_       HUCNAME_  FIPS_  \\\n",
       "0  POINT (-75.93002800000002 39.480194)  020600020206  Bohemia River  24015   \n",
       "1          POINT (-75.902528 39.480444)  020600020206  Bohemia River  24015   \n",
       "2          POINT (-75.873639 39.466889)  020600020206  Bohemia River  24015   \n",
       "3             POINT (-75.854444 39.454)  020600020206  Bohemia River  24015   \n",
       "4  POINT (-75.84352800000001 39.463667)  020600020206  Bohemia River  24015   \n",
       "\n",
       "        COUNTY_ STATE_  \n",
       "0  Cecil County     MD  \n",
       "1  Cecil County     MD  \n",
       "2  Cecil County     MD  \n",
       "3  Cecil County     MD  \n",
       "4  Cecil County     MD  \n",
       "\n",
       "[5 rows x 70 columns]"
      ]
     },
     "execution_count": 5,
     "metadata": {},
     "output_type": "execute_result"
    }
   ],
   "source": [
    "print(cmc_df.shape)\n",
    "cmc_df.head()"
   ]
  },
  {
   "cell_type": "code",
   "execution_count": 6,
   "metadata": {},
   "outputs": [
    {
     "data": {
      "text/plain": [
       "Index(['new_date', 'Agency', 'BiasPC', 'CloudCover', 'Comments', 'Cruise',\n",
       "       'Database', 'FieldActivityEventType', 'FieldActivityRemark',\n",
       "       'FlowStage', 'GaugeHeight', 'GroupCode', 'HUC12', 'Lab', 'Latitude',\n",
       "       'Layer', 'Longitude', 'LowerPycnocline', 'MeasureValue', 'Method',\n",
       "       'ModifiedDate', 'Other Comments', 'Other Conditions', 'Parameter',\n",
       "       'ParameterName_CBP', 'ParameterName_CMC', 'PrecipType', 'PrecisionPC',\n",
       "       'Pressure', 'Problem', 'Program', 'Project', 'Qualifier', 'Rainfall',\n",
       "       'Rainfall Within 24 Hours', 'Rainfall Within 48 Hours', 'SampleDepth',\n",
       "       'SampleId', 'SampleReplicateType', 'SampleType', 'Sea State', 'Source',\n",
       "       'Station', 'StationCode', 'StationName', 'Stream Flow', 'Tidal Stage',\n",
       "       'TideStage', 'TierLevel', 'TotalDepth', 'Unit', 'UpperPycnocline',\n",
       "       'Water Color', 'Water Color Description', 'Water Odor',\n",
       "       'Water Odor Description', 'Water Surfaces', 'WaveHeight',\n",
       "       'Weather Conditions Day Before Yesterday', 'Weather Conditions Today',\n",
       "       'Weather Conditions Yesterday', 'WindDirection', 'WindSpeed', 'state',\n",
       "       'Point', 'HUC12_', 'HUCNAME_', 'FIPS_', 'COUNTY_', 'STATE_'],\n",
       "      dtype='object')"
      ]
     },
     "execution_count": 6,
     "metadata": {},
     "output_type": "execute_result"
    }
   ],
   "source": [
    "cmc_df.columns"
   ]
  },
  {
   "cell_type": "markdown",
   "metadata": {},
   "source": [
    "List all values of Nitrogen that are in the dataset. \n",
    "Looking at row #15 this means\n",
    "- CBP Parameter ('ParameterName_CBP' feature) = 'TOTAL NITROGEN'\n",
    "- CMC Parameter ('ParameterName_CMC' feature) = 'Total Nitrogen ' *Note:extra space at the end*\n",
    "- CMC Codes & CBP Codes are both in ('Parameter' feature) = 'TN'(CBP) 'TN.1', 'TN.2', 'TN.3' (CMC)\n",
    "\n",
    "\n",
    "Assumption - maintaining to this list - we will be analyzing equivalent measures. Though - the team has stated the methods are different depending on different CMC codes. TN.1 method is different than TN.2, though they measure the same pollutant on the same scale.\n",
    "\n",
    "- Check for missing values among the different codes to ensure they are combined correctly\n",
    "- Check that the units are the same\n"
   ]
  },
  {
   "attachments": {
    "image.png": {
     "image/png": "[encoded data removed]"
    }
   },
   "cell_type": "markdown",
   "metadata": {},
   "source": [
    "![image.png](attachment:image.png)"
   ]
  },
  {
   "cell_type": "markdown",
   "metadata": {},
   "source": [
    "### 112,110 Total Records where ANY of the parameters are listed as Nitrogen"
   ]
  },
  {
   "cell_type": "code",
   "execution_count": 7,
   "metadata": {},
   "outputs": [
    {
     "data": {
      "text/plain": [
       "(112110, 70)"
      ]
     },
     "execution_count": 7,
     "metadata": {},
     "output_type": "execute_result"
    }
   ],
   "source": [
    "#subset dataframe to include all nitrogen keys for all 3 features\n",
    "cmc_df[(cmc_df.Parameter.isin(['TOTAL NITROGEN', 'TN.1','TN','TN.2','TN.3','Total Nitrogen '])) |\n",
    "     (cmc_df.ParameterName_CBP.isin(['TOTAL NITROGEN', 'TN.1','TN','TN.2','TN.3','Total Nitrogen '])) |\n",
    "     (cmc_df.ParameterName_CMC.isin(['TOTAL NITROGEN', 'TN.1','TN','TN.2','TN.3','Total Nitrogen ']))].shape"
   ]
  },
  {
   "cell_type": "code",
   "execution_count": 8,
   "metadata": {},
   "outputs": [
    {
     "data": {
      "text/plain": [
       "mg/l    112110\n",
       "Name: Unit, dtype: int64"
      ]
     },
     "execution_count": 8,
     "metadata": {},
     "output_type": "execute_result"
    }
   ],
   "source": [
    "# look all the units of measure of all records\n",
    "cmc_df[(cmc_df.Parameter.isin(['TOTAL NITROGEN', 'TN.1','TN','TN.2','TN.3','Total Nitrogen '])) |\n",
    "     (cmc_df.ParameterName_CBP.isin(['TOTAL NITROGEN', 'TN.1','TN','TN.2','TN.3','Total Nitrogen '])) |\n",
    "     (cmc_df.ParameterName_CMC.isin(['TOTAL NITROGEN', 'TN.1','TN','TN.2','TN.3','Total Nitrogen ']))].Unit.str.lower().value_counts()"
   ]
  },
  {
   "cell_type": "markdown",
   "metadata": {},
   "source": [
    "all units are measured in mg/L"
   ]
  },
  {
   "cell_type": "code",
   "execution_count": 9,
   "metadata": {},
   "outputs": [
    {
     "name": "stdout",
     "output_type": "stream",
     "text": [
      "array(['CHL.3', 'DO.6', 'NO3N.5', 'SA.9', 'DO.5', 'NO3N.6', 'WC.2',\n",
      "       'WT.8', 'PH.6', 'CO.8', 'AT.3', 'OP.1', 'WT.1', 'NH4N.1', 'WT.4',\n",
      "       'AT.11', 'AT.2', 'CHL.1', 'ECOLI.4', 'TP.3', 'NO3N.1', 'ECOLI.6',\n",
      "       'CO.9', 'WC.7', 'OP.3', 'ECOLI.1', 'TDS.1', 'WT.5', 'WC.5', 'WC.6',\n",
      "       'AT.1', 'AT.10', 'NO3N.2', 'TDS.3', 'AT.9', 'ENT.2', 'WT.10',\n",
      "       'TD.1', 'WC.9', 'SA.3', 'SA.6', 'PH.11', 'DO.3', 'NO3N.4', 'DO.4',\n",
      "       'SA.2', 'TSS.1', 'CO.1', 'PH.10', 'OP.2', 'WC.12', 'CO.4', 'WT.3',\n",
      "       'WC.1', 'CO.2', 'ALKY.6', 'SA.10', 'PH.8', 'OP.8', 'NO2NO3.1',\n",
      "       'DO.2', 'DO.7', 'WC.4', 'DO.15', 'TSS.3', 'OP.7', 'WC.8', 'CHL.2',\n",
      "       'WT.12', 'TN.2', 'CO.5', 'OP.4', 'AT.4', 'TDS.2', 'NO3N.3', 'WT.2',\n",
      "       'WT.6', 'PH.9', 'SA.8', 'CHL.4', 'WT.9', 'SA.1', 'PH.7', 'PH.1',\n",
      "       'DO.9', 'TKN.1', 'ENT.1', 'WT.7', 'DO.14', 'AT.5', 'OP.6', 'TP.2',\n",
      "       'PH.5', 'NO2NO3.4', 'TP.1', 'TN.1', 'PH.4', 'PH.2', 'ECOLI.2',\n",
      "       'DO.1', 'PH.3', 'AT.6', 'DO.8', 'TN.3', 'WT.13', 'ALKY.3', 'CHLA',\n",
      "       'DO', 'NH4F', 'NO3F', 'PH', 'PO4F', 'SALINITY', 'SECCHI', 'TN',\n",
      "       'TP', 'TSS', 'WTEMP', 'TURB_NTU', 'TALK', 'TDS', 'TKNW'],\n",
      "      dtype=object)\n"
     ]
    }
   ],
   "source": [
    "pprint(cmc_df.Parameter.unique())"
   ]
  },
  {
   "cell_type": "code",
   "execution_count": 10,
   "metadata": {},
   "outputs": [
    {
     "name": "stdout",
     "output_type": "stream",
     "text": [
      "array(['ACTIVE CHLOROPHYLL-A',\n",
      "       'DO SATURATION USING PROBE UNITS IN PERCENT',\n",
      "       'Not in CBP Database',\n",
      "       'SALINITY UNITS IN PPT AND EQUAL TO PRACTICAL SALNITY UNITS (PSU)',\n",
      "       'DISSOLVED OXYGEN IN MG/L',\n",
      "       'NITRATE NITROGEN AS N (FILTERED SAMPLE)', 'SECCHI DEPTH',\n",
      "       'WATER TEMPERATURE DEG', 'PH CORRECTED FOR TEMPERATURE (25 DEG C)',\n",
      "       'SPECIFIC CONDUCTIVITY', 'AIR TEMPERATURE DEG',\n",
      "       'AMMONIUM NITROGEN AS N (FILTERED SAMPLE)', 'E.COLI BACTERIA',\n",
      "       'TOTAL PHOSPHORUS',\n",
      "       'ORTHOPHOSPHATE PHOSPHORUS AS P (FILTERED SAMPLE)',\n",
      "       'TOTAL DISSOLVED SOLIDS; GRAVIMETRIC; DRIED AT 180 C',\n",
      "       'TURBIDITY; JACKSON CANDLE METHOD (FORWARD SCATTER)',\n",
      "       'TURBIDITY; NEPHELOMETRIC METHOD', 'TOTAL DEPTH',\n",
      "       'TOTAL SUSPENDED SOLIDS', 'TOTAL ALKALINITY AS CACO3',\n",
      "       'TURBIDITY TUBE', 'TOTAL NITROGEN',\n",
      "       'TOTAL KJELDAHL NITROGEN (WHOLE SAMPLE)'], dtype=object)\n"
     ]
    }
   ],
   "source": [
    "pprint(cmc_df.ParameterName_CBP.unique())"
   ]
  },
  {
   "cell_type": "code",
   "execution_count": 11,
   "metadata": {},
   "outputs": [
    {
     "name": "stdout",
     "output_type": "stream",
     "text": [
      "array(['Chlorophyll a;b;c ', 'Dissolved oxygen % Sat ',\n",
      "       'Nitrate-nitrogen ', 'Salinity ', 'Dissolved oxygen ',\n",
      "       'Water Clarity ', 'Water temperature ', 'pH ', 'Conductivity ',\n",
      "       'Air temperature ', 'Orthophosphate ', 'Ammonia-nitrogen ',\n",
      "       'Air Temperature ', 'Chlorophyll a ', 'Bacteria [E.Coli] ',\n",
      "       'Total Phosphorus ', 'Total Dissolved Solids ', 'Enterococcus ',\n",
      "       'Total Depth ', 'Total Suspended Solids ', 'Alkalinity ',\n",
      "       'Nitrite-nitrate ', 'Dissolved Oxygen % Sat ', 'Total Nitrogen ',\n",
      "       'Total Kjeldahl Nitrogen ', 'Water Temperature ', nan],\n",
      "      dtype=object)\n"
     ]
    }
   ],
   "source": [
    "pprint(cmc_df.ParameterName_CMC.unique())"
   ]
  },
  {
   "cell_type": "markdown",
   "metadata": {},
   "source": [
    "There are other nitrogen measures, but listed as other measured pollutants (different names)"
   ]
  },
  {
   "cell_type": "code",
   "execution_count": 12,
   "metadata": {},
   "outputs": [],
   "source": [
    "# subset dataframe to only look at the parameter and unit features\n",
    "n_df=cmc_df[['Parameter','ParameterName_CBP', 'ParameterName_CMC','Unit']]"
   ]
  },
  {
   "cell_type": "markdown",
   "metadata": {},
   "source": [
    "## Different names of Nitrogen when filtered by Parameter feature"
   ]
  },
  {
   "cell_type": "markdown",
   "metadata": {},
   "source": [
    "- The Parameter feature captures all nitrogen records 112,110.\n",
    "- CMC parameter seems to be missing the CMC code records (109,500 records)"
   ]
  },
  {
   "cell_type": "code",
   "execution_count": 13,
   "metadata": {},
   "outputs": [],
   "source": [
    "#filter to only nitrogen in parameter column\n",
    "n_df=n_df[n_df.Parameter.isin(['TN', 'TN.1', 'TN.2', 'TN.3'])]"
   ]
  },
  {
   "cell_type": "code",
   "execution_count": 14,
   "metadata": {},
   "outputs": [
    {
     "data": {
      "text/plain": [
       "TOTAL NITROGEN    112110\n",
       "Name: ParameterName_CBP, dtype: int64"
      ]
     },
     "metadata": {},
     "output_type": "display_data"
    },
    {
     "data": {
      "text/plain": [
       "NaN                109500\n",
       "Total Nitrogen       2610\n",
       "Name: ParameterName_CMC, dtype: int64"
      ]
     },
     "metadata": {},
     "output_type": "display_data"
    },
    {
     "data": {
      "text/plain": [
       "TN      109500\n",
       "TN.1      2177\n",
       "TN.3       230\n",
       "TN.2       203\n",
       "Name: Parameter, dtype: int64"
      ]
     },
     "metadata": {},
     "output_type": "display_data"
    }
   ],
   "source": [
    "# display/count the other parameters\n",
    "display(n_df[n_df.Parameter.isin(['TN', 'TN.1', 'TN.2', 'TN.3'])].ParameterName_CBP.value_counts(dropna=False))\n",
    "display(n_df[n_df.Parameter.isin(['TN', 'TN.1', 'TN.2', 'TN.3'])].ParameterName_CMC.value_counts(dropna=False))\n",
    "display(n_df[n_df.Parameter.isin(['TN', 'TN.1', 'TN.2', 'TN.3'])].Parameter.value_counts(dropna=False))"
   ]
  },
  {
   "cell_type": "markdown",
   "metadata": {},
   "source": [
    "## Different names of Nitrogen when filtered by CBP Nitrogen\n",
    "\n",
    "- 'TOTAL NITROGEN' in CBP = 'Total Nitrogen ' in CMC data and other NaN in CMC data\n",
    "- TOTAL NITROGEN also shows that the parametername cmc is missing 109K records"
   ]
  },
  {
   "cell_type": "code",
   "execution_count": 15,
   "metadata": {},
   "outputs": [],
   "source": [
    "cbpn=cmc_df[['Parameter','ParameterName_CBP', 'ParameterName_CMC','Unit']]"
   ]
  },
  {
   "cell_type": "code",
   "execution_count": 16,
   "metadata": {},
   "outputs": [
    {
     "data": {
      "text/plain": [
       "TOTAL NITROGEN    112110\n",
       "Name: ParameterName_CBP, dtype: int64"
      ]
     },
     "execution_count": 16,
     "metadata": {},
     "output_type": "execute_result"
    }
   ],
   "source": [
    "cbpn[cbpn.ParameterName_CBP=='TOTAL NITROGEN'].ParameterName_CBP.value_counts(dropna=False)"
   ]
  },
  {
   "cell_type": "code",
   "execution_count": 17,
   "metadata": {},
   "outputs": [
    {
     "data": {
      "text/plain": [
       "TOTAL NITROGEN    112110\n",
       "Name: ParameterName_CBP, dtype: int64"
      ]
     },
     "metadata": {},
     "output_type": "display_data"
    },
    {
     "data": {
      "text/plain": [
       "NaN                109500\n",
       "Total Nitrogen       2610\n",
       "Name: ParameterName_CMC, dtype: int64"
      ]
     },
     "metadata": {},
     "output_type": "display_data"
    },
    {
     "data": {
      "text/plain": [
       "TN      109500\n",
       "TN.1      2177\n",
       "TN.3       230\n",
       "TN.2       203\n",
       "Name: Parameter, dtype: int64"
      ]
     },
     "metadata": {},
     "output_type": "display_data"
    }
   ],
   "source": [
    "display(cbpn[cbpn.ParameterName_CBP=='TOTAL NITROGEN'].ParameterName_CBP.value_counts(dropna=False))\n",
    "display(cbpn[cbpn.ParameterName_CBP=='TOTAL NITROGEN'].ParameterName_CMC.value_counts(dropna=False))\n",
    "display(cbpn[cbpn.ParameterName_CBP=='TOTAL NITROGEN'].Parameter.value_counts(dropna=False))"
   ]
  },
  {
   "cell_type": "markdown",
   "metadata": {},
   "source": [
    "## Different names of Nitrogen when filtered by CMC Nitrogen\n",
    "\n",
    "- There are 2610 total records listed under 'Total Nitrogen '\n",
    "- CMC 'Total Nitrogen ' captures 'TOTAL NITROGEN' in CBP data and TN.1, TN.2, TN.3 in 'Parameter' column\n",
    "- MISSES 'TN' in Parameter column (109,500 records)"
   ]
  },
  {
   "cell_type": "code",
   "execution_count": 18,
   "metadata": {},
   "outputs": [],
   "source": [
    "cmctn=cmc_df[['Parameter','ParameterName_CBP', 'ParameterName_CMC','Unit']]"
   ]
  },
  {
   "cell_type": "code",
   "execution_count": 19,
   "metadata": {},
   "outputs": [
    {
     "data": {
      "text/plain": [
       "Total Nitrogen     2610\n",
       "Name: ParameterName_CMC, dtype: int64"
      ]
     },
     "execution_count": 19,
     "metadata": {},
     "output_type": "execute_result"
    }
   ],
   "source": [
    "cmctn[cmctn.ParameterName_CMC=='Total Nitrogen '].ParameterName_CMC.value_counts(dropna=False)"
   ]
  },
  {
   "cell_type": "code",
   "execution_count": 20,
   "metadata": {},
   "outputs": [
    {
     "data": {
      "text/plain": [
       "TOTAL NITROGEN    2610\n",
       "Name: ParameterName_CBP, dtype: int64"
      ]
     },
     "metadata": {},
     "output_type": "display_data"
    },
    {
     "data": {
      "text/plain": [
       "Total Nitrogen     2610\n",
       "Name: ParameterName_CMC, dtype: int64"
      ]
     },
     "metadata": {},
     "output_type": "display_data"
    },
    {
     "data": {
      "text/plain": [
       "TN.1    2177\n",
       "TN.3     230\n",
       "TN.2     203\n",
       "Name: Parameter, dtype: int64"
      ]
     },
     "metadata": {},
     "output_type": "display_data"
    }
   ],
   "source": [
    "display(cmctn[cmctn.ParameterName_CMC=='Total Nitrogen '].ParameterName_CBP.value_counts(dropna=False))\n",
    "display(cmctn[cmctn.ParameterName_CMC=='Total Nitrogen '].ParameterName_CMC.value_counts(dropna=False))\n",
    "display(cmctn[cmctn.ParameterName_CMC=='Total Nitrogen '].Parameter.value_counts(dropna=False))"
   ]
  },
  {
   "cell_type": "markdown",
   "metadata": {},
   "source": [
    "The data was filtered by using the 'Parameter' feature with the following nitrogen codes ('TN', 'TN.1', 'TN.2', 'TN.3') that capture all of the nitrogen records.\n",
    "- all 112,110 records captured"
   ]
  },
  {
   "cell_type": "code",
   "execution_count": 21,
   "metadata": {},
   "outputs": [
    {
     "data": {
      "text/plain": [
       "(112110, 70)"
      ]
     },
     "execution_count": 21,
     "metadata": {},
     "output_type": "execute_result"
    }
   ],
   "source": [
    "# cmc_df=cmc_df[cmc_df.Parameter.isin(['DO','DO.4', 'DO.14', 'DO.1', 'DO.8', 'DO.9', 'DO.5',' DO.2',\n",
    "#                                    'DO.7', 'TN', 'TN.1', 'TN.2', 'TN.3', 'TP', 'TP.1', 'TP.2', 'TP.3'])]\n",
    "#removing all but nitrogen to determine if any nitrogen values are missing\n",
    "cmc_df[cmc_df.Parameter.isin(['TN', 'TN.1', 'TN.2', 'TN.3'])].shape"
   ]
  },
  {
   "cell_type": "code",
   "execution_count": 22,
   "metadata": {},
   "outputs": [
    {
     "data": {
      "text/plain": [
       "(112110, 70)"
      ]
     },
     "execution_count": 22,
     "metadata": {},
     "output_type": "execute_result"
    }
   ],
   "source": [
    "#check for possible duplicates for the merging of the initial dataset\n",
    "cmc_df[cmc_df.Parameter.isin(['TN', 'TN.1', 'TN.2', 'TN.3'])].drop_duplicates().shape"
   ]
  },
  {
   "cell_type": "markdown",
   "metadata": {},
   "source": [
    "All records were captured during, no duplicates in the original dataset\n",
    "\n",
    "This can't capture possible errors in reporting/labeling incorrect values or parameters being tested."
   ]
  },
  {
   "cell_type": "code",
   "execution_count": null,
   "metadata": {},
   "outputs": [],
   "source": []
  },
  {
   "cell_type": "code",
   "execution_count": 45,
   "metadata": {
    "scrolled": true
   },
   "outputs": [],
   "source": [
    "# comments=cmc_df[(cmc_df.Parameter.isin(['TOTAL NITROGEN', 'TN.1','TN','TN.2','TN.3','Total Nitrogen '])) |\n",
    "#      (cmc_df.ParameterName_CBP.isin(['TOTAL NITROGEN', 'TN.1','TN','TN.2','TN.3','Total Nitrogen '])) |\n",
    "#      (cmc_df.ParameterName_CMC.isin(['TOTAL NITROGEN', 'TN.1','TN','TN.2','TN.3','Total Nitrogen ']))]"
   ]
  },
  {
   "cell_type": "code",
   "execution_count": 46,
   "metadata": {},
   "outputs": [],
   "source": [
    "#comments[comments['Other Comments'].notnull()][['MeasureValue','Other Comments']]['Other Comments'].tolist()#.MeasureValue.describe()"
   ]
  }
 ],
 "metadata": {
  "kernelspec": {
   "display_name": "hacktb",
   "language": "python",
   "name": "hacktb"
  },
  "language_info": {
   "codemirror_mode": {
    "name": "ipython",
    "version": 3
   },
   "file_extension": ".py",
   "mimetype": "text/x-python",
   "name": "python",
   "nbconvert_exporter": "python",
   "pygments_lexer": "ipython3",
   "version": "3.7.8"
  }
 },
 "nbformat": 4,
 "nbformat_minor": 4
}
