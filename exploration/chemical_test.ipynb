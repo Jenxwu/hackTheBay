{
 "cells": [
  {
   "cell_type": "code",
   "execution_count": 51,
   "metadata": {},
   "outputs": [],
   "source": [
    "import pandas as pd\n",
    "import numpy as np"
   ]
  },
  {
   "cell_type": "code",
   "execution_count": 9,
   "metadata": {},
   "outputs": [
    {
     "name": "stderr",
     "output_type": "stream",
     "text": [
      "C:\\Users\\jvhua\\Miniconda3\\envs\\tensflow\\lib\\site-packages\\numpy\\lib\\arraysetops.py:569: FutureWarning: elementwise comparison failed; returning scalar instead, but in the future will perform elementwise comparison\n",
      "  mask |= (ar1 == a)\n"
     ]
    }
   ],
   "source": [
    "#Load in old dataframe \n",
    "df = pd.read_csv('Water_FINAL.csv', index_col = 0, low_memory = False)"
   ]
  },
  {
   "cell_type": "code",
   "execution_count": 10,
   "metadata": {},
   "outputs": [],
   "source": [
    "#Drop unnecessary columns \n",
    "df = df.drop(columns = 'Unnamed: 0.1')"
   ]
  },
  {
   "cell_type": "code",
   "execution_count": 11,
   "metadata": {},
   "outputs": [
    {
     "data": {
      "text/plain": [
       "Index(['Agency', 'BiasPC', 'CloudCover', 'Comments', 'Cruise', 'Database',\n",
       "       'Date', 'FieldActivityEventType', 'FieldActivityRemark', 'FlowStage',\n",
       "       'GaugeHeight', 'GroupCode', 'HUC12', 'Lab', 'Latitude', 'Layer',\n",
       "       'Longitude', 'LowerPycnocline', 'MeasureValue', 'Method',\n",
       "       'ModifiedDate', 'Other Comments', 'Other Conditions', 'Parameter',\n",
       "       'ParameterName_CBP', 'ParameterName_CMC', 'PrecipType', 'PrecisionPC',\n",
       "       'Pressure', 'Problem', 'Program', 'Project', 'Qualifier', 'Rainfall',\n",
       "       'Rainfall Within 24 Hours', 'Rainfall Within 48 Hours', 'SampleDepth',\n",
       "       'SampleId', 'SampleReplicateType', 'SampleType', 'Sea State', 'Source',\n",
       "       'Station', 'StationCode', 'StationName', 'Stream Flow', 'Tidal Stage',\n",
       "       'TideStage', 'TierLevel', 'Time', 'TotalDepth', 'Unit',\n",
       "       'UpperPycnocline', 'Water Color', 'Water Color Description',\n",
       "       'Water Odor', 'Water Odor Description', 'Water Surfaces', 'WaveHeight',\n",
       "       'Weather Conditions Day Before Yesterday', 'Weather Conditions Today',\n",
       "       'Weather Conditions Yesterday', 'WindDirection', 'WindSpeed', 'state',\n",
       "       'Point', 'HUC12_', 'HUCNAME_', 'FIPS_', 'COUNTY_', 'STATE_'],\n",
       "      dtype='object')"
      ]
     },
     "execution_count": 11,
     "metadata": {},
     "output_type": "execute_result"
    }
   ],
   "source": [
    "df.columns"
   ]
  },
  {
   "cell_type": "code",
   "execution_count": 16,
   "metadata": {},
   "outputs": [],
   "source": [
    "#Take interested columns \n",
    "df2 = df.loc[:, ['Water Color', 'Water Color Description',\n",
    "       'Water Odor', 'Water Odor Description', 'Water Surfaces', 'Latitude', \n",
    "       'Longitude', 'Date', 'Time', 'HUCNAME_', 'FIPS_', 'Point', 'TotalDepth',\n",
    "                  'Station', 'StationCode', 'Parameter',\n",
    "       'ParameterName_CBP', 'ParameterName_CMC', 'MeasureValue', 'Unit', 'SampleId']]"
   ]
  },
  {
   "cell_type": "code",
   "execution_count": 17,
   "metadata": {},
   "outputs": [
    {
     "name": "stdout",
     "output_type": "stream",
     "text": [
      "<class 'pandas.core.frame.DataFrame'>\n",
      "Int64Index: 2708717 entries, 0 to 2708716\n",
      "Data columns (total 21 columns):\n",
      " #   Column                   Dtype  \n",
      "---  ------                   -----  \n",
      " 0   Water Color              object \n",
      " 1   Water Color Description  object \n",
      " 2   Water Odor               object \n",
      " 3   Water Odor Description   object \n",
      " 4   Water Surfaces           object \n",
      " 5   Latitude                 float64\n",
      " 6   Longitude                float64\n",
      " 7   Date                     object \n",
      " 8   Time                     object \n",
      " 9   HUCNAME_                 object \n",
      " 10  FIPS_                    int64  \n",
      " 11  Point                    object \n",
      " 12  TotalDepth               float64\n",
      " 13  Station                  object \n",
      " 14  StationCode              object \n",
      " 15  Parameter                object \n",
      " 16  ParameterName_CBP        object \n",
      " 17  ParameterName_CMC        object \n",
      " 18  MeasureValue             float64\n",
      " 19  Unit                     object \n",
      " 20  SampleId                 float64\n",
      "dtypes: float64(5), int64(1), object(15)\n",
      "memory usage: 454.6+ MB\n"
     ]
    }
   ],
   "source": [
    "df2.info()"
   ]
  },
  {
   "cell_type": "code",
   "execution_count": 33,
   "metadata": {},
   "outputs": [],
   "source": [
    "#Take intersted columns \n",
    "df3 = df2[['Parameter', 'ParameterName_CBP', 'ParameterName_CMC', 'MeasureValue', 'Unit', 'Date', 'Time', 'SampleId', 'Longitude', 'Latitude']]"
   ]
  },
  {
   "cell_type": "code",
   "execution_count": 87,
   "metadata": {},
   "outputs": [
    {
     "name": "stderr",
     "output_type": "stream",
     "text": [
      "C:\\Users\\jvhua\\Miniconda3\\envs\\tensflow\\lib\\site-packages\\ipykernel_launcher.py:1: SettingWithCopyWarning: \n",
      "A value is trying to be set on a copy of a slice from a DataFrame.\n",
      "Try using .loc[row_indexer,col_indexer] = value instead\n",
      "\n",
      "See the caveats in the documentation: https://pandas.pydata.org/pandas-docs/stable/user_guide/indexing.html#returning-a-view-versus-a-copy\n",
      "  \"\"\"Entry point for launching an IPython kernel.\n"
     ]
    }
   ],
   "source": [
    "#lower case measurement unit as it some were uppercased for some odd reason \n",
    "df3['Unit'] = df3['Unit'].apply(lambda x: x.lower())"
   ]
  },
  {
   "cell_type": "code",
   "execution_count": 88,
   "metadata": {},
   "outputs": [
    {
     "name": "stderr",
     "output_type": "stream",
     "text": [
      "C:\\Users\\jvhua\\Miniconda3\\envs\\tensflow\\lib\\site-packages\\ipykernel_launcher.py:1: SettingWithCopyWarning: \n",
      "A value is trying to be set on a copy of a slice from a DataFrame.\n",
      "Try using .loc[row_indexer,col_indexer] = value instead\n",
      "\n",
      "See the caveats in the documentation: https://pandas.pydata.org/pandas-docs/stable/user_guide/indexing.html#returning-a-view-versus-a-copy\n",
      "  \"\"\"Entry point for launching an IPython kernel.\n"
     ]
    }
   ],
   "source": [
    "#combine the parameter and unit, the reason why I chose CBP is because it's more complete choosing parameter you only have chemical name \n",
    "#the problem with that and using only the first two letters is that they have different measurements in the rows \n",
    "df3['Parameter and Unit'] = df3['ParameterName_CBP'] + ' '+ df3['Unit']"
   ]
  },
  {
   "cell_type": "code",
   "execution_count": 89,
   "metadata": {},
   "outputs": [],
   "source": [
    "#Pivot the table \n",
    "df_pivot = df3.pivot_table('MeasureValue', ['Date', 'SampleId', 'Longitude', 'Latitude', 'Time'], 'Parameter and Unit')"
   ]
  },
  {
   "cell_type": "code",
   "execution_count": 91,
   "metadata": {},
   "outputs": [
    {
     "data": {
      "text/plain": [
       "Index(['ACTIVE CHLOROPHYLL-A ug/l', 'AIR TEMPERATURE DEG deg c',\n",
       "       'AMMONIUM NITROGEN AS N (FILTERED SAMPLE) mg/l',\n",
       "       'DISSOLVED OXYGEN IN MG/L mg/l',\n",
       "       'DO SATURATION USING PROBE UNITS IN PERCENT pct', 'E.COLI BACTERIA mpn',\n",
       "       'NITRATE NITROGEN AS N (FILTERED SAMPLE) mg/l',\n",
       "       'Not in CBP Database cfu', 'Not in CBP Database mg/l',\n",
       "       'Not in CBP Database mpn', 'Not in CBP Database ntu',\n",
       "       'Not in CBP Database ppb', 'Not in CBP Database ppt',\n",
       "       'Not in CBP Database su', 'Not in CBP Database ug/l',\n",
       "       'ORTHOPHOSPHATE PHOSPHORUS AS P (FILTERED SAMPLE) mg/l',\n",
       "       'ORTHOPHOSPHATE PHOSPHORUS AS P (FILTERED SAMPLE) ppm',\n",
       "       'PH CORRECTED FOR TEMPERATURE (25 DEG C) su',\n",
       "       'SALINITY UNITS IN PPT AND EQUAL TO PRACTICAL SALNITY UNITS (PSU) mg/l',\n",
       "       'SALINITY UNITS IN PPT AND EQUAL TO PRACTICAL SALNITY UNITS (PSU) pps',\n",
       "       'SALINITY UNITS IN PPT AND EQUAL TO PRACTICAL SALNITY UNITS (PSU) ppt',\n",
       "       'SECCHI DEPTH m', 'SPECIFIC CONDUCTIVITY ms/cm',\n",
       "       'SPECIFIC CONDUCTIVITY us/cm', 'TOTAL ALKALINITY AS CACO3 mg/l',\n",
       "       'TOTAL DEPTH m',\n",
       "       'TOTAL DISSOLVED SOLIDS; GRAVIMETRIC; DRIED AT 180 C mg/l',\n",
       "       'TOTAL KJELDAHL NITROGEN (WHOLE SAMPLE) mg/l', 'TOTAL NITROGEN mg/l',\n",
       "       'TOTAL PHOSPHORUS mg/l', 'TOTAL SUSPENDED SOLIDS mg/l',\n",
       "       'TURBIDITY TUBE cm',\n",
       "       'TURBIDITY; JACKSON CANDLE METHOD (FORWARD SCATTER) jtu',\n",
       "       'TURBIDITY; NEPHELOMETRIC METHOD fau',\n",
       "       'TURBIDITY; NEPHELOMETRIC METHOD ntu', 'WATER TEMPERATURE DEG deg c'],\n",
       "      dtype='object', name='Parameter and Unit')"
      ]
     },
     "execution_count": 91,
     "metadata": {},
     "output_type": "execute_result"
    }
   ],
   "source": [
    "df_pivot.columns"
   ]
  },
  {
   "cell_type": "code",
   "execution_count": 93,
   "metadata": {},
   "outputs": [
    {
     "name": "stdout",
     "output_type": "stream",
     "text": [
      "<class 'pandas.core.frame.DataFrame'>\n",
      "MultiIndex: 132449 entries, ('01/01/1993', 1.0, -77.18692, 40.179990000000004, '12:00:00') to ('9/9/2019', 461244.0, -77.78944, 39.28194000000001, '11:20:00')\n",
      "Data columns (total 36 columns):\n",
      " #   Column                                                                 Non-Null Count   Dtype  \n",
      "---  ------                                                                 --------------   -----  \n",
      " 0   ACTIVE CHLOROPHYLL-A ug/l                                              58164 non-null   float64\n",
      " 1   AIR TEMPERATURE DEG deg c                                              16670 non-null   float64\n",
      " 2   AMMONIUM NITROGEN AS N (FILTERED SAMPLE) mg/l                          64686 non-null   float64\n",
      " 3   DISSOLVED OXYGEN IN MG/L mg/l                                          113018 non-null  float64\n",
      " 4   DO SATURATION USING PROBE UNITS IN PERCENT pct                         6308 non-null    float64\n",
      " 5   E.COLI BACTERIA mpn                                                    2612 non-null    float64\n",
      " 6   NITRATE NITROGEN AS N (FILTERED SAMPLE) mg/l                           59948 non-null   float64\n",
      " 7   Not in CBP Database cfu                                                4999 non-null    float64\n",
      " 8   Not in CBP Database mg/l                                               7039 non-null    float64\n",
      " 9   Not in CBP Database mpn                                                731 non-null     float64\n",
      " 10  Not in CBP Database ntu                                                29 non-null      float64\n",
      " 11  Not in CBP Database ppb                                                269 non-null     float64\n",
      " 12  Not in CBP Database ppt                                                1209 non-null    float64\n",
      " 13  Not in CBP Database su                                                 5351 non-null    float64\n",
      " 14  Not in CBP Database ug/l                                               3341 non-null    float64\n",
      " 15  ORTHOPHOSPHATE PHOSPHORUS AS P (FILTERED SAMPLE) mg/l                  74239 non-null   float64\n",
      " 16  ORTHOPHOSPHATE PHOSPHORUS AS P (FILTERED SAMPLE) ppm                   264 non-null     float64\n",
      " 17  PH CORRECTED FOR TEMPERATURE (25 DEG C) su                             108894 non-null  float64\n",
      " 18  SALINITY UNITS IN PPT AND EQUAL TO PRACTICAL SALNITY UNITS (PSU) mg/l  834 non-null     float64\n",
      " 19  SALINITY UNITS IN PPT AND EQUAL TO PRACTICAL SALNITY UNITS (PSU) pps   365 non-null     float64\n",
      " 20  SALINITY UNITS IN PPT AND EQUAL TO PRACTICAL SALNITY UNITS (PSU) ppt   68556 non-null   float64\n",
      " 21  SECCHI DEPTH m                                                         54730 non-null   float64\n",
      " 22  SPECIFIC CONDUCTIVITY ms/cm                                            28 non-null      float64\n",
      " 23  SPECIFIC CONDUCTIVITY us/cm                                            21542 non-null   float64\n",
      " 24  TOTAL ALKALINITY AS CACO3 mg/l                                         25146 non-null   float64\n",
      " 25  TOTAL DEPTH m                                                          4948 non-null    float64\n",
      " 26  TOTAL DISSOLVED SOLIDS; GRAVIMETRIC; DRIED AT 180 C mg/l               17603 non-null   float64\n",
      " 27  TOTAL KJELDAHL NITROGEN (WHOLE SAMPLE) mg/l                            13231 non-null   float64\n",
      " 28  TOTAL NITROGEN mg/l                                                    67133 non-null   float64\n",
      " 29  TOTAL PHOSPHORUS mg/l                                                  69284 non-null   float64\n",
      " 30  TOTAL SUSPENDED SOLIDS mg/l                                            80303 non-null   float64\n",
      " 31  TURBIDITY TUBE cm                                                      7618 non-null    float64\n",
      " 32  TURBIDITY; JACKSON CANDLE METHOD (FORWARD SCATTER) jtu                 3198 non-null    float64\n",
      " 33  TURBIDITY; NEPHELOMETRIC METHOD fau                                    73 non-null      float64\n",
      " 34  TURBIDITY; NEPHELOMETRIC METHOD ntu                                    30503 non-null   float64\n",
      " 35  WATER TEMPERATURE DEG deg c                                            118355 non-null  float64\n",
      "dtypes: float64(36)\n",
      "memory usage: 38.7+ MB\n"
     ]
    }
   ],
   "source": [
    "df_pivot.info()"
   ]
  },
  {
   "cell_type": "code",
   "execution_count": 94,
   "metadata": {},
   "outputs": [],
   "source": [
    "#Not enough observations to keep and not sure what it is \n",
    "columns = ['Not in CBP Database cfu', 'Not in CBP Database mg/l',\n",
    "       'Not in CBP Database mpn', 'Not in CBP Database ntu',\n",
    "       'Not in CBP Database ppb', 'Not in CBP Database ppt',\n",
    "       'Not in CBP Database su', 'Not in CBP Database ug/l']\n",
    "\n",
    "df_pivot2 = df_pivot.drop(columns = columns)"
   ]
  },
  {
   "cell_type": "code",
   "execution_count": 99,
   "metadata": {},
   "outputs": [
    {
     "name": "stdout",
     "output_type": "stream",
     "text": [
      "<class 'pandas.core.frame.DataFrame'>\n",
      "MultiIndex: 132449 entries, ('01/01/1993', 1.0, -77.18692, 40.179990000000004, '12:00:00') to ('9/9/2019', 461244.0, -77.78944, 39.28194000000001, '11:20:00')\n",
      "Data columns (total 28 columns):\n",
      " #   Column                                                                 Non-Null Count   Dtype  \n",
      "---  ------                                                                 --------------   -----  \n",
      " 0   ACTIVE CHLOROPHYLL-A ug/l                                              58164 non-null   float64\n",
      " 1   AIR TEMPERATURE DEG deg c                                              16670 non-null   float64\n",
      " 2   AMMONIUM NITROGEN AS N (FILTERED SAMPLE) mg/l                          64686 non-null   float64\n",
      " 3   DISSOLVED OXYGEN IN MG/L mg/l                                          113018 non-null  float64\n",
      " 4   DO SATURATION USING PROBE UNITS IN PERCENT pct                         6308 non-null    float64\n",
      " 5   E.COLI BACTERIA mpn                                                    2612 non-null    float64\n",
      " 6   NITRATE NITROGEN AS N (FILTERED SAMPLE) mg/l                           59948 non-null   float64\n",
      " 7   ORTHOPHOSPHATE PHOSPHORUS AS P (FILTERED SAMPLE) mg/l                  74239 non-null   float64\n",
      " 8   ORTHOPHOSPHATE PHOSPHORUS AS P (FILTERED SAMPLE) ppm                   264 non-null     float64\n",
      " 9   PH CORRECTED FOR TEMPERATURE (25 DEG C) su                             108894 non-null  float64\n",
      " 10  SALINITY UNITS IN PPT AND EQUAL TO PRACTICAL SALNITY UNITS (PSU) mg/l  834 non-null     float64\n",
      " 11  SALINITY UNITS IN PPT AND EQUAL TO PRACTICAL SALNITY UNITS (PSU) pps   365 non-null     float64\n",
      " 12  SALINITY UNITS IN PPT AND EQUAL TO PRACTICAL SALNITY UNITS (PSU) ppt   68556 non-null   float64\n",
      " 13  SECCHI DEPTH m                                                         54730 non-null   float64\n",
      " 14  SPECIFIC CONDUCTIVITY ms/cm                                            28 non-null      float64\n",
      " 15  SPECIFIC CONDUCTIVITY us/cm                                            21542 non-null   float64\n",
      " 16  TOTAL ALKALINITY AS CACO3 mg/l                                         25146 non-null   float64\n",
      " 17  TOTAL DEPTH m                                                          4948 non-null    float64\n",
      " 18  TOTAL DISSOLVED SOLIDS; GRAVIMETRIC; DRIED AT 180 C mg/l               17603 non-null   float64\n",
      " 19  TOTAL KJELDAHL NITROGEN (WHOLE SAMPLE) mg/l                            13231 non-null   float64\n",
      " 20  TOTAL NITROGEN mg/l                                                    67133 non-null   float64\n",
      " 21  TOTAL PHOSPHORUS mg/l                                                  69284 non-null   float64\n",
      " 22  TOTAL SUSPENDED SOLIDS mg/l                                            80303 non-null   float64\n",
      " 23  TURBIDITY TUBE cm                                                      7618 non-null    float64\n",
      " 24  TURBIDITY; JACKSON CANDLE METHOD (FORWARD SCATTER) jtu                 3198 non-null    float64\n",
      " 25  TURBIDITY; NEPHELOMETRIC METHOD fau                                    73 non-null      float64\n",
      " 26  TURBIDITY; NEPHELOMETRIC METHOD ntu                                    30503 non-null   float64\n",
      " 27  WATER TEMPERATURE DEG deg c                                            118355 non-null  float64\n",
      "dtypes: float64(28)\n",
      "memory usage: 30.6+ MB\n"
     ]
    }
   ],
   "source": [
    "df_pivot2.info()"
   ]
  },
  {
   "cell_type": "code",
   "execution_count": 100,
   "metadata": {},
   "outputs": [
    {
     "data": {
      "text/plain": [
       "Index(['ACTIVE CHLOROPHYLL-A ug/l', 'AIR TEMPERATURE DEG deg c',\n",
       "       'AMMONIUM NITROGEN AS N (FILTERED SAMPLE) mg/l',\n",
       "       'DISSOLVED OXYGEN IN MG/L mg/l',\n",
       "       'DO SATURATION USING PROBE UNITS IN PERCENT pct', 'E.COLI BACTERIA mpn',\n",
       "       'NITRATE NITROGEN AS N (FILTERED SAMPLE) mg/l',\n",
       "       'ORTHOPHOSPHATE PHOSPHORUS AS P (FILTERED SAMPLE) mg/l',\n",
       "       'ORTHOPHOSPHATE PHOSPHORUS AS P (FILTERED SAMPLE) ppm',\n",
       "       'PH CORRECTED FOR TEMPERATURE (25 DEG C) su',\n",
       "       'SALINITY UNITS IN PPT AND EQUAL TO PRACTICAL SALNITY UNITS (PSU) mg/l',\n",
       "       'SALINITY UNITS IN PPT AND EQUAL TO PRACTICAL SALNITY UNITS (PSU) pps',\n",
       "       'SALINITY UNITS IN PPT AND EQUAL TO PRACTICAL SALNITY UNITS (PSU) ppt',\n",
       "       'SECCHI DEPTH m', 'SPECIFIC CONDUCTIVITY ms/cm',\n",
       "       'SPECIFIC CONDUCTIVITY us/cm', 'TOTAL ALKALINITY AS CACO3 mg/l',\n",
       "       'TOTAL DEPTH m',\n",
       "       'TOTAL DISSOLVED SOLIDS; GRAVIMETRIC; DRIED AT 180 C mg/l',\n",
       "       'TOTAL KJELDAHL NITROGEN (WHOLE SAMPLE) mg/l', 'TOTAL NITROGEN mg/l',\n",
       "       'TOTAL PHOSPHORUS mg/l', 'TOTAL SUSPENDED SOLIDS mg/l',\n",
       "       'TURBIDITY TUBE cm',\n",
       "       'TURBIDITY; JACKSON CANDLE METHOD (FORWARD SCATTER) jtu',\n",
       "       'TURBIDITY; NEPHELOMETRIC METHOD fau',\n",
       "       'TURBIDITY; NEPHELOMETRIC METHOD ntu', 'WATER TEMPERATURE DEG deg c'],\n",
       "      dtype='object', name='Parameter and Unit')"
      ]
     },
     "execution_count": 100,
     "metadata": {},
     "output_type": "execute_result"
    }
   ],
   "source": [
    "df_pivot2.columns"
   ]
  },
  {
   "cell_type": "markdown",
   "metadata": {},
   "source": [
    "A Secchi disk is an 8-inch (20 cm) disk with alternating black and white quadrants. It is lowered into the water of a lake until it can no longer be seen by the observer. This depth of disappearance, called the Secchi depth, is a measure of the transparency of the water.\n",
    "\n",
    "Turbidity is a measurement of the amount of suspended material in the water. It describes the clarity of water. Suspended materials in water, such as clay, silt, and algae, reduce water clarity and cause turbidity.\n",
    "\n",
    "Parameter Importance\n",
    "Turbidity is an important indicator of the amount of suspended sediment in water, which can have many negative effects on aquatic life. The suspended sediments that cause turbidity can block light to aquatic plants, smother aquatic organisms, and carry contaminants and pathogens, such as lead, mercury, and bacteria.\n",
    "\n",
    "Long-term turbidity monitoring is very important because it helps us measure the amount of soil erosion due to construction and agriculture, and helps to determine the impact of our land-use practices and increasing urban development on water quality.\n",
    "\n",
    "How it is Measured\n",
    "Measuring turbidity is achieved by evaluating the amount of light scattered in water. This can be done with simple visual assessments, such as the original Jackson Candle turbidimeter, or more accurate, technological methods, such as the nephelometric method. Turbidity is reported in either NTUs or JTUs. These units refer to the method used to measure turbidity.\n",
    "\n",
    "The original method to measure turbidity was the Jackson candle Turbidimeter, which was devised around the turn of the century. The Jackson Candle Turbidimeter consists of flat-bottomed glass tube that sits over a candle. A water sample is poured into the tube until the visual image of the candle flame diffuses into a uniform glow. The depth of the sample corresponds to a certain number of Jackson turbidity units, or JTUs.\n",
    "\n",
    "The most accurate way to measure turbidity is with the nephelometric method. This method shines a concentrated beam of light through a water sample, and then measures the amount of scattered light at a 90 degree angle to the light source. The amount of scattered light is then reported in NTUs. The nephelometric method reflects a more precise measurement and is used by government agencies and in scientific research.\n",
    "\n",
    "Definition for Total Nitrogen\n",
    "The NPI NEPM states that total nitrogen refers only to those amounts of nitrogen\n",
    "that give rise to nitrate/nitrite ions. Since this may be possible for a range of\n",
    "nitrogen compounds in a range of environmental conditions, the following\n",
    "pragmatic definition can be applied:\n",
    "Total Nitrogen is the sum of nitrate (NO3), nitrite (NO2), organic nitrogen and\n",
    "ammonia (all expressed as N). Note that for laboratory analysis purposes, Total\n",
    "Kjeldahl Nitrogen (TKN) is a test performed that is made up of both organic\n",
    "nitrogen and ammonia."
   ]
  },
  {
   "cell_type": "code",
   "execution_count": 101,
   "metadata": {},
   "outputs": [],
   "source": [
    "#drop columns with a repeated measures that aren't as accurate as the ones kept \n",
    "df_pivot3 = df_pivot2.drop(columns = ['DO SATURATION USING PROBE UNITS IN PERCENT pct', 'ORTHOPHOSPHATE PHOSPHORUS AS P (FILTERED SAMPLE) ppm',\n",
    "                         'SALINITY UNITS IN PPT AND EQUAL TO PRACTICAL SALNITY UNITS (PSU) mg/l', \n",
    "                          'SALINITY UNITS IN PPT AND EQUAL TO PRACTICAL SALNITY UNITS (PSU) pps', 'SPECIFIC CONDUCTIVITY ms/cm',\n",
    "                         'TURBIDITY; JACKSON CANDLE METHOD (FORWARD SCATTER) jtu', 'TURBIDITY; NEPHELOMETRIC METHOD fau'])"
   ]
  },
  {
   "cell_type": "code",
   "execution_count": 113,
   "metadata": {},
   "outputs": [
    {
     "data": {
      "text/html": [
       "<div>\n",
       "<style scoped>\n",
       "    .dataframe tbody tr th:only-of-type {\n",
       "        vertical-align: middle;\n",
       "    }\n",
       "\n",
       "    .dataframe tbody tr th {\n",
       "        vertical-align: top;\n",
       "    }\n",
       "\n",
       "    .dataframe thead th {\n",
       "        text-align: right;\n",
       "    }\n",
       "</style>\n",
       "<table border=\"1\" class=\"dataframe\">\n",
       "  <thead>\n",
       "    <tr style=\"text-align: right;\">\n",
       "      <th></th>\n",
       "      <th>count</th>\n",
       "      <th>mean</th>\n",
       "      <th>std</th>\n",
       "      <th>min</th>\n",
       "      <th>25%</th>\n",
       "      <th>50%</th>\n",
       "      <th>75%</th>\n",
       "      <th>max</th>\n",
       "    </tr>\n",
       "    <tr>\n",
       "      <th>Parameter and Unit</th>\n",
       "      <th></th>\n",
       "      <th></th>\n",
       "      <th></th>\n",
       "      <th></th>\n",
       "      <th></th>\n",
       "      <th></th>\n",
       "      <th></th>\n",
       "      <th></th>\n",
       "    </tr>\n",
       "  </thead>\n",
       "  <tbody>\n",
       "    <tr>\n",
       "      <th>ACTIVE CHLOROPHYLL-A ug/l</th>\n",
       "      <td>58164.0</td>\n",
       "      <td>13.605103</td>\n",
       "      <td>21.608400</td>\n",
       "      <td>0.000000</td>\n",
       "      <td>3.738000</td>\n",
       "      <td>7.830000</td>\n",
       "      <td>15.220000</td>\n",
       "      <td>1262.909975</td>\n",
       "    </tr>\n",
       "    <tr>\n",
       "      <th>AIR TEMPERATURE DEG deg c</th>\n",
       "      <td>16670.0</td>\n",
       "      <td>17.425392</td>\n",
       "      <td>8.903081</td>\n",
       "      <td>-14.000000</td>\n",
       "      <td>10.700000</td>\n",
       "      <td>18.777778</td>\n",
       "      <td>24.500000</td>\n",
       "      <td>83.000000</td>\n",
       "    </tr>\n",
       "    <tr>\n",
       "      <th>AMMONIUM NITROGEN AS N (FILTERED SAMPLE) mg/l</th>\n",
       "      <td>64686.0</td>\n",
       "      <td>0.046587</td>\n",
       "      <td>0.073753</td>\n",
       "      <td>-0.232000</td>\n",
       "      <td>0.011000</td>\n",
       "      <td>0.025500</td>\n",
       "      <td>0.054700</td>\n",
       "      <td>2.553000</td>\n",
       "    </tr>\n",
       "    <tr>\n",
       "      <th>DISSOLVED OXYGEN IN MG/L mg/l</th>\n",
       "      <td>113018.0</td>\n",
       "      <td>8.870668</td>\n",
       "      <td>2.820095</td>\n",
       "      <td>0.000000</td>\n",
       "      <td>6.984000</td>\n",
       "      <td>8.800000</td>\n",
       "      <td>10.800000</td>\n",
       "      <td>175.000000</td>\n",
       "    </tr>\n",
       "    <tr>\n",
       "      <th>E.COLI BACTERIA mpn</th>\n",
       "      <td>2612.0</td>\n",
       "      <td>295.614460</td>\n",
       "      <td>863.892346</td>\n",
       "      <td>0.000000</td>\n",
       "      <td>20.000000</td>\n",
       "      <td>70.000000</td>\n",
       "      <td>260.000000</td>\n",
       "      <td>27487.500000</td>\n",
       "    </tr>\n",
       "    <tr>\n",
       "      <th>NITRATE NITROGEN AS N (FILTERED SAMPLE) mg/l</th>\n",
       "      <td>59948.0</td>\n",
       "      <td>1.080424</td>\n",
       "      <td>1.983920</td>\n",
       "      <td>-0.012167</td>\n",
       "      <td>0.024269</td>\n",
       "      <td>0.330950</td>\n",
       "      <td>1.228608</td>\n",
       "      <td>20.000000</td>\n",
       "    </tr>\n",
       "    <tr>\n",
       "      <th>ORTHOPHOSPHATE PHOSPHORUS AS P (FILTERED SAMPLE) mg/l</th>\n",
       "      <td>74239.0</td>\n",
       "      <td>0.029543</td>\n",
       "      <td>0.144505</td>\n",
       "      <td>0.000000</td>\n",
       "      <td>0.004500</td>\n",
       "      <td>0.010175</td>\n",
       "      <td>0.025500</td>\n",
       "      <td>22.000000</td>\n",
       "    </tr>\n",
       "    <tr>\n",
       "      <th>PH CORRECTED FOR TEMPERATURE (25 DEG C) su</th>\n",
       "      <td>108894.0</td>\n",
       "      <td>7.546087</td>\n",
       "      <td>1.926461</td>\n",
       "      <td>0.000000</td>\n",
       "      <td>7.222500</td>\n",
       "      <td>7.700000</td>\n",
       "      <td>8.000000</td>\n",
       "      <td>580.000000</td>\n",
       "    </tr>\n",
       "    <tr>\n",
       "      <th>SALINITY UNITS IN PPT AND EQUAL TO PRACTICAL SALNITY UNITS (PSU) ppt</th>\n",
       "      <td>68556.0</td>\n",
       "      <td>7.487385</td>\n",
       "      <td>7.835714</td>\n",
       "      <td>0.000000</td>\n",
       "      <td>0.000000</td>\n",
       "      <td>5.587083</td>\n",
       "      <td>13.810000</td>\n",
       "      <td>60.475000</td>\n",
       "    </tr>\n",
       "    <tr>\n",
       "      <th>SECCHI DEPTH m</th>\n",
       "      <td>54730.0</td>\n",
       "      <td>0.883006</td>\n",
       "      <td>2.038396</td>\n",
       "      <td>0.000000</td>\n",
       "      <td>0.400000</td>\n",
       "      <td>0.700000</td>\n",
       "      <td>1.100000</td>\n",
       "      <td>145.000000</td>\n",
       "    </tr>\n",
       "    <tr>\n",
       "      <th>SPECIFIC CONDUCTIVITY us/cm</th>\n",
       "      <td>21542.0</td>\n",
       "      <td>248.763494</td>\n",
       "      <td>399.117999</td>\n",
       "      <td>0.030000</td>\n",
       "      <td>47.000000</td>\n",
       "      <td>154.000000</td>\n",
       "      <td>319.000000</td>\n",
       "      <td>15449.000000</td>\n",
       "    </tr>\n",
       "    <tr>\n",
       "      <th>TOTAL ALKALINITY AS CACO3 mg/l</th>\n",
       "      <td>25146.0</td>\n",
       "      <td>80.083321</td>\n",
       "      <td>63.214232</td>\n",
       "      <td>0.000000</td>\n",
       "      <td>38.000000</td>\n",
       "      <td>64.000000</td>\n",
       "      <td>98.000000</td>\n",
       "      <td>945.000000</td>\n",
       "    </tr>\n",
       "    <tr>\n",
       "      <th>TOTAL DEPTH m</th>\n",
       "      <td>4948.0</td>\n",
       "      <td>2.823042</td>\n",
       "      <td>3.514448</td>\n",
       "      <td>0.000000</td>\n",
       "      <td>0.900000</td>\n",
       "      <td>1.800000</td>\n",
       "      <td>3.500000</td>\n",
       "      <td>43.000000</td>\n",
       "    </tr>\n",
       "    <tr>\n",
       "      <th>TOTAL DISSOLVED SOLIDS; GRAVIMETRIC; DRIED AT 180 C mg/l</th>\n",
       "      <td>17603.0</td>\n",
       "      <td>225.616496</td>\n",
       "      <td>313.627184</td>\n",
       "      <td>4.200000</td>\n",
       "      <td>110.000000</td>\n",
       "      <td>180.000000</td>\n",
       "      <td>292.000000</td>\n",
       "      <td>24774.000000</td>\n",
       "    </tr>\n",
       "    <tr>\n",
       "      <th>TOTAL KJELDAHL NITROGEN (WHOLE SAMPLE) mg/l</th>\n",
       "      <td>13231.0</td>\n",
       "      <td>0.434853</td>\n",
       "      <td>0.417208</td>\n",
       "      <td>-1.200000</td>\n",
       "      <td>0.200000</td>\n",
       "      <td>0.310000</td>\n",
       "      <td>0.530000</td>\n",
       "      <td>9.400000</td>\n",
       "    </tr>\n",
       "    <tr>\n",
       "      <th>TOTAL NITROGEN mg/l</th>\n",
       "      <td>67133.0</td>\n",
       "      <td>1.554463</td>\n",
       "      <td>4.181908</td>\n",
       "      <td>0.020000</td>\n",
       "      <td>0.627000</td>\n",
       "      <td>0.992500</td>\n",
       "      <td>1.751000</td>\n",
       "      <td>765.000000</td>\n",
       "    </tr>\n",
       "    <tr>\n",
       "      <th>TOTAL PHOSPHORUS mg/l</th>\n",
       "      <td>69284.0</td>\n",
       "      <td>0.076344</td>\n",
       "      <td>0.119109</td>\n",
       "      <td>-0.006000</td>\n",
       "      <td>0.028100</td>\n",
       "      <td>0.049000</td>\n",
       "      <td>0.082969</td>\n",
       "      <td>10.000000</td>\n",
       "    </tr>\n",
       "    <tr>\n",
       "      <th>TOTAL SUSPENDED SOLIDS mg/l</th>\n",
       "      <td>80303.0</td>\n",
       "      <td>26.932380</td>\n",
       "      <td>92.601060</td>\n",
       "      <td>0.000000</td>\n",
       "      <td>5.300000</td>\n",
       "      <td>11.000000</td>\n",
       "      <td>22.700000</td>\n",
       "      <td>9592.000000</td>\n",
       "    </tr>\n",
       "    <tr>\n",
       "      <th>TURBIDITY TUBE cm</th>\n",
       "      <td>7618.0</td>\n",
       "      <td>90.004701</td>\n",
       "      <td>35.991242</td>\n",
       "      <td>0.000000</td>\n",
       "      <td>59.000000</td>\n",
       "      <td>115.000000</td>\n",
       "      <td>120.000000</td>\n",
       "      <td>121.000000</td>\n",
       "    </tr>\n",
       "    <tr>\n",
       "      <th>TURBIDITY; NEPHELOMETRIC METHOD ntu</th>\n",
       "      <td>30503.0</td>\n",
       "      <td>19.872521</td>\n",
       "      <td>177.435754</td>\n",
       "      <td>0.000000</td>\n",
       "      <td>3.300000</td>\n",
       "      <td>7.305000</td>\n",
       "      <td>17.341667</td>\n",
       "      <td>29777.000000</td>\n",
       "    </tr>\n",
       "    <tr>\n",
       "      <th>WATER TEMPERATURE DEG deg c</th>\n",
       "      <td>118355.0</td>\n",
       "      <td>16.192443</td>\n",
       "      <td>8.317933</td>\n",
       "      <td>-6.000000</td>\n",
       "      <td>9.109063</td>\n",
       "      <td>16.520000</td>\n",
       "      <td>23.500000</td>\n",
       "      <td>299.476667</td>\n",
       "    </tr>\n",
       "  </tbody>\n",
       "</table>\n",
       "</div>"
      ],
      "text/plain": [
       "                                                       count        mean  \\\n",
       "Parameter and Unit                                                         \n",
       "ACTIVE CHLOROPHYLL-A ug/l                            58164.0   13.605103   \n",
       "AIR TEMPERATURE DEG deg c                            16670.0   17.425392   \n",
       "AMMONIUM NITROGEN AS N (FILTERED SAMPLE) mg/l        64686.0    0.046587   \n",
       "DISSOLVED OXYGEN IN MG/L mg/l                       113018.0    8.870668   \n",
       "E.COLI BACTERIA mpn                                   2612.0  295.614460   \n",
       "NITRATE NITROGEN AS N (FILTERED SAMPLE) mg/l         59948.0    1.080424   \n",
       "ORTHOPHOSPHATE PHOSPHORUS AS P (FILTERED SAMPLE...   74239.0    0.029543   \n",
       "PH CORRECTED FOR TEMPERATURE (25 DEG C) su          108894.0    7.546087   \n",
       "SALINITY UNITS IN PPT AND EQUAL TO PRACTICAL SA...   68556.0    7.487385   \n",
       "SECCHI DEPTH m                                       54730.0    0.883006   \n",
       "SPECIFIC CONDUCTIVITY us/cm                          21542.0  248.763494   \n",
       "TOTAL ALKALINITY AS CACO3 mg/l                       25146.0   80.083321   \n",
       "TOTAL DEPTH m                                         4948.0    2.823042   \n",
       "TOTAL DISSOLVED SOLIDS; GRAVIMETRIC; DRIED AT 1...   17603.0  225.616496   \n",
       "TOTAL KJELDAHL NITROGEN (WHOLE SAMPLE) mg/l          13231.0    0.434853   \n",
       "TOTAL NITROGEN mg/l                                  67133.0    1.554463   \n",
       "TOTAL PHOSPHORUS mg/l                                69284.0    0.076344   \n",
       "TOTAL SUSPENDED SOLIDS mg/l                          80303.0   26.932380   \n",
       "TURBIDITY TUBE cm                                     7618.0   90.004701   \n",
       "TURBIDITY; NEPHELOMETRIC METHOD ntu                  30503.0   19.872521   \n",
       "WATER TEMPERATURE DEG deg c                         118355.0   16.192443   \n",
       "\n",
       "                                                           std        min  \\\n",
       "Parameter and Unit                                                          \n",
       "ACTIVE CHLOROPHYLL-A ug/l                            21.608400   0.000000   \n",
       "AIR TEMPERATURE DEG deg c                             8.903081 -14.000000   \n",
       "AMMONIUM NITROGEN AS N (FILTERED SAMPLE) mg/l         0.073753  -0.232000   \n",
       "DISSOLVED OXYGEN IN MG/L mg/l                         2.820095   0.000000   \n",
       "E.COLI BACTERIA mpn                                 863.892346   0.000000   \n",
       "NITRATE NITROGEN AS N (FILTERED SAMPLE) mg/l          1.983920  -0.012167   \n",
       "ORTHOPHOSPHATE PHOSPHORUS AS P (FILTERED SAMPLE...    0.144505   0.000000   \n",
       "PH CORRECTED FOR TEMPERATURE (25 DEG C) su            1.926461   0.000000   \n",
       "SALINITY UNITS IN PPT AND EQUAL TO PRACTICAL SA...    7.835714   0.000000   \n",
       "SECCHI DEPTH m                                        2.038396   0.000000   \n",
       "SPECIFIC CONDUCTIVITY us/cm                         399.117999   0.030000   \n",
       "TOTAL ALKALINITY AS CACO3 mg/l                       63.214232   0.000000   \n",
       "TOTAL DEPTH m                                         3.514448   0.000000   \n",
       "TOTAL DISSOLVED SOLIDS; GRAVIMETRIC; DRIED AT 1...  313.627184   4.200000   \n",
       "TOTAL KJELDAHL NITROGEN (WHOLE SAMPLE) mg/l           0.417208  -1.200000   \n",
       "TOTAL NITROGEN mg/l                                   4.181908   0.020000   \n",
       "TOTAL PHOSPHORUS mg/l                                 0.119109  -0.006000   \n",
       "TOTAL SUSPENDED SOLIDS mg/l                          92.601060   0.000000   \n",
       "TURBIDITY TUBE cm                                    35.991242   0.000000   \n",
       "TURBIDITY; NEPHELOMETRIC METHOD ntu                 177.435754   0.000000   \n",
       "WATER TEMPERATURE DEG deg c                           8.317933  -6.000000   \n",
       "\n",
       "                                                           25%         50%  \\\n",
       "Parameter and Unit                                                           \n",
       "ACTIVE CHLOROPHYLL-A ug/l                             3.738000    7.830000   \n",
       "AIR TEMPERATURE DEG deg c                            10.700000   18.777778   \n",
       "AMMONIUM NITROGEN AS N (FILTERED SAMPLE) mg/l         0.011000    0.025500   \n",
       "DISSOLVED OXYGEN IN MG/L mg/l                         6.984000    8.800000   \n",
       "E.COLI BACTERIA mpn                                  20.000000   70.000000   \n",
       "NITRATE NITROGEN AS N (FILTERED SAMPLE) mg/l          0.024269    0.330950   \n",
       "ORTHOPHOSPHATE PHOSPHORUS AS P (FILTERED SAMPLE...    0.004500    0.010175   \n",
       "PH CORRECTED FOR TEMPERATURE (25 DEG C) su            7.222500    7.700000   \n",
       "SALINITY UNITS IN PPT AND EQUAL TO PRACTICAL SA...    0.000000    5.587083   \n",
       "SECCHI DEPTH m                                        0.400000    0.700000   \n",
       "SPECIFIC CONDUCTIVITY us/cm                          47.000000  154.000000   \n",
       "TOTAL ALKALINITY AS CACO3 mg/l                       38.000000   64.000000   \n",
       "TOTAL DEPTH m                                         0.900000    1.800000   \n",
       "TOTAL DISSOLVED SOLIDS; GRAVIMETRIC; DRIED AT 1...  110.000000  180.000000   \n",
       "TOTAL KJELDAHL NITROGEN (WHOLE SAMPLE) mg/l           0.200000    0.310000   \n",
       "TOTAL NITROGEN mg/l                                   0.627000    0.992500   \n",
       "TOTAL PHOSPHORUS mg/l                                 0.028100    0.049000   \n",
       "TOTAL SUSPENDED SOLIDS mg/l                           5.300000   11.000000   \n",
       "TURBIDITY TUBE cm                                    59.000000  115.000000   \n",
       "TURBIDITY; NEPHELOMETRIC METHOD ntu                   3.300000    7.305000   \n",
       "WATER TEMPERATURE DEG deg c                           9.109063   16.520000   \n",
       "\n",
       "                                                           75%           max  \n",
       "Parameter and Unit                                                            \n",
       "ACTIVE CHLOROPHYLL-A ug/l                            15.220000   1262.909975  \n",
       "AIR TEMPERATURE DEG deg c                            24.500000     83.000000  \n",
       "AMMONIUM NITROGEN AS N (FILTERED SAMPLE) mg/l         0.054700      2.553000  \n",
       "DISSOLVED OXYGEN IN MG/L mg/l                        10.800000    175.000000  \n",
       "E.COLI BACTERIA mpn                                 260.000000  27487.500000  \n",
       "NITRATE NITROGEN AS N (FILTERED SAMPLE) mg/l          1.228608     20.000000  \n",
       "ORTHOPHOSPHATE PHOSPHORUS AS P (FILTERED SAMPLE...    0.025500     22.000000  \n",
       "PH CORRECTED FOR TEMPERATURE (25 DEG C) su            8.000000    580.000000  \n",
       "SALINITY UNITS IN PPT AND EQUAL TO PRACTICAL SA...   13.810000     60.475000  \n",
       "SECCHI DEPTH m                                        1.100000    145.000000  \n",
       "SPECIFIC CONDUCTIVITY us/cm                         319.000000  15449.000000  \n",
       "TOTAL ALKALINITY AS CACO3 mg/l                       98.000000    945.000000  \n",
       "TOTAL DEPTH m                                         3.500000     43.000000  \n",
       "TOTAL DISSOLVED SOLIDS; GRAVIMETRIC; DRIED AT 1...  292.000000  24774.000000  \n",
       "TOTAL KJELDAHL NITROGEN (WHOLE SAMPLE) mg/l           0.530000      9.400000  \n",
       "TOTAL NITROGEN mg/l                                   1.751000    765.000000  \n",
       "TOTAL PHOSPHORUS mg/l                                 0.082969     10.000000  \n",
       "TOTAL SUSPENDED SOLIDS mg/l                          22.700000   9592.000000  \n",
       "TURBIDITY TUBE cm                                   120.000000    121.000000  \n",
       "TURBIDITY; NEPHELOMETRIC METHOD ntu                  17.341667  29777.000000  \n",
       "WATER TEMPERATURE DEG deg c                          23.500000    299.476667  "
      ]
     },
     "execution_count": 113,
     "metadata": {},
     "output_type": "execute_result"
    }
   ],
   "source": [
    "df_pivot3.describe().T"
   ]
  },
  {
   "cell_type": "code",
   "execution_count": 122,
   "metadata": {},
   "outputs": [],
   "source": [
    "df_pivot3 = df_pivot3.reset_index()"
   ]
  },
  {
   "cell_type": "code",
   "execution_count": 128,
   "metadata": {},
   "outputs": [],
   "source": [
    "df_pivot3 = df_pivot3.rename_axis(None, axis=1)"
   ]
  },
  {
   "cell_type": "code",
   "execution_count": 130,
   "metadata": {},
   "outputs": [
    {
     "data": {
      "text/plain": [
       "SampleId                                                                0.113565\n",
       "Longitude                                                              -0.230323\n",
       "Latitude                                                                0.241856\n",
       "ACTIVE CHLOROPHYLL-A ug/l                                              -0.009882\n",
       "AIR TEMPERATURE DEG deg c                                              -0.614894\n",
       "AMMONIUM NITROGEN AS N (FILTERED SAMPLE) mg/l                          -0.122071\n",
       "DISSOLVED OXYGEN IN MG/L mg/l                                           1.000000\n",
       "E.COLI BACTERIA mpn                                                    -0.038810\n",
       "NITRATE NITROGEN AS N (FILTERED SAMPLE) mg/l                            0.316160\n",
       "ORTHOPHOSPHATE PHOSPHORUS AS P (FILTERED SAMPLE) mg/l                  -0.021199\n",
       "PH CORRECTED FOR TEMPERATURE (25 DEG C) su                              0.054499\n",
       "SALINITY UNITS IN PPT AND EQUAL TO PRACTICAL SALNITY UNITS (PSU) ppt   -0.242774\n",
       "SECCHI DEPTH m                                                          0.029301\n",
       "SPECIFIC CONDUCTIVITY us/cm                                             0.174689\n",
       "TOTAL ALKALINITY AS CACO3 mg/l                                         -0.043858\n",
       "TOTAL DEPTH m                                                          -0.080994\n",
       "TOTAL DISSOLVED SOLIDS; GRAVIMETRIC; DRIED AT 180 C mg/l               -0.055109\n",
       "TOTAL KJELDAHL NITROGEN (WHOLE SAMPLE) mg/l                            -0.147270\n",
       "TOTAL NITROGEN mg/l                                                     0.065040\n",
       "TOTAL PHOSPHORUS mg/l                                                  -0.085638\n",
       "TOTAL SUSPENDED SOLIDS mg/l                                             0.012889\n",
       "TURBIDITY TUBE cm                                                       0.105503\n",
       "TURBIDITY; NEPHELOMETRIC METHOD ntu                                    -0.027729\n",
       "WATER TEMPERATURE DEG deg c                                            -0.746486\n",
       "Name: DISSOLVED OXYGEN IN MG/L mg/l, dtype: float64"
      ]
     },
     "execution_count": 130,
     "metadata": {},
     "output_type": "execute_result"
    }
   ],
   "source": [
    "df_pivot3.corr()['DISSOLVED OXYGEN IN MG/L mg/l']"
   ]
  },
  {
   "cell_type": "code",
   "execution_count": 134,
   "metadata": {},
   "outputs": [],
   "source": [
    "#combine time to merge with Bryans dataset \n",
    "df_pivot3['DateTime'] = df_pivot3['Date'] + ' ' + df_pivot3['Time']"
   ]
  },
  {
   "cell_type": "code",
   "execution_count": 137,
   "metadata": {},
   "outputs": [
    {
     "data": {
      "text/plain": [
       "0         01/01/1993 12:00:00\n",
       "1         01/01/1993 12:00:00\n",
       "2         01/01/1993 12:00:00\n",
       "3         01/01/1993 12:00:00\n",
       "4         01/01/1993 12:00:00\n",
       "                 ...         \n",
       "132444      9/9/2019 08:30:00\n",
       "132445      9/9/2019 11:00:00\n",
       "132446      9/9/2019 13:10:00\n",
       "132447      9/9/2019 09:10:00\n",
       "132448      9/9/2019 11:20:00\n",
       "Name: DateTime, Length: 132449, dtype: object"
      ]
     },
     "execution_count": 137,
     "metadata": {},
     "output_type": "execute_result"
    }
   ],
   "source": [
    "df_pivot3['DateTime']"
   ]
  },
  {
   "cell_type": "code",
   "execution_count": 149,
   "metadata": {},
   "outputs": [],
   "source": [
    "#change to datetime \n",
    "import dateutil.parser\n",
    "df_pivot3['DateTime'] = df_pivot3['DateTime'].apply(lambda x :  dateutil.parser.parse(x))"
   ]
  },
  {
   "cell_type": "code",
   "execution_count": 151,
   "metadata": {},
   "outputs": [],
   "source": [
    "df_pivot3 = df_pivot3.drop(columns = ['Date', 'Time'])"
   ]
  },
  {
   "cell_type": "code",
   "execution_count": 152,
   "metadata": {},
   "outputs": [],
   "source": [
    "#df_pivot3.to_json('df_pivot3.json')"
   ]
  },
  {
   "cell_type": "code",
   "execution_count": 153,
   "metadata": {},
   "outputs": [],
   "source": [
    "#collect all data from 2016 and on \n",
    "df_pivot4 = df_pivot3[df_pivot3['DateTime'] > '2015-12-31']"
   ]
  },
  {
   "cell_type": "code",
   "execution_count": 155,
   "metadata": {
    "scrolled": true
   },
   "outputs": [],
   "source": [
    "#df_pivot4.to_json('df_pivot4.json')"
   ]
  },
  {
   "cell_type": "code",
   "execution_count": null,
   "metadata": {},
   "outputs": [],
   "source": [
    "#Merge Bryans Data"
   ]
  },
  {
   "cell_type": "code",
   "execution_count": 167,
   "metadata": {},
   "outputs": [],
   "source": [
    "data = pd.read_csv('dfnitro3v2.csv', index_col = 0)"
   ]
  },
  {
   "cell_type": "code",
   "execution_count": 168,
   "metadata": {},
   "outputs": [
    {
     "data": {
      "text/plain": [
       "Index(['new_date', 'CloudCover', 'HUC12', 'Latitude', 'Longitude', 'Method',\n",
       "       'SampleDepth', 'SampleId', 'WindDirection', 'WindSpeed', 'HUC12_',\n",
       "       'FIPS_', 'COUNTY_', 'STATE_', 'areaacres', 'za_mean', 'lc_11', 'lc_21',\n",
       "       'lc_22', 'lc_23', 'lc_24', 'lc_31', 'lc_41', 'lc_42', 'lc_43', 'lc_52',\n",
       "       'lc_71', 'lc_81', 'lc_82', 'lc_90', 'lc_95', 'month', 'year', 'week',\n",
       "       'dayofweek', 'hour', 'min', 'quarter', 'DO', 'TN', 'TP', 'airtemp_narr',\n",
       "       'precip3_narr', 'humidity_narr', 'cl_cover_narr', 'sfc_runoff',\n",
       "       'sfc_air_narr', 'u_wind_narr', 'v_wind_narr', 'windspeed_narr',\n",
       "       'wdirection_narr', 'precip24_narr', 'precip48_narr', 'PH', 'SA',\n",
       "       'of_dist'],\n",
       "      dtype='object')"
      ]
     },
     "execution_count": 168,
     "metadata": {},
     "output_type": "execute_result"
    }
   ],
   "source": [
    "data.columns"
   ]
  },
  {
   "cell_type": "code",
   "execution_count": 169,
   "metadata": {},
   "outputs": [],
   "source": [
    "data = data.loc[:, ['new_date', 'SampleId', 'areaacres', 'za_mean', 'lc_11', 'lc_21', 'Longitude', 'Latitude',\n",
    "       'lc_22', 'lc_23', 'lc_24', 'lc_31', 'lc_41', 'lc_42', 'lc_43', 'lc_52',\n",
    "       'lc_71', 'lc_81', 'lc_82', 'lc_90', 'lc_95', 'airtemp_narr',\n",
    "       'precip3_narr', 'humidity_narr', 'cl_cover_narr', 'sfc_runoff',\n",
    "       'sfc_air_narr', 'u_wind_narr', 'v_wind_narr', 'windspeed_narr',\n",
    "       'wdirection_narr', 'precip24_narr', 'precip48_narr']]"
   ]
  },
  {
   "cell_type": "code",
   "execution_count": 170,
   "metadata": {},
   "outputs": [],
   "source": [
    "data = data.rename(columns = {'new_date': 'DateTime'})"
   ]
  },
  {
   "cell_type": "code",
   "execution_count": 171,
   "metadata": {},
   "outputs": [],
   "source": [
    "#change to datetime \n",
    "data['DateTime'] = data['DateTime'].apply(lambda x :  dateutil.parser.parse(x))"
   ]
  },
  {
   "cell_type": "code",
   "execution_count": 172,
   "metadata": {},
   "outputs": [
    {
     "data": {
      "text/plain": [
       "((67040, 33), (42925, 25))"
      ]
     },
     "execution_count": 172,
     "metadata": {},
     "output_type": "execute_result"
    }
   ],
   "source": [
    "data.shape, df_pivot4.shape"
   ]
  },
  {
   "cell_type": "code",
   "execution_count": 175,
   "metadata": {},
   "outputs": [],
   "source": [
    "df_comb = pd.merge(df_pivot4, data, on = ['DateTime','SampleId', 'Longitude', 'Latitude'], how = 'left')"
   ]
  },
  {
   "cell_type": "code",
   "execution_count": 176,
   "metadata": {},
   "outputs": [
    {
     "data": {
      "text/plain": [
       "Index(['SampleId', 'Longitude', 'Latitude', 'ACTIVE CHLOROPHYLL-A ug/l',\n",
       "       'AIR TEMPERATURE DEG deg c',\n",
       "       'AMMONIUM NITROGEN AS N (FILTERED SAMPLE) mg/l',\n",
       "       'DISSOLVED OXYGEN IN MG/L mg/l', 'E.COLI BACTERIA mpn',\n",
       "       'NITRATE NITROGEN AS N (FILTERED SAMPLE) mg/l',\n",
       "       'ORTHOPHOSPHATE PHOSPHORUS AS P (FILTERED SAMPLE) mg/l',\n",
       "       'PH CORRECTED FOR TEMPERATURE (25 DEG C) su',\n",
       "       'SALINITY UNITS IN PPT AND EQUAL TO PRACTICAL SALNITY UNITS (PSU) ppt',\n",
       "       'SECCHI DEPTH m', 'SPECIFIC CONDUCTIVITY us/cm',\n",
       "       'TOTAL ALKALINITY AS CACO3 mg/l', 'TOTAL DEPTH m',\n",
       "       'TOTAL DISSOLVED SOLIDS; GRAVIMETRIC; DRIED AT 180 C mg/l',\n",
       "       'TOTAL KJELDAHL NITROGEN (WHOLE SAMPLE) mg/l', 'TOTAL NITROGEN mg/l',\n",
       "       'TOTAL PHOSPHORUS mg/l', 'TOTAL SUSPENDED SOLIDS mg/l',\n",
       "       'TURBIDITY TUBE cm', 'TURBIDITY; NEPHELOMETRIC METHOD ntu',\n",
       "       'WATER TEMPERATURE DEG deg c', 'DateTime', 'areaacres', 'za_mean',\n",
       "       'lc_11', 'lc_21', 'lc_22', 'lc_23', 'lc_24', 'lc_31', 'lc_41', 'lc_42',\n",
       "       'lc_43', 'lc_52', 'lc_71', 'lc_81', 'lc_82', 'lc_90', 'lc_95',\n",
       "       'airtemp_narr', 'precip3_narr', 'humidity_narr', 'cl_cover_narr',\n",
       "       'sfc_runoff', 'sfc_air_narr', 'u_wind_narr', 'v_wind_narr',\n",
       "       'windspeed_narr', 'wdirection_narr', 'precip24_narr', 'precip48_narr'],\n",
       "      dtype='object')"
      ]
     },
     "execution_count": 176,
     "metadata": {},
     "output_type": "execute_result"
    }
   ],
   "source": [
    "df_comb.columns"
   ]
  },
  {
   "cell_type": "code",
   "execution_count": 177,
   "metadata": {},
   "outputs": [
    {
     "data": {
      "text/plain": [
       "SampleId                                                               -0.145423\n",
       "Longitude                                                               0.058043\n",
       "Latitude                                                                0.183899\n",
       "ACTIVE CHLOROPHYLL-A ug/l                                               0.085610\n",
       "AIR TEMPERATURE DEG deg c                                              -0.074974\n",
       "AMMONIUM NITROGEN AS N (FILTERED SAMPLE) mg/l                           0.062261\n",
       "DISSOLVED OXYGEN IN MG/L mg/l                                           0.016393\n",
       "E.COLI BACTERIA mpn                                                     0.067487\n",
       "NITRATE NITROGEN AS N (FILTERED SAMPLE) mg/l                            0.929711\n",
       "ORTHOPHOSPHATE PHOSPHORUS AS P (FILTERED SAMPLE) mg/l                   0.400931\n",
       "PH CORRECTED FOR TEMPERATURE (25 DEG C) su                             -0.066909\n",
       "SALINITY UNITS IN PPT AND EQUAL TO PRACTICAL SALNITY UNITS (PSU) ppt   -0.565494\n",
       "SECCHI DEPTH m                                                         -0.051531\n",
       "SPECIFIC CONDUCTIVITY us/cm                                            -0.056795\n",
       "TOTAL ALKALINITY AS CACO3 mg/l                                          0.483980\n",
       "TOTAL DEPTH m                                                          -0.246966\n",
       "TOTAL DISSOLVED SOLIDS; GRAVIMETRIC; DRIED AT 180 C mg/l                0.016046\n",
       "TOTAL KJELDAHL NITROGEN (WHOLE SAMPLE) mg/l                             0.191385\n",
       "TOTAL NITROGEN mg/l                                                     1.000000\n",
       "TOTAL PHOSPHORUS mg/l                                                   0.290072\n",
       "TOTAL SUSPENDED SOLIDS mg/l                                             0.100210\n",
       "TURBIDITY TUBE cm                                                       0.114817\n",
       "TURBIDITY; NEPHELOMETRIC METHOD ntu                                     0.103572\n",
       "WATER TEMPERATURE DEG deg c                                            -0.032199\n",
       "areaacres                                                              -0.064977\n",
       "za_mean                                                                 0.107095\n",
       "lc_11                                                                  -0.095405\n",
       "lc_21                                                                   0.010684\n",
       "lc_22                                                                  -0.000046\n",
       "lc_23                                                                  -0.007447\n",
       "lc_24                                                                  -0.008753\n",
       "lc_31                                                                  -0.021908\n",
       "lc_41                                                                   0.013180\n",
       "lc_42                                                                  -0.008851\n",
       "lc_43                                                                   0.074745\n",
       "lc_52                                                                  -0.027663\n",
       "lc_71                                                                  -0.046433\n",
       "lc_81                                                                   0.086001\n",
       "lc_82                                                                   0.093809\n",
       "lc_90                                                                   0.000884\n",
       "lc_95                                                                  -0.023353\n",
       "airtemp_narr                                                           -0.011570\n",
       "precip3_narr                                                            0.035925\n",
       "humidity_narr                                                           0.016618\n",
       "cl_cover_narr                                                           0.029738\n",
       "sfc_runoff                                                              0.081566\n",
       "sfc_air_narr                                                           -0.012463\n",
       "u_wind_narr                                                             0.004364\n",
       "v_wind_narr                                                            -0.000981\n",
       "windspeed_narr                                                          0.007762\n",
       "wdirection_narr                                                        -0.004364\n",
       "precip24_narr                                                           0.069563\n",
       "precip48_narr                                                           0.062038\n",
       "Name: TOTAL NITROGEN mg/l, dtype: float64"
      ]
     },
     "execution_count": 177,
     "metadata": {},
     "output_type": "execute_result"
    }
   ],
   "source": [
    "df_comb.corr()['TOTAL NITROGEN mg/l']"
   ]
  },
  {
   "cell_type": "code",
   "execution_count": 197,
   "metadata": {},
   "outputs": [],
   "source": [
    "df_comb.to_json('df_comb.json')"
   ]
  },
  {
   "cell_type": "code",
   "execution_count": 199,
   "metadata": {},
   "outputs": [],
   "source": [
    "df_comb['TOTAL NITROGEN mg/l'] = df_comb['TOTAL NITROGEN mg/l'].replace(np.nan, 'nan') \n",
    "df_final = df_comb[df_comb['TOTAL NITROGEN mg/l'] != 'nan']"
   ]
  },
  {
   "cell_type": "code",
   "execution_count": 208,
   "metadata": {},
   "outputs": [
    {
     "name": "stderr",
     "output_type": "stream",
     "text": [
      "C:\\Users\\jvhua\\Miniconda3\\envs\\tensflow\\lib\\site-packages\\ipykernel_launcher.py:1: SettingWithCopyWarning: \n",
      "A value is trying to be set on a copy of a slice from a DataFrame.\n",
      "Try using .loc[row_indexer,col_indexer] = value instead\n",
      "\n",
      "See the caveats in the documentation: https://pandas.pydata.org/pandas-docs/stable/user_guide/indexing.html#returning-a-view-versus-a-copy\n",
      "  \"\"\"Entry point for launching an IPython kernel.\n"
     ]
    }
   ],
   "source": [
    "df_final['TOTAL NITROGEN mg/l'] = df_final['TOTAL NITROGEN mg/l'].apply(lambda x: float(x))"
   ]
  },
  {
   "cell_type": "code",
   "execution_count": 211,
   "metadata": {},
   "outputs": [],
   "source": [
    "df_final = df_final.set_index(['DateTime', 'SampleId'])"
   ]
  },
  {
   "cell_type": "code",
   "execution_count": 212,
   "metadata": {},
   "outputs": [
    {
     "name": "stdout",
     "output_type": "stream",
     "text": [
      "<class 'pandas.core.frame.DataFrame'>\n",
      "MultiIndex: 19173 entries, (Timestamp('2017-01-16 14:15:00'), 1.0) to (Timestamp('2019-09-09 11:20:00'), 461244.0)\n",
      "Data columns (total 52 columns):\n",
      " #   Column                                                                Non-Null Count  Dtype  \n",
      "---  ------                                                                --------------  -----  \n",
      " 0   Longitude                                                             19173 non-null  float64\n",
      " 1   Latitude                                                              19173 non-null  float64\n",
      " 2   ACTIVE CHLOROPHYLL-A ug/l                                             9937 non-null   float64\n",
      " 3   AIR TEMPERATURE DEG deg c                                             390 non-null    float64\n",
      " 4   AMMONIUM NITROGEN AS N (FILTERED SAMPLE) mg/l                         14619 non-null  float64\n",
      " 5   DISSOLVED OXYGEN IN MG/L mg/l                                         18551 non-null  float64\n",
      " 6   E.COLI BACTERIA mpn                                                   1233 non-null   float64\n",
      " 7   NITRATE NITROGEN AS N (FILTERED SAMPLE) mg/l                          11577 non-null  float64\n",
      " 8   ORTHOPHOSPHATE PHOSPHORUS AS P (FILTERED SAMPLE) mg/l                 16608 non-null  float64\n",
      " 9   PH CORRECTED FOR TEMPERATURE (25 DEG C) su                            16643 non-null  float64\n",
      " 10  SALINITY UNITS IN PPT AND EQUAL TO PRACTICAL SALNITY UNITS (PSU) ppt  11257 non-null  float64\n",
      " 11  SECCHI DEPTH m                                                        8381 non-null   float64\n",
      " 12  SPECIFIC CONDUCTIVITY us/cm                                           788 non-null    float64\n",
      " 13  TOTAL ALKALINITY AS CACO3 mg/l                                        4747 non-null   float64\n",
      " 14  TOTAL DEPTH m                                                         2026 non-null   float64\n",
      " 15  TOTAL DISSOLVED SOLIDS; GRAVIMETRIC; DRIED AT 180 C mg/l              2717 non-null   float64\n",
      " 16  TOTAL KJELDAHL NITROGEN (WHOLE SAMPLE) mg/l                           5086 non-null   float64\n",
      " 17  TOTAL NITROGEN mg/l                                                   19173 non-null  float64\n",
      " 18  TOTAL PHOSPHORUS mg/l                                                 18294 non-null  float64\n",
      " 19  TOTAL SUSPENDED SOLIDS mg/l                                           16244 non-null  float64\n",
      " 20  TURBIDITY TUBE cm                                                     119 non-null    float64\n",
      " 21  TURBIDITY; NEPHELOMETRIC METHOD ntu                                   5470 non-null   float64\n",
      " 22  WATER TEMPERATURE DEG deg c                                           18952 non-null  float64\n",
      " 23  areaacres                                                             19080 non-null  float64\n",
      " 24  za_mean                                                               19008 non-null  float64\n",
      " 25  lc_11                                                                 19008 non-null  float64\n",
      " 26  lc_21                                                                 19008 non-null  float64\n",
      " 27  lc_22                                                                 19008 non-null  float64\n",
      " 28  lc_23                                                                 19008 non-null  float64\n",
      " 29  lc_24                                                                 19008 non-null  float64\n",
      " 30  lc_31                                                                 19008 non-null  float64\n",
      " 31  lc_41                                                                 19008 non-null  float64\n",
      " 32  lc_42                                                                 19008 non-null  float64\n",
      " 33  lc_43                                                                 19008 non-null  float64\n",
      " 34  lc_52                                                                 19008 non-null  float64\n",
      " 35  lc_71                                                                 19008 non-null  float64\n",
      " 36  lc_81                                                                 19008 non-null  float64\n",
      " 37  lc_82                                                                 19008 non-null  float64\n",
      " 38  lc_90                                                                 19008 non-null  float64\n",
      " 39  lc_95                                                                 19008 non-null  float64\n",
      " 40  airtemp_narr                                                          19080 non-null  float64\n",
      " 41  precip3_narr                                                          19080 non-null  float64\n",
      " 42  humidity_narr                                                         19080 non-null  float64\n",
      " 43  cl_cover_narr                                                         19080 non-null  float64\n",
      " 44  sfc_runoff                                                            19080 non-null  float64\n",
      " 45  sfc_air_narr                                                          19080 non-null  float64\n",
      " 46  u_wind_narr                                                           19080 non-null  float64\n",
      " 47  v_wind_narr                                                           19080 non-null  float64\n",
      " 48  windspeed_narr                                                        19080 non-null  float64\n",
      " 49  wdirection_narr                                                       19080 non-null  float64\n",
      " 50  precip24_narr                                                         19080 non-null  float64\n",
      " 51  precip48_narr                                                         19080 non-null  float64\n",
      "dtypes: float64(52)\n",
      "memory usage: 7.9 MB\n"
     ]
    }
   ],
   "source": [
    "df_final.info()"
   ]
  },
  {
   "cell_type": "code",
   "execution_count": 214,
   "metadata": {},
   "outputs": [],
   "source": [
    "df_final.to_csv('df_final.csv')"
   ]
  },
  {
   "cell_type": "code",
   "execution_count": 221,
   "metadata": {},
   "outputs": [
    {
     "data": {
      "text/plain": [
       "(19173, 52)"
      ]
     },
     "execution_count": 221,
     "metadata": {},
     "output_type": "execute_result"
    }
   ],
   "source": [
    "df_final.shape"
   ]
  },
  {
   "cell_type": "code",
   "execution_count": 178,
   "metadata": {},
   "outputs": [],
   "source": [
    "from sklearn.model_selection import train_test_split\n",
    "from sklearn.ensemble import RandomForestRegressor\n",
    "from sklearn.pipeline import make_pipeline\n",
    "from sklearn.compose import make_column_transformer\n",
    "from sklearn.preprocessing import OneHotEncoder\n",
    "from sklearn.impute import SimpleImputer\n",
    "from sklearn.metrics import r2_score\n",
    "import matplotlib.pyplot as plt\n",
    "from sklearn.impute import KNNImputer\n",
    "from sklearn.metrics import mean_squared_error\n",
    "from sklearn.feature_selection import VarianceThreshold\n",
    "from sklearn.metrics import explained_variance_score\n",
    "\n",
    "\n",
    "#Scalers \n",
    "from sklearn.preprocessing import MinMaxScaler\n",
    "from sklearn.preprocessing import minmax_scale\n",
    "from sklearn.preprocessing import MaxAbsScaler\n",
    "from sklearn.preprocessing import StandardScaler\n",
    "from sklearn.preprocessing import RobustScaler\n",
    "from sklearn.preprocessing import Normalizer\n",
    "from sklearn.preprocessing import QuantileTransformer\n",
    "from sklearn.preprocessing import PowerTransformer"
   ]
  },
  {
   "cell_type": "code",
   "execution_count": 217,
   "metadata": {},
   "outputs": [],
   "source": [
    "X_train, X_test, y_train, y_test = train_test_split(df_final.drop(labels = ['TOTAL NITROGEN mg/l'], axis =1), \n",
    "                                                    df_final['TOTAL NITROGEN mg/l'], test_size = 0.3, random_state = 0)"
   ]
  },
  {
   "cell_type": "code",
   "execution_count": null,
   "metadata": {},
   "outputs": [],
   "source": []
  },
  {
   "cell_type": "code",
   "execution_count": 180,
   "metadata": {},
   "outputs": [],
   "source": [
    "#Variability Threshold "
   ]
  },
  {
   "cell_type": "code",
   "execution_count": 222,
   "metadata": {},
   "outputs": [
    {
     "data": {
      "text/plain": [
       "VarianceThreshold(threshold=0.001)"
      ]
     },
     "execution_count": 222,
     "metadata": {},
     "output_type": "execute_result"
    }
   ],
   "source": [
    "#Looking for Quasi-Constant observations that dont' show much variability. \n",
    "sel = VarianceThreshold(threshold = 0.001)\n",
    "sel.fit(X_train)"
   ]
  },
  {
   "cell_type": "code",
   "execution_count": 223,
   "metadata": {},
   "outputs": [
    {
     "data": {
      "text/plain": [
       "47"
      ]
     },
     "execution_count": 223,
     "metadata": {},
     "output_type": "execute_result"
    }
   ],
   "source": [
    "#Features not quasiconstant \n",
    "sum(sel.get_support())"
   ]
  },
  {
   "cell_type": "code",
   "execution_count": 224,
   "metadata": {},
   "outputs": [
    {
     "data": {
      "text/plain": [
       "['lc_24', 'lc_31', 'lc_52', 'lc_71']"
      ]
     },
     "execution_count": 224,
     "metadata": {},
     "output_type": "execute_result"
    }
   ],
   "source": [
    "#These Features are quasi-constant and should be dropped \n",
    "[x for x in X_train.columns if x not in X_train.columns[sel.get_support()]]"
   ]
  },
  {
   "cell_type": "code",
   "execution_count": 225,
   "metadata": {},
   "outputs": [
    {
     "data": {
      "text/html": [
       "<div>\n",
       "<style scoped>\n",
       "    .dataframe tbody tr th:only-of-type {\n",
       "        vertical-align: middle;\n",
       "    }\n",
       "\n",
       "    .dataframe tbody tr th {\n",
       "        vertical-align: top;\n",
       "    }\n",
       "\n",
       "    .dataframe thead th {\n",
       "        text-align: right;\n",
       "    }\n",
       "</style>\n",
       "<table border=\"1\" class=\"dataframe\">\n",
       "  <thead>\n",
       "    <tr style=\"text-align: right;\">\n",
       "      <th></th>\n",
       "      <th>feature1</th>\n",
       "      <th>feature2</th>\n",
       "      <th>corr</th>\n",
       "    </tr>\n",
       "  </thead>\n",
       "  <tbody>\n",
       "    <tr>\n",
       "      <th>0</th>\n",
       "      <td>wdirection_narr</td>\n",
       "      <td>u_wind_narr</td>\n",
       "      <td>1.000000</td>\n",
       "    </tr>\n",
       "    <tr>\n",
       "      <th>1</th>\n",
       "      <td>u_wind_narr</td>\n",
       "      <td>wdirection_narr</td>\n",
       "      <td>1.000000</td>\n",
       "    </tr>\n",
       "    <tr>\n",
       "      <th>2</th>\n",
       "      <td>TOTAL DISSOLVED SOLIDS; GRAVIMETRIC; DRIED AT ...</td>\n",
       "      <td>SPECIFIC CONDUCTIVITY us/cm</td>\n",
       "      <td>0.999994</td>\n",
       "    </tr>\n",
       "    <tr>\n",
       "      <th>3</th>\n",
       "      <td>SPECIFIC CONDUCTIVITY us/cm</td>\n",
       "      <td>TOTAL DISSOLVED SOLIDS; GRAVIMETRIC; DRIED AT ...</td>\n",
       "      <td>0.999994</td>\n",
       "    </tr>\n",
       "    <tr>\n",
       "      <th>4</th>\n",
       "      <td>TOTAL DISSOLVED SOLIDS; GRAVIMETRIC; DRIED AT ...</td>\n",
       "      <td>SALINITY UNITS IN PPT AND EQUAL TO PRACTICAL S...</td>\n",
       "      <td>0.999341</td>\n",
       "    </tr>\n",
       "  </tbody>\n",
       "</table>\n",
       "</div>"
      ],
      "text/plain": [
       "                                            feature1  \\\n",
       "0                                    wdirection_narr   \n",
       "1                                        u_wind_narr   \n",
       "2  TOTAL DISSOLVED SOLIDS; GRAVIMETRIC; DRIED AT ...   \n",
       "3                        SPECIFIC CONDUCTIVITY us/cm   \n",
       "4  TOTAL DISSOLVED SOLIDS; GRAVIMETRIC; DRIED AT ...   \n",
       "\n",
       "                                            feature2      corr  \n",
       "0                                        u_wind_narr  1.000000  \n",
       "1                                    wdirection_narr  1.000000  \n",
       "2                        SPECIFIC CONDUCTIVITY us/cm  0.999994  \n",
       "3  TOTAL DISSOLVED SOLIDS; GRAVIMETRIC; DRIED AT ...  0.999994  \n",
       "4  SALINITY UNITS IN PPT AND EQUAL TO PRACTICAL S...  0.999341  "
      ]
     },
     "execution_count": 225,
     "metadata": {},
     "output_type": "execute_result"
    }
   ],
   "source": [
    "corrmat = X_train.corr()\n",
    "corrmat = corrmat.abs().unstack()\n",
    "corrmat = corrmat.sort_values(ascending = False)\n",
    "corrmat = corrmat[corrmat >= 0.85]\n",
    "corrmat = corrmat[corrmat < 1]\n",
    "corrmat = pd.DataFrame(corrmat).reset_index()\n",
    "corrmat.columns = ['feature1', 'feature2', 'corr']\n",
    "corrmat.head()"
   ]
  },
  {
   "cell_type": "code",
   "execution_count": 228,
   "metadata": {},
   "outputs": [
    {
     "name": "stdout",
     "output_type": "stream",
     "text": [
      "found 15 correlated groups\n",
      "out of 51 total features\n"
     ]
    }
   ],
   "source": [
    "grouped_features_ls = []\n",
    "correlated_groups = []\n",
    "\n",
    "for feature in corrmat.feature1.unique():\n",
    "    if feature not in grouped_features_ls:\n",
    "        \n",
    "        #find all features correlated to a single feature\n",
    "        correlated_block = corrmat[corrmat.feature1 == feature]\n",
    "        grouped_feature_ls = grouped_feature_ls + list(correlated_block.feature2.unique()) + [feature]\n",
    "        \n",
    "        #append the block of features to the list\n",
    "        correlated_groups.append(correlated_block)\n",
    "        \n",
    "print('found {} correlated groups'.format(len(correlated_groups)))\n",
    "print('out of {} total features'.format(X_train.shape[1]))"
   ]
  },
  {
   "cell_type": "code",
   "execution_count": 229,
   "metadata": {},
   "outputs": [
    {
     "name": "stdout",
     "output_type": "stream",
     "text": [
      "           feature1     feature2      corr\n",
      "0   wdirection_narr  u_wind_narr  1.000000\n",
      "15  wdirection_narr  v_wind_narr  0.924071\n",
      "\n",
      "\n",
      "       feature1         feature2      corr\n",
      "1   u_wind_narr  wdirection_narr  1.000000\n",
      "17  u_wind_narr      v_wind_narr  0.924071\n",
      "\n",
      "\n",
      "                                            feature1  \\\n",
      "2  TOTAL DISSOLVED SOLIDS; GRAVIMETRIC; DRIED AT ...   \n",
      "4  TOTAL DISSOLVED SOLIDS; GRAVIMETRIC; DRIED AT ...   \n",
      "\n",
      "                                            feature2      corr  \n",
      "2                        SPECIFIC CONDUCTIVITY us/cm  0.999994  \n",
      "4  SALINITY UNITS IN PPT AND EQUAL TO PRACTICAL S...  0.999341  \n",
      "\n",
      "\n",
      "                      feature1  \\\n",
      "3  SPECIFIC CONDUCTIVITY us/cm   \n",
      "6  SPECIFIC CONDUCTIVITY us/cm   \n",
      "\n",
      "                                            feature2      corr  \n",
      "3  TOTAL DISSOLVED SOLIDS; GRAVIMETRIC; DRIED AT ...  0.999994  \n",
      "6  SALINITY UNITS IN PPT AND EQUAL TO PRACTICAL S...  0.999251  \n",
      "\n",
      "\n",
      "                                            feature1  \\\n",
      "5  SALINITY UNITS IN PPT AND EQUAL TO PRACTICAL S...   \n",
      "7  SALINITY UNITS IN PPT AND EQUAL TO PRACTICAL S...   \n",
      "\n",
      "                                            feature2      corr  \n",
      "5  TOTAL DISSOLVED SOLIDS; GRAVIMETRIC; DRIED AT ...  0.999341  \n",
      "7                        SPECIFIC CONDUCTIVITY us/cm  0.999251  \n",
      "\n",
      "\n",
      "   feature1 feature2      corr\n",
      "8     lc_23    lc_24  0.973171\n",
      "12    lc_23    lc_22  0.935719\n",
      "\n",
      "\n",
      "   feature1 feature2      corr\n",
      "9     lc_24    lc_23  0.973171\n",
      "18    lc_24    lc_22  0.907866\n",
      "\n",
      "\n",
      "        feature1                     feature2      corr\n",
      "10  sfc_air_narr                 airtemp_narr  0.969357\n",
      "27  sfc_air_narr  WATER TEMPERATURE DEG deg c  0.860813\n",
      "\n",
      "\n",
      "        feature1                     feature2      corr\n",
      "11  airtemp_narr                 sfc_air_narr  0.969357\n",
      "21  airtemp_narr  WATER TEMPERATURE DEG deg c  0.905851\n",
      "25  airtemp_narr    AIR TEMPERATURE DEG deg c  0.862814\n",
      "\n",
      "\n",
      "   feature1 feature2      corr\n",
      "13    lc_22    lc_23  0.935719\n",
      "19    lc_22    lc_24  0.907866\n",
      "\n",
      "\n",
      "       feature1         feature2      corr\n",
      "14  v_wind_narr  wdirection_narr  0.924071\n",
      "16  v_wind_narr      u_wind_narr  0.924071\n",
      "\n",
      "\n",
      "                       feature1      feature2      corr\n",
      "20  WATER TEMPERATURE DEG deg c  airtemp_narr  0.905851\n",
      "26  WATER TEMPERATURE DEG deg c  sfc_air_narr  0.860813\n",
      "\n",
      "\n",
      "                       feature1                             feature2      corr\n",
      "22  TOTAL SUSPENDED SOLIDS mg/l  TURBIDITY; NEPHELOMETRIC METHOD ntu  0.896373\n",
      "\n",
      "\n",
      "                               feature1                     feature2      corr\n",
      "23  TURBIDITY; NEPHELOMETRIC METHOD ntu  TOTAL SUSPENDED SOLIDS mg/l  0.896373\n",
      "\n",
      "\n",
      "                     feature1      feature2      corr\n",
      "24  AIR TEMPERATURE DEG deg c  airtemp_narr  0.862814\n",
      "\n",
      "\n"
     ]
    }
   ],
   "source": [
    "#now we can visualize each group. We see that some groups \n",
    "for group in correlated_groups:\n",
    "    print(group)\n",
    "    print()\n",
    "    print()"
   ]
  },
  {
   "cell_type": "code",
   "execution_count": 230,
   "metadata": {},
   "outputs": [
    {
     "data": {
      "text/plain": [
       "RandomForestRegressor(random_state=0)"
      ]
     },
     "execution_count": 230,
     "metadata": {},
     "output_type": "execute_result"
    }
   ],
   "source": [
    "#We can screen using a randomforest first feature group\n",
    "features = ['u_wind_narr'] + ['wdirection_narr'] + ['v_wind_narr']\n",
    "rf = RandomForestRegressor(random_state = 0)\n",
    "rf.fit(X_train[features].fillna(0), y_train)"
   ]
  },
  {
   "cell_type": "code",
   "execution_count": 231,
   "metadata": {},
   "outputs": [
    {
     "data": {
      "text/html": [
       "<div>\n",
       "<style scoped>\n",
       "    .dataframe tbody tr th:only-of-type {\n",
       "        vertical-align: middle;\n",
       "    }\n",
       "\n",
       "    .dataframe tbody tr th {\n",
       "        vertical-align: top;\n",
       "    }\n",
       "\n",
       "    .dataframe thead th {\n",
       "        text-align: right;\n",
       "    }\n",
       "</style>\n",
       "<table border=\"1\" class=\"dataframe\">\n",
       "  <thead>\n",
       "    <tr style=\"text-align: right;\">\n",
       "      <th></th>\n",
       "      <th>feature</th>\n",
       "      <th>importance</th>\n",
       "    </tr>\n",
       "  </thead>\n",
       "  <tbody>\n",
       "    <tr>\n",
       "      <th>0</th>\n",
       "      <td>u_wind_narr</td>\n",
       "      <td>0.411215</td>\n",
       "    </tr>\n",
       "    <tr>\n",
       "      <th>1</th>\n",
       "      <td>wdirection_narr</td>\n",
       "      <td>0.323635</td>\n",
       "    </tr>\n",
       "    <tr>\n",
       "      <th>2</th>\n",
       "      <td>v_wind_narr</td>\n",
       "      <td>0.265149</td>\n",
       "    </tr>\n",
       "  </tbody>\n",
       "</table>\n",
       "</div>"
      ],
      "text/plain": [
       "           feature  importance\n",
       "0      u_wind_narr    0.411215\n",
       "1  wdirection_narr    0.323635\n",
       "2      v_wind_narr    0.265149"
      ]
     },
     "execution_count": 231,
     "metadata": {},
     "output_type": "execute_result"
    }
   ],
   "source": [
    "#get feature importance attributed by random forest model\n",
    "\n",
    "importance = pd.concat([pd.Series(features),\n",
    "                       pd.Series(rf.feature_importances_)], axis = 1)\n",
    "\n",
    "importance.columns = ['feature', 'importance']\n",
    "importance.sort_values(by = 'importance', ascending = False)"
   ]
  },
  {
   "cell_type": "code",
   "execution_count": null,
   "metadata": {},
   "outputs": [],
   "source": [
    "###Continue tomorrow it's 7 am already "
   ]
  }
 ],
 "metadata": {
  "kernelspec": {
   "display_name": "'tensflow'",
   "language": "python",
   "name": "tensflow"
  },
  "language_info": {
   "codemirror_mode": {
    "name": "ipython",
    "version": 3
   },
   "file_extension": ".py",
   "mimetype": "text/x-python",
   "name": "python",
   "nbconvert_exporter": "python",
   "pygments_lexer": "ipython3",
   "version": "3.7.6"
  }
 },
 "nbformat": 4,
 "nbformat_minor": 4
}
